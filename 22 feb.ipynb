{
 "cells": [
  {
   "cell_type": "code",
   "execution_count": null,
   "id": "8f80c549-1bca-47da-a313-b8a06f0ed655",
   "metadata": {},
   "outputs": [],
   "source": [
    "Q1. Write a python program to extract the video URL of the first five videos."
   ]
  },
  {
   "cell_type": "code",
   "execution_count": 1,
   "id": "f16818ee-8fda-4291-b442-b235382fbdd7",
   "metadata": {},
   "outputs": [
    {
     "name": "stdout",
     "output_type": "stream",
     "text": [
      "Requirement already satisfied: requests in /opt/conda/lib/python3.10/site-packages (2.28.1)\n",
      "Requirement already satisfied: beautifulsoup4 in /opt/conda/lib/python3.10/site-packages (4.11.1)\n",
      "Requirement already satisfied: certifi>=2017.4.17 in /opt/conda/lib/python3.10/site-packages (from requests) (2022.12.7)\n",
      "Requirement already satisfied: idna<4,>=2.5 in /opt/conda/lib/python3.10/site-packages (from requests) (3.4)\n",
      "Requirement already satisfied: charset-normalizer<3,>=2 in /opt/conda/lib/python3.10/site-packages (from requests) (2.1.1)\n",
      "Requirement already satisfied: urllib3<1.27,>=1.21.1 in /opt/conda/lib/python3.10/site-packages (from requests) (1.26.13)\n",
      "Requirement already satisfied: soupsieve>1.2 in /opt/conda/lib/python3.10/site-packages (from beautifulsoup4) (2.3.2.post1)\n",
      "Note: you may need to restart the kernel to use updated packages.\n"
     ]
    }
   ],
   "source": [
    "pip install requests beautifulsoup4"
   ]
  },
  {
   "cell_type": "code",
   "execution_count": 3,
   "id": "58ab9985-8c9a-4740-9fed-ef0f584eea5c",
   "metadata": {},
   "outputs": [],
   "source": [
    "import requests\n",
    "from bs4 import BeautifulSoup\n",
    "\n",
    "url = \"https://www.youtube.com/@PW-Foundation/videos\"\n",
    "\n",
    "response = requests.get(url)\n",
    "\n",
    "if response.status_code == 200:\n",
    "    soup = BeautifulSoup(response.text, 'html.parser')\n",
    "\n",
    "    video_containers = soup.find_all('div', {'id': 'dismissible'})\n",
    "\n",
    "    for i, video_container in enumerate(video_containers[:5]):\n",
    "        video_url = \"https://www.youtube.com\" + video_container.find('a', {'id': 'thumbnail'})['href']\n",
    "        print(f\"Video {i + 1} URL: {video_url}\")\n",
    "else:\n",
    "    print(f\"Failed to retrieve the page. Status code: {response.status_code}\")\n"
   ]
  },
  {
   "cell_type": "code",
   "execution_count": null,
   "id": "531196ab-5627-4335-8542-afb8be05a7da",
   "metadata": {},
   "outputs": [],
   "source": [
    "Q2. Write a python program to extract the URL of the video thumbnails of the first five videos."
   ]
  },
  {
   "cell_type": "code",
   "execution_count": 4,
   "id": "6cf66325-3a84-4f7c-b127-0736f29268c7",
   "metadata": {},
   "outputs": [],
   "source": [
    "import requests\n",
    "from bs4 import BeautifulSoup\n",
    "\n",
    "def get_video_thumbnails(channel_url, num_videos=5):\n",
    "    response = requests.get(channel_url)\n",
    "\n",
    "    if response.status_code == 200:\n",
    "        soup = BeautifulSoup(response.text, 'html.parser')\n",
    "\n",
    "        video_containers = soup.find_all('div', {'id': 'dismissible'})\n",
    "\n",
    "        for i, video_container in enumerate(video_containers[:num_videos]):\n",
    "            thumbnail_url = video_container.find('img')['src']\n",
    "            print(f\"Video {i + 1} Thumbnail URL: {thumbnail_url}\")\n",
    "    else:\n",
    "        print(f\"Failed to retrieve the page. Status code: {response.status_code}\")\n",
    "\n",
    "channel_url = \"https://www.youtube.com/@PW-Foundation/videos\"\n",
    "get_video_thumbnails(channel_url, num_videos=5)\n"
   ]
  },
  {
   "cell_type": "code",
   "execution_count": null,
   "id": "1b42ba4a-f927-4492-873f-b97ed2d53e71",
   "metadata": {},
   "outputs": [],
   "source": [
    "Q3. Write a python program to extract the title of the first five videos."
   ]
  },
  {
   "cell_type": "code",
   "execution_count": 5,
   "id": "c0efb9a2-295d-4799-97ed-414f0459090a",
   "metadata": {},
   "outputs": [],
   "source": [
    "import requests\n",
    "from bs4 import BeautifulSoup\n",
    "\n",
    "def get_video_titles(channel_url, num_videos=5):\n",
    "    response = requests.get(channel_url)\n",
    "\n",
    "    if response.status_code == 200:\n",
    "        soup = BeautifulSoup(response.text, 'html.parser')\n",
    "\n",
    "        video_containers = soup.find_all('div', {'id': 'dismissible'})\n",
    "\n",
    "        for i, video_container in enumerate(video_containers[:num_videos]):\n",
    "            title = video_container.find('a', {'id': 'video-title'}).text.strip()\n",
    "            print(f\"Video {i + 1} Title: {title}\")\n",
    "    else:\n",
    "        print(f\"Failed to retrieve the page. Status code: {response.status_code}\")\n",
    "\n",
    "channel_url = \"https://www.youtube.com/@PW-Foundation/videos\"\n",
    "get_video_titles(channel_url, num_videos=5)\n"
   ]
  },
  {
   "cell_type": "code",
   "execution_count": null,
   "id": "11a4c353-03a0-4bd4-bb68-78ee9367c9cc",
   "metadata": {},
   "outputs": [],
   "source": [
    "Q4. Write a python program to extract the number of views of the first five videos."
   ]
  },
  {
   "cell_type": "code",
   "execution_count": 6,
   "id": "458e941f-20db-40a8-8dbe-297bb88b5acb",
   "metadata": {},
   "outputs": [],
   "source": [
    "import requests\n",
    "from bs4 import BeautifulSoup\n",
    "\n",
    "def get_video_views(channel_url, num_videos=5):\n",
    "    response = requests.get(channel_url)\n",
    "\n",
    "    if response.status_code == 200:\n",
    "        soup = BeautifulSoup(response.text, 'html.parser')\n",
    "\n",
    "        video_containers = soup.find_all('div', {'id': 'dismissible'})\n",
    "\n",
    "        for i, video_container in enumerate(video_containers[:num_videos]):\n",
    "            views_text = video_container.find('span', {'class': 'style-scope ytd-grid-video-renderer'}).text.strip()\n",
    "            print(f\"Video {i + 1} Views: {views_text}\")\n",
    "    else:\n",
    "        print(f\"Failed to retrieve the page. Status code: {response.status_code}\")\n",
    "\n",
    "channel_url = \"https://www.youtube.com/@PW-Foundation/videos\"\n",
    "get_video_views(channel_url, num_videos=5)\n"
   ]
  },
  {
   "cell_type": "code",
   "execution_count": null,
   "id": "62502a42-21f8-4940-9b3b-c70ea4b9c0c6",
   "metadata": {},
   "outputs": [],
   "source": [
    "Q5. Write a python program to extract the time of posting of video for the first five videos."
   ]
  },
  {
   "cell_type": "code",
   "execution_count": 7,
   "id": "fa50a534-999c-4785-ae4a-c844e10eabb8",
   "metadata": {},
   "outputs": [],
   "source": [
    "import requests\n",
    "from bs4 import BeautifulSoup\n",
    "\n",
    "def get_video_posting_time(channel_url, num_videos=5):\n",
    "    response = requests.get(channel_url)\n",
    "\n",
    "    if response.status_code == 200:\n",
    "        soup = BeautifulSoup(response.text, 'html.parser')\n",
    "\n",
    "        video_containers = soup.find_all('div', {'id': 'dismissible'})\n",
    "\n",
    "        for i, video_container in enumerate(video_containers[:num_videos]):\n",
    "            time_element = video_container.find('yt-formatted-string', {'class': 'style-scope ytd-grid-video-renderer'})\n",
    "            posting_time = time_element.get_text(strip=True) if time_element else 'Not available'\n",
    "            print(f\"Video {i + 1} Posting Time: {posting_time}\")\n",
    "    else:\n",
    "        print(f\"Failed to retrieve the page. Status code: {response.status_code}\")\n",
    "\n",
    "channel_url = \"https://www.youtube.com/@PW-Foundation/videos\"\n",
    "get_video_posting_time(channel_url, num_videos=5)\n"
   ]
  },
  {
   "cell_type": "code",
   "execution_count": null,
   "id": "586038a9-341f-46cb-a389-dd3c41e1d168",
   "metadata": {},
   "outputs": [],
   "source": []
  }
 ],
 "metadata": {
  "kernelspec": {
   "display_name": "Python 3 (ipykernel)",
   "language": "python",
   "name": "python3"
  },
  "language_info": {
   "codemirror_mode": {
    "name": "ipython",
    "version": 3
   },
   "file_extension": ".py",
   "mimetype": "text/x-python",
   "name": "python",
   "nbconvert_exporter": "python",
   "pygments_lexer": "ipython3",
   "version": "3.10.8"
  }
 },
 "nbformat": 4,
 "nbformat_minor": 5
}
