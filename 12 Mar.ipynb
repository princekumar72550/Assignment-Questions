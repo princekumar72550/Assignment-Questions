{
 "cells": [
  {
   "cell_type": "code",
   "execution_count": null,
   "id": "155d4e06-edb0-4ddf-ad5c-d152c23b72eb",
   "metadata": {},
   "outputs": [],
   "source": [
    "Q1. Calculate the 95% confidence interval for a sample of data with a mean of 50 and a standard deviation\n",
    "of 5 using Python. Interpret the results"
   ]
  },
  {
   "cell_type": "code",
   "execution_count": 1,
   "id": "b67431c2-cede-4a46-bdaa-b45c4b0beb5e",
   "metadata": {},
   "outputs": [
    {
     "name": "stdout",
     "output_type": "stream",
     "text": [
      "95% Confidence Interval: (48.21, 51.79)\n"
     ]
    }
   ],
   "source": [
    "import scipy.stats as stats\n",
    "import math\n",
    "\n",
    "sample_mean = 50\n",
    "sample_std = 5\n",
    "sample_size = 30  \n",
    "confidence_level = 0.95\n",
    "\n",
    "margin_of_error = stats.norm.ppf((1 + confidence_level) / 2) * (sample_std / math.sqrt(sample_size))\n",
    "\n",
    "lower_bound = sample_mean - margin_of_error\n",
    "upper_bound = sample_mean + margin_of_error\n",
    "\n",
    "print(f\"95% Confidence Interval: ({lower_bound:.2f}, {upper_bound:.2f})\")\n"
   ]
  },
  {
   "cell_type": "code",
   "execution_count": null,
   "id": "7612edc0-d96d-4377-a971-b2de6db6cbf8",
   "metadata": {},
   "outputs": [],
   "source": [
    "Q2. Conduct a chi-square goodness of fit test to determine if the distribution of colors of M&Ms in a bag\n",
    "matches the expected distribution of 20% blue, 20% orange, 20% green, 10% yellow, 10% red, and 20%\n",
    "brown. Use Python to perform the test with a significance level of 0.05."
   ]
  },
  {
   "cell_type": "code",
   "execution_count": 2,
   "id": "d294e9ba-7ba5-4a9d-a0d3-d56da8bbb7c4",
   "metadata": {},
   "outputs": [
    {
     "name": "stdout",
     "output_type": "stream",
     "text": [
      "Chi-square statistic: 0.75\n",
      "P-value: 0.9801122928128689\n",
      "Fail to reject the null hypothesis. There is insufficient evidence to conclude a significant difference.\n"
     ]
    }
   ],
   "source": [
    "import numpy as np\n",
    "from scipy.stats import chisquare\n",
    "\n",
    "observed_counts = np.array([18, 22, 21, 11, 10, 18]) \n",
    "\n",
    "expected_proportions = np.array([0.20, 0.20, 0.20, 0.10, 0.10, 0.20])\n",
    "\n",
    "total_observed = np.sum(observed_counts)\n",
    "expected_counts = total_observed * expected_proportions\n",
    "\n",
    "chi2_stat, p_value = chisquare(observed_counts, f_exp=expected_counts)\n",
    "\n",
    "print(f\"Chi-square statistic: {chi2_stat}\")\n",
    "print(f\"P-value: {p_value}\")\n",
    "\n",
    "alpha = 0.05\n",
    "if p_value < alpha:\n",
    "    print(\"Reject the null hypothesis. The distribution of M&M colors is significantly different from the expected distribution.\")\n",
    "else:\n",
    "    print(\"Fail to reject the null hypothesis. There is insufficient evidence to conclude a significant difference.\")\n"
   ]
  },
  {
   "cell_type": "code",
   "execution_count": null,
   "id": "0af9ea1d-c7db-4a4b-ab5c-b0d6a4a54b9c",
   "metadata": {},
   "outputs": [],
   "source": [
    "Q3. Use Python to calculate the chi-square statistic and p-value for a contingency table with the following\n",
    "data:\n",
    "    Group A  Group B\n",
    "Outcome1 20   15\n",
    "Outcome2 10   25\n",
    "Outcome3 15   20\n"
   ]
  },
  {
   "cell_type": "code",
   "execution_count": 3,
   "id": "1ac52fcb-4405-40ee-a94a-cc65f0cc1446",
   "metadata": {},
   "outputs": [
    {
     "name": "stdout",
     "output_type": "stream",
     "text": [
      "Chi-square statistic: 5.833333333333334\n",
      "P-value: 0.05411376622282158\n",
      "Fail to reject the null hypothesis. There is insufficient evidence to conclude a significant relationship.\n"
     ]
    }
   ],
   "source": [
    "import numpy as np\n",
    "from scipy.stats import chi2_contingency\n",
    "\n",
    "data = np.array([[20, 15],\n",
    "                 [10, 25],\n",
    "                 [15, 20]])\n",
    "\n",
    "chi2_stat, p_value, _, _ = chi2_contingency(data)\n",
    "\n",
    "print(f\"Chi-square statistic: {chi2_stat}\")\n",
    "print(f\"P-value: {p_value}\")\n",
    "\n",
    "alpha = 0.05\n",
    "if p_value < alpha:\n",
    "    print(\"Reject the null hypothesis. There is evidence of a significant relationship between the groups and outcomes.\")\n",
    "else:\n",
    "    print(\"Fail to reject the null hypothesis. There is insufficient evidence to conclude a significant relationship.\")\n"
   ]
  },
  {
   "cell_type": "code",
   "execution_count": null,
   "id": "ba405d03-9302-460f-9bc2-3215d8c04119",
   "metadata": {},
   "outputs": [],
   "source": [
    "Q4. A study of the prevalence of smoking in a population of 500 individuals found that 60 individuals\n",
    "smoked. Use Python to calculate the 95% confidence interval for the true proportion of individuals in the\n",
    "population who smoke."
   ]
  },
  {
   "cell_type": "code",
   "execution_count": 4,
   "id": "7d8653e8-80bb-403c-9fc0-95b38791ba20",
   "metadata": {},
   "outputs": [
    {
     "name": "stdout",
     "output_type": "stream",
     "text": [
      "95% Confidence Interval: (0.0915, 0.1485)\n"
     ]
    }
   ],
   "source": [
    "import scipy.stats as stats\n",
    "import math\n",
    "\n",
    "sample_proportion = 60 / 500 \n",
    "sample_size = 500\n",
    "confidence_level = 0.95\n",
    "\n",
    "z_score = stats.norm.ppf((1 + confidence_level) / 2)\n",
    "\n",
    "margin_of_error = z_score * math.sqrt((sample_proportion * (1 - sample_proportion)) / sample_size)\n",
    "\n",
    "lower_bound = sample_proportion - margin_of_error\n",
    "upper_bound = sample_proportion + margin_of_error\n",
    "\n",
    "print(f\"95% Confidence Interval: ({lower_bound:.4f}, {upper_bound:.4f})\")\n"
   ]
  },
  {
   "cell_type": "code",
   "execution_count": null,
   "id": "6c388c25-00cd-451c-a57f-802b1cf741f3",
   "metadata": {},
   "outputs": [],
   "source": [
    "Q5. Calculate the 90% confidence interval for a sample of data with a mean of 75 and a standard deviation\n",
    "of 12 using Python. Interpret the results."
   ]
  },
  {
   "cell_type": "code",
   "execution_count": 5,
   "id": "847056ac-d9c2-4ae7-91c1-727978fc5990",
   "metadata": {},
   "outputs": [
    {
     "name": "stdout",
     "output_type": "stream",
     "text": [
      "90% Confidence Interval: (71.40, 78.60)\n"
     ]
    }
   ],
   "source": [
    "import scipy.stats as stats\n",
    "import math\n",
    "\n",
    "sample_mean = 75\n",
    "sample_std = 12\n",
    "sample_size = 30  \n",
    "confidence_level = 0.90\n",
    "\n",
    "margin_of_error = stats.norm.ppf((1 + confidence_level) / 2) * (sample_std / math.sqrt(sample_size))\n",
    "\n",
    "lower_bound = sample_mean - margin_of_error\n",
    "upper_bound = sample_mean + margin_of_error\n",
    "\n",
    "print(f\"90% Confidence Interval: ({lower_bound:.2f}, {upper_bound:.2f})\")\n"
   ]
  },
  {
   "cell_type": "code",
   "execution_count": null,
   "id": "a72c8ef6-6279-44b0-9cef-fd826ea7d512",
   "metadata": {},
   "outputs": [],
   "source": [
    "Q6. Use Python to plot the chi-square distribution with 10 degrees of freedom. Label the axes and shade the\n",
    "area corresponding to a chi-square statistic of 15."
   ]
  },
  {
   "cell_type": "code",
   "execution_count": 6,
   "id": "9fcc9dca-ec5c-4bdd-88e2-47523017d11d",
   "metadata": {},
   "outputs": [
    {
     "data": {
      "image/png": "[encoded data removed]",
      "text/plain": [
       "<Figure size 640x480 with 1 Axes>"
      ]
     },
     "metadata": {},
     "output_type": "display_data"
    }
   ],
   "source": [
    "import numpy as np\n",
    "import matplotlib.pyplot as plt\n",
    "import scipy.stats as stats\n",
    "\n",
    "df = 10\n",
    "\n",
    "x = np.linspace(0, 25, 1000)\n",
    "\n",
    "plt.plot(x, stats.chi2.pdf(x, df), label=f'Chi-square Distribution (df={df})')\n",
    "\n",
    "x_fill = np.linspace(0, 15, 100)\n",
    "plt.fill_between(x_fill, stats.chi2.pdf(x_fill, df), color='orange', alpha=0.5, label='Area for Chi-square Statistic = 15')\n",
    "\n",
    "plt.xlabel('Chi-square Statistic')\n",
    "plt.ylabel('Probability Density Function')\n",
    "plt.legend()\n",
    "\n",
    "plt.show()\n"
   ]
  },
  {
   "cell_type": "code",
   "execution_count": null,
   "id": "716b756d-71f2-4af8-be3c-968151e361ef",
   "metadata": {},
   "outputs": [],
   "source": [
    "Q7. A random sample of 1000 people was asked if they preferred Coke or Pepsi. Of the sample, 520\n",
    "preferred Coke. Calculate a 99% confidence interval for the true proportion of people in the population who\n",
    "prefer Coke."
   ]
  },
  {
   "cell_type": "code",
   "execution_count": 7,
   "id": "765c1828-e694-4d6f-a54a-987fd117d5eb",
   "metadata": {},
   "outputs": [
    {
     "name": "stdout",
     "output_type": "stream",
     "text": [
      "99% Confidence Interval: (0.4793, 0.5607)\n"
     ]
    }
   ],
   "source": [
    "import scipy.stats as stats\n",
    "import math\n",
    "\n",
    "sample_proportion = 520 / 1000 \n",
    "sample_size = 1000\n",
    "confidence_level = 0.99\n",
    "\n",
    "z_score = stats.norm.ppf((1 + confidence_level) / 2)\n",
    "\n",
    "margin_of_error = z_score * math.sqrt((sample_proportion * (1 - sample_proportion)) / sample_size)\n",
    "\n",
    "lower_bound = sample_proportion - margin_of_error\n",
    "upper_bound = sample_proportion + margin_of_error\n",
    "\n",
    "print(f\"99% Confidence Interval: ({lower_bound:.4f}, {upper_bound:.4f})\")\n"
   ]
  },
  {
   "cell_type": "code",
   "execution_count": null,
   "id": "ab68843b-28ff-4d35-aa79-b9eb417835b0",
   "metadata": {},
   "outputs": [],
   "source": [
    "Q8. A researcher hypothesizes that a coin is biased towards tails. They flip the coin 100 times and observe\n",
    "45 tails. Conduct a chi-square goodness of fit test to determine if the observed frequencies match the\n",
    "expected frequencies of a fair coin. Use a significance level of 0.05."
   ]
  },
  {
   "cell_type": "code",
   "execution_count": null,
   "id": "393b3918-c3df-4639-9cd7-9431ec44f0de",
   "metadata": {},
   "outputs": [],
   "source": [
    "import numpy as np\n",
    "from scipy.stats import chisquare\n",
    "\n",
    "observed_tails = 45\n",
    "total_flips = 100\n",
    "\n",
    "expected_heads = (total_flips - observed_tails) // 2\n",
    "expected_tails = (total_flips - observed_tails) // 2\n",
    "\n",
    "expected_tails += (total_flips - observed_tails) % 2\n",
    "\n",
    "observed_frequencies = np.array([total_flips - observed_tails, observed_tails])\n",
    "\n",
    "expected_frequencies = np.array([expected_heads, expected_tails])\n",
    "\n",
    "chi2_stat, p_value = chisquare(f_obs=observed_frequencies, f_exp=expected_frequencies)\n",
    "\n",
    "print(f\"Chi-square statistic: {chi2_stat}\")\n",
    "print(f\"P-value: {p_value}\")\n",
    "\n",
    "alpha = 0.05\n",
    "if p_value < alpha:\n",
    "    print(\"Reject the null hypothesis. The observed frequencies do not match the expected frequencies of a fair coin.\")\n",
    "else:\n",
    "    print(\"Fail to reject the null hypothesis. There is insufficient evidence to conclude a significant difference.\")\n"
   ]
  },
  {
   "cell_type": "code",
   "execution_count": null,
   "id": "bec4eed1-64ea-44fe-9755-8f6ed94c40ec",
   "metadata": {},
   "outputs": [],
   "source": [
    "Q9. A study was conducted to determine if there is an association between smoking status (smoker or\n",
    "non-smoker) and lung cancer diagnosis (yes or no). The results are shown in the contingency table below.\n",
    "Conduct a chi-square test for independence to determine if there is a significant association between\n",
    "smoking status and lung cancer diagnosis.\n",
    "Lung   Cancer: Yes  Lung Cancer: No \n",
    "Smoker      60      140\n",
    "Non-smoker   30     170\n"
   ]
  },
  {
   "cell_type": "code",
   "execution_count": 14,
   "id": "26016f8b-0e77-4548-bc6a-c5f614cf470f",
   "metadata": {},
   "outputs": [
    {
     "name": "stdout",
     "output_type": "stream",
     "text": [
      "Chi-square statistic: 12.057347670250895\n",
      "P-value: 0.0005158863863703744\n",
      "Reject the null hypothesis. There is a significant association between smoking status and lung cancer diagnosis.\n"
     ]
    }
   ],
   "source": [
    "import numpy as np\n",
    "from scipy.stats import chi2_contingency\n",
    "\n",
    "observed_data = np.array([[60, 140], [30, 170]])\n",
    "\n",
    "chi2_stat, p_value, _, _ = chi2_contingency(observed_data)\n",
    "\n",
    "print(f\"Chi-square statistic: {chi2_stat}\")\n",
    "print(f\"P-value: {p_value}\")\n",
    "\n",
    "alpha = 0.05\n",
    "if p_value < alpha:\n",
    "    print(\"Reject the null hypothesis. There is a significant association between smoking status and lung cancer diagnosis.\")\n",
    "else:\n",
    "    print(\"Fail to reject the null hypothesis. There is insufficient evidence to conclude a significant association.\")\n"
   ]
  },
  {
   "cell_type": "code",
   "execution_count": null,
   "id": "193b5c81-bb9b-4d3a-9f13-815b7a967dbd",
   "metadata": {},
   "outputs": [],
   "source": [
    "Q10. A study was conducted to determine if the proportion of people who prefer milk chocolate, dark\n",
    "chocolate, or white chocolate is different in the U.S. versus the U.K. A random sample of 500 people from\n",
    "the U.S. and a random sample of 500 people from the U.K. were surveyed. The results are shown in the\n",
    "contingency table below. Conduct a chi-square test for independence to determine if there is a significant\n",
    "association between chocolate preference and country of origin.\n",
    "\n",
    "Milk Chocolate   Dark Chocolate   White Chocolate\n",
    "U.S. (n=500) 200 150 150\n",
    "U.K. (n=500) 225 175 100\n"
   ]
  },
  {
   "cell_type": "code",
   "execution_count": 16,
   "id": "03c3eb69-6c6a-4fcf-b62f-a2fa38c03f03",
   "metadata": {},
   "outputs": [
    {
     "name": "stdout",
     "output_type": "stream",
     "text": [
      "Chi-square statistic: 13.393665158371041\n",
      "P-value: 0.0012348168997745918\n",
      "Reject the null hypothesis. There is a significant association between chocolate preference and country of origin.\n"
     ]
    }
   ],
   "source": [
    "import numpy as np\n",
    "from scipy.stats import chi2_contingency\n",
    "\n",
    "observed_data = np.array([[200, 150, 150], [225, 175, 100]])\n",
    "\n",
    "chi2_stat, p_value, _, _ = chi2_contingency(observed_data)\n",
    "\n",
    "print(f\"Chi-square statistic: {chi2_stat}\")\n",
    "print(f\"P-value: {p_value}\")\n",
    "\n",
    "alpha = 0.01\n",
    "if p_value < alpha:\n",
    "    print(\"Reject the null hypothesis. There is a significant association between chocolate preference and country of origin.\")\n",
    "else:\n",
    "    print(\"Fail to reject the null hypothesis. There is insufficient evidence to conclude a significant association.\")\n"
   ]
  },
  {
   "cell_type": "code",
   "execution_count": null,
   "id": "84ccba23-dfac-4e5d-9471-7ae032e14b88",
   "metadata": {},
   "outputs": [],
   "source": [
    "Q11. A random sample of 30 people was selected from a population with an unknown mean and standard\n",
    "deviation. The sample mean was found to be 72 and the sample standard deviation was found to be 10.\n",
    "Conduct a hypothesis test to determine if the population mean is significantly different from 70. Use a\n",
    "significance level of 0.05."
   ]
  },
  {
   "cell_type": "code",
   "execution_count": 17,
   "id": "92c1f2f6-ee66-46d6-a62c-de72cf0ad0a1",
   "metadata": {},
   "outputs": [
    {
     "name": "stdout",
     "output_type": "stream",
     "text": [
      "T-statistic: 1.0954451150103321\n",
      "Critical t-value: 2.045229642132703\n",
      "Fail to reject the null hypothesis. There is insufficient evidence to conclude a significant difference.\n"
     ]
    }
   ],
   "source": [
    "import numpy as np\n",
    "from scipy.stats import t\n",
    "\n",
    "sample_mean = 72\n",
    "sample_std = 10\n",
    "sample_size = 30\n",
    "population_mean_hypothesized = 70\n",
    "significance_level = 0.05\n",
    "\n",
    "t_statistic = (sample_mean - population_mean_hypothesized) / (sample_std / np.sqrt(sample_size))\n",
    "\n",
    "degrees_of_freedom = sample_size - 1\n",
    "\n",
    "critical_t_value = t.ppf(1 - significance_level / 2, df=degrees_of_freedom)\n",
    "\n",
    "print(f\"T-statistic: {t_statistic}\")\n",
    "print(f\"Critical t-value: {critical_t_value}\")\n",
    "\n",
    "if np.abs(t_statistic) > critical_t_value:\n",
    "    print(\"Reject the null hypothesis. The population mean is significantly different from 70.\")\n",
    "else:\n",
    "    print(\"Fail to reject the null hypothesis. There is insufficient evidence to conclude a significant difference.\")\n"
   ]
  },
  {
   "cell_type": "code",
   "execution_count": null,
   "id": "e42bf191-d193-4249-8d77-b9d0fe30cf2a",
   "metadata": {},
   "outputs": [],
   "source": []
  }
 ],
 "metadata": {
  "kernelspec": {
   "display_name": "Python 3 (ipykernel)",
   "language": "python",
   "name": "python3"
  },
  "language_info": {
   "codemirror_mode": {
    "name": "ipython",
    "version": 3
   },
   "file_extension": ".py",
   "mimetype": "text/x-python",
   "name": "python",
   "nbconvert_exporter": "python",
   "pygments_lexer": "ipython3",
   "version": "3.10.8"
  }
 },
 "nbformat": 4,
 "nbformat_minor": 5
}
