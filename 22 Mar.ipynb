{
 "cells": [
  {
   "cell_type": "code",
   "execution_count": null,
   "id": "f937598a-5bd8-4c6f-86b8-e25a230a86af",
   "metadata": {},
   "outputs": [],
   "source": [
    "Q1. Pearson correlation coefficient is a measure of the linear relationship between two variables. Suppose\n",
    "you have collected data on the amount of time students spend studying for an exam and their final exam\n",
    "scores. Calculate the Pearson correlation coefficient between these two variables and interpret the result."
   ]
  },
  {
   "cell_type": "code",
   "execution_count": null,
   "id": "fcc0fbea-bf81-400b-a24a-267b20354b11",
   "metadata": {},
   "outputs": [],
   "source": [
    "1. Compute the Mean:\n",
    "   - Calculate the mean (average) of study time and exam scores.\n",
    "   - Let's denote the mean study time as \\( \\bar{X} \\) and the mean exam score as \\( \\bar{Y} \\).\n",
    "\n",
    "2. Calculate the Deviations:\n",
    "   - For each data point, find the deviation from the mean for both study time (\\(X_i - \\bar{X}\\)) and exam scores (\\(Y_i - \\bar{Y}\\)).\n",
    "   - Multiply these deviations for each data point: \\( (X_i - \\bar{X}) \\cdot (Y_i - \\bar{Y}) \\).\n",
    "\n",
    "3. Sum the Products of Deviations:\n",
    "   - Sum up all the products of deviations calculated in the previous step.\n",
    "\n",
    "4. Calculate Standard Deviations:\n",
    "   - Compute the standard deviation of study time (\\(s_X\\)) and exam scores (\\(s_Y\\)).\n",
    "\n",
    "5. Compute the Pearson Correlation Coefficient:\n",
    "   - The formula for the Pearson correlation coefficient is:\n",
    "     \\[ r = \\frac{\\sum (X_i - \\bar{X}) \\cdot (Y_i - \\bar{Y})}{n \\cdot s_X \\cdot s_Y} \\]\n",
    "     where:\n",
    "       - \\(n\\) is the number of data points.\n",
    "       - \\(s_X\\) is the standard deviation of study time.\n",
    "       - \\(s_Y\\) is the standard deviation of exam scores.\n",
    "\n",
    "6. Interpret the Result:\n",
    "   - The value of \\(r\\) ranges from -1 to 1:\n",
    "     - If \\(r\\) is close to 1, it indicates a **strong positive correlation** (as study time increases, exam scores tend to increase).\n",
    "     - If \\(r\\) is close to -1, it suggests a **strong negative correlation** (as study time increases, exam scores tend to decrease).\n",
    "     - If \\(r\\) is close to 0, there is **no linear correlation** between the variables.\n"
   ]
  },
  {
   "cell_type": "code",
   "execution_count": null,
   "id": "cf04ad10-11df-44a1-9401-6376a11b1f65",
   "metadata": {},
   "outputs": [],
   "source": [
    "Q2. Spearman's rank correlation is a measure of the monotonic relationship between two variables.\n",
    "Suppose you have collected data on the amount of sleep individuals get each night and their overall job\n",
    "satisfaction level on a scale of 1 to 10. Calculate the Spearman's rank correlation between these two\n",
    "variables and interpret the result."
   ]
  },
  {
   "cell_type": "code",
   "execution_count": 1,
   "id": "1bcebe6d-3338-4d43-9b6f-51c2d716392b",
   "metadata": {},
   "outputs": [
    {
     "name": "stdout",
     "output_type": "stream",
     "text": [
      "Spearman's Rank Correlation Coefficient: 0.34210526315789475\n"
     ]
    }
   ],
   "source": [
    "from scipy.stats import spearmanr\n",
    "\n",
    "amount_of_sleep = [7, 8, 6, 7, 5]  \n",
    "job_satisfaction = [8, 9, 7, 6, 8] \n",
    "\n",
    "correlation_coefficient, p_value = spearmanr(amount_of_sleep, job_satisfaction)\n",
    "\n",
    "print(\"Spearman's Rank Correlation Coefficient:\", correlation_coefficient)\n"
   ]
  },
  {
   "cell_type": "code",
   "execution_count": null,
   "id": "2824d134-f71b-4994-b89a-bf1bcb63d767",
   "metadata": {},
   "outputs": [],
   "source": [
    "Q3. Suppose you are conducting a study to examine the relationship between the number of hours of\n",
    "exercise per week and body mass index (BMI) in a sample of adults. You collected data on both variables\n",
    "for 50 participants. Calculate the Pearson correlation coefficient and the Spearman's rank correlation\n",
    "between these two variables and compare the results."
   ]
  },
  {
   "cell_type": "code",
   "execution_count": 2,
   "id": "fda99c14-22c6-4a68-97ed-a6ff3cdba065",
   "metadata": {},
   "outputs": [
    {
     "name": "stdout",
     "output_type": "stream",
     "text": [
      "Pearson Correlation Coefficient: -0.9167460283106114\n",
      "Spearman's Rank Correlation Coefficient: -0.9190875924714935\n"
     ]
    }
   ],
   "source": [
    "from scipy.stats import pearsonr, spearmanr\n",
    "import numpy as np\n",
    "hours_of_exercise = [5, 3, 7, 4, 6, 2, 5, 4, 6, 3,\n",
    "                     5, 4, 6, 3, 7, 2, 5, 4, 6, 3,\n",
    "                     5, 4, 6, 3, 7, 2, 5, 4, 6, 3,\n",
    "                     5, 4, 6, 3, 7, 2, 5, 4, 6, 3,\n",
    "                     5, 4, 6, 3, 7, 2, 5, 4, 6, 3]\n",
    "\n",
    "BMI = [25, 30, 22, 28, 24, 32, 26, 27, 23, 29,\n",
    "       25, 30, 22, 28, 24, 32, 26, 27, 23, 29,\n",
    "       25, 30, 22, 28, 24, 32, 26, 27, 23, 29,\n",
    "       25, 30, 22, 28, 24, 32, 26, 27, 23, 29,\n",
    "       25, 30, 22, 28, 24, 32, 26, 27, 23, 29]\n",
    "\n",
    "pearson_corr, _ = pearsonr(hours_of_exercise, BMI)\n",
    "\n",
    "spearman_corr, _ = spearmanr(hours_of_exercise, BMI)\n",
    "\n",
    "print(\"Pearson Correlation Coefficient:\", pearson_corr)\n",
    "print(\"Spearman's Rank Correlation Coefficient:\", spearman_corr)\n"
   ]
  },
  {
   "cell_type": "code",
   "execution_count": null,
   "id": "fb66a7ed-46c6-4fb3-8c7a-e9392ef62fab",
   "metadata": {},
   "outputs": [],
   "source": [
    "Q4. A researcher is interested in examining the relationship between the number of hours individuals\n",
    "spend watching television per day and their level of physical activity. The researcher collected data on\n",
    "both variables from a sample of 50 participants. Calculate the Pearson correlation coefficient between\n",
    "these two variables."
   ]
  },
  {
   "cell_type": "code",
   "execution_count": 3,
   "id": "55099362-a350-4c2f-99e7-babc29b14e18",
   "metadata": {},
   "outputs": [
    {
     "name": "stdout",
     "output_type": "stream",
     "text": [
      "Pearson Correlation Coefficient: -0.9000000000000004\n"
     ]
    }
   ],
   "source": [
    "from scipy.stats import pearsonr\n",
    "\n",
    "hours_watching_tv = [3, 2, 4, 5, 1, 3, 2, 4, 5, 1,\n",
    "                     3, 2, 4, 5, 1, 3, 2, 4, 5, 1,\n",
    "                     3, 2, 4, 5, 1, 3, 2, 4, 5, 1,\n",
    "                     3, 2, 4, 5, 1, 3, 2, 4, 5, 1,\n",
    "                     3, 2, 4, 5, 1, 3, 2, 4, 5, 1]\n",
    "\n",
    "physical_activity = [2, 4, 3, 1, 5, 2, 4, 3, 1, 5,\n",
    "                     2, 4, 3, 1, 5, 2, 4, 3, 1, 5,\n",
    "                     2, 4, 3, 1, 5, 2, 4, 3, 1, 5,\n",
    "                     2, 4, 3, 1, 5, 2, 4, 3, 1, 5,\n",
    "                     2, 4, 3, 1, 5, 2, 4, 3, 1, 5]\n",
    "\n",
    "pearson_corr, _ = pearsonr(hours_watching_tv, physical_activity)\n",
    "\n",
    "print(\"Pearson Correlation Coefficient:\", pearson_corr)\n"
   ]
  },
  {
   "cell_type": "code",
   "execution_count": null,
   "id": "381c3421-9a1a-4fb2-9426-10a4597df96e",
   "metadata": {},
   "outputs": [],
   "source": [
    "Q5. A survey was conducted to examine the relationship between age and preference for a particular\n",
    "brand of soft drink. The survey results are shown below:\n",
    "Age(Years)    Soft drink Preference\n",
    "25           Coke\n",
    "42          Pepsi\n",
    "37           Mountain dew\n",
    "19           Coke\n",
    "31            Pepsi\n",
    "28           Coke\n",
    "\n"
   ]
  },
  {
   "cell_type": "code",
   "execution_count": 4,
   "id": "703fc906-3251-491b-b050-50057b53d65d",
   "metadata": {},
   "outputs": [
    {
     "data": {
      "image/png": "[encoded data removed]",
      "text/plain": [
       "<Figure size 800x600 with 1 Axes>"
      ]
     },
     "metadata": {},
     "output_type": "display_data"
    }
   ],
   "source": [
    "import pandas as pd\n",
    "import matplotlib.pyplot as plt\n",
    "\n",
    "data = {\n",
    "    'Age(Years)': [25, 42, 37, 19, 31, 28],\n",
    "    'Soft drink Preference': ['Coke', 'Pepsi', 'Mountain dew', 'Coke', 'Pepsi', 'Coke']\n",
    "}\n",
    "\n",
    "df = pd.DataFrame(data)\n",
    "\n",
    "plt.figure(figsize=(8, 6))\n",
    "plt.scatter(df['Age(Years)'], df.index, c=pd.factorize(df['Soft drink Preference'])[0], cmap='viridis', s=100)\n",
    "plt.xlabel('Age (Years)')\n",
    "plt.ylabel('Participant')\n",
    "plt.title('Relationship Between Age and Soft Drink Preference')\n",
    "plt.yticks(df.index, df['Soft drink Preference'])\n",
    "plt.grid(True)\n",
    "plt.show()\n"
   ]
  },
  {
   "cell_type": "code",
   "execution_count": null,
   "id": "e1dbefcb-1173-4a59-ba49-434dc1e8bd74",
   "metadata": {},
   "outputs": [],
   "source": [
    "Q6. A company is interested in examining the relationship between the number of sales calls made per day\n",
    "and the number of sales made per week. The company collected data on both variables from a sample of\n",
    "30 sales representatives. Calculate the Pearson correlation coefficient between these two variables.\n"
   ]
  },
  {
   "cell_type": "code",
   "execution_count": 5,
   "id": "a9fc910d-9835-4869-b3a5-ecbfe37a8443",
   "metadata": {},
   "outputs": [
    {
     "name": "stdout",
     "output_type": "stream",
     "text": [
      "Pearson Correlation Coefficient: 0.9799907508497057\n"
     ]
    }
   ],
   "source": [
    "from scipy.stats import pearsonr\n",
    "\n",
    "sales_calls_per_day = [20, 25, 30, 15, 10, 28, 22, 18, 32, 27,\n",
    "                       23, 17, 12, 29, 21, 26, 31, 16, 24, 19,\n",
    "                       35, 14, 33, 11, 36, 13, 34, 9, 37, 8]\n",
    "\n",
    "sales_made_per_week = [3, 4, 5, 2, 1, 4, 3, 2, 6, 5,\n",
    "                       4, 2, 1, 5, 3, 4, 6, 2, 4, 3,\n",
    "                       7, 2, 6, 1, 7, 1, 6, 1, 8, 1]\n",
    "\n",
    "pearson_corr, _ = pearsonr(sales_calls_per_day, sales_made_per_week)\n",
    "\n",
    "print(\"Pearson Correlation Coefficient:\", pearson_corr)\n"
   ]
  },
  {
   "cell_type": "code",
   "execution_count": null,
   "id": "4d294e02-308c-4b59-9ee9-dfca8aec92a8",
   "metadata": {},
   "outputs": [],
   "source": []
  },
  {
   "cell_type": "code",
   "execution_count": null,
   "id": "566c8ce8-78cc-4b3d-b25d-358f37e37af5",
   "metadata": {},
   "outputs": [],
   "source": []
  },
  {
   "cell_type": "code",
   "execution_count": null,
   "id": "f1ed4036-70bc-4c50-bef4-f47d9cbf1c1a",
   "metadata": {},
   "outputs": [],
   "source": []
  },
  {
   "cell_type": "code",
   "execution_count": null,
   "id": "5af8c00b-515f-4675-b13b-bc8f9075cc4d",
   "metadata": {},
   "outputs": [],
   "source": []
  },
  {
   "cell_type": "code",
   "execution_count": null,
   "id": "2e47597c-ae5a-4897-b98f-e4568411e01f",
   "metadata": {},
   "outputs": [],
   "source": []
  },
  {
   "cell_type": "code",
   "execution_count": null,
   "id": "a6167a53-1be8-487d-8e4e-d82dde6e1b9d",
   "metadata": {},
   "outputs": [],
   "source": []
  },
  {
   "cell_type": "code",
   "execution_count": null,
   "id": "704e55b5-9806-4117-a07b-cbf98ea2e58d",
   "metadata": {},
   "outputs": [],
   "source": []
  },
  {
   "cell_type": "code",
   "execution_count": null,
   "id": "3637a601-e034-4c49-8dd9-7814387d97a3",
   "metadata": {},
   "outputs": [],
   "source": []
  },
  {
   "cell_type": "code",
   "execution_count": null,
   "id": "8e76637b-8a67-474e-bdc1-a0d5b59418ba",
   "metadata": {},
   "outputs": [],
   "source": []
  },
  {
   "cell_type": "code",
   "execution_count": null,
   "id": "021a3e44-1434-4fdb-b113-f14fd32913ea",
   "metadata": {},
   "outputs": [],
   "source": []
  },
  {
   "cell_type": "code",
   "execution_count": null,
   "id": "978b3485-b989-46ed-9ead-8f1f54d76e29",
   "metadata": {},
   "outputs": [],
   "source": []
  }
 ],
 "metadata": {
  "kernelspec": {
   "display_name": "Python 3 (ipykernel)",
   "language": "python",
   "name": "python3"
  },
  "language_info": {
   "codemirror_mode": {
    "name": "ipython",
    "version": 3
   },
   "file_extension": ".py",
   "mimetype": "text/x-python",
   "name": "python",
   "nbconvert_exporter": "python",
   "pygments_lexer": "ipython3",
   "version": "3.10.8"
  }
 },
 "nbformat": 4,
 "nbformat_minor": 5
}
