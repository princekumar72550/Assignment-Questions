{
 "cells": [
  {
   "cell_type": "code",
   "execution_count": null,
   "id": "1ffa7de6-caed-42e5-8e63-641a32223a39",
   "metadata": {},
   "outputs": [],
   "source": [
    "Q1, Create a vehicle class with an init method having instance variables as name_of_vehicle, max_speed \n",
    "and average_of_vehicle. "
   ]
  },
  {
   "cell_type": "code",
   "execution_count": 1,
   "id": "7c6ad073-c485-47ba-9d97-2cd5ab79ed38",
   "metadata": {},
   "outputs": [
    {
     "name": "stdout",
     "output_type": "stream",
     "text": [
      "Car: Max Speed - 200 km/h, Average Speed - 60 km/h\n",
      "Bike: Max Speed - 120 km/h, Average Speed - 40 km/h\n"
     ]
    }
   ],
   "source": [
    "class Vehicle:\n",
    "    def __init__(self, name_of_vehicle, max_speed, average_speed):\n",
    "        self.name_of_vehicle = name_of_vehicle\n",
    "        self.max_speed = max_speed\n",
    "        self.average_speed = average_speed\n",
    "\n",
    "\n",
    "car = Vehicle(\"Car\", 200, 60)\n",
    "bike = Vehicle(\"Bike\", 120, 40)\n",
    "\n",
    "\n",
    "print(f\"{car.name_of_vehicle}: Max Speed - {car.max_speed} km/h, Average Speed - {car.average_speed} km/h\")\n",
    "print(f\"{bike.name_of_vehicle}: Max Speed - {bike.max_speed} km/h, Average Speed - {bike.average_speed} km/h\")\n"
   ]
  },
  {
   "cell_type": "code",
   "execution_count": null,
   "id": "34cd3a9d-2c9d-4d7e-a807-f0f4fbb92ee3",
   "metadata": {},
   "outputs": [],
   "source": [
    "Q2.  Create a child class car from the vehicle class created in Que 1, which will inherit the vehicle class. \n",
    "Create a method named seating_capacity which takes capacity as an argument and returns the name of \n",
    "the vehicle and its seating capacity."
   ]
  },
  {
   "cell_type": "code",
   "execution_count": null,
   "id": "40432c12-4cce-4dc8-b327-69b4284b4709",
   "metadata": {},
   "outputs": [
    {
     "name": "stdout",
     "output_type": "stream",
     "text": [
      "Sedan: Max Speed - 180 km/h, Average Speed - 50 km/h\n",
      "Sedan has a seating capacity of 5 people.\n"
     ]
    }
   ],
   "source": [
    "class Vehicle:\n",
    "    def __init__(self, name, max_speed, average_speed):\n",
    "        self.name = name\n",
    "        self.max_speed = max_speed\n",
    "        self.average_speed = average_speed\n",
    "\n",
    "class Car(Vehicle):\n",
    "    def seating_capacity(self, capacity):\n",
    "        return f\"{self.name} has a seating capacity of {capacity} people.\"\n",
    "\n",
    "car_instance = Car(\"Sedan\", 180, 50)\n",
    "\n",
    "print(f\"{car_instance.name}: Max Speed - {car_instance.max_speed} km/h, Average Speed - {car_instance.average_speed} km/h\")\n",
    "print(car_instance.seating_capacity(5))\n"
   ]
  },
  {
   "cell_type": "code",
   "execution_count": null,
   "id": "43695c46-6661-4a67-a772-3f8a473cbbd0",
   "metadata": {},
   "outputs": [],
   "source": [
    "Q3. What is multiple inheritance? Write a python code to demonstrate multiple inheritance."
   ]
  },
  {
   "cell_type": "code",
   "execution_count": null,
   "id": "91dfc23d-c53c-4f1b-b930-84b0c3071265",
   "metadata": {},
   "outputs": [],
   "source": [
    "\n",
    "Multiple inheritance is a feature in object-oriented programming languages where a class can inherit attributes and methods from more than one parent class.\n",
    "In a multiple inheritance scenario, a class can have multiple base classes, and it inherits properties from all of them."
   ]
  },
  {
   "cell_type": "code",
   "execution_count": 6,
   "id": "8bb5bd42-2561-4fe9-862a-fcd83ac26660",
   "metadata": {},
   "outputs": [
    {
     "name": "stdout",
     "output_type": "stream",
     "text": [
      "In Class2\n"
     ]
    }
   ],
   "source": [
    "class Class1:\n",
    "\tdef m(self):\n",
    "\t\tprint(\"In Class1\") \n",
    "\t\n",
    "class Class2(Class1):\n",
    "\tdef m(self):\n",
    "\t\tprint(\"In Class2\")\n",
    "\n",
    "class Class3(Class1):\n",
    "\tdef m(self):\n",
    "\t\tprint(\"In Class3\") \n",
    "\t\t\n",
    "class Class4(Class2, Class3):\n",
    "\tpass\n",
    "\t\n",
    "obj = Class4()\n",
    "obj.m()\n"
   ]
  },
  {
   "cell_type": "code",
   "execution_count": null,
   "id": "bd169469-1cc2-4046-aa64-3ee962206e84",
   "metadata": {},
   "outputs": [],
   "source": [
    "Q4. What are getter and setter in python? Create a class and create a getter and a setter method in this \n",
    "class."
   ]
  },
  {
   "cell_type": "code",
   "execution_count": null,
   "id": "276f883b-f97e-42cc-932e-ed759d6436f6",
   "metadata": {},
   "outputs": [],
   "source": [
    "Getters:\n",
    "    Getters are the methods that are used in Object-Oriented Programming (OOPS) to access a class's private attributes. The setattr() function in Python corresponds to the getattr()\n",
    "function in Python. It alters an object's attribute values."
   ]
  },
  {
   "cell_type": "code",
   "execution_count": null,
   "id": "99c87416-414b-4c94-9f20-0a05ddc8183b",
   "metadata": {},
   "outputs": [],
   "source": [
    "setter:\n",
    "    The setter is a method that is used to set the property's value. It is very useful in object-oriented programming to set the value of private attributes in a class."
   ]
  },
  {
   "cell_type": "code",
   "execution_count": 8,
   "id": "68fd6425-6d38-486f-9c08-239cbf0f52e1",
   "metadata": {},
   "outputs": [
    {
     "name": "stdout",
     "output_type": "stream",
     "text": [
      "My variable value: 42\n"
     ]
    }
   ],
   "source": [
    "class MyClass:\n",
    "    def __init__(self):\n",
    "        self._my_variable = None \n",
    "\n",
    "    # Getter method\n",
    "    def get_my_variable(self):\n",
    "        return self._my_variable\n",
    "\n",
    "    # Setter method\n",
    "    def set_my_variable(self, value):\n",
    "        self._my_variable = value\n",
    "\n",
    "# Example usage:\n",
    "my_instance = MyClass()\n",
    "\n",
    "# Using the setter method\n",
    "my_instance.set_my_variable(42)\n",
    "\n",
    "# Using the getter method\n",
    "value = my_instance.get_my_variable()\n",
    "print(f\"My variable value: {value}\")\n"
   ]
  },
  {
   "cell_type": "code",
   "execution_count": null,
   "id": "a4508bff-6917-4abe-a235-6982de83ad5c",
   "metadata": {},
   "outputs": [],
   "source": [
    "Q5.What is method overriding in python? Write a python code to demonstrate method overriding."
   ]
  },
  {
   "cell_type": "code",
   "execution_count": null,
   "id": "31d44bf9-9b70-4fb2-bb86-134bc6a09a55",
   "metadata": {},
   "outputs": [],
   "source": [
    "Method overriding allows you to redefine a method in a subclass or the derived class previously defined in its parent or the superclass"
   ]
  },
  {
   "cell_type": "code",
   "execution_count": 12,
   "id": "abb31179-8029-4dbb-96db-9e11baddd97f",
   "metadata": {},
   "outputs": [
    {
     "name": "stdout",
     "output_type": "stream",
     "text": [
      "Vehicle is starting...\n",
      "Car is starting with a key...\n",
      "Bike is starting with a kick...\n"
     ]
    }
   ],
   "source": [
    "class Vehicle:\n",
    "    def __init__(self, name_of_vehicle: str):\n",
    "        self.name_of_vehicle = name_of_vehicle\n",
    "\n",
    "    def start(self):\n",
    "        print(f\"{self.name_of_vehicle} is starting...\")\n",
    "\n",
    "class Car(Vehicle):\n",
    "    def start(self):\n",
    "        print(f\"{self.name_of_vehicle} is starting with a key...\")\n",
    "\n",
    "class Bike(Vehicle):\n",
    "    def start(self):\n",
    "        print(f\"{self.name_of_vehicle} is starting with a kick...\")\n",
    "\n",
    "vehicle = Vehicle(\"Vehicle\")\n",
    "vehicle.start()\n",
    "car = Car(\"Car\")\n",
    "car.start()\n",
    "\n",
    "bike = Bike(\"Bike\")\n",
    "bike.start() \n"
   ]
  },
  {
   "cell_type": "code",
   "execution_count": null,
   "id": "bbc81ff0-d107-47db-b370-366640218411",
   "metadata": {},
   "outputs": [],
   "source": []
  }
 ],
 "metadata": {
  "kernelspec": {
   "display_name": "Python 3 (ipykernel)",
   "language": "python",
   "name": "python3"
  },
  "language_info": {
   "codemirror_mode": {
    "name": "ipython",
    "version": 3
   },
   "file_extension": ".py",
   "mimetype": "text/x-python",
   "name": "python",
   "nbconvert_exporter": "python",
   "pygments_lexer": "ipython3",
   "version": "3.10.8"
  }
 },
 "nbformat": 4,
 "nbformat_minor": 5
}
