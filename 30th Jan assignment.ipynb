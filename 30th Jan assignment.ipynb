{
 "cells": [
  {
   "cell_type": "code",
   "execution_count": null,
   "id": "7ab95dd4-a3fa-4696-a2c0-483a0320e4dc",
   "metadata": {},
   "outputs": [],
   "source": [
    "1. Write a program to accept porcentage from the user and display the grade according to the following criteria:\n",
    "    marks          grade\n",
    "    >90             A\n",
    "    >80 and <=90    B\n",
    "    >=60 and <=80   C\n",
    "    below 60        D"
   ]
  },
  {
   "cell_type": "code",
   "execution_count": 5,
   "id": "a9860bf8-8e29-41b6-b4c8-4ebc0d10b183",
   "metadata": {},
   "outputs": [
    {
     "name": "stdin",
     "output_type": "stream",
     "text": [
      "Enter The Mark:  95\n"
     ]
    },
    {
     "name": "stdout",
     "output_type": "stream",
     "text": [
      "You Got A Grade\n"
     ]
    }
   ],
   "source": [
    "Percentage = int(input(\"Enter The Mark: \"))\n",
    "if Percentage>90:\n",
    "    print(\"You Got A Grade\")\n",
    "elif Percentage>80 and Percentage <=90:\n",
    "    print(\"You Got B Grade\")\n",
    "elif Percentage>=60 and Percentage<=80:\n",
    "    print(\"You Got C Grade\")\n",
    "else:\n",
    "    print(\"You Got D Grade\")"
   ]
  },
  {
   "cell_type": "code",
   "execution_count": null,
   "id": "6618ac0b-1d46-494a-bf97-4f68e674f795",
   "metadata": {},
   "outputs": [],
   "source": [
    "2 Write a program to accept the cost price of a bike and display the road tax to be paid according to the\n",
    "following criteria:\n",
    "    Tax      Cost Price(in Rs)\n",
    "    15%       >100000\n",
    "    10%       >50000 and <=100000\n",
    "    5%        <=50000"
   ]
  },
  {
   "cell_type": "code",
   "execution_count": 2,
   "id": "4312b845-76fc-4148-b745-9599fef0e6e2",
   "metadata": {},
   "outputs": [
    {
     "name": "stdin",
     "output_type": "stream",
     "text": [
      "Enter the price of Bike :  5000000\n"
     ]
    },
    {
     "name": "stdout",
     "output_type": "stream",
     "text": [
      "Tax to be paid 750000.0\n"
     ]
    }
   ],
   "source": [
    "Tax = 0\n",
    "Price = int(input(\"Enter the price of Bike : \"))\n",
    "if Price>100000:\n",
    "    Tax = 15/100*Price\n",
    "elif Price>50000 and Price<=100000:\n",
    "    Tax = 10/100*Price\n",
    "else:\n",
    "    Tax = 5/100*Price\n",
    "print(\"Tax to be paid\",Tax)"
   ]
  },
  {
   "cell_type": "code",
   "execution_count": null,
   "id": "591098b8-5f05-4425-b419-9961bc6942f6",
   "metadata": {},
   "outputs": [],
   "source": [
    "3. Accept any city from the user and display monuments of that city.\n",
    "city       Monument\n",
    "Delhi      red Fort\n",
    "Agra       taj Mahal\n",
    "Jaipur     Jal Mahal"
   ]
  },
  {
   "cell_type": "code",
   "execution_count": 8,
   "id": "3d996b11-8a66-485e-8b06-24f2a277d897",
   "metadata": {},
   "outputs": [
    {
     "name": "stdin",
     "output_type": "stream",
     "text": [
      "Enter a city name:  Jaipur\n"
     ]
    },
    {
     "name": "stdout",
     "output_type": "stream",
     "text": [
      "City: Jaipur\n",
      "Monument: Jal Mahal\n"
     ]
    }
   ],
   "source": [
    "def display_monument(city):\n",
    "    monuments = {\n",
    "        'Delhi': 'Red Fort',\n",
    "        'Agra': 'Taj Mahal',\n",
    "        'Jaipur': 'Jal Mahal'\n",
    "    }\n",
    "\n",
    "    city = city.capitalize()  \n",
    "\n",
    "    if city in monuments:\n",
    "        monument = monuments[city]\n",
    "        print(f\"City: {city}\\nMonument: {monument}\")\n",
    "    else:\n",
    "        print(f\"Monument information not available for {city}.\")\n",
    "\n",
    "if __name__ == \"__main__\":\n",
    "    user_city = input(\"Enter a city name: \")\n",
    "    display_monument(user_city)\n"
   ]
  },
  {
   "cell_type": "code",
   "execution_count": 7,
   "id": "80e1b7b0-1427-443b-a707-4c7b6d9056de",
   "metadata": {},
   "outputs": [
    {
     "name": "stdin",
     "output_type": "stream",
     "text": [
      "Enter a city name:  Agra\n"
     ]
    },
    {
     "name": "stdout",
     "output_type": "stream",
     "text": [
      "City: Agra\n",
      "Monument: Taj Mahal\n"
     ]
    }
   ],
   "source": [
    "monuments = {'Delhi': 'Red Fort', 'Agra': 'Taj Mahal', 'Jaipur': 'Jal Mahal'}\n",
    "city = input(\"Enter a city name: \").capitalize()\n",
    "print(f\"City: {city}\\nMonument: {monuments.get(city, 'Information not available')}\")\n"
   ]
  },
  {
   "cell_type": "code",
   "execution_count": null,
   "id": "8d8099fe-efe3-4096-98fd-da97b12c0782",
   "metadata": {},
   "outputs": [],
   "source": [
    "4.Check how many times a given number can be divided by 3 before it is less than or equal to 10."
   ]
  },
  {
   "cell_type": "code",
   "execution_count": 10,
   "id": "e9feabac-4652-4135-aebf-f51c906c017c",
   "metadata": {},
   "outputs": [
    {
     "name": "stdin",
     "output_type": "stream",
     "text": [
      "Enter a number:  6\n"
     ]
    },
    {
     "name": "stdout",
     "output_type": "stream",
     "text": [
      "The given number can be divided by 3 0 times before it is less than or equal to 10.\n"
     ]
    }
   ],
   "source": [
    "def count_divisions_by_three(number):\n",
    "    count = 0\n",
    "\n",
    "    while number > 10:\n",
    "        number /= 3\n",
    "        count += 1\n",
    "\n",
    "    return count\n",
    "given_number = float(input(\"Enter a number: \"))\n",
    "result = count_divisions_by_three(given_number)\n",
    "print(f\"The given number can be divided by 3 {result} times before it is less than or equal to 10.\")\n"
   ]
  },
  {
   "cell_type": "code",
   "execution_count": null,
   "id": "b0ba1098-0aed-4dfc-b0e5-4e8d7ad98488",
   "metadata": {},
   "outputs": [],
   "source": [
    "5. Why and When to Use while Loop in Python give a detailed description with example"
   ]
  },
  {
   "cell_type": "code",
   "execution_count": null,
   "id": "265cb0ff-0d0e-4344-bb08-b79b0930eda3",
   "metadata": {},
   "outputs": [],
   "source": [
    "A while loop is a control flow statement which allows code to be executed repeatedly, depending on whether a condition is satisfied or not\n",
    "Example:"
   ]
  },
  {
   "cell_type": "code",
   "execution_count": 13,
   "id": "84d24853-2933-4d16-a0c6-4d82325e9ed4",
   "metadata": {},
   "outputs": [
    {
     "name": "stdout",
     "output_type": "stream",
     "text": [
      "1\n",
      "2\n",
      "3\n",
      "4\n",
      "5\n"
     ]
    }
   ],
   "source": [
    "count = 1\n",
    "\n",
    "while count <= 5:\n",
    "    print(count)\n",
    "    count += 1\n"
   ]
  },
  {
   "cell_type": "code",
   "execution_count": null,
   "id": "292ac980-3094-40d5-bcc2-20de3a431f35",
   "metadata": {},
   "outputs": [],
   "source": [
    "6. Use nested while loop to print 3 different pattern."
   ]
  },
  {
   "cell_type": "code",
   "execution_count": 14,
   "id": "cdfb05e5-d7ba-48b2-9cb6-2faf7ae4df78",
   "metadata": {},
   "outputs": [
    {
     "name": "stdout",
     "output_type": "stream",
     "text": [
      "* * * * * \n",
      "* * * * * \n",
      "* * * * * \n",
      "* * * * * \n",
      "* * * * * \n"
     ]
    }
   ],
   "source": [
    "rows = 5\n",
    "i = 1\n",
    "\n",
    "while i <= rows:\n",
    "    j = 1\n",
    "    while j <= rows:\n",
    "        print('*', end=' ')\n",
    "        j += 1\n",
    "    print()\n",
    "    i += 1\n"
   ]
  },
  {
   "cell_type": "code",
   "execution_count": 15,
   "id": "57676695-e816-4547-9ab3-eb730d68db1f",
   "metadata": {},
   "outputs": [
    {
     "name": "stdout",
     "output_type": "stream",
     "text": [
      "* \n",
      "* * \n",
      "* * * \n",
      "* * * * \n",
      "* * * * * \n"
     ]
    }
   ],
   "source": [
    "rows = 5\n",
    "i = 1\n",
    "\n",
    "while i <= rows:\n",
    "    j = 1\n",
    "    while j <= i:\n",
    "        print('*', end=' ')\n",
    "        j += 1\n",
    "    print()\n",
    "    i += 1\n"
   ]
  },
  {
   "cell_type": "code",
   "execution_count": 16,
   "id": "3ad8e52d-bebb-40d0-aaae-8a806298231d",
   "metadata": {},
   "outputs": [
    {
     "name": "stdout",
     "output_type": "stream",
     "text": [
      "* * * * * \n",
      "* * * * \n",
      "* * * \n",
      "* * \n",
      "* \n"
     ]
    }
   ],
   "source": [
    "rows = 5\n",
    "i = rows\n",
    "\n",
    "while i >= 1:\n",
    "    j = 1\n",
    "    while j <= i:\n",
    "        print('*', end=' ')\n",
    "        j += 1\n",
    "    print()\n",
    "    i -= 1\n"
   ]
  },
  {
   "cell_type": "code",
   "execution_count": null,
   "id": "560bd14b-c3f1-4e6a-a72f-da4684d62e14",
   "metadata": {},
   "outputs": [],
   "source": [
    "7. Reverse a while loop to display numbers from 10 to 1."
   ]
  },
  {
   "cell_type": "code",
   "execution_count": 17,
   "id": "e47c88bc-0b67-46d2-91cd-35dac43e1d03",
   "metadata": {},
   "outputs": [
    {
     "name": "stdout",
     "output_type": "stream",
     "text": [
      "10\n",
      "9\n",
      "8\n",
      "7\n",
      "6\n",
      "5\n",
      "4\n",
      "3\n",
      "2\n",
      "1\n"
     ]
    }
   ],
   "source": [
    "count = 10\n",
    "\n",
    "while count >= 1:\n",
    "    print(count)\n",
    "    count -= 1\n"
   ]
  },
  {
   "cell_type": "code",
   "execution_count": null,
   "id": "f9487b98-483e-4b7b-9ac6-8087ad1e53d2",
   "metadata": {},
   "outputs": [],
   "source": [
    "8.Reverse a while loop to display numbers from 10 to 1"
   ]
  },
  {
   "cell_type": "code",
   "execution_count": 18,
   "id": "7e32c44b-3e41-49cd-8ecf-f4759a0811f4",
   "metadata": {},
   "outputs": [
    {
     "name": "stdout",
     "output_type": "stream",
     "text": [
      "10\n",
      "9\n",
      "8\n",
      "7\n",
      "6\n",
      "5\n",
      "4\n",
      "3\n",
      "2\n",
      "1\n"
     ]
    }
   ],
   "source": [
    "number = 10\n",
    "\n",
    "while number >= 1:\n",
    "    print(number)\n",
    "    number -= 1\n"
   ]
  },
  {
   "cell_type": "code",
   "execution_count": null,
   "id": "e4f821fd-52e5-4151-bc96-f7bd92eed028",
   "metadata": {},
   "outputs": [],
   "source": []
  }
 ],
 "metadata": {
  "kernelspec": {
   "display_name": "Python 3 (ipykernel)",
   "language": "python",
   "name": "python3"
  },
  "language_info": {
   "codemirror_mode": {
    "name": "ipython",
    "version": 3
   },
   "file_extension": ".py",
   "mimetype": "text/x-python",
   "name": "python",
   "nbconvert_exporter": "python",
   "pygments_lexer": "ipython3",
   "version": "3.10.8"
  }
 },
 "nbformat": 4,
 "nbformat_minor": 5
}
