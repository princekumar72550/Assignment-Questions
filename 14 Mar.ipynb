{
 "cells": [
  {
   "cell_type": "code",
   "execution_count": null,
   "id": "47ad2fc2-efb2-48ac-ad39-ace6256ac8e0",
   "metadata": {},
   "outputs": [],
   "source": [
    "Q1. Write a Python function that takes in two arrays of data and calculates the F-value for a variance ratio\n",
    "test. The function should return the F-value and the corresponding p-value for the test."
   ]
  },
  {
   "cell_type": "code",
   "execution_count": 5,
   "id": "4e43dfba-7b52-4537-bdc7-9c3472e296a2",
   "metadata": {},
   "outputs": [
    {
     "name": "stdout",
     "output_type": "stream",
     "text": [
      "F-value: 1.5625\n",
      "p-value: 0.3380101855747885\n"
     ]
    }
   ],
   "source": [
    "import numpy as np\n",
    "import scipy.stats as stats\n",
    "\n",
    "def var_ratio_test(x, y):\n",
    "    var_x = np.var(x, ddof=1)\n",
    "    var_y = np.var(y, ddof=1)\n",
    "    \n",
    "    F = var_x / var_y\n",
    "    \n",
    "    df1 = len(x) - 1\n",
    "    df2 = len(y) - 1\n",
    "    \n",
    "    p = stats.f.sf(F, df1, df2)\n",
    "    \n",
    "    return F, p\n",
    "\n",
    "x = [20, 25, 30, 35, 40]\n",
    "y = [18, 22, 26, 30, 34]\n",
    "F, p = var_ratio_test(x, y)\n",
    "print(\"F-value:\", F)\n",
    "print(\"p-value:\", p)\n"
   ]
  },
  {
   "cell_type": "code",
   "execution_count": null,
   "id": "90a328f1-8c4c-4ae2-bea9-2b99a1cb0984",
   "metadata": {},
   "outputs": [],
   "source": [
    "Q2. Given a significance level of 0.05 and the degrees of freedom for the numerator and denominator of an\n",
    "F-distribution, write a Python function that returns the critical F-value for a two-tailed test."
   ]
  },
  {
   "cell_type": "code",
   "execution_count": 7,
   "id": "89c0bd02-ca37-472e-a7b4-a56cd5d2cf48",
   "metadata": {},
   "outputs": [
    {
     "name": "stdout",
     "output_type": "stream",
     "text": [
      "Critical F-value: 3.8586986662732143\n"
     ]
    }
   ],
   "source": [
    "import scipy.stats as stats\n",
    "\n",
    "def critical_f_value(alpha, df1, df2):\n",
    "    crit_f = stats.f.ppf(1 - alpha/2, df1, df2) \n",
    "    return crit_f\n",
    "\n",
    "alpha = 0.05\n",
    "df1 = 3\n",
    "df2 = 20\n",
    "crit_f = critical_f_value(alpha, df1, df2)\n",
    "print(\"Critical F-value:\", crit_f)\n"
   ]
  },
  {
   "cell_type": "code",
   "execution_count": null,
   "id": "592101a2-9640-4564-a9c1-e544a96b5abc",
   "metadata": {},
   "outputs": [],
   "source": [
    "Q3. Write a Python program that generates random samples from two normal distributions with known\n",
    "variances and uses an F-test to determine if the variances are equal. The program should output the Fvalue, degrees of freedom, and p-value for the test."
   ]
  },
  {
   "cell_type": "code",
   "execution_count": 8,
   "id": "7eeb6ccc-7f66-4aad-b6b9-0e7b94e3f1ff",
   "metadata": {},
   "outputs": [
    {
     "name": "stdout",
     "output_type": "stream",
     "text": [
      "F-value: 1.0\n",
      "Degrees of freedom (numerator): 29\n",
      "Degrees of freedom (denominator): 29\n",
      "p-value: 0.5\n"
     ]
    }
   ],
   "source": [
    "import numpy as np\n",
    "from scipy.stats import f\n",
    "\n",
    "def f_test_variance_equal(sample1, sample2, var1, var2):\n",
    "   \n",
    "    f_value = var1 / var2\n",
    "\n",
    "    df1 = len(sample1) - 1\n",
    "    df2 = len(sample2) - 1\n",
    "\n",
    "    p_value = f.cdf(f_value, df1, df2)\n",
    "\n",
    "    return f_value, df1, df2, p_value\n",
    "\n",
    "sample1 = np.random.normal(loc=50, scale=10, size=30)  \n",
    "sample2 = np.random.normal(loc=55, scale=10, size=30)  \n",
    "var1 = 100 \n",
    "var2 = 100 \n",
    "f_value, df1, df2, p_value = f_test_variance_equal(sample1, sample2, var1, var2)\n",
    "print(\"F-value:\", f_value)\n",
    "print(\"Degrees of freedom (numerator):\", df1)\n",
    "print(\"Degrees of freedom (denominator):\", df2)\n",
    "print(\"p-value:\", p_value)\n"
   ]
  },
  {
   "cell_type": "code",
   "execution_count": null,
   "id": "f56ac302-fb1a-41f6-a13a-11c5c5808cb2",
   "metadata": {},
   "outputs": [],
   "source": [
    "Q4.The variances of two populations are known to be 10 and 15. A sample of 12 observations is taken from\n",
    "each population. Conduct an F-test at the 5% significance level to determine if the variances are\n",
    "significantly different."
   ]
  },
  {
   "cell_type": "code",
   "execution_count": 9,
   "id": "334be54b-704e-4367-8ef7-05b2bd93810d",
   "metadata": {},
   "outputs": [
    {
     "name": "stdout",
     "output_type": "stream",
     "text": [
      "F-value: 0.6666666666666666\n",
      "Degrees of freedom (numerator): 11\n",
      "Degrees of freedom (denominator): 11\n",
      "p-value: 0.2561948993678998\n",
      "Null hypothesis rejected: False\n"
     ]
    }
   ],
   "source": [
    "from scipy.stats import f\n",
    "\n",
    "def f_test_variance_equal(var1, var2, n1, n2, alpha=0.05):\n",
    "    \n",
    "    f_value = var1 / var2\n",
    "    \n",
    "    df1 = n1 - 1\n",
    "    df2 = n2 - 1\n",
    "    \n",
    "    p_value = f.cdf(f_value, df1, df2)\n",
    "    \n",
    "    reject_null = p_value < alpha\n",
    "    \n",
    "    return f_value, df1, df2, p_value, reject_null\n",
    "\n",
    "var1 = 10\n",
    "var2 = 15\n",
    "n1 = 12\n",
    "n2 = 12\n",
    "\n",
    "f_value, df1, df2, p_value, reject_null = f_test_variance_equal(var1, var2, n1, n2)\n",
    "\n",
    "print(\"F-value:\", f_value)\n",
    "print(\"Degrees of freedom (numerator):\", df1)\n",
    "print(\"Degrees of freedom (denominator):\", df2)\n",
    "print(\"p-value:\", p_value)\n",
    "print(\"Null hypothesis rejected:\", reject_null)\n"
   ]
  },
  {
   "cell_type": "code",
   "execution_count": null,
   "id": "c6fb8a6b-0bd1-4114-b68b-8487a25acf76",
   "metadata": {},
   "outputs": [],
   "source": [
    "Q5. A manufacturer claims that the variance of the diameter of a certain product is 0.005. A sample of 25\n",
    "products is taken, and the sample variance is found to be 0.006. Conduct an F-test at the 1% significance\n",
    "level to determine if the claim is justified."
   ]
  },
  {
   "cell_type": "code",
   "execution_count": 10,
   "id": "a54f6625-e2a6-4096-9ae6-5ccebe03bc47",
   "metadata": {},
   "outputs": [
    {
     "name": "stdout",
     "output_type": "stream",
     "text": [
      "F-value: 1.2\n",
      "Degrees of freedom (numerator): 24\n",
      "Degrees of freedom (denominator): 1\n",
      "p-value: 0.3703900380040642\n",
      "Null hypothesis rejected: False\n"
     ]
    }
   ],
   "source": [
    "from scipy.stats import f\n",
    "\n",
    "def f_test_variance_equal(claimed_variance, sample_variance, n, alpha=0.01):\n",
    "   \n",
    "    f_value = sample_variance / claimed_variance\n",
    "    \n",
    "    df1 = n - 1\n",
    "    df2 = 1  \n",
    "    \n",
    "    p_value = f.cdf(f_value, df1, df2)\n",
    "    \n",
    "    reject_null = p_value < alpha\n",
    "    \n",
    "    return f_value, df1, df2, p_value, reject_null\n",
    "\n",
    "claimed_variance = 0.005\n",
    "sample_variance = 0.006\n",
    "n = 25\n",
    "\n",
    "f_value, df1, df2, p_value, reject_null = f_test_variance_equal(claimed_variance, sample_variance, n)\n",
    "\n",
    "print(\"F-value:\", f_value)\n",
    "print(\"Degrees of freedom (numerator):\", df1)\n",
    "print(\"Degrees of freedom (denominator):\", df2)\n",
    "print(\"p-value:\", p_value)\n",
    "print(\"Null hypothesis rejected:\", reject_null)\n"
   ]
  },
  {
   "cell_type": "code",
   "execution_count": null,
   "id": "1a115f60-e10f-4f14-ae12-b7a1bfb63702",
   "metadata": {},
   "outputs": [],
   "source": [
    "Q6. Write a Python function that takes in the degrees of freedom for the numerator and denominator of an\n",
    "F-distribution and calculates the mean and variance of the distribution. The function should return the\n",
    "mean and variance as a tuple."
   ]
  },
  {
   "cell_type": "code",
   "execution_count": 12,
   "id": "f92daf58-a152-4b67-959e-84cf8ce6d32e",
   "metadata": {},
   "outputs": [
    {
     "name": "stdout",
     "output_type": "stream",
     "text": [
      "Mean of F-distribution: 1.25\n",
      "Variance of F-distribution: 1.3541666666666667\n"
     ]
    }
   ],
   "source": [
    "def f_distribution_mean_variance(df1, df2):\n",
    "   \n",
    "    if df2 > 2:\n",
    "        mean = df2 / (df2 - 2)\n",
    "    else:\n",
    "        mean = None  \n",
    "    \n",
    "    if df2 > 4:\n",
    "        variance = (2 * df2 ** 2 * (df1 + df2 - 2)) / (df1 * (df2 - 2) ** 2 * (df2 - 4))\n",
    "    else:\n",
    "        variance = None  \n",
    "    \n",
    "    return mean, variance\n",
    "\n",
    "df1 = 5\n",
    "df2 = 10\n",
    "mean, variance = f_distribution_mean_variance(df1, df2)\n",
    "print(\"Mean of F-distribution:\", mean)\n",
    "print(\"Variance of F-distribution:\", variance)\n"
   ]
  },
  {
   "cell_type": "code",
   "execution_count": null,
   "id": "8d7b5e08-052a-429f-b466-49db8cb16e9f",
   "metadata": {},
   "outputs": [],
   "source": [
    "Q7. A random sample of 10 measurements is taken from a normal population with unknown variance. The\n",
    "sample variance is found to be 25. Another random sample of 15 measurements is taken from another\n",
    "normal population with unknown variance, and the sample variance is found to be 20. Conduct an F-test\n",
    "at the 10% significance level to determine if the variances are significantly different."
   ]
  },
  {
   "cell_type": "code",
   "execution_count": 13,
   "id": "36b9f2b0-59cf-4176-8f18-04b8fd3ea2da",
   "metadata": {},
   "outputs": [
    {
     "name": "stdout",
     "output_type": "stream",
     "text": [
      "F-value: 1.25\n",
      "Degrees of freedom (numerator): 9\n",
      "Degrees of freedom (denominator): 14\n",
      "p-value: 0.6583902808707023\n",
      "Null hypothesis rejected: False\n"
     ]
    }
   ],
   "source": [
    "from scipy.stats import f\n",
    "\n",
    "def f_test_variance_equal(sample_variance1, sample_variance2, n1, n2, alpha=0.1):\n",
    "   \n",
    "    f_value = sample_variance1 / sample_variance2\n",
    "    \n",
    "    df1 = n1 - 1\n",
    "    df2 = n2 - 1\n",
    "    \n",
    "    p_value = f.cdf(f_value, df1, df2)\n",
    "    \n",
    "    reject_null = p_value < alpha\n",
    "    \n",
    "    return f_value, df1, df2, p_value, reject_null\n",
    "\n",
    "sample_variance1 = 25\n",
    "sample_variance2 = 20\n",
    "n1 = 10\n",
    "n2 = 15\n",
    "\n",
    "f_value, df1, df2, p_value, reject_null = f_test_variance_equal(sample_variance1, sample_variance2, n1, n2)\n",
    "\n",
    "print(\"F-value:\", f_value)\n",
    "print(\"Degrees of freedom (numerator):\", df1)\n",
    "print(\"Degrees of freedom (denominator):\", df2)\n",
    "print(\"p-value:\", p_value)\n",
    "print(\"Null hypothesis rejected:\", reject_null)\n"
   ]
  },
  {
   "cell_type": "code",
   "execution_count": null,
   "id": "807c6699-9773-4cc1-8616-0b8f7e6b470a",
   "metadata": {},
   "outputs": [],
   "source": [
    "Q8. The following data represent the waiting times in minutes at two different restaurants on a Saturday\n",
    "night: Restaurant A: 24, 25, 28, 23, 22, 20, 27; Restaurant B: 31, 33, 35, 30, 32, 36. Conduct an F-test at the 5%\n",
    "significance level to determine if the variances are significantly different."
   ]
  },
  {
   "cell_type": "code",
   "execution_count": 15,
   "id": "3a830587-fdcc-4d13-ace2-82565216308e",
   "metadata": {},
   "outputs": [
    {
     "name": "stdout",
     "output_type": "stream",
     "text": [
      "F-statistic: 1.4551907719609583\n",
      "p-value: 0.34874078739687414\n"
     ]
    }
   ],
   "source": [
    "import numpy as np\n",
    "import scipy.stats as stats\n",
    "\n",
    "A = np.array([24, 25, 28, 23, 22, 20, 27])\n",
    "B = np.array([31, 33, 35, 30, 32, 36])\n",
    "\n",
    "F = A.var(ddof=1) / B.var(ddof=1)\n",
    "\n",
    "dfn = len(A) - 1\n",
    "dfd = len(B) - 1 \n",
    "\n",
    "p = stats.f.sf(F, dfn, dfd)\n",
    "\n",
    "print('F-statistic:', F)\n",
    "print('p-value:', p)\n"
   ]
  },
  {
   "cell_type": "code",
   "execution_count": null,
   "id": "eb6bb6e0-73a8-412c-993c-9403c619cb38",
   "metadata": {},
   "outputs": [],
   "source": [
    "Q9. The following data represent the test scores of two groups of students: Group A: 80, 85, 90, 92, 87, 83;\n",
    "Group B: 75, 78, 82, 79, 81, 84. Conduct an F-test at the 1% significance level to determine if the variances\n",
    "are significantly different."
   ]
  },
  {
   "cell_type": "code",
   "execution_count": 16,
   "id": "213504cb-ed83-4b02-9ac6-e061c28708da",
   "metadata": {},
   "outputs": [
    {
     "name": "stdout",
     "output_type": "stream",
     "text": [
      "F-statistic: 1.9442622950819677\n",
      "p-value: 0.2415521774535344\n"
     ]
    }
   ],
   "source": [
    "import numpy as np\n",
    "import scipy.stats as stats\n",
    "\n",
    "A = np.array([80, 85, 90, 92, 87, 83])\n",
    "B = np.array([75, 78, 82, 79, 81, 84])\n",
    "\n",
    "F = A.var(ddof=1) / B.var(ddof=1)\n",
    "\n",
    "dfn = len(A) - 1\n",
    "dfd = len(B) - 1 \n",
    "\n",
    "p = stats.f.sf(F, dfn, dfd)\n",
    "\n",
    "print('F-statistic:', F)\n",
    "print('p-value:', p)\n"
   ]
  },
  {
   "cell_type": "code",
   "execution_count": null,
   "id": "d9d2b50f-2cec-40da-b2f3-3022a72575a4",
   "metadata": {},
   "outputs": [],
   "source": []
  }
 ],
 "metadata": {
  "kernelspec": {
   "display_name": "Python 3 (ipykernel)",
   "language": "python",
   "name": "python3"
  },
  "language_info": {
   "codemirror_mode": {
    "name": "ipython",
    "version": 3
   },
   "file_extension": ".py",
   "mimetype": "text/x-python",
   "name": "python",
   "nbconvert_exporter": "python",
   "pygments_lexer": "ipython3",
   "version": "3.10.8"
  }
 },
 "nbformat": 4,
 "nbformat_minor": 5
}
