{
 "cells": [
  {
   "cell_type": "code",
   "execution_count": null,
   "id": "fcad541c-de9c-4d36-a7d9-f99daedc60fe",
   "metadata": {},
   "outputs": [],
   "source": [
    "Q1. Which function is used to open a file? What are the different modes of opening a file? Explain each mode of file opening."
   ]
  },
  {
   "cell_type": "code",
   "execution_count": null,
   "id": "a454b15b-da4e-4f10-aa5d-4915c0c5a4be",
   "metadata": {},
   "outputs": [],
   "source": [
    "The open() function opens a file.\n",
    "Read Mode ('r'):\n",
    "Write Mode ('w'):\n",
    "Append Mode ('a')\n",
    "Text Read Mode ('rt' or just 'r'):"
   ]
  },
  {
   "cell_type": "code",
   "execution_count": null,
   "id": "12f40ba7-3a2b-4a00-b083-2cac584b8c88",
   "metadata": {},
   "outputs": [],
   "source": [
    "Read Mode ('r'):\n",
    "\n",
    "Opens the file for reading.\n",
    "The file pointer is placed at the beginning of the file.\n",
    "If the file doesn't exist, a FileNotFoundError is raised.\n",
    "\n",
    "Write Mode ('w'):\n",
    "\n",
    "Opens the file for writing.\n",
    "If the file already exists, it truncates the file to zero length.\n",
    "If the file doesn't exist, it creates a new file.\n",
    "\n",
    "Append Mode ('a'):\n",
    "\n",
    "Opens the file for writing, but appends to the end of the file instead of truncating it.\n",
    "If the file doesn't exist, it creates a new file.\n",
    "\n",
    "Text Read Mode ('rt' or just 'r'):\n",
    "\n",
    "Opens the file for reading in text mode.\n",
    "This is the default mode if no mode is specified.\n",
    "\n",
    "Text Write Mode ('wt' or just 'w'):\n",
    "\n",
    "Opens the file for writing in text mode."
   ]
  },
  {
   "cell_type": "code",
   "execution_count": null,
   "id": "2422c6e4-758e-4659-9767-33794132ce71",
   "metadata": {},
   "outputs": [],
   "source": [
    "Q2. Why close() function is used? Why is it important to close a file?"
   ]
  },
  {
   "cell_type": "code",
   "execution_count": null,
   "id": "6c4e54a4-4592-4907-b729-9b2ec366f350",
   "metadata": {},
   "outputs": [],
   "source": [
    "The close() method closes an open file.\n",
    "\n",
    "You should always close your files, in some cases, due to buffering, changes made to a file may not show until you close the file."
   ]
  },
  {
   "cell_type": "code",
   "execution_count": null,
   "id": "18ec1291-6d62-43ce-8aaf-daffdfe7b340",
   "metadata": {},
   "outputs": [],
   "source": [
    "Q3. Write a python program to create a text file. Write ‘I want to become a Data Scientist’ in that file. Then \n",
    "close the file. Open this file and read the content of the file. "
   ]
  },
  {
   "cell_type": "code",
   "execution_count": 3,
   "id": "23a1cdab-bf11-4398-802a-07d3ace11093",
   "metadata": {},
   "outputs": [
    {
     "name": "stdout",
     "output_type": "stream",
     "text": [
      "Woops! I have deleted the content!\n"
     ]
    }
   ],
   "source": [
    "f = open(\"demofile3.txt\", \"w\")\n",
    "f.write(\"Woops! I have deleted the content!\")\n",
    "f.close()\n",
    "\n",
    "f = open(\"demofile3.txt\", \"r\")\n",
    "print(f.read())"
   ]
  },
  {
   "cell_type": "code",
   "execution_count": 5,
   "id": "87e6fbed-44ad-4def-af05-77e83e960b95",
   "metadata": {},
   "outputs": [
    {
     "name": "stdout",
     "output_type": "stream",
     "text": [
      "Content of the file \"example.txt\":\n",
      "\n",
      "I want to become a Data Scientist.\n",
      "I want to become a Data Scientist.\n"
     ]
    }
   ],
   "source": [
    "file_name = 'example.txt'\n",
    "\n",
    "with open(file_name, 'a') as file:\n",
    "    file.write('\\nI want to become a Data Scientist.')\n",
    "with open(file_name, 'r') as file:\n",
    "    file_content = file.read()\n",
    "print(f'Content of the file \"{file_name}\":\\n{file_content}')\n"
   ]
  },
  {
   "cell_type": "code",
   "execution_count": null,
   "id": "e9bd5fea-0c30-4d15-a6f7-092e9eb71c29",
   "metadata": {},
   "outputs": [],
   "source": [
    "Q4. Explain the following with python code: read(), readline() and readlines()."
   ]
  },
  {
   "cell_type": "code",
   "execution_count": null,
   "id": "8badc6e9-39d6-4c87-9259-2a25aa0824ed",
   "metadata": {},
   "outputs": [],
   "source": [
    "read:\n",
    "    with open('example.txt', 'r') as file:\n",
    "    content = file.read()\n",
    "    print(content)\n",
    "readline:\n",
    "    with open('example.txt', 'r') as file:\n",
    "    line1 = file.readline()\n",
    "    line2 = file.readline()\n",
    "    print(f'Line 1: {line1}')\n",
    "    print(f'Line 2: {line2}')\n",
    "\n",
    "readlines:\n",
    "    with open('example.txt', 'r') as file:\n",
    "    lines = file.readlines()\n",
    "    for line in lines:\n",
    "        print(line)\n"
   ]
  },
  {
   "cell_type": "code",
   "execution_count": null,
   "id": "fbe652b9-ebed-499d-8890-ca57612d0882",
   "metadata": {},
   "outputs": [],
   "source": [
    "Q5. Explain why with statement is used with open(). What is the advantage of using with statement and \n",
    "open() together?"
   ]
  },
  {
   "cell_type": "code",
   "execution_count": null,
   "id": "93c421bf-5b43-4a68-b822-8e9654bd5ae6",
   "metadata": {},
   "outputs": [],
   "source": [
    "Opening files using the with statement is generally recommended because it ensures that open file descriptors are automatically \n",
    "closed after the flow of execution leaves the with code block."
   ]
  },
  {
   "cell_type": "code",
   "execution_count": null,
   "id": "1ebfb998-4b55-42b0-bc82-90bd7cebfe41",
   "metadata": {},
   "outputs": [],
   "source": [
    "advantage:\n",
    "    Automatic Resource Management (ARMS)\n",
    "    Simpler Syntax\n",
    "    Exception Handling\n",
    "    "
   ]
  },
  {
   "cell_type": "code",
   "execution_count": null,
   "id": "c7f374c9-09a7-4809-a1ff-51989b35848d",
   "metadata": {},
   "outputs": [],
   "source": [
    "Q6. Explain the write() and writelines() functions. Give a suitable example."
   ]
  },
  {
   "cell_type": "code",
   "execution_count": 6,
   "id": "5a381492-c297-4f22-b0bc-9f6f768ac14a",
   "metadata": {},
   "outputs": [],
   "source": [
    "with open(\"example.txt\", \"w\") as file:\n",
    "    file.write(\"This is an example text file.\")"
   ]
  },
  {
   "cell_type": "code",
   "execution_count": null,
   "id": "1134419d-f9bf-451a-8180-24484745fec3",
   "metadata": {},
   "outputs": [],
   "source": [
    "with open(\"example.txt\", \"w\") as file:\n",
    "    lines = [\"This is line 1.\", \"This is line 2.\", \"This is line 3.\"]\n",
    "    file.writelines(lines)\n"
   ]
  }
 ],
 "metadata": {
  "kernelspec": {
   "display_name": "Python 3 (ipykernel)",
   "language": "python",
   "name": "python3"
  },
  "language_info": {
   "codemirror_mode": {
    "name": "ipython",
    "version": 3
   },
   "file_extension": ".py",
   "mimetype": "text/x-python",
   "name": "python",
   "nbconvert_exporter": "python",
   "pygments_lexer": "ipython3",
   "version": "3.10.8"
  }
 },
 "nbformat": 4,
 "nbformat_minor": 5
}
