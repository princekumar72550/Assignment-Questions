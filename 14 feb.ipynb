{
 "cells": [
  {
   "cell_type": "code",
   "execution_count": null,
   "id": "05838569-5c48-4f94-bf27-439901918214",
   "metadata": {},
   "outputs": [],
   "source": [
    "Q1. What is multithreading in python? Why is it used? Name the module used to handle threads in python."
   ]
  },
  {
   "cell_type": "code",
   "execution_count": null,
   "id": "2ff89ad4-3711-4ac6-9a03-1c02c8383157",
   "metadata": {},
   "outputs": [],
   "source": [
    "Multithreading is defined as the ability of a processor to execute multiple threads concurrently. In a simple, single-core CPU,\n",
    "it is achieved using frequent switching between threads.\n",
    "\n",
    "Python multithreading enables efficient utilization of the resources as the threads share the data space and memory.\n",
    "\n",
    "Threading Modules"
   ]
  },
  {
   "cell_type": "code",
   "execution_count": null,
   "id": "41560d22-eed4-41b2-b0d2-dd3a853a7ab9",
   "metadata": {},
   "outputs": [],
   "source": [
    "Q2. Why threading module used? Write the use of the following functions\u001d",
    "\n",
    "\u0018 activeCount()\n",
    "\u0016 currentThread()\n",
    "\f",
    " enumerate()"
   ]
  },
  {
   "cell_type": "code",
   "execution_count": null,
   "id": "7a453b1b-fd94-45b2-bb27-05de34e232ed",
   "metadata": {},
   "outputs": [],
   "source": [
    "Python threading allows you to have different parts of your program run concurrently and can simplify your design\n",
    "\n",
    "1.activeCount() Function:\n",
    "    The activeCount() function is used to return the number of Thread objects currently alive. A Thread object represents a thread of execution in your program. \n",
    "    This function can be helpful in determining how many threads are currently running.\n",
    "2.currentThread() Function:\n",
    "    The currentThread() function returns the current Thread object, corresponding to the caller's thread of control. This function is useful when you need to obtain \n",
    "information about the thread from within the thread itself.\n",
    "\n",
    "3.enumerate() Function:\n",
    "    The enumerate() function returns a list of all Thread objects currently alive. Each item in the list is a Thread object. This function is useful for obtaining a list of all active threads, especially when you need to inspect or manipulate them."
   ]
  },
  {
   "cell_type": "code",
   "execution_count": null,
   "id": "a7c885fc-442a-443e-ad3b-642f5b8f525f",
   "metadata": {},
   "outputs": [],
   "source": [
    "Q3. Explain the following functions\u001d",
    "\n",
    "\u0018 run()\n",
    "\u0018 start()\n",
    "\u0018 join()\n",
    "\u0018 isAlive()"
   ]
  },
  {
   "cell_type": "code",
   "execution_count": null,
   "id": "769d1f60-601c-416d-ae23-5654c1e7fb0a",
   "metadata": {},
   "outputs": [],
   "source": [
    "1.run() Method:\n",
    "The run() method is a method of the Thread class that represents the code to be executed when a thread is started. When a Thread object is created,\n",
    "you can either pass a target function to the constructor or subclass the Thread class and override the run method with the code you want to execute in the new thread.\n",
    "\n",
    "2.start() Method:\n",
    "The start() method is used to initiate the execution of a thread. It starts a new thread and calls the run() method in that new thread. \n",
    "If the run() method is not overridden in a subclass, the start() method does nothing.\n",
    "\n",
    "3.join() Method:\n",
    "The join() method is used to wait for a thread to complete its execution before proceeding with the rest of the program.\n",
    "When a thread is joined, the program will block until the thread being joined has finished.\n",
    "\n",
    "4.isAlive() Method:\n",
    "The isAlive() method is used to check whether a thread is currently executing or has completed its execution. \n",
    "It returns True if the thread is alive (still running) and False if the thread has finished."
   ]
  },
  {
   "cell_type": "code",
   "execution_count": null,
   "id": "6b1ff9a8-854b-4653-87fd-849d16d4ac42",
   "metadata": {},
   "outputs": [],
   "source": [
    "Q4.  Write a python program to create two threads. Thread one must print the list of squares and thread \n",
    "two must print the list of cubes."
   ]
  },
  {
   "cell_type": "code",
   "execution_count": 1,
   "id": "8a77435b-6a5c-4309-b2ba-af0d8fe68050",
   "metadata": {},
   "outputs": [
    {
     "name": "stdout",
     "output_type": "stream",
     "text": [
      "1^2 = 1\n",
      "2^2 = 4\n",
      "3^2 = 9\n",
      "4^2 = 16\n",
      "5^2 = 25\n",
      "6^2 = 36\n",
      "7^2 = 49\n",
      "8^2 = 64\n",
      "9^2 = 81\n",
      "10^2 = 100\n",
      "1^3 = 1\n",
      "2^3 = 8\n",
      "3^3 = 27\n",
      "4^3 = 64\n",
      "5^3 = 125\n",
      "6^3 = 216\n",
      "7^3 = 343\n",
      "8^3 = 512\n",
      "9^3 = 729\n",
      "10^3 = 1000\n"
     ]
    }
   ],
   "source": [
    "import threading\n",
    "\n",
    "def print_squares():\n",
    "    for i in range(1, 11):\n",
    "        print(f\"{i}^2 = {i**2}\")\n",
    "\n",
    "def print_cubes():\n",
    "    for i in range(1, 11):\n",
    "        print(f\"{i}^3 = {i**3}\")\n",
    "\n",
    "t1 = threading.Thread(target=print_squares)\n",
    "t2 = threading.Thread(target=print_cubes)\n",
    "\n",
    "t1.start()\n",
    "t2.start()\n",
    "\n",
    "t1.join()\n",
    "t2.join()"
   ]
  },
  {
   "cell_type": "code",
   "execution_count": null,
   "id": "6d0a8cb0-d57e-41b1-a48e-5ec553e647fd",
   "metadata": {},
   "outputs": [],
   "source": [
    "Q5. State advantages and disadvantages of multithreading."
   ]
  },
  {
   "cell_type": "code",
   "execution_count": null,
   "id": "d783c113-743d-4d6a-a83e-28287888d3c3",
   "metadata": {},
   "outputs": [],
   "source": [
    "Advantages:\n",
    "Improves resource utilization\n",
    "Increases responsiveness\n",
    "Enables concurrent processing\n",
    "Reduces idle computer time\n",
    "Better system throughput\n",
    "\n",
    "Disadvantages:\n",
    "Complex debugging\n",
    "Higher resource consumption\n",
    "Increased synchronization complexity\n",
    "Potential for thread interference\n",
    "Difficulty in timing predictability"
   ]
  },
  {
   "cell_type": "code",
   "execution_count": null,
   "id": "142db8cf-3691-429a-8ece-01c7cbfb9701",
   "metadata": {},
   "outputs": [],
   "source": [
    "Q6. Explain deadlocks and race conditions."
   ]
  },
  {
   "cell_type": "code",
   "execution_count": null,
   "id": "33af7e9b-9796-46b0-a400-1abf7324d5bf",
   "metadata": {},
   "outputs": [],
   "source": [
    "\n",
    "Deadlocks:\n",
    "A deadlock is a situation in which two computer programs sharing the same resource are effectively preventing each\n",
    "other from accessing the resource, resulting in both programs ceasing to function.\n",
    "\n",
    "race conditions:\n",
    "A race condition occurs when two or more threads can access shared data and they try to change it at the same time."
   ]
  },
  {
   "cell_type": "code",
   "execution_count": null,
   "id": "8301bc18-833a-4975-80ad-a6ab69580303",
   "metadata": {},
   "outputs": [],
   "source": []
  },
  {
   "cell_type": "code",
   "execution_count": null,
   "id": "92c228f7-e8a8-41c4-b499-67e42cb05f10",
   "metadata": {},
   "outputs": [],
   "source": []
  },
  {
   "cell_type": "code",
   "execution_count": null,
   "id": "b037d305-9808-407a-a1b7-989c83d5164e",
   "metadata": {},
   "outputs": [],
   "source": []
  },
  {
   "cell_type": "code",
   "execution_count": null,
   "id": "2b71b752-b7a3-4118-9954-a6589863936b",
   "metadata": {},
   "outputs": [],
   "source": []
  }
 ],
 "metadata": {
  "kernelspec": {
   "display_name": "Python 3 (ipykernel)",
   "language": "python",
   "name": "python3"
  },
  "language_info": {
   "codemirror_mode": {
    "name": "ipython",
    "version": 3
   },
   "file_extension": ".py",
   "mimetype": "text/x-python",
   "name": "python",
   "nbconvert_exporter": "python",
   "pygments_lexer": "ipython3",
   "version": "3.10.8"
  }
 },
 "nbformat": 4,
 "nbformat_minor": 5
}
