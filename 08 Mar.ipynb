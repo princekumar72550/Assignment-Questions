{
 "cells": [
  {
   "cell_type": "code",
   "execution_count": null,
   "id": "70112f62-ca2b-4e3d-afcd-194079ec2056",
   "metadata": {},
   "outputs": [],
   "source": [
    "Q1. What is the Probability density function?"
   ]
  },
  {
   "cell_type": "code",
   "execution_count": null,
   "id": "dd489efc-6ae3-4e37-b607-062a1de1cf33",
   "metadata": {},
   "outputs": [],
   "source": [
    "a probability density function (PDF) is used to define the random variable's probability coming within a distinct range of values, as opposed to taking on any one value. "
   ]
  },
  {
   "cell_type": "code",
   "execution_count": null,
   "id": "ede19c96-def0-4324-a6dc-38f46cbc0a26",
   "metadata": {},
   "outputs": [],
   "source": [
    "Q2. What are the types of Probability distribution?"
   ]
  },
  {
   "cell_type": "code",
   "execution_count": null,
   "id": "5087f7f2-1992-40b5-82ff-2ead4934c9ae",
   "metadata": {},
   "outputs": [],
   "source": [
    "There are two types of probability distributions:\n",
    "*Discrete probability distributions.\n",
    "*Continuous probability distributions.\n"
   ]
  },
  {
   "cell_type": "code",
   "execution_count": null,
   "id": "4b644c93-6e39-4739-b03d-603d6eba05ae",
   "metadata": {},
   "outputs": [],
   "source": [
    "Q3. Write a Python function to calculate the probability density function of a normal distribution with\n",
    "given mean and standard deviation at a given point."
   ]
  },
  {
   "cell_type": "code",
   "execution_count": 2,
   "id": "ecc3518e-fe34-48b1-82a8-709e896a2851",
   "metadata": {},
   "outputs": [
    {
     "name": "stdout",
     "output_type": "stream",
     "text": [
      "The PDF at 1 is: 0.24197072451914337\n"
     ]
    }
   ],
   "source": [
    "import math\n",
    "\n",
    "def normal_pdf(x, mean, std_dev):\n",
    "    coefficient = 1 / (math.sqrt(2 * math.pi) * std_dev)\n",
    "    exponent = -((x - mean) ** 2) / (2 * std_dev ** 2)\n",
    "    pdf_value = coefficient * math.exp(exponent)\n",
    "    return pdf_value\n",
    "\n",
    "mean_value = 0\n",
    "std_dev_value = 1\n",
    "point_to_calculate = 1\n",
    "\n",
    "pdf_result = normal_pdf(point_to_calculate, mean_value, std_dev_value)\n",
    "print(f\"The PDF at {point_to_calculate} is: {pdf_result}\")\n"
   ]
  },
  {
   "cell_type": "code",
   "execution_count": null,
   "id": "4dd4c401-681f-43b4-9ce4-b20bb97988b4",
   "metadata": {},
   "outputs": [],
   "source": [
    "Q4. What are the properties of Binomial distribution? Give two examples of events where binomial\n",
    "distribution can be applied."
   ]
  },
  {
   "cell_type": "code",
   "execution_count": null,
   "id": "edd2f3fe-7a6c-440c-bd17-9348cff8db66",
   "metadata": {},
   "outputs": [],
   "source": [
    "The binomial distribution is a discrete probability distribution that describes the number of successes in a \n",
    "fixed number of independent Bernoulli trials, where each trial has only two possible outcomes (success or failure)."
   ]
  },
  {
   "cell_type": "code",
   "execution_count": null,
   "id": "0759e9b6-18cf-44b1-a192-32f275ef0ccd",
   "metadata": {},
   "outputs": [],
   "source": [
    "Examples\n",
    "\n",
    "Coin Tosses:\n",
    "Example: Tossing a fair coin (where \"heads\" is success and \"tails\" is failure) 10 times and counting the number of heads."
   ]
  },
  {
   "cell_type": "code",
   "execution_count": null,
   "id": "258ae52c-7744-4b60-9e9c-9b5dd28e6d67",
   "metadata": {},
   "outputs": [],
   "source": [
    "Q5. Generate a random sample of size 1000 from a binomial distribution with probability of success 0.4\n",
    "and plot a histogram of the results using matplotlib."
   ]
  },
  {
   "cell_type": "code",
   "execution_count": 6,
   "id": "a47378e2-6c9f-4279-9941-29f46a9876d6",
   "metadata": {},
   "outputs": [
    {
     "data": {
      "image/png": "[encoded data removed]",
      "text/plain": [
       "<Figure size 640x480 with 1 Axes>"
      ]
     },
     "metadata": {},
     "output_type": "display_data"
    }
   ],
   "source": [
    "import numpy as np\n",
    "import matplotlib.pyplot as plt\n",
    "\n",
    "np.random.seed(42)\n",
    "\n",
    "sample_size = 1000\n",
    "probability_of_success = 0.4\n",
    "random_sample = np.random.binomial(n=1, p=probability_of_success, size=sample_size)\n",
    "\n",
    "plt.hist(random_sample, bins=[-0.5, 0.5, 1.5], edgecolor='black')\n",
    "plt.title(f'Binomial Distribution (n=1, p={probability_of_success}) - Random Sample of Size {sample_size}')\n",
    "plt.xlabel('Outcome')\n",
    "plt.ylabel('Frequency')\n",
    "plt.xticks([0, 1], ['Failure', 'Success'])\n",
    "plt.show()\n"
   ]
  },
  {
   "cell_type": "code",
   "execution_count": null,
   "id": "391f31f6-b9ba-40b0-987c-622cf42fc233",
   "metadata": {},
   "outputs": [],
   "source": [
    "Q6. Write a Python function to calculate the cumulative distribution function of a Poisson distribution\n",
    "with given mean at a given point."
   ]
  },
  {
   "cell_type": "code",
   "execution_count": 7,
   "id": "90c1508a-bbd9-433a-acaf-7e83c91c65a5",
   "metadata": {},
   "outputs": [
    {
     "name": "stdout",
     "output_type": "stream",
     "text": [
      "The CDF at 3 is: 0.7575761331330659\n"
     ]
    }
   ],
   "source": [
    "import math\n",
    "\n",
    "def poisson_cdf(k, mean):\n",
    "   \n",
    "    cdf_value = 0\n",
    "    for i in range(k + 1):\n",
    "        cdf_value += math.exp(-mean) * (mean ** i) / math.factorial(i)\n",
    "    return cdf_value\n",
    "\n",
    "mean_value = 2.5\n",
    "point_to_calculate = 3\n",
    "\n",
    "cdf_result = poisson_cdf(point_to_calculate, mean_value)\n",
    "print(f\"The CDF at {point_to_calculate} is: {cdf_result}\")\n"
   ]
  },
  {
   "cell_type": "code",
   "execution_count": null,
   "id": "881ddce9-7524-4045-a531-0f46c5521dc1",
   "metadata": {},
   "outputs": [],
   "source": [
    "Q7. How Binomial distribution different from Poisson distribution?"
   ]
  },
  {
   "cell_type": "code",
   "execution_count": null,
   "id": "66ece4a7-62d3-492c-b3dd-c903a0f2b409",
   "metadata": {},
   "outputs": [],
   "source": [
    "Binomial distribution describes the distribution of binary data from a finite sample. Thus it gives the probability of getting r\n",
    "events out of n trials. Poisson distribution describes the distribution of binary data from an infinite sample. Thus it gives \n",
    "the probability of getting r events in a population."
   ]
  },
  {
   "cell_type": "code",
   "execution_count": null,
   "id": "51986ac2-feed-441c-8b3c-ae826c8aac63",
   "metadata": {},
   "outputs": [],
   "source": [
    "Q8. Generate a random sample of size 1000 from a Poisson distribution with mean 5 and calculate the\n",
    "sample mean and variance."
   ]
  },
  {
   "cell_type": "code",
   "execution_count": 8,
   "id": "693d15de-3c1a-4862-930b-5d3a4525aef7",
   "metadata": {},
   "outputs": [
    {
     "name": "stdout",
     "output_type": "stream",
     "text": [
      "Sample Mean: 4.985\n",
      "Sample Variance: 4.9967749999999995\n"
     ]
    }
   ],
   "source": [
    "import numpy as np\n",
    "\n",
    "np.random.seed(42)\n",
    "\n",
    "sample_size = 1000\n",
    "mean_value = 5\n",
    "random_sample = np.random.poisson(lam=mean_value, size=sample_size)\n",
    "\n",
    "sample_mean = np.mean(random_sample)\n",
    "sample_variance = np.var(random_sample)\n",
    "print(\"Sample Mean:\", sample_mean)\n",
    "print(\"Sample Variance:\", sample_variance)\n"
   ]
  },
  {
   "cell_type": "code",
   "execution_count": null,
   "id": "cf4ea243-d37e-4901-9c24-7ce469178f60",
   "metadata": {},
   "outputs": [],
   "source": [
    "Q9. How mean and variance are related in Binomial distribution and Poisson distribution?"
   ]
  },
  {
   "cell_type": "code",
   "execution_count": null,
   "id": "6ddee324-8754-4450-bab7-72217e683b34",
   "metadata": {},
   "outputs": [],
   "source": [
    "In a binomial distribution, there are only two possible outcomes, i.e. success or failure. Conversely, there are an unlimited number of possible outcomes in the case of poisson distribution.\n",
    "In binomial distribution Mean > Variance while in poisson distribution mean = variance."
   ]
  },
  {
   "cell_type": "code",
   "execution_count": null,
   "id": "c51e147e-7c0f-4354-872d-6a74c0ab62a7",
   "metadata": {},
   "outputs": [],
   "source": [
    "Q10. In normal distribution with respect to mean position, where does the least frequent data appear?"
   ]
  },
  {
   "cell_type": "code",
   "execution_count": null,
   "id": "96c4fe3b-9a3f-43d7-adca-6a8f2407891f",
   "metadata": {},
   "outputs": [],
   "source": [
    "Center:\n",
    "\n",
    "The mean (μ) is the central point of the distribution.\n",
    "The highest frequency of data points occurs at the mean.\n",
    "\n",
    "Tails:As you move away from the mean in either direction, the frequency of data points decreases.\n",
    "The tails of the distribution, in the extreme ends, contain the least frequent data.\n",
    "Standard Deviation:\n",
    "\n",
    "The standard deviation (σ) determines the spread of the distribution.\n",
    "The larger the standard deviation, the wider the distribution, and the data is spread out over a larger range."
   ]
  },
  {
   "cell_type": "code",
   "execution_count": null,
   "id": "ff503bba-dc70-4315-b3f7-1e8fe00d8eb0",
   "metadata": {},
   "outputs": [],
   "source": []
  },
  {
   "cell_type": "code",
   "execution_count": null,
   "id": "b18bb21e-1906-4e6e-81c7-1dcba1879e12",
   "metadata": {},
   "outputs": [],
   "source": []
  }
 ],
 "metadata": {
  "kernelspec": {
   "display_name": "Python 3 (ipykernel)",
   "language": "python",
   "name": "python3"
  },
  "language_info": {
   "codemirror_mode": {
    "name": "ipython",
    "version": 3
   },
   "file_extension": ".py",
   "mimetype": "text/x-python",
   "name": "python",
   "nbconvert_exporter": "python",
   "pygments_lexer": "ipython3",
   "version": "3.10.8"
  }
 },
 "nbformat": 4,
 "nbformat_minor": 5
}
