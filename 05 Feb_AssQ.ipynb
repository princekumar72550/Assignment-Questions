{
 "cells": [
  {
   "cell_type": "code",
   "execution_count": null,
   "id": "2d40e336-3ba0-4cdc-8673-b78073f46bc6",
   "metadata": {},
   "outputs": [],
   "source": [
    "Q1. Explain Class and Object with respect to Object-Oriented Programming. Give a suitable example."
   ]
  },
  {
   "cell_type": "code",
   "execution_count": null,
   "id": "e9679045-580d-4b7d-9294-b45b84938371",
   "metadata": {},
   "outputs": [],
   "source": [
    "Class :a blueprint for objects In object-oriented programming, a class is a template definition of the methods and variables in a particular kind of object.\n",
    "Thus, an object is a specific instance of a class; it contains real values instead of variables.\n",
    "The class is one of the defining ideas of object-oriented programming\n",
    "#class is similar type of object\n",
    "\n",
    "Object : The object is an entity that has a state and behavior associated with it. It may be any real-world object like a mouse, keyboard,\n",
    "chair, table, pen, etc. Integers, strings, floating-point numbers, even arrays, and dictionaries, are all objects. More specifically, any \n",
    "single integer or any single string is an object"
   ]
  },
  {
   "cell_type": "code",
   "execution_count": 8,
   "id": "532e5cf8-fa86-40ea-b49f-f3e15758ab6f",
   "metadata": {},
   "outputs": [],
   "source": [
    "class pw :\n",
    "    def welcome_msg(self):\n",
    "        print(\"welcome to pw\")"
   ]
  },
  {
   "cell_type": "code",
   "execution_count": 9,
   "id": "028f9c63-9f49-43c7-aaa7-2d28b999cc38",
   "metadata": {},
   "outputs": [],
   "source": [
    "prince = pw()"
   ]
  },
  {
   "cell_type": "code",
   "execution_count": 10,
   "id": "db6a5a36-c5b9-419c-be0f-35ecd49dcab3",
   "metadata": {},
   "outputs": [
    {
     "name": "stdout",
     "output_type": "stream",
     "text": [
      "welcome to pw\n"
     ]
    }
   ],
   "source": [
    "prince.welcome_msg()"
   ]
  },
  {
   "cell_type": "code",
   "execution_count": 14,
   "id": "bc25fd46-5285-4079-a5d5-bdf5878039ca",
   "metadata": {},
   "outputs": [
    {
     "name": "stdout",
     "output_type": "stream",
     "text": [
      "Prince E\n"
     ]
    }
   ],
   "source": [
    "class pwskills_Student :\n",
    "    pass\n",
    "Prince = pwskills_Student()\n",
    "Omprakash = pwskills_Student()\n",
    "\n",
    "Prince.Name=\"Prince\"\n",
    "Prince.Class =\"B.Tech\"\n",
    "Omprakash.Name = \"Om\"\n",
    "Omprakash.Sec= \"E\"\n",
    "print(Prince.Name , Omprakash.Sec)"
   ]
  },
  {
   "cell_type": "code",
   "execution_count": null,
   "id": "1da9b78c-7fc2-49fd-93b3-c8f16905aa48",
   "metadata": {},
   "outputs": [],
   "source": [
    "Q2. Name the four pillars of OOPs."
   ]
  },
  {
   "cell_type": "code",
   "execution_count": null,
   "id": "efa04e2f-1c73-4c50-95a8-08908d9b822e",
   "metadata": {},
   "outputs": [],
   "source": [
    "1.Abstraction : Abstraction means displaying only the useful information to the user and hiding the details from the user.\n",
    "2.Data encapsulation : Data encapsulation is done to protect data from outside interference.\n",
    "3.lnheritance : Inheritence is the property of an object to acquire or all features of other object .\n",
    "4.Polymorphism : polymorphism is the provision of a single interface to entities of different types or the use of a single symbol to\n",
    "                 represent multiple different types"
   ]
  },
  {
   "cell_type": "code",
   "execution_count": null,
   "id": "e88cf273-95a7-4210-b027-d8e936e614b7",
   "metadata": {},
   "outputs": [],
   "source": [
    "Q3. Explain why the __init__() function is used. Give a suitable example."
   ]
  },
  {
   "cell_type": "code",
   "execution_count": null,
   "id": "e899b753-e8e8-4b30-a1b8-166d7aeeae1d",
   "metadata": {},
   "outputs": [],
   "source": [
    "The __init__ function is called every time an object is created from a class. The __init__ method lets the class initialize the\n",
    "object's attributes and serves no other purpose. It is only used within classe"
   ]
  },
  {
   "cell_type": "code",
   "execution_count": null,
   "id": "e28ba260-05bc-490b-8d8c-31e90dd68ffa",
   "metadata": {},
   "outputs": [],
   "source": [
    "class Person:\n",
    "\n",
    "\tdef __init__(self, name):\n",
    "\t\tself.name = name\n",
    "\n",
    "\tdef say_hi(self):\n",
    "\t\tprint('Hello, my name is', self.name)\n",
    "p = Person('Prince')\n",
    "p.say_hi()"
   ]
  },
  {
   "cell_type": "code",
   "execution_count": null,
   "id": "9aaca6dd-e421-4458-87b4-dd097058e99a",
   "metadata": {},
   "outputs": [],
   "source": [
    "Q4. Why self is used in OOPs?\n"
   ]
  },
  {
   "cell_type": "code",
   "execution_count": null,
   "id": "38375cf1-21eb-4a1d-872e-d04fbc78de96",
   "metadata": {},
   "outputs": [],
   "source": [
    "The self variable is used to represent the instance of the class which is often used in object-oriented programming.\n",
    "It works as a reference to the object. Python uses the self parameter to refer to instance attributes and methods of the class."
   ]
  },
  {
   "cell_type": "code",
   "execution_count": null,
   "id": "97acd879-247b-4881-92c0-fce142445df8",
   "metadata": {},
   "outputs": [],
   "source": [
    "Q5. What is inheritance? Give an example for each type of inheritance.\n",
    "\n",
    "  Inheritance allows us to define a class that inherits all the methods and properties from another class.\n",
    "\n",
    "  *Parent class is the class being inherited from, also called base class.\n",
    "  *Child class is the class that inherits from another class, also called derived class."
   ]
  },
  {
   "cell_type": "code",
   "execution_count": null,
   "id": "7ff9587b-c0ae-4c83-8cbd-310e082ad74b",
   "metadata": {},
   "outputs": [],
   "source": [
    "Single Inheritance: \n",
    "Single inheritance enables a derived class to inherit properties from a single parent class, thus enabling code reusability and the addition of new features to existing code."
   ]
  },
  {
   "cell_type": "code",
   "execution_count": 1,
   "id": "1b4b18d1-1a18-4ed9-9146-f28f7668e3c3",
   "metadata": {},
   "outputs": [
    {
     "name": "stdout",
     "output_type": "stream",
     "text": [
      "This function is in parent class.\n",
      "This function is in child class.\n"
     ]
    }
   ],
   "source": [
    "class Parent:\n",
    "\tdef func1(self):\n",
    "\t\tprint(\"This function is in parent class.\")\n",
    "\n",
    "class Child(Parent):\n",
    "\tdef func2(self):\n",
    "\t\tprint(\"This function is in child class.\")\n",
    "\n",
    "object = Child()\n",
    "object.func1()\n",
    "object.func2()\n"
   ]
  },
  {
   "cell_type": "code",
   "execution_count": null,
   "id": "68441c31-ea1d-4f5a-8cc9-2df5cb5f5905",
   "metadata": {},
   "outputs": [],
   "source": [
    "Multiple Inheritance: \n",
    "When a class can be derived from more than one base class this type of inheritance is called multiple inheritances. In multiple inheritances,\n",
    "all the features of the base classes are inherited into the derived class. "
   ]
  },
  {
   "cell_type": "code",
   "execution_count": 2,
   "id": "227c1407-5f84-48dc-a348-bb70dd66197d",
   "metadata": {},
   "outputs": [
    {
     "name": "stdout",
     "output_type": "stream",
     "text": [
      "Father : RAM\n",
      "Mother : SITA\n"
     ]
    }
   ],
   "source": [
    "class Mother:\n",
    "\tmothername = \"\"\n",
    "\n",
    "\tdef mother(self):\n",
    "\t\tprint(self.mothername)\n",
    "class Father:\n",
    "\tfathername = \"\"\n",
    "\n",
    "\tdef father(self):\n",
    "\t\tprint(self.fathername)\n",
    "\n",
    "class Son(Mother, Father):\n",
    "\tdef parents(self):\n",
    "\t\tprint(\"Father :\", self.fathername)\n",
    "\t\tprint(\"Mother :\", self.mothername)\n",
    "\n",
    "s1 = Son()\n",
    "s1.fathername = \"RAM\"\n",
    "s1.mothername = \"SITA\"\n",
    "s1.parents()\n"
   ]
  },
  {
   "cell_type": "code",
   "execution_count": null,
   "id": "63c7864f-4348-4d09-a3c3-0d6049f1d14f",
   "metadata": {},
   "outputs": [],
   "source": []
  }
 ],
 "metadata": {
  "kernelspec": {
   "display_name": "Python 3 (ipykernel)",
   "language": "python",
   "name": "python3"
  },
  "language_info": {
   "codemirror_mode": {
    "name": "ipython",
    "version": 3
   },
   "file_extension": ".py",
   "mimetype": "text/x-python",
   "name": "python",
   "nbconvert_exporter": "python",
   "pygments_lexer": "ipython3",
   "version": "3.10.8"
  }
 },
 "nbformat": 4,
 "nbformat_minor": 5
}
