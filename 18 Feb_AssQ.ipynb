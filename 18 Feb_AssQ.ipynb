{
 "cells": [
  {
   "cell_type": "code",
   "execution_count": null,
   "id": "f4bc6a7e-e8fd-4c36-8c00-9979c7887503",
   "metadata": {},
   "outputs": [],
   "source": [
    "Q1. What is an API? Give an example, where an API is used in real life."
   ]
  },
  {
   "cell_type": "code",
   "execution_count": null,
   "id": "c3946e60-efff-4a21-9a8e-036ab1102b65",
   "metadata": {},
   "outputs": [],
   "source": [
    "API stands for application programming interface, which is a set of definitions and protocols for building and integrating application software.\n",
    "\n",
    "* APIs are used to deliver material by streaming services such as Spotify and Netflix. APIs are used by automakers such as Tesla to provide\n",
    "software upgrades."
   ]
  },
  {
   "cell_type": "code",
   "execution_count": null,
   "id": "f232b3e2-4c04-4c1a-b1dc-431d0cc55e45",
   "metadata": {},
   "outputs": [],
   "source": [
    "Q2. Give advantages and disadvantages of using API."
   ]
  },
  {
   "cell_type": "code",
   "execution_count": null,
   "id": "3e53b2a8-d0cd-4db7-a945-ddbcb26fb7df",
   "metadata": {},
   "outputs": [],
   "source": [
    "*Advantages:\n",
    "  Increased Interoperability: API solutions enable different software systems to communicate with each other, regardless of their programming language\n",
    "                             or platform. This enhances the interoperability between systems, allowing for the exchange of data and functionality.\n",
    "  Improved Efficiency: API driven infrastructures enable developers to reuse code and functionality from existing software systems, saving time and \n",
    "                        reducing the amount of code that needs to be written from scratch.\n",
    "  Better User Experience: APIs can enable third-party developers to create applications that integrate with existing software systems, providing \n",
    "                        a better user experience and increased functionality.\n",
    "  Increased Flexibility: APIs provide developers with greater flexibility, enabling them to choose the best programming languages and frameworks \n",
    "                        for their needs.\n",
    "  New Revenue Streams: APIs can enable companies to create new revenue streams by providing third-party developers with access to their software \n",
    "                       systems.\n",
    "*Disadvantages:\n",
    "  Security Concerns: API infrastructures can be vulnerable to security breaches, such as SQL injection attacks and cross-site scripting (XSS) attacks,\n",
    "                    making it crucial to implement security measures to protect against these threats.\n",
    "  Complexity: APIs can be complex, requiring a significant amount of development effort to implement and maintain.\n",
    "  Compatibility Issues: APIs can have compatibility issues between different versions of the same software system or between different systems, \n",
    "                      which can lead to errors and system failures.\n",
    "  Dependency on Third-Party Developers: APIs rely on third-party developers to create applications that integrate with the software system. This can \n",
    "                                       create dependencies that are outside of the control of the company that owns the software system.\n",
    "  Governance and Management: APIs require proper governance and management to ensure they are being used correctly and consistently across different \n",
    "                          applications and systems.  "
   ]
  },
  {
   "cell_type": "code",
   "execution_count": null,
   "id": "6d89c5bc-4a51-4f1e-8489-5e52d6ebd28e",
   "metadata": {},
   "outputs": [],
   "source": [
    "Q3. What is a Web API? Differentiate between API and Web API."
   ]
  },
  {
   "cell_type": "code",
   "execution_count": null,
   "id": "11d9126b-ec1c-4d97-a8b2-96fae5018fc1",
   "metadata": {},
   "outputs": [],
   "source": [
    "API stands for Application Programming Interface. API is actually some kind of interface which is having a set of functions. \n",
    "These set of functions will allow programmers to acquire some specific features or the data of an application."
   ]
  },
  {
   "cell_type": "code",
   "execution_count": null,
   "id": "8c2a4ccb-75e9-48b1-b18e-af3463b53e19",
   "metadata": {},
   "outputs": [],
   "source": [
    "Web Services\n",
    "*Web services are a type of API, which must be accessed through a network connection.\n",
    "*Web service is used for REST, SOAP and XML-RPC for communication.\n",
    "*All Web services are APIs.\n",
    "*It provides supports only for the HTTP protocol.\n",
    "*Web service supports only XML."
   ]
  },
  {
   "cell_type": "code",
   "execution_count": null,
   "id": "1f61f8e2-df3b-4fc7-acb3-3c0a029f1b55",
   "metadata": {},
   "outputs": [],
   "source": [
    "Web API\n",
    "*APIs are application interfaces, implying that one application can communicate with another application in a standardized manner.\n",
    "*API is used for any style of communication.\n",
    "*APIs are not web services.\n",
    "*It provides support for the HTTP/s protocol\n",
    "*API supports XML and JSON."
   ]
  },
  {
   "cell_type": "code",
   "execution_count": null,
   "id": "11ffb370-8495-45cd-a4ed-ccd38f02f9af",
   "metadata": {},
   "outputs": [],
   "source": [
    "Q4. Explain REST and SOAP Architecture. Mention shortcomings of SOAP."
   ]
  },
  {
   "cell_type": "code",
   "execution_count": null,
   "id": "dda63749-1e09-4e15-a0ea-27faa98dc6fe",
   "metadata": {},
   "outputs": [],
   "source": [
    "*REST stands for REpresentational State Transfer and API stands for Application Program Interface. REST is a software architectural style that defines\n",
    "the set of rules to be used for creating web services. Web services which follow the REST architectural style are known as RESTful web services. \n",
    "It allows requesting systems to access and manipulate web resources by using a uniform and predefined set of rules. Interaction in REST based systems\n",
    "happen through Internet’s Hypertext Transfer Protocol (HTTP). \n",
    "\n",
    "*SOAP is a protocol for the exchange of information in a distributed environment. SOAP messages are encoded as XML documents and can be exchanged using\n",
    "various underlying protocols."
   ]
  },
  {
   "cell_type": "code",
   "execution_count": null,
   "id": "a4388c6f-4857-4c8c-933a-29ea554bff46",
   "metadata": {},
   "outputs": [],
   "source": [
    "Q5. Differentiate between REST and SOAP."
   ]
  },
  {
   "cell_type": "code",
   "execution_count": null,
   "id": "61ddd533-d9cf-4a0a-a7cb-8ef025f3efc3",
   "metadata": {},
   "outputs": [],
   "source": [
    "SOAP\n",
    "*SOAP stands for Simple Object Access Protocol\n",
    "*SOAP cannot make use of REST since SOAP is a protocol and REST is an architectural pattern.\n",
    "*SOAP can only work with XML format. As seen from SOAP messages, all data passed is in XML format.\n",
    "\n",
    "REST\n",
    "*REST stands for Representational State Transfer\n",
    "*REST can make use of SOAP as the underlying protocol for web services, because in the end it is just an architectural pattern.\n",
    "*REST permits different data format such as Plain text, HTML, XML, JSON, etc. But the most preferred format for transferring data is JSON."
   ]
  }
 ],
 "metadata": {
  "kernelspec": {
   "display_name": "Python 3 (ipykernel)",
   "language": "python",
   "name": "python3"
  },
  "language_info": {
   "codemirror_mode": {
    "name": "ipython",
    "version": 3
   },
   "file_extension": ".py",
   "mimetype": "text/x-python",
   "name": "python",
   "nbconvert_exporter": "python",
   "pygments_lexer": "ipython3",
   "version": "3.10.8"
  }
 },
 "nbformat": 4,
 "nbformat_minor": 5
}
