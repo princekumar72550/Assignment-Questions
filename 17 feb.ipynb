{
 "cells": [
  {
   "cell_type": "code",
   "execution_count": null,
   "id": "51224d22-b62d-419d-8f78-12f0f2132b21",
   "metadata": {},
   "outputs": [],
   "source": [
    "Q1. What is MongoDB? Explain non-relational databases in short. In which scenarios it is preferred to use \n",
    "MongoDB over SQL databases?"
   ]
  },
  {
   "cell_type": "code",
   "execution_count": null,
   "id": "db261f4f-111a-4ed1-ad04-f4b1de4e0568",
   "metadata": {},
   "outputs": [],
   "source": [
    "MongoDB is a document database designed for ease of application development and scaling.\n",
    "\n",
    "Non-relational databases\n",
    "Non-relational databases (often called NoSQL databases) are different from traditional relational \n",
    "databases in that they store their data in a non-tabular form. Instead, non-relational databases might be \n",
    "based on data structures like documents. A document can be highly detailed while containing a range of\n",
    "different types of information in different formats. This ability to digest and organize various types of \n",
    "information side by side makes non-relational databases much more flexible than relational databases."
   ]
  },
  {
   "cell_type": "code",
   "execution_count": null,
   "id": "060b61b1-dd0d-4371-bb49-574cac7b2892",
   "metadata": {},
   "outputs": [],
   "source": [
    "Schema Flexibility:\n",
    "    MongoDB is a document-oriented NoSQL database, which means it stores data in flexible, JSON-like BSON documents. This flexibility is advantageous when dealing with data that doesn't fit neatly into a rigid, tabular structure. If your application requires a schema-less or semi-structured data model, MongoDB can be a good choice.\n",
    "    \n",
    "Scalability and Performance:\n",
    "    MongoDB is designed to scale horizontally, making it easier to handle large amounts of data and traffic by adding more servers to a database cluster. This can be beneficial in scenarios where scalability is a critical requirement.\n",
    "Development Speed:\n",
    "    For certain types of applications, particularly those with rapidly changing requirements and development needs, MongoDB's document-oriented nature can accelerate the development process."
   ]
  },
  {
   "cell_type": "code",
   "execution_count": null,
   "id": "f11825ea-1e1a-4ad6-b4d4-7fcc4060d647",
   "metadata": {},
   "outputs": [],
   "source": [
    "Q2. State and Explain the features of MongoDB."
   ]
  },
  {
   "cell_type": "code",
   "execution_count": null,
   "id": "791dec95-8eb0-4758-a4a8-4160cb690409",
   "metadata": {},
   "outputs": [],
   "source": [
    "Schema-less Database: It is the great feature provided by the MongoDB. A Schema-less database means one collection can hold different types of documents in it. Or in other words, in the MongoDB database, a single collection can hold multiple documents and these documents may consist of the different numbers of fields, content, and size. It is not necessary that the one document is similar to another document like in the relational databases. Due to this cool feature, MongoDB provides great flexibility to databases.\n",
    "Document Oriented: In MongoDB, all the data stored in the documents instead of tables like in RDBMS. In these documents, the data is stored in fields(key-value pair) instead of rows and columns which make the data much more flexible in comparison to RDBMS. And each document contains its unique object id.\n",
    "Indexing: In MongoDB database, every field in the documents is indexed with primary and secondary indices this makes easier and takes less time to get or search data from the pool of the data. If the data is not indexed, then database search each document with the specified query which takes lots of time and not so efficient.\n",
    "Scalability: MongoDB provides horizontal scalability with the help of sharding. Sharding means to distribute data on multiple servers, here a large amount of data is partitioned into data chunks using the shard key, and these data chunks are evenly distributed across shards that reside across many physical servers. It will also add new machines to a running database.\n",
    "Replication: MongoDB provides high availability and redundancy with the help of replication, it creates multiple copies of the data and sends these copies to a different server so that if one server fails, then the data is retrieved from another server.\n",
    "Aggregation: It allows to perform operations on the grouped data and get a single result or computed result. It is similar to the SQL GROUPBY clause. It provides three different aggregations i.e, aggregation pipeline, map-reduce function, and single-purpose aggregation methods\n",
    "High Performance: The performance of MongoDB is very high and data persistence as compared to another database due to its features like scalability, indexing, replication, etc."
   ]
  },
  {
   "cell_type": "code",
   "execution_count": null,
   "id": "6fc18d76-6fcd-4ec4-9bbe-01f717e6b45b",
   "metadata": {},
   "outputs": [],
   "source": [
    "Q3. Write a code to connect MongoDB to Python. Also, create a database and a collection in MongoDB."
   ]
  },
  {
   "cell_type": "code",
   "execution_count": 1,
   "id": "60a42dba-b70d-4293-9cce-495095f8ae40",
   "metadata": {},
   "outputs": [
    {
     "name": "stdout",
     "output_type": "stream",
     "text": [
      "Collecting pymongo\n",
      "  Downloading pymongo-4.6.1-cp310-cp310-manylinux_2_17_x86_64.manylinux2014_x86_64.whl (677 kB)\n",
      "\u001b[2K     \u001b[90m━━━━━━━━━━━━━━━━━━━━━━━━━━━━━━━━━━━━━━\u001b[0m \u001b[32m677.1/677.1 kB\u001b[0m \u001b[31m16.7 MB/s\u001b[0m eta \u001b[36m0:00:00\u001b[0m00:01\u001b[0m\n",
      "\u001b[?25hCollecting dnspython<3.0.0,>=1.16.0\n",
      "  Downloading dnspython-2.4.2-py3-none-any.whl (300 kB)\n",
      "\u001b[2K     \u001b[90m━━━━━━━━━━━━━━━━━━━━━━━━━━━━━━━━━━━━━━\u001b[0m \u001b[32m300.4/300.4 kB\u001b[0m \u001b[31m13.0 MB/s\u001b[0m eta \u001b[36m0:00:00\u001b[0m\n",
      "\u001b[?25hInstalling collected packages: dnspython, pymongo\n",
      "Successfully installed dnspython-2.4.2 pymongo-4.6.1\n",
      "Note: you may need to restart the kernel to use updated packages.\n"
     ]
    }
   ],
   "source": [
    "pip install pymongo"
   ]
  },
  {
   "cell_type": "code",
   "execution_count": null,
   "id": "cd635ab4-48ba-46d1-bd6a-afc06b7c346c",
   "metadata": {},
   "outputs": [],
   "source": [
    "import pymongo\n",
    "\n",
    "\n",
    "mongo_uri = \"mongodb+srv://<username>:<password>@<your-cluster-url>/<your-database-name>?retryWrites=true&w=majority\"\n",
    "\n",
    "client = pymongo.MongoClient(mongo_uri)\n",
    "database_name = \"<your-database-name>\"\n",
    "db = client[database_name]\n",
    "\n",
    "collection_name = \"<your-collection-name>\"\n",
    "collection = db[collection_name]\n",
    "document = {\"name\": \"John Doe\", \"age\": 30, \"city\": \"Example City\"}\n",
    "result = collection.insert_one(document)\n",
    "\n",
    "print(\"Inserted document ID:\", result.inserted_id)\n",
    "\n",
    "client.close()\n"
   ]
  },
  {
   "cell_type": "code",
   "execution_count": null,
   "id": "13f5826d-ad0a-4bbb-88c8-09a38b287cdb",
   "metadata": {},
   "outputs": [],
   "source": [
    "Q4. Using the database and the collection created in question number 3, write a code to insert one record, \n",
    "and insert many records. Use the find() and find_one() methods to print the inserted record."
   ]
  },
  {
   "cell_type": "code",
   "execution_count": null,
   "id": "9f27e3a0-9961-47c7-9b91-0f9b21e286ce",
   "metadata": {},
   "outputs": [],
   "source": [
    "import pymongo\n",
    "\n",
    "mongo_uri = \"mongodb+srv://<username>:<password>@<your-cluster-url>/<your-database-name>?retryWrites=true&w=majority\"\n",
    "\n",
    "client = pymongo.MongoClient(mongo_uri)\n",
    "\n",
    "database_name = \"<your-database-name>\"\n",
    "db = client[database_name]\n",
    "\n",
    "collection_name = \"<your-collection-name>\"\n",
    "collection = db[collection_name]\n",
    "\n",
    "one_record = {\"name\": \"Jane Doe\", \"age\": 25, \"city\": \"Sample City\"}\n",
    "result_one = collection.insert_one(one_record)\n",
    "\n",
    "many_records = [\n",
    "    {\"name\": \"Alice\", \"age\": 28, \"city\": \"Wonderland\"},\n",
    "    {\"name\": \"Bob\", \"age\": 35, \"city\": \"Bobsville\"},\n",
    "    {\"name\": \"Charlie\", \"age\": 22, \"city\": \"Charlietown\"}\n",
    "]\n",
    "result_many = collection.insert_many(many_records)\n",
    "\n",
    "print(\"Inserted One Record ID:\", result_one.inserted_id)\n",
    "print(\"Inserted Many Records IDs:\", result_many.inserted_ids)\n",
    "\n",
    "print(\"\\nFind One Record:\")\n",
    "found_one_record = collection.find_one({\"_id\": result_one.inserted_id})\n",
    "print(found_one_record)\n",
    "\n",
    "print(\"\\nFind All Records:\")\n",
    "all_records = collection.find()\n",
    "for record in all_records:\n",
    "    print(record)\n",
    "\n",
    "client.close()\n"
   ]
  },
  {
   "cell_type": "code",
   "execution_count": null,
   "id": "e1383e41-e641-414b-877f-8cbeb93779c0",
   "metadata": {},
   "outputs": [],
   "source": [
    "Q5. Explain how you can use the find() method to query the MongoDB database. Write a simple code to \n",
    "demonstrate this."
   ]
  },
  {
   "cell_type": "code",
   "execution_count": null,
   "id": "773514f5-7f1c-4229-a084-1f113818f8c4",
   "metadata": {},
   "outputs": [],
   "source": [
    "Filter (Query Criteria): The first parameter of the find() method is a document that specifies the criteria for matching documents. It defines the conditions that documents must satisfy to be included in the result.\n",
    "\n",
    "Projection (Optional): The second parameter of the find() method is optional and is used to specify which fields should be included or excluded from the result set.\n",
    "\n",
    "Other Options (Optional): Additional options, such as sorting, limiting the number of returned documents, skipping a certain number of documents, etc., can be specified using additional parameters."
   ]
  },
  {
   "cell_type": "code",
   "execution_count": null,
   "id": "ed954aec-e210-4aaf-bd12-23b429c94cc8",
   "metadata": {},
   "outputs": [],
   "source": [
    "import pymongo\n",
    "\n",
    "mongo_uri = \"mongodb+srv://<username>:<password>@<your-cluster-url>/<your-database-name>?retryWrites=true&w=majority\"\n",
    "\n",
    "# Connect to MongoDB\n",
    "client = pymongo.MongoClient(mongo_uri)\n",
    "\n",
    "# Access the database \n",
    "database_name = \"<your-database-name>\"\n",
    "db = client[database_name]\n",
    "\n",
    "# Access the collection\n",
    "collection_name = \"<your-collection-name>\"\n",
    "collection = db[collection_name]\n",
    "sample_data = [\n",
    "    {\"name\": \"John\", \"age\": 30, \"city\": \"New York\"},\n",
    "    {\"name\": \"Alice\", \"age\": 25, \"city\": \"San Francisco\"},\n",
    "    {\"name\": \"Bob\", \"age\": 35, \"city\": \"Los Angeles\"},\n",
    "    {\"name\": \"Charlie\", \"age\": 22, \"city\": \"Chicago\"}\n",
    "]\n",
    "collection.insert_many(sample_data)\n",
    "\n",
    "query_criteria = {\"age\": {\"$gte\": 30}}  \n",
    "projection = {\"_id\": 0, \"name\": 1, \"age\": 1}  \n",
    "\n",
    "result = collection.find(query_criteria, projection)\n",
    "\n",
    "print(\"Query Result:\")\n",
    "for document in result:\n",
    "    print(document)\n",
    "\n",
    "client.close()\n"
   ]
  },
  {
   "cell_type": "code",
   "execution_count": null,
   "id": "1354faf0-c3e0-46ba-a4a6-8c9ecbacf5bb",
   "metadata": {},
   "outputs": [],
   "source": [
    "Q6. Explain the sort() method. Give an example to demonstrate sorting in MongoDB."
   ]
  },
  {
   "cell_type": "code",
   "execution_count": null,
   "id": "4264aa63-0f25-4039-9c47-4b5dc341a658",
   "metadata": {},
   "outputs": [],
   "source": [
    "Sort Keys: A document that specifies the fields by which the result should be sorted. The keys are the field names, and the values are the sorting order "
   ]
  },
  {
   "cell_type": "code",
   "execution_count": null,
   "id": "a9648379-4bf7-4c48-b431-9538c1822459",
   "metadata": {},
   "outputs": [],
   "source": [
    "import pymongo\n",
    "\n",
    "mongo_uri = \"mongodb+srv://<username>:<password>@<your-cluster-url>/<your-database-name>?retryWrites=true&w=majority\"\n",
    "\n",
    "client = pymongo.MongoClient(mongo_uri)\n",
    "\n",
    "database_name = \"<your-database-name>\"\n",
    "db = client[database_name]\n",
    "\n",
    "collection_name = \"<your-collection-name>\"\n",
    "collection = db[collection_name]\n",
    "\n",
    "sample_data = [\n",
    "    {\"name\": \"John\", \"age\": 30, \"city\": \"New York\"},\n",
    "    {\"name\": \"Alice\", \"age\": 25, \"city\": \"San Francisco\"},\n",
    "    {\"name\": \"Bob\", \"age\": 35, \"city\": \"Los Angeles\"},\n",
    "    {\"name\": \"Charlie\", \"age\": 22, \"city\": \"Chicago\"}\n",
    "]\n",
    "collection.insert_many(sample_data)\n",
    "sort_criteria = {\"age\": 1} \n",
    "result = collection.find().sort(sort_criteria)\n",
    "\n",
    "print(\"Sorted Result (Ascending by Age):\")\n",
    "for document in result:\n",
    "    print(document)\n",
    "client.close()\n"
   ]
  },
  {
   "cell_type": "code",
   "execution_count": null,
   "id": "f5aadca2-9ba5-4fd5-b917-0088ce2fe784",
   "metadata": {},
   "outputs": [],
   "source": [
    "Q7. Explain why delete_one(), delete_many(), and drop() is used."
   ]
  },
  {
   "cell_type": "code",
   "execution_count": null,
   "id": "e7ff0e99-e7f9-41aa-af50-08bf5c4a416c",
   "metadata": {},
   "outputs": [],
   "source": [
    "delete_one() Method:\n",
    "Purpose: This method is used to delete a single document from a collection that matches a specified filter or criteria.\n",
    "Syntax: delete_one(filter, collation=None, session=None)\n",
    "\n",
    "delete_many() Method:\n",
    "Purpose: This method is used to delete multiple documents from a collection that match a specified filter or criteria.\n",
    "Syntax: delete_many(filter, collation=None, session=None)\n",
    "\n",
    "drop() Method:\n",
    "Purpose: This method is used to remove an entire collection from the database. It effectively deletes all documents and the collection itself.\n",
    "Syntax: drop(index=None, session=None)"
   ]
  }
 ],
 "metadata": {
  "kernelspec": {
   "display_name": "Python 3 (ipykernel)",
   "language": "python",
   "name": "python3"
  },
  "language_info": {
   "codemirror_mode": {
    "name": "ipython",
    "version": 3
   },
   "file_extension": ".py",
   "mimetype": "text/x-python",
   "name": "python",
   "nbconvert_exporter": "python",
   "pygments_lexer": "ipython3",
   "version": "3.10.8"
  }
 },
 "nbformat": 4,
 "nbformat_minor": 5
}
