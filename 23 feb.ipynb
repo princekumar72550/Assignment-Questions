{
 "cells": [
  {
   "cell_type": "code",
   "execution_count": null,
   "id": "b1c25026-faa1-48ed-a87f-cbdd40bac057",
   "metadata": {},
   "outputs": [],
   "source": [
    "Q1. Create a Pandas Series that contains the following data: 4, 8, 15, 16, 23, and 42. Then, print the series."
   ]
  },
  {
   "cell_type": "code",
   "execution_count": 1,
   "id": "d6456d74-e12f-491f-b210-eeae3cbe96c0",
   "metadata": {},
   "outputs": [
    {
     "name": "stdout",
     "output_type": "stream",
     "text": [
      "0     4\n",
      "1     8\n",
      "2    15\n",
      "3    16\n",
      "4    23\n",
      "5    42\n",
      "dtype: int64\n"
     ]
    }
   ],
   "source": [
    "import pandas as pd\n",
    "\n",
    "data = [4, 8, 15, 16, 23, 42]\n",
    "my_series = pd.Series(data)\n",
    "\n",
    "print(my_series)\n"
   ]
  },
  {
   "cell_type": "code",
   "execution_count": null,
   "id": "a01ac25e-79f8-4b58-a01a-834533dd143d",
   "metadata": {},
   "outputs": [],
   "source": [
    "Q2. Create a variable of list type containing 10 elements in it, and apply pandas.Series function on the \n",
    "variable print it"
   ]
  },
  {
   "cell_type": "code",
   "execution_count": 3,
   "id": "9cedfc4e-c678-476b-abfd-935439122031",
   "metadata": {},
   "outputs": [
    {
     "name": "stdout",
     "output_type": "stream",
     "text": [
      "0     1\n",
      "1     2\n",
      "2     3\n",
      "3     4\n",
      "4     5\n",
      "5     6\n",
      "6     7\n",
      "7     8\n",
      "8     9\n",
      "9    10\n",
      "dtype: int64\n"
     ]
    }
   ],
   "source": [
    "import pandas as pd\n",
    "\n",
    "l = [1, 2, 3, 4, 5, 6, 7, 8, 9, 10]\n",
    "\n",
    "s = pd.Series(l)\n",
    "\n",
    "print(s)\n"
   ]
  },
  {
   "cell_type": "code",
   "execution_count": null,
   "id": "29d7a025-f22c-46e5-b6c9-124ae77a5a4f",
   "metadata": {},
   "outputs": [],
   "source": [
    "Q3. Create a Pandas DataFrame that contains the following data:\n",
    "    Name   Age   Gender\n",
    "    Alice   25    Female\n",
    "    Bob     30     Male\n",
    "    Claire  27     Female"
   ]
  },
  {
   "cell_type": "code",
   "execution_count": 4,
   "id": "f0dc142c-7446-4363-96e5-4fa02e56dea4",
   "metadata": {},
   "outputs": [
    {
     "name": "stdout",
     "output_type": "stream",
     "text": [
      "     Name  Age  Gender\n",
      "0   Alice   25  Female\n",
      "1     Bob   30    Male\n",
      "2  Claire   27  Female\n"
     ]
    }
   ],
   "source": [
    "import pandas as pd\n",
    "\n",
    "data = {'Name': ['Alice', 'Bob', 'Claire'],\n",
    "        'Age': [25, 30, 27],\n",
    "        'Gender': ['Female', 'Male', 'Female']}\n",
    "\n",
    "df = pd.DataFrame(data)\n",
    "\n",
    "print(df)\n"
   ]
  },
  {
   "cell_type": "code",
   "execution_count": null,
   "id": "84b40c2e-e0c4-4333-bea2-6cb2df157ae3",
   "metadata": {},
   "outputs": [],
   "source": [
    "Q4. What is ‘DataFrame’ in pandas and how is it different from pandas.series? Explain with an example."
   ]
  },
  {
   "cell_type": "code",
   "execution_count": null,
   "id": "93214ff3-95ba-4e42-a0b6-e090e340d663",
   "metadata": {},
   "outputs": [],
   "source": [
    "A Pandas DataFrame is a 2 dimensional data structure, like a 2 dimensional array, or a table with rows and columns.\n",
    "Pandas Series is a 1D array of data, but a single-column DataFrame is a 2D table with one column"
   ]
  },
  {
   "cell_type": "code",
   "execution_count": 5,
   "id": "ce825846-75ae-463a-8ab5-603827c9c0de",
   "metadata": {},
   "outputs": [
    {
     "name": "stdout",
     "output_type": "stream",
     "text": [
      "     Name  Age  Gender\n",
      "0   Alice   25  Female\n",
      "1     Bob   30    Male\n",
      "2  Claire   27  Female\n"
     ]
    }
   ],
   "source": [
    "import pandas as pd\n",
    "\n",
    "data = {'Name': ['Alice', 'Bob', 'Claire'],\n",
    "        'Age': [25, 30, 27],\n",
    "        'Gender': ['Female', 'Male', 'Female']}\n",
    "\n",
    "df = pd.DataFrame(data)\n",
    "print(df)\n"
   ]
  },
  {
   "cell_type": "code",
   "execution_count": null,
   "id": "5b4bf2ba-4002-4274-a79c-23d4f6f8878b",
   "metadata": {},
   "outputs": [],
   "source": [
    "Q5. What are some common functions you can use to manipulate data in a Pandas DataFrame? Can \n",
    "you give an example of when you might use one of these functions?"
   ]
  },
  {
   "cell_type": "code",
   "execution_count": null,
   "id": "ff561002-c85c-4d95-b696-324b88c5f117",
   "metadata": {},
   "outputs": [],
   "source": [
    "head() and tail(): Display the first or last n rows of the DataFrame.\n",
    "describe(): Generate descriptive statistics of the DataFrame.\n",
    "info(): Display a concise summary of the DataFrame, including data types and missing values.\n",
    "sort_values(): Sort the DataFrame by one or more columns.\n",
    "filter(): Select rows that meet specified conditions."
   ]
  },
  {
   "cell_type": "code",
   "execution_count": null,
   "id": "eb8b19db-e562-4061-8fdd-f4dba194473e",
   "metadata": {},
   "outputs": [],
   "source": [
    "Q6. Which of the following is mutable in nature Series, DataFrame, Panel?"
   ]
  },
  {
   "cell_type": "code",
   "execution_count": null,
   "id": "a4ad212a-9e25-429c-9b43-4642ca648b33",
   "metadata": {},
   "outputs": [],
   "source": [
    "Series: Mutable. You can modify the values in a Series after it has been created.\n",
    "\n",
    "DataFrame: Mutable. You can modify the values, add or remove columns, and perform various operations on a DataFrame.\n",
    "\n",
    "Panel: Immutable. The Panel has been deprecated since Pandas version 0.25.0. The recommended approach for handling three-dimensional data is to use MultiIndex DataFrames."
   ]
  },
  {
   "cell_type": "code",
   "execution_count": null,
   "id": "bba74b08-09bd-4329-bde4-00b821195caf",
   "metadata": {},
   "outputs": [],
   "source": [
    "Q7. Create a DataFrame using multiple Series. Explain with an example."
   ]
  },
  {
   "cell_type": "code",
   "execution_count": 6,
   "id": "d02b8002-d854-466c-ad9a-925e650156e0",
   "metadata": {},
   "outputs": [
    {
     "name": "stdout",
     "output_type": "stream",
     "text": [
      "     Name  Age  Gender\n",
      "0   Alice   25  Female\n",
      "1     Bob   30    Male\n",
      "2  Claire   27  Female\n"
     ]
    }
   ],
   "source": [
    "import pandas as pd\n",
    "\n",
    "names = pd.Series(['Alice', 'Bob', 'Claire'])\n",
    "ages = pd.Series([25, 30, 27])\n",
    "genders = pd.Series(['Female', 'Male', 'Female'])\n",
    "\n",
    "data = {'Name': names, 'Age': ages, 'Gender': genders}\n",
    "\n",
    "df = pd.DataFrame(data)\n",
    "print(df)\n"
   ]
  },
  {
   "cell_type": "code",
   "execution_count": null,
   "id": "64b38a96-2da9-4815-b7d7-c4349ce32e62",
   "metadata": {},
   "outputs": [],
   "source": []
  }
 ],
 "metadata": {
  "kernelspec": {
   "display_name": "Python 3 (ipykernel)",
   "language": "python",
   "name": "python3"
  },
  "language_info": {
   "codemirror_mode": {
    "name": "ipython",
    "version": 3
   },
   "file_extension": ".py",
   "mimetype": "text/x-python",
   "name": "python",
   "nbconvert_exporter": "python",
   "pygments_lexer": "ipython3",
   "version": "3.10.8"
  }
 },
 "nbformat": 4,
 "nbformat_minor": 5
}
