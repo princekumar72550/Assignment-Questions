{
 "cells": [
  {
   "cell_type": "code",
   "execution_count": null,
   "id": "e2be5913-f9e3-4a71-98db-ed789683c187",
   "metadata": {},
   "outputs": [],
   "source": [
    "Q1. Create a function which will take a list as an argument and return the product of all the numbers \n",
    "after creating a flat list.\n",
    "\n",
    "Use the below-given list as an argument for your function.\n",
    "\n",
    "\n",
    "list1 = [1,2,3,4, [44,55,66, True], False, (34,56,78,89,34), {1,2,3,3,2,1}, {1:34, \"key2\": [55, 67, 78, 89], 4: (45, \n",
    "22, 61, 34)}, [56, 'data science'], 'Machine Learning']"
   ]
  },
  {
   "cell_type": "code",
   "execution_count": 4,
   "id": "f09a1300-897d-4fd7-bfc8-362ef0850448",
   "metadata": {},
   "outputs": [],
   "source": [
    "lst = [1,2,3,4, [44,55,66, True], False, (34,56,78,89,34), {1,2,3,3,2,1}, {1:34, \"key2\": [55, 67, 78, 89], 4: (45, \n",
    "22, 61, 34)}, [56, 'data science'], 'Machine Learning']"
   ]
  },
  {
   "cell_type": "code",
   "execution_count": 5,
   "id": "9e0d74c6-e64c-4a20-9d92-30de03e50d55",
   "metadata": {},
   "outputs": [],
   "source": [
    "def product_of_numbers(lst):\n",
    "    flat_list = []\n",
    "    for element in lst:\n",
    "        if type(element) == list or type(element) == tuple or type(element) == set:\n",
    "            flat_list += list(element)\n",
    "        else:\n",
    "            flat_list.append(element)\n",
    "    product = 1\n",
    "    for number in flat_list:\n",
    "        if type(number) == int or type(number) == float:\n",
    "            product *= number\n",
    "    return product"
   ]
  },
  {
   "cell_type": "code",
   "execution_count": 8,
   "id": "cc414d71-5dd3-4b31-8a10-1833b4e13afe",
   "metadata": {},
   "outputs": [
    {
     "data": {
      "text/plain": [
       "578815684656168960"
      ]
     },
     "execution_count": 8,
     "metadata": {},
     "output_type": "execute_result"
    }
   ],
   "source": [
    "product_of_numbers(lst)"
   ]
  },
  {
   "cell_type": "code",
   "execution_count": null,
   "id": "a10c7a32-fc81-4c64-98d3-7e3b3f93bb28",
   "metadata": {},
   "outputs": [],
   "source": [
    "Q2. Write a python program for encrypting a message sent to you by your friend. The logic of encryption \n",
    "should be such that, for a the output should be z. For b, the output should be y. For c, the output should \n",
    "be x respectively. Also, the whitespace should be replaced with a dollar sign. Keep the punctuation \n",
    "marks unchanged."
   ]
  },
  {
   "cell_type": "code",
   "execution_count": 15,
   "id": "08dae500-2892-4947-a5b3-6668d5a2300b",
   "metadata": {},
   "outputs": [
    {
     "name": "stdin",
     "output_type": "stream",
     "text": [
      "Enter the massage hello\n",
      "Enter the shift kry 2\n"
     ]
    },
    {
     "name": "stdout",
     "output_type": "stream",
     "text": [
      "the original string is : hello\n",
      "the encripted massage is : jgnnq\n"
     ]
    }
   ],
   "source": [
    "def encripted(string,shift):\n",
    "    ciper = ''\n",
    "    for char in string:\n",
    "        if char==' ':\n",
    "            ciper=ciper + char\n",
    "        elif char.isupper():\n",
    "            ciper=ciper+chr((ord(char)+shift-65)%26+65)\n",
    "        else:\n",
    "            ciper=ciper+chr((ord(char)+shift-97)%26+97)\n",
    "    return ciper\n",
    "\n",
    "\n",
    "text = input(\"Enter the massage\")\n",
    "s=int(input(\"Enter the shift kry\"))\n",
    "print(\"the original string is :\",text)\n",
    "print(\"the encripted massage is :\",encripted(text,s))"
   ]
  },
  {
   "cell_type": "code",
   "execution_count": null,
   "id": "0cc154cb-32fa-4ac1-9015-11c601a0e8b1",
   "metadata": {},
   "outputs": [],
   "source": [
    "def encrypt(str,key):\n",
    "    return key.join(str)\n",
    "def decrypt(str,key):\n",
    "    return str.split(key)\n",
    "\n",
    "enstr =input(\"Enter the String:\")\n",
    "enkey =input(\"Enter the key\")\n",
    "enstring=encrypt(enstr,enkey)\n",
    "print=(\"Encrypted String = \",enstring)\n",
    "delist = decrypt(enstring,enkey)\n",
    "destring = \" \".join(delist)\n",
    "print(\"Decrypted String = \",destring)"
   ]
  },
  {
   "cell_type": "code",
   "execution_count": null,
   "id": "d43751b6-6eba-4f53-b4f7-b80b1268c1e7",
   "metadata": {},
   "outputs": [],
   "source": []
  }
 ],
 "metadata": {
  "kernelspec": {
   "display_name": "Python 3 (ipykernel)",
   "language": "python",
   "name": "python3"
  },
  "language_info": {
   "codemirror_mode": {
    "name": "ipython",
    "version": 3
   },
   "file_extension": ".py",
   "mimetype": "text/x-python",
   "name": "python",
   "nbconvert_exporter": "python",
   "pygments_lexer": "ipython3",
   "version": "3.10.8"
  }
 },
 "nbformat": 4,
 "nbformat_minor": 5
}
