{
 "cells": [
  {
   "cell_type": "code",
   "execution_count": null,
   "id": "d8f2c37d-153e-4ab2-a635-88234dc24f71",
   "metadata": {},
   "outputs": [],
   "source": [
    "1.For loop -A for loop is used for iterating over a sequence (that is either a list, a tuple, a dictionary, a set, or a string).\n",
    "Example:-\n"
   ]
  },
  {
   "cell_type": "code",
   "execution_count": 3,
   "id": "ac9952b1-1e9b-4d73-9e53-8902eb9ace08",
   "metadata": {},
   "outputs": [],
   "source": [
    "l =[59,55,8.5,\"Prince\",\"Kumar\"]"
   ]
  },
  {
   "cell_type": "code",
   "execution_count": 4,
   "id": "41219d5f-668e-4952-91f1-0dd026f1ecf8",
   "metadata": {},
   "outputs": [
    {
     "name": "stdout",
     "output_type": "stream",
     "text": [
      "59\n",
      "55\n",
      "8.5\n",
      "Prince\n",
      "Kumar\n"
     ]
    }
   ],
   "source": [
    "for i in l :\n",
    "    print(i)"
   ]
  },
  {
   "cell_type": "code",
   "execution_count": 7,
   "id": "c886750c-51ea-43d3-acaf-17d2dc0bb2ab",
   "metadata": {},
   "outputs": [
    {
     "data": {
      "text/plain": [
       "'While loop :- While loop is a pre-test loop,it\\nfirst check the condition and as long as condition\\nis true , action taken'"
      ]
     },
     "execution_count": 7,
     "metadata": {},
     "output_type": "execute_result"
    }
   ],
   "source": [
    "While loop :- While loop is a pre-test loop,it\n",
    "first check the condition and as long as condition\n",
    "is true , action taken.\n",
    "#Example"
   ]
  },
  {
   "cell_type": "code",
   "execution_count": 23,
   "id": "694d4d8e-09ce-4fe3-b081-2a19c3824f14",
   "metadata": {},
   "outputs": [
    {
     "name": "stdout",
     "output_type": "stream",
     "text": [
      "4\n",
      "5\n"
     ]
    }
   ],
   "source": [
    "i = 4\n",
    "n = 6\n",
    "while i<=5 :\n",
    "    print(i)\n",
    "    i = i+1\n"
   ]
  },
  {
   "cell_type": "code",
   "execution_count": null,
   "id": "bedf5d5f-746b-4aeb-9e90-0803ae0efb6e",
   "metadata": {},
   "outputs": [],
   "source": [
    "[2]:Write a python program to print the sum and \n",
    "product of the first 10 natural numbers using for \n",
    "and while loop."
   ]
  },
  {
   "cell_type": "code",
   "execution_count": null,
   "id": "d6c4038e-6f89-457d-8f45-677a3a54cfa0",
   "metadata": {},
   "outputs": [],
   "source": [
    "num = int(input(\"enter the number\"))\n",
    "a=0\n",
    "b=1\n",
    "for i in range(num):\n",
    "          print(a)\n",
    "          c = a +b\n",
    "          a=b\n",
    "          b=c"
   ]
  },
  {
   "cell_type": "code",
   "execution_count": 6,
   "id": "dd2cef3e-15a4-4ac0-8aa6-650b352f9ad3",
   "metadata": {},
   "outputs": [
    {
     "name": "stdin",
     "output_type": "stream",
     "text": [
      "Enter the number 3\n"
     ]
    },
    {
     "name": "stdout",
     "output_type": "stream",
     "text": [
      "6\n"
     ]
    }
   ],
   "source": [
    "limit = int(input(\"Enter the number\"))\n",
    "product = 1\n",
    "i = 1\n",
    "while i<=limit:\n",
    "            product=product*i\n",
    "            i+=1\n",
    "print(product)"
   ]
  },
  {
   "cell_type": "code",
   "execution_count": null,
   "id": "f3ef58dd-3453-4fbf-a38f-623f6693ff4a",
   "metadata": {},
   "outputs": [],
   "source": [
    "Q3. Create a python program to compute the electricity bill for a household.\n",
    "The per-unit charges in rupees are as follows: For the first 100 units, the user will be charged Rs. 4.5 per \n",
    "unit, for the next 100 units, the user will be charged Rs. 6 per unit, and for the next 100 units, the user will \n",
    "be charged Rs. 10 per unit, After 300 units and above the user will be charged Rs. 20 per unit.\n",
    "You are required to take the units of electricity consumed in a month from the user as input.\n",
    "\n",
    "\n",
    "Your program must pass this test case: when the unit of electricity consumed by the user in a month is \n",
    "310, the total electricity bill should be 2250."
   ]
  },
  {
   "cell_type": "code",
   "execution_count": null,
   "id": "b5a86e9a-7423-416d-b0f3-fc889b3e741b",
   "metadata": {},
   "outputs": [],
   "source": [
    "unit = int(input(\"Enter the number\"))\n",
    "if unit<=100:\n",
    "    bill=unit*4.5\n",
    "elif unit<=200:\n",
    "    bill = 100*4.5 +(unit-100)*6\n",
    "elif unit<=300:\n",
    "    bill =100*4.5 + 100*6 + (unit-200)*10\n",
    "else:\n",
    "    bill =100*4.5 + 100*6 + 100*10 + (unit-300)*20\n",
    "print(\"Billl :\",bill)"
   ]
  },
  {
   "cell_type": "code",
   "execution_count": null,
   "id": "c9c0b091-9d6c-488f-bee3-054912ccd0bf",
   "metadata": {},
   "outputs": [],
   "source": [
    "Q4. Create a list of numbers from 1 to 100. Use for loop and while loop to calculate the cube of each \n",
    "number and if the cube of that number is divisible by 4 or 5 then append that number in a list and print \n",
    "that list."
   ]
  },
  {
   "cell_type": "code",
   "execution_count": null,
   "id": "36f55465-bf94-4a53-b5f5-b200be4ac94a",
   "metadata": {},
   "outputs": [],
   "source": [
    "result =[]\n",
    "for i in range(1,100):\n",
    "    if (i%4==0 or i%5==0):\n",
    "        result.append(i)\n",
    "print(result)"
   ]
  },
  {
   "cell_type": "code",
   "execution_count": null,
   "id": "8c8fc600-0088-4fac-9fab-1788c590c704",
   "metadata": {},
   "outputs": [],
   "source": [
    "num = list(range(1,100))\n",
    "result =[]\n",
    "i = 1\n",
    "while i < len(num):\n",
    "    if (i%4==0 or i%5==0):\n",
    "        result.append(i)\n",
    "    i+=1\n",
    "print(result)"
   ]
  },
  {
   "cell_type": "code",
   "execution_count": null,
   "id": "50f48119-299c-40fa-a95a-e508c057a3a8",
   "metadata": {},
   "outputs": [],
   "source": [
    "Q5.  Write a program to filter count vowels in the below-given string.\n",
    "\n",
    "string = \"I want to become a data scientist\""
   ]
  },
  {
   "cell_type": "code",
   "execution_count": null,
   "id": "da922bc3-0ca1-494b-9229-9cd4940ad1a8",
   "metadata": {},
   "outputs": [],
   "source": [
    "str1 =(\"I want to become a data scientist\")\n",
    "str1_lower = str1.lower()\n",
    "vowels =\"aeiou\"\n",
    "count=0\n",
    "for i in str1_lower:\n",
    "    if i in vowels:\n",
    "        count=count+1\n",
    "print(\"count vowles in the given string :\",count)"
   ]
  },
  {
   "cell_type": "code",
   "execution_count": null,
   "id": "d8fc6551-915e-42e5-be80-e9346683a810",
   "metadata": {},
   "outputs": [],
   "source": []
  }
 ],
 "metadata": {
  "kernelspec": {
   "display_name": "Python 3 (ipykernel)",
   "language": "python",
   "name": "python3"
  },
  "language_info": {
   "codemirror_mode": {
    "name": "ipython",
    "version": 3
   },
   "file_extension": ".py",
   "mimetype": "text/x-python",
   "name": "python",
   "nbconvert_exporter": "python",
   "pygments_lexer": "ipython3",
   "version": "3.10.8"
  }
 },
 "nbformat": 4,
 "nbformat_minor": 5
}
