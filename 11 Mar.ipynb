{
 "cells": [
  {
   "cell_type": "code",
   "execution_count": null,
   "id": "d7382753-ec13-4dec-8ddc-188b749ec521",
   "metadata": {},
   "outputs": [],
   "source": [
    "Q1: What is the difference between a t-test and a z-test? Provide an example scenario where you would\n",
    "use each type of test."
   ]
  },
  {
   "cell_type": "code",
   "execution_count": null,
   "id": "abc6b4a2-1f54-4afb-9c9c-0ebf7121a65c",
   "metadata": {},
   "outputs": [],
   "source": [
    "1. Sample Size:\n",
    "   - t-test: Typically used when the sample size is small (typically less than 30) and the population standard deviation is unknown. The t-test accounts for the uncertainty introduced by estimating the population standard deviation from the sample.\n",
    "   - z-test: Suitable for larger sample sizes (usually above 30) when the population standard deviation is known. The z-test assumes a known population standard deviation.\n",
    "\n",
    "2. Population Standard Deviation:\n",
    "   - t-test:Used when the population standard deviation is unknown, and the sample standard deviation is used as an estimate.\n",
    "   - z-test: Appropriate when the population standard deviation is known.\n",
    "\n",
    "3. Distribution:\n",
    "   - t-test: The test statistic follows a t-distribution, which has heavier tails than the normal distribution. The shape of the t-distribution depends on the degrees of freedom, which is related to the sample size.\n",
    "   - z-test: The test statistic follows a standard normal distribution (z-distribution) since the population standard deviation is assumed to be known.\n",
    "\n",
    "4. Degrees of Freedom:\n",
    "   - t-test: The number of degrees of freedom in a t-test is determined by the sample size. As the sample size increases, the t-distribution approaches the normal distribution.\n",
    "   -z-test: There are no degrees of freedom in a z-test because it assumes a known population standard deviation.\n",
    "\n",
    "5. Use Cases:\n",
    "   - t-test: Commonly used when dealing with small sample sizes, comparing sample means, and when the population standard deviation is unknown.\n",
    "   - z-test: Suitable for situations with larger sample sizes, known population standard deviation, and when comparing sample means or proportions.\n"
   ]
  },
  {
   "cell_type": "code",
   "execution_count": null,
   "id": "aca58a8a-084d-4d2d-b486-4949f0ede6c1",
   "metadata": {},
   "outputs": [],
   "source": [
    "Q2: Differentiate between one-tailed and two-tailed tests"
   ]
  },
  {
   "cell_type": "code",
   "execution_count": null,
   "id": "c846bb64-aad3-4e8f-8bf4-ab2509f4c61f",
   "metadata": {},
   "outputs": [],
   "source": [
    "# One-Tailed Test:\n",
    "\n",
    "1. Directionality:\n",
    "   - Hypothesis: The research hypothesis specifies the direction of the effect (e.g., greater than, less than).\n",
    "   - Example: \\(H_1: \\mu > \\mu_0\\) or \\(H_1: \\mu < \\mu_0\\)\n",
    "\n",
    "2. Critical Region:\n",
    "   - Critical Region: The rejection region is located entirely on one side of the distribution (either in the upper or lower tail).\n",
    "   - Significance Level (\\(\\alpha\\)):All of the significance level (\\(\\alpha\\)) is allocated to one tail of the distribution.\n",
    "\n",
    "3. Decision Rule:\n",
    "   - Rejection Rule:If the test statistic falls in the critical region, the null hypothesis is rejected.\n",
    "\n",
    "4. Usage:\n",
    "   - When: Used when there is a specific directional hypothesis, and evidence in the opposite direction is not considered relevant.\n",
    "\n",
    "### Two-Tailed Test:\n",
    "\n",
    "1. Directionality:\n",
    "   - Hypothesis: The research hypothesis does not specify the direction of the effect; it simply states that there is a difference.\n",
    "   - Example: \\(H_1: \\mu \\neq \\mu_0\\)\n",
    "\n",
    "2. Critical Region:\n",
    "   - Critical Region: The rejection region is divided into two tails (upper and lower).\n",
    "   - Significance Level (\\(\\alpha\\)):** The significance level (\\(\\alpha\\)) is split between the two tails.\n",
    "\n",
    "3. Decision Rule:\n",
    "   - Rejection Rule:If the test statistic falls in either tail, the null hypothesis is rejected.\n",
    "\n",
    "4. Usage:\n",
    "   -When: Used when there is interest in detecting any kind of difference, without specifying the direction.\n",
    "\n",
    "# Visual Representation:\n",
    "\n",
    "- One-Tailed Test:\n",
    "  ![One-Tailed Test](https://i.imgur.com/bO1A9tM.png)\n",
    "\n",
    "- Two-Tailed Test:\n",
    "  ![Two-Tailed Test](https://i.imgur.com/eIZbCZi.png)\n",
    "\n",
    "# Example:\n",
    "\n",
    "- One-Tailed Test: Testing whether a new drug has a positive effect on patient recovery time, expecting the recovery time to be less than the current average.\n",
    "\n",
    "- Two-Tailed Test:Testing whether a coin is fair, expecting the probability of heads to be different from 0.5 (without specifying whether it will be greater or less than 0.5)."
   ]
  },
  {
   "cell_type": "code",
   "execution_count": null,
   "id": "892cadb9-64f5-4000-80d2-13a1f78c123c",
   "metadata": {},
   "outputs": [],
   "source": [
    "Q3: Explain the concept of Type 1 and Type 2 errors in hypothesis testing. Provide an example scenario for\n",
    "each type of error."
   ]
  },
  {
   "cell_type": "code",
   "execution_count": null,
   "id": "f0ee29d9-5fc9-4527-ae7f-115640f217d7",
   "metadata": {},
   "outputs": [],
   "source": [
    "## 1. Type I Error:\n",
    "\n",
    "- Definition: Occurs when the null hypothesis is incorrectly rejected when it is actually true. It represents a false positive or the probability of concluding an effect when there is no real effect.\n",
    "\n",
    "- Symbol: denoted by \\(\\alpha\\), the significance level.\n",
    "\n",
    "- Example Scenario:\n",
    "  - Hypothesis Testing Situation: A drug testing scenario where the null hypothesis (\\(H_0\\)) is that the drug has no side effects.\n",
    "  - Type I Error: Concluding that the drug has side effects (rejecting \\(H_0\\)) when, in reality, it doesn't.\n",
    "\n",
    "### 2. Type II Error:\n",
    "\n",
    "- Definition: Occurs when the null hypothesis is incorrectly not rejected when it is actually false. It represents a false negative or the probability of failing to detect a real effect.\n",
    "\n",
    "- Symbol: denoted by \\(\\beta\\).\n",
    "\n",
    "- Example Scenario:\n",
    "  - Hypothesis Testing Situation: A drug testing scenario where the null hypothesis (\\(H_0\\)) is that the drug has no side effects.\n",
    "  - Type II Error:Failing to detect that the drug has side effects (not rejecting \\(H_0\\)) when, in reality, it does.\n"
   ]
  },
  {
   "cell_type": "code",
   "execution_count": null,
   "id": "ec34f54f-3238-4347-828a-f16350ea2038",
   "metadata": {},
   "outputs": [],
   "source": [
    "Q4:  Explain Bayes's theorem with an example."
   ]
  },
  {
   "cell_type": "code",
   "execution_count": null,
   "id": "5cee70a7-4c80-4130-8d12-f3791826c263",
   "metadata": {},
   "outputs": [],
   "source": [
    "Bayes's Theorem:\n",
    "\n",
    "\\[ P(A|B) = \\frac{P(B|A) \\cdot P(A)}{P(B)} \\]\n",
    "\n",
    "Where:\n",
    "- \\( P(A|B) \\) is the probability of event A occurring given that event B has occurred (the posterior probability).\n",
    "- \\( P(B|A) \\) is the probability of event B occurring given that event A has occurred (the likelihood).\n",
    "- \\( P(A) \\) is the prior probability of event A.\n",
    "- \\( P(B) \\) is the prior probability of event B.\n",
    "\n",
    "# Example of Bayes's Theorem:\n",
    "\n",
    "Let's consider a medical diagnostic scenario to illustrate Bayes's Theorem. Assume a certain rare disease, \"D,\" affects 1 in 1000 people in a population. A diagnostic test for this disease is 99% accurate for both true positives and true negatives. We want to know the probability that a person has the disease given that they tested positive.\n",
    "\n",
    "Let:\n",
    "- \\( A \\) be the event that a person has the disease (prior probability \\( P(A) = \\frac{1}{1000} \\)).\n",
    "- \\( B \\) be the event that the person tests positive for the disease (likelihood \\( P(B|A) = 0.99 \\) and \\( P(B|\\neg A) = 0.01 \\)).\n",
    "\n",
    "Now, we can apply Bayes's Theorem:\n",
    "\n",
    "\\[ P(A|B) = \\frac{P(B|A) \\cdot P(A)}{P(B)} \\]\n",
    "\n",
    "\\[ P(A|B) = \\frac{0.99 \\cdot \\frac{1}{1000}}{P(B)} \\]\n",
    "\n",
    "To calculate \\( P(B) \\), we use the law of total probability:\n",
    "\n",
    "\\[ P(B) = P(B|A) \\cdot P(A) + P(B|\\neg A) \\cdot P(\\neg A) \\]\n",
    "\n",
    "\\[ P(B) = 0.99 \\cdot \\frac{1}{1000} + 0.01 \\cdot \\frac{999}{1000} \\]\n"
   ]
  },
  {
   "cell_type": "code",
   "execution_count": null,
   "id": "ca7f1601-e9ea-46e4-a91a-b7d3f126a02e",
   "metadata": {},
   "outputs": [],
   "source": [
    "Q5: What is a confidence interval? How to calculate the confidence interval, explain with an example."
   ]
  },
  {
   "cell_type": "code",
   "execution_count": null,
   "id": "ce41ee66-8778-42f1-8789-c2aa11bfdef8",
   "metadata": {},
   "outputs": [],
   "source": [
    "A confidence interval is a range around a measurement that conveys how precise the measurement is. For most chronic disease and\n",
    "injury programs, the measurement in question is a proportion or a rate (the percent of New Yorkers who exercise regularly or the \n",
    "lung cancer incidence rate).\n",
    "\n",
    "# Confidence Interval for the Mean\n",
    "\n",
    "For a population with a known standard deviation (\\(\\sigma\\)), the confidence interval for the population mean (\\(\\mu\\)) is calculated as:\n",
    "\n",
    "\\[ \\text{Confidence Interval} = \\bar{X} \\pm Z \\left(\\frac{\\sigma}{\\sqrt{n}}\\right) \\]\n",
    "\n",
    "Where:\n",
    "- \\(\\bar{X}\\) is the sample mean.\n",
    "- \\(Z\\) is the Z-score corresponding to the desired confidence level (e.g., 1.96 for a 95% confidence interval).\n",
    "- \\(\\sigma\\) is the population standard deviation.\n",
    "- \\(n\\) is the sample size.\n",
    "\n",
    "### Confidence Interval for the Mean (Population Standard Deviation Unknown):\n",
    "\n",
    "For a population with an unknown standard deviation (\\(s\\)), the confidence interval for the population mean (\\(\\mu\\)) is calculated using the t-distribution with \\(n-1\\) degrees of freedom:\n",
    "\n",
    "\\[ \\text{Confidence Interval} = \\bar{X} \\pm t \\left(\\frac{s}{\\sqrt{n}}\\right) \\]\n",
    "\n",
    "Where:\n",
    "- \\(\\bar{X}\\) is the sample mean.\n",
    "- \\(t\\) is the t-score corresponding to the desired confidence level and degrees of freedom.\n",
    "- \\(s\\) is the sample standard deviation.\n",
    "- \\(n\\) is the sample size.\n",
    "\n",
    "### Example: Confidence Interval for the Mean\n",
    "\n",
    "Suppose you conducted a study to estimate the average height of a population. You collected a random sample of 30 individuals and found that the sample mean height (\\(\\bar{X}\\)) is 65 inches, and the sample standard deviation (\\(s\\)) is 3 inches. You want to calculate a 95% confidence interval for the population mean height.\n",
    "\n",
    "Using the second formula (population standard deviation unknown), you would consult a t-table or use statistical software to find the t-score corresponding to a 95% confidence level with 29 degrees of freedom (30 - 1). Let's assume this t-score is approximately 2.045.\n",
    "\n",
    "Substitute the values into the formula:\n",
    "\n",
    "\\[ \\text{Confidence Interval} = 65 \\pm 2.045 \\left(\\frac{3}{\\sqrt{30}}\\right) \\]\n",
    "\n",
    "Calculate the margin of error:\n",
    "\n",
    "\\[ \\text{Margin of Error} = 2.045 \\times \\frac{3}{\\sqrt{30}} \\]\n",
    "\n",
    "Substitute this into the confidence interval formula:\n",
    "\n",
    "\\[ \\text{Confidence Interval} = (65 - \\text{Margin of Error}, 65 + \\text{Margin of Error}) \\]"
   ]
  },
  {
   "cell_type": "code",
   "execution_count": null,
   "id": "cdc583b6-29cf-47f0-a539-9928a1214114",
   "metadata": {},
   "outputs": [],
   "source": [
    "Q6. Use Bayes' Theorem to calculate the probability of an event occurring given prior knowledge of the\n",
    "event's probability and new evidence. Provide a sample problem and solution."
   ]
  },
  {
   "cell_type": "code",
   "execution_count": 3,
   "id": "0a1c4b22-fafe-4857-bedb-e25b483f2061",
   "metadata": {},
   "outputs": [
    {
     "ename": "SyntaxError",
     "evalue": "unterminated string literal (detected at line 1) (2521207040.py, line 1)",
     "output_type": "error",
     "traceback": [
      "\u001b[0;36m  Cell \u001b[0;32mIn[3], line 1\u001b[0;36m\u001b[0m\n\u001b[0;31m    Bayes' Theorem is a powerful tool for updating probabilities based on new evidence.\u001b[0m\n\u001b[0m         ^\u001b[0m\n\u001b[0;31mSyntaxError\u001b[0m\u001b[0;31m:\u001b[0m unterminated string literal (detected at line 1)\n"
     ]
    }
   ],
   "source": [
    "Bayes' Theorem is a powerful tool for updating probabilities based on new evidence.\n",
    "\n",
    "\\[ P(A|B) = \\frac{P(B|A) \\cdot P(A)}{P(B)} \\]\n",
    "\n",
    "Where:\n",
    "- \\( P(A|B) \\) is the probability of event A occurring given that event B has occurred (posterior probability).\n",
    "- \\( P(B|A) \\) is the probability of event B occurring given that event A has occurred (likelihood).\n",
    "- \\( P(A) \\) is the prior probability of event A.\n",
    "- \\( P(B) \\) is the prior probability of event B.\n",
    "\n",
    "### Sample Problem: Disease Diagnosis\n",
    "\n",
    "Consider a scenario where a rare disease, Disease X, affects 1 in 1000 people in a population. A diagnostic test for Disease X is 99% accurate for both true positives and true negatives. You want to know the probability that a person has the disease given that they tested positive.\n",
    "\n",
    "Let:\n",
    "- \\( A \\) be the event that a person has Disease X (prior probability \\( P(A) = \\frac{1}{1000} \\)).\n",
    "- \\( B \\) be the event that the person tests positive for Disease X (likelihood \\( P(B|A) = 0.99 \\) and \\( P(B|\\neg A) = 0.01 \\)).\n",
    "\n",
    "Now, we can apply Bayes' Theorem:\n",
    "\n",
    "\\[ P(A|B) = \\frac{P(B|A) \\cdot P(A)}{P(B)} \\]\n",
    "\n",
    "\\[ P(A|B) = \\frac{0.99 \\cdot \\frac{1}{1000}}{P(B)} \\]\n",
    "\n",
    "To calculate \\( P(B) \\), we use the law of total probability:\n",
    "\n",
    "\\[ P(B) = P(B|A) \\cdot P(A) + P(B|\\neg A) \\cdot P(\\neg A) \\]\n",
    "\n",
    "\\[ P(B) = 0.99 \\cdot \\frac{1}{1000} + 0.01 \\cdot \\frac{999}{1000} \\]\n"
   ]
  },
  {
   "cell_type": "code",
   "execution_count": null,
   "id": "aea59a7e-a206-4dae-a03a-1ac080a6f436",
   "metadata": {},
   "outputs": [],
   "source": [
    "Q7. Calculate the 95% confidence interval for a sample of data with a mean of 50 and a standard deviation\n",
    "of 5. Interpret the results."
   ]
  },
  {
   "cell_type": "code",
   "execution_count": 2,
   "id": "a0c3933d-f4df-41be-a109-1968729b70ee",
   "metadata": {},
   "outputs": [
    {
     "name": "stdout",
     "output_type": "stream",
     "text": [
      "95% Confidence Interval: (48.21, 51.79)\n",
      "We are 95% confident that the true population mean is between 48.21 and 51.79.\n"
     ]
    }
   ],
   "source": [
    "import scipy.stats as stats\n",
    "import math\n",
    "\n",
    "sample_mean = 50      \n",
    "sample_std = 5        \n",
    "confidence_level = 0.95 \n",
    "sample_size = 30       \n",
    "z_score = stats.norm.ppf((1 + confidence_level) / 2)\n",
    "\n",
    "margin_of_error = z_score * (sample_std / math.sqrt(sample_size))\n",
    "\n",
    "lower_bound = sample_mean - margin_of_error\n",
    "upper_bound = sample_mean + margin_of_error\n",
    "\n",
    "print(f\"95% Confidence Interval: ({lower_bound:.2f}, {upper_bound:.2f})\")\n",
    "\n",
    "print(f\"We are 95% confident that the true population mean is between {lower_bound:.2f} and {upper_bound:.2f}.\")\n"
   ]
  },
  {
   "cell_type": "code",
   "execution_count": null,
   "id": "3a2628d7-4069-48a3-ad40-42ae364ee0f1",
   "metadata": {},
   "outputs": [],
   "source": [
    "Q8. What is the margin of error in a confidence interval? How does sample size affect the margin of error?\n",
    "Provide an example of a scenario where a larger sample size would result in a smaller margin of error."
   ]
  },
  {
   "cell_type": "code",
   "execution_count": null,
   "id": "ddf8cefc-10b1-4456-8c59-72c88b7b4f77",
   "metadata": {},
   "outputs": [],
   "source": [
    "The margin of error is half the confidence interval (also, the radius of the interval). The larger the sample, the smaller the \n",
    "margin of error.\n",
    "\n",
    "\n",
    "The formula for the margin of error in a confidence interval for the mean is:\n",
    "\n",
    "\\[ \\text{Margin of Error} = Z \\left( \\frac{\\sigma}{\\sqrt{n}} \\right) \\]\n",
    "\n",
    "Where:\n",
    "- \\( Z \\) is the Z-score corresponding to the desired confidence level.\n",
    "- \\( \\sigma \\) is the population standard deviation.\n",
    "- \\( n \\) is the sample size."
   ]
  },
  {
   "cell_type": "code",
   "execution_count": null,
   "id": "42282095-b756-4032-9c7b-f44d3b9d526c",
   "metadata": {},
   "outputs": [],
   "source": [
    "Q9. Calculate the z-score for a data point with a value of 75, a population mean of 70, and a population\n",
    "standard deviation of 5. Interpret the results."
   ]
  },
  {
   "cell_type": "code",
   "execution_count": 4,
   "id": "1d3bfe4c-f2c9-4e19-9767-984aa5ab86a3",
   "metadata": {},
   "outputs": [
    {
     "name": "stdout",
     "output_type": "stream",
     "text": [
      "Z-Score: 1.0\n"
     ]
    }
   ],
   "source": [
    "data_point = 75\n",
    "population_mean = 70\n",
    "population_std = 5\n",
    "\n",
    "z_score = (data_point - population_mean) / population_std\n",
    "\n",
    "print(f\"Z-Score: {z_score}\")\n"
   ]
  },
  {
   "cell_type": "code",
   "execution_count": null,
   "id": "ffe5eda6-cede-4ac6-997f-0cc62c02297c",
   "metadata": {},
   "outputs": [],
   "source": [
    "Q10. In a study of the effectiveness of a new weight loss drug, a sample of 50 participants lost an average\n",
    "of 6 pounds with a standard deviation of 2.5 pounds. Conduct a hypothesis test to determine if the drug is\n",
    "significantly effective at a 95% confidence level using a t-test."
   ]
  },
  {
   "cell_type": "code",
   "execution_count": 5,
   "id": "52a2dfb6-c43e-4b6d-bf19-dea1cf547b59",
   "metadata": {},
   "outputs": [
    {
     "name": "stdout",
     "output_type": "stream",
     "text": [
      "Reject the null hypothesis. The drug is significantly effective.\n"
     ]
    }
   ],
   "source": [
    "import scipy.stats as stats\n",
    "\n",
    "sample_mean = 6\n",
    "sample_std = 2.5\n",
    "sample_size = 50\n",
    "confidence_level = 0.95\n",
    "hypothesized_mean = 0 \n",
    "t_statistic = (sample_mean - hypothesized_mean) / (sample_std / (sample_size**0.5))\n",
    "\n",
    "degrees_of_freedom = sample_size - 1\n",
    "\n",
    "critical_t_value = stats.t.ppf((1 + confidence_level) / 2, degrees_of_freedom)\n",
    "\n",
    "if abs(t_statistic) > critical_t_value:\n",
    "    print(\"Reject the null hypothesis. The drug is significantly effective.\")\n",
    "else:\n",
    "    print(\"Fail to reject the null hypothesis. There is insufficient evidence that the drug is significantly effective.\")\n"
   ]
  },
  {
   "cell_type": "code",
   "execution_count": null,
   "id": "23fd1f49-8756-4e9f-a54a-ea9f4390c6ea",
   "metadata": {},
   "outputs": [],
   "source": [
    "Q11. In a survey of 500 people, 65% reported being satisfied with their current job. Calculate the 95%\n",
    "confidence interval for the true proportion of people who are satisfied with their job."
   ]
  },
  {
   "cell_type": "code",
   "execution_count": 6,
   "id": "80bdb3de-a658-4f27-b85a-1154974fd264",
   "metadata": {},
   "outputs": [
    {
     "name": "stdout",
     "output_type": "stream",
     "text": [
      "95% Confidence Interval: (0.6082, 0.6918)\n"
     ]
    }
   ],
   "source": [
    "import scipy.stats as stats\n",
    "import math\n",
    "\n",
    "sample_proportion = 0.65\n",
    "sample_size = 500\n",
    "confidence_level = 0.95\n",
    "\n",
    "z_score = stats.norm.ppf((1 + confidence_level) / 2)\n",
    "\n",
    "margin_of_error = z_score * math.sqrt((sample_proportion * (1 - sample_proportion)) / sample_size)\n",
    "\n",
    "lower_bound = sample_proportion - margin_of_error\n",
    "upper_bound = sample_proportion + margin_of_error\n",
    "\n",
    "print(f\"95% Confidence Interval: ({lower_bound:.4f}, {upper_bound:.4f})\")\n"
   ]
  },
  {
   "cell_type": "code",
   "execution_count": null,
   "id": "2252da29-3c38-4ef1-b8fc-8c8bff2c9b3e",
   "metadata": {},
   "outputs": [],
   "source": [
    "Q12. A researcher is testing the effectiveness of two different teaching methods on student performance.\n",
    "Sample A has a mean score of 85 with a standard deviation of 6, while sample B has a mean score of 82\n",
    "with a standard deviation of 5. Conduct a hypothesis test to determine if the two teaching methods have a\n",
    "significant difference in student performance using a t-test with a significance level of 0.01."
   ]
  },
  {
   "cell_type": "code",
   "execution_count": 7,
   "id": "0fffe6e6-f886-4c39-ad44-fedf9202bcd0",
   "metadata": {},
   "outputs": [
    {
     "name": "stdout",
     "output_type": "stream",
     "text": [
      "Fail to reject the null hypothesis. There is insufficient evidence to conclude a significant difference.\n"
     ]
    }
   ],
   "source": [
    "import scipy.stats as stats\n",
    "\n",
    "mean_A = 85\n",
    "std_dev_A = 6\n",
    "sample_size_A = 30 \n",
    "\n",
    "mean_B = 82\n",
    "std_dev_B = 5\n",
    "sample_size_B = 30  \n",
    "\n",
    "alpha = 0.01\n",
    "\n",
    "t_statistic, p_value = stats.ttest_ind_from_stats(mean_A, std_dev_A, sample_size_A, mean_B, std_dev_B, sample_size_B)\n",
    "\n",
    "df = sample_size_A + sample_size_B - 2\n",
    "\n",
    "critical_t_value = stats.t.ppf(1 - alpha / 2, df)\n",
    "\n",
    "if abs(t_statistic) > critical_t_value:\n",
    "    print(\"Reject the null hypothesis. There is a significant difference in student performance between the two teaching methods.\")\n",
    "else:\n",
    "    print(\"Fail to reject the null hypothesis. There is insufficient evidence to conclude a significant difference.\")\n"
   ]
  },
  {
   "cell_type": "code",
   "execution_count": null,
   "id": "02f9ce12-6f57-41a4-8d32-1e4cdfb254a9",
   "metadata": {},
   "outputs": [],
   "source": [
    "Q13. A population has a mean of 60 and a standard deviation of 8. A sample of 50 observations has a mean\n",
    "of 65. Calculate the 90% confidence interval for the true population mean."
   ]
  },
  {
   "cell_type": "code",
   "execution_count": 8,
   "id": "473d5100-bb4a-4b95-891c-25252fef19ab",
   "metadata": {},
   "outputs": [
    {
     "name": "stdout",
     "output_type": "stream",
     "text": [
      "90% Confidence Interval: (63.14, 66.86)\n"
     ]
    }
   ],
   "source": [
    "import scipy.stats as stats\n",
    "import math\n",
    "\n",
    "sample_mean = 65\n",
    "population_mean = 60\n",
    "population_std = 8\n",
    "sample_size = 50\n",
    "confidence_level = 0.90\n",
    "\n",
    "z_score = stats.norm.ppf((1 + confidence_level) / 2)\n",
    "\n",
    "margin_of_error = z_score * (population_std / math.sqrt(sample_size))\n",
    "\n",
    "lower_bound = sample_mean - margin_of_error\n",
    "upper_bound = sample_mean + margin_of_error\n",
    "\n",
    "print(f\"90% Confidence Interval: ({lower_bound:.2f}, {upper_bound:.2f})\")\n"
   ]
  },
  {
   "cell_type": "code",
   "execution_count": null,
   "id": "591f4b04-50a2-451b-b807-87bd2caf4a8a",
   "metadata": {},
   "outputs": [],
   "source": [
    "Q14. In a study of the effects of caffeine on reaction time, a sample of 30 participants had an average\n",
    "reaction time of 0.25 seconds with a standard deviation of 0.05 seconds. Conduct a hypothesis test to\n",
    "determine if the caffeine has a significant effect on reaction time at a 90% confidence level using a t-test."
   ]
  },
  {
   "cell_type": "code",
   "execution_count": 9,
   "id": "0d96e2a0-be8a-4609-b056-30866e3e215c",
   "metadata": {},
   "outputs": [
    {
     "name": "stdout",
     "output_type": "stream",
     "text": [
      "Reject the null hypothesis. Caffeine has a significant effect on reaction time.\n"
     ]
    }
   ],
   "source": [
    "import scipy.stats as stats\n",
    "\n",
    "sample_mean = 0.25\n",
    "sample_std = 0.05\n",
    "sample_size = 30\n",
    "confidence_level = 0.90\n",
    "hypothesized_mean = 0 \n",
    "\n",
    "t_statistic = (sample_mean - hypothesized_mean) / (sample_std / (sample_size**0.5))\n",
    "\n",
    "df = sample_size - 1\n",
    "\n",
    "critical_t_value = stats.t.ppf((1 + confidence_level) / 2, df)\n",
    "\n",
    "if abs(t_statistic) > critical_t_value:\n",
    "    print(\"Reject the null hypothesis. Caffeine has a significant effect on reaction time.\")\n",
    "else:\n",
    "    print(\"Fail to reject the null hypothesis. There is insufficient evidence that caffeine has a significant effect on reaction time.\")\n"
   ]
  },
  {
   "cell_type": "code",
   "execution_count": null,
   "id": "292c83e5-d82e-4261-b603-411f72b4bbba",
   "metadata": {},
   "outputs": [],
   "source": []
  },
  {
   "cell_type": "code",
   "execution_count": null,
   "id": "43fd72ee-57a0-4f3f-8250-2604b68fe8d4",
   "metadata": {},
   "outputs": [],
   "source": []
  },
  {
   "cell_type": "code",
   "execution_count": null,
   "id": "8d5c2d51-09e7-4293-b45b-0afd7720f293",
   "metadata": {},
   "outputs": [],
   "source": []
  }
 ],
 "metadata": {
  "kernelspec": {
   "display_name": "Python 3 (ipykernel)",
   "language": "python",
   "name": "python3"
  },
  "language_info": {
   "codemirror_mode": {
    "name": "ipython",
    "version": 3
   },
   "file_extension": ".py",
   "mimetype": "text/x-python",
   "name": "python",
   "nbconvert_exporter": "python",
   "pygments_lexer": "ipython3",
   "version": "3.10.8"
  }
 },
 "nbformat": 4,
 "nbformat_minor": 5
}
