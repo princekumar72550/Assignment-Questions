{
 "cells": [
  {
   "cell_type": "code",
   "execution_count": null,
   "id": "2ac1ffb8-1f4a-498d-92a2-2d835741e09a",
   "metadata": {},
   "outputs": [],
   "source": [
    "Q1. You are writing code for a company. The requirement of the company is that you create a python \n",
    "function that will check whether the password entered by the user is correct or not. The function should \n",
    "take the password as input and return the string “Valid Password” if the entered password follows the \n",
    "below-given password guidelines else it should return “Invalid Password”.\n",
    "Note: 1. The Password should contain at least two uppercase letters and at least two lowercase letters.\n",
    "\n",
    "2. The Password should contain at least a number and three special characters.\n",
    "\n",
    "3. The length of the password should be 10 characters long"
   ]
  },
  {
   "cell_type": "code",
   "execution_count": 9,
   "id": "55c8bbab-49ef-4a65-bb47-da4e36573702",
   "metadata": {},
   "outputs": [
    {
     "name": "stdin",
     "output_type": "stream",
     "text": [
      "Enter your password:  khjIYNIY$]r,.thdo617\n"
     ]
    },
    {
     "name": "stdout",
     "output_type": "stream",
     "text": [
      "Valid Password\n"
     ]
    }
   ],
   "source": [
    "import re\n",
    "\n",
    "def check_password_validity(password):\n",
    "   \n",
    "    if len(password) < 10:\n",
    "        return \"Invalid Password: Password should be at least 8 characters long.\"\n",
    "\n",
    "    \n",
    "    if not any(char.isupper() for char in password):\n",
    "        return \"Invalid Password: Password should contain at least one uppercase letter.\"\n",
    "\n",
    "  \n",
    "    if not any(char.islower() for char in password):\n",
    "        return \"Invalid Password: Password should contain at least one lowercase letter.\"\n",
    "\n",
    "  \n",
    "    if not any(char.isdigit() for char in password):\n",
    "        return \"Invalid Password: Password should contain at least one digit.\"\n",
    "\n",
    "   \n",
    "    if not re.search(\"[!@#$%^&*(),.?\\\":{}|<>]\", password):\n",
    "        return \"Invalid Password: Password should contain at least one special character.\"\n",
    "\n",
    "   \n",
    "    return \"Valid Password\"\n",
    "\n",
    "\n",
    "user_password = input(\"Enter your password: \")\n",
    "result = check_password_validity(user_password)\n",
    "print(result)\n"
   ]
  },
  {
   "cell_type": "code",
   "execution_count": null,
   "id": "78b10c07-6efa-4bbb-bf74-0b50e45314e4",
   "metadata": {},
   "outputs": [],
   "source": [
    "Q2. Solve the below-given questions using at least one of the following: \n",
    "\n",
    "1. Lambda functionS\n",
    "\n",
    "2. Filter function\n",
    "\n",
    "3. Map function\n",
    "\n",
    "4. List ComprehensioI\n",
    "Check if the string starts with a particular letterY\n",
    "Check if the string is numericY\n",
    "Sort a list of tuples having fruit names and their quantity. [(\"mango\",99),(\"orange\",80), (\"grapes\", 1000)-\n",
    "Find the squares of numbers from 1 to 10Y\n",
    "Find the cube root of numbers from 1 to 10Y\n",
    "Check if a given number is evenY\n",
    "Filter odd numbers from the given list.\n",
    "[1,2,3,4,5,6,7,8,9,10-\n",
    "Sort a list of integers into positive and negative integers lists.\n",
    "[1,2,3,4,5,6,-1,-2,-3,-4,-5,0]"
   ]
  },
  {
   "cell_type": "code",
   "execution_count": 15,
   "id": "bf0cfbc0-81cb-4fd5-885a-410eae0fa5d7",
   "metadata": {},
   "outputs": [
    {
     "name": "stdout",
     "output_type": "stream",
     "text": [
      "True\n",
      "True\n",
      "[('orange', 80), ('mango', 99), ('grapes', 1000)]\n",
      "[1, 4, 9, 16, 25, 36, 49, 64, 81, 100]\n",
      "[1.0, 1.2599210498948732, 1.4422495703074083, 1.5874010519681994, 1.7099759466766968, 1.8171205928321397, 1.912931182772389, 2.0, 2.080083823051904, 2.154434690031884]\n",
      "True\n",
      "[1, 3, 5, 7, 9]\n",
      "[1, 2, 3, 4, 5, 6]\n",
      "[-1, -2, -3, -4, -5]\n"
     ]
    }
   ],
   "source": [
    "starts_with_letter = lambda string, letter: True if string.startswith(letter) else False\n",
    "\n",
    "\n",
    "is_numeric = lambda string: string.isnumeric()\n",
    "\n",
    "\n",
    "sort_fruit_list = lambda fruit_list: sorted(fruit_list, key=lambda x: x[1])\n",
    "\n",
    "# Find the squares of numbers from 1 to 10\n",
    "squares = list(map(lambda x: x ** 2, range(1, 11)))\n",
    "\n",
    "# Find the cube root of numbers from 1 to 10\n",
    "cube_roots = list(map(lambda x: x ** (1/3), range(1, 11)))\n",
    "\n",
    "# Check if a given number is even\n",
    "is_even = lambda num: num % 2 == 0\n",
    "\n",
    "# Filter odd numbers from the given list\n",
    "numbers = [1, 2, 3, 4, 5, 6, 7, 8, 9, 10]\n",
    "odd_numbers = list(filter(lambda x: x % 2 != 0, numbers))\n",
    "\n",
    "# Sort a list of integers into positive and negative integers lists\n",
    "integer_list = [1, 2, 3, 4, 5, 6, -1, -2, -3, -4, -5, 0]\n",
    "positive_integers = list(filter(lambda x: x > 0, integer_list))\n",
    "negative_integers = list(filter(lambda x: x < 0, integer_list))\n",
    "\n",
    "# Output\n",
    "print(starts_with_letter(\"Hello\", \"H\"))  # True\n",
    "print(is_numeric(\"123\"))  # True\n",
    "print(sort_fruit_list([(\"mango\", 99), (\"orange\", 80), (\"grapes\", 1000)]))\n",
    "print(squares)\n",
    "print(cube_roots)\n",
    "print(is_even(6))  # True\n",
    "print(odd_numbers)\n",
    "print(positive_integers)\n",
    "print(negative_integers)\n"
   ]
  },
  {
   "cell_type": "code",
   "execution_count": null,
   "id": "b4196a69-d701-4013-b4c2-db2a9bd331aa",
   "metadata": {},
   "outputs": [],
   "source": []
  },
  {
   "cell_type": "code",
   "execution_count": null,
   "id": "935f7627-bcc7-4731-a5e3-ae9a251ca1f8",
   "metadata": {},
   "outputs": [],
   "source": []
  },
  {
   "cell_type": "code",
   "execution_count": null,
   "id": "dc8e37b3-7b05-4c40-8947-da72a8d282f9",
   "metadata": {},
   "outputs": [],
   "source": []
  }
 ],
 "metadata": {
  "kernelspec": {
   "display_name": "Python 3 (ipykernel)",
   "language": "python",
   "name": "python3"
  },
  "language_info": {
   "codemirror_mode": {
    "name": "ipython",
    "version": 3
   },
   "file_extension": ".py",
   "mimetype": "text/x-python",
   "name": "python",
   "nbconvert_exporter": "python",
   "pygments_lexer": "ipython3",
   "version": "3.10.8"
  }
 },
 "nbformat": 4,
 "nbformat_minor": 5
}
