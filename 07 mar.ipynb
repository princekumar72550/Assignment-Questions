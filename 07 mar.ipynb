{
 "cells": [
  {
   "cell_type": "code",
   "execution_count": null,
   "id": "9f0dc994-3a35-448d-863c-48d2cfa27823",
   "metadata": {},
   "outputs": [],
   "source": [
    "Q1. What are the three measures of central tendency?"
   ]
  },
  {
   "cell_type": "code",
   "execution_count": null,
   "id": "4fdb9545-ca81-40a3-9bfe-2dbe240a5ad2",
   "metadata": {},
   "outputs": [],
   "source": [
    "There are three main measures of central tendency: mode. median. mean.\n",
    "\n",
    "Mean in general terms is used for the arithmetic mean of the data, but other than the arithmetic mean there are geometric mean and harmonic mean as well that are calculated using different formulas. Here in this article, we will discuss the arithmetic mean.\n",
    "\n",
    "Median :-The Median of any distribution is that value that divides the distribution into two equal parts such that the number of observations above it is equal to the number of observations below it. Thus, the median is called the central value of any given data either grouped or ungrouped.\n",
    "\n",
    "Mode:-The Mode is the value of that observation which has a maximum frequency corresponding to it. In other, that observation of the data occurs the maximum number of times in a dataset."
   ]
  },
  {
   "cell_type": "code",
   "execution_count": null,
   "id": "5f100491-97a3-4878-997e-a6dce7cdab4f",
   "metadata": {},
   "outputs": [],
   "source": [
    "Q2. What is the difference between the mean, median, and mode? How are they used to measure the\n",
    "central tendency of a dataset?"
   ]
  },
  {
   "cell_type": "code",
   "execution_count": null,
   "id": "47b60b01-b9b8-47a1-8e04-909381c5fa3e",
   "metadata": {},
   "outputs": [],
   "source": [
    "Mean is the average value of the given observations. \n",
    "Example: To find the average of the four numbers 2, 4, 6, and 8, we need to add the number first.\n",
    "2 + 4 + 6+ 8 = 20\n",
    "Divide the sum by the total number of numbers, i. e 4.\n",
    "20/4 = 5 is the average or mean\n",
    "\n",
    "Median is the middle value of the given observations.\n",
    "Example: 4, 2, 8, 10, 19.\n",
    "Arrange the numbers in ascending order. i .e., 2, 4, 8, 10, 19.\n",
    "As the total numbers are 5, so the middle number 8 is the median here.\n",
    "\n",
    "Mode is the most repeated value in the given observation.\n",
    "Example: 3, 3, 5, 6, 7, 7, 8, 1, 1, 1, 4, 5, 6.\n",
    "Find the frequency of each number.\n",
    "For number 3, it’s 2. For 5, it’s 2. For 6, it’s 2. For 7, it’s 2. For 8, it’s one. For 1, it’s 3. For 4, it’s 1.\n",
    "The number with the highest frequency is the mode. Hence, the mode of the given sequence of numbers is 1.\n"
   ]
  },
  {
   "cell_type": "code",
   "execution_count": null,
   "id": "21222621-3994-434e-8007-1ba11d6d3ce1",
   "metadata": {},
   "outputs": [],
   "source": [
    "Q3. Measure the three measures of central tendency for the given height data:\n",
    "\n",
    " [178,177,176,177,178.2,178,175,179,180,175,178.9,176.2,177,172.5,178,176.5]"
   ]
  },
  {
   "cell_type": "code",
   "execution_count": 3,
   "id": "d537bc18-19d9-4acc-b085-879f2b6c92af",
   "metadata": {},
   "outputs": [],
   "source": [
    "import numpy as np"
   ]
  },
  {
   "cell_type": "code",
   "execution_count": 1,
   "id": "304bcb04-78ef-4792-b8eb-c7d4a2692d6f",
   "metadata": {},
   "outputs": [],
   "source": [
    "l=[178,177,176,177,178.2,178,175,179,180,175,178.9,176.2,177,172.5,178,176.5]"
   ]
  },
  {
   "cell_type": "code",
   "execution_count": 6,
   "id": "5f39dfe1-a6e4-4830-9747-e705f49e5f5c",
   "metadata": {},
   "outputs": [
    {
     "data": {
      "text/plain": [
       "177.01875"
      ]
     },
     "execution_count": 6,
     "metadata": {},
     "output_type": "execute_result"
    }
   ],
   "source": [
    "np.mean(l)\n"
   ]
  },
  {
   "cell_type": "code",
   "execution_count": 7,
   "id": "bea68abe-08c6-4afb-9b7d-f2dfc146e8ab",
   "metadata": {},
   "outputs": [
    {
     "data": {
      "text/plain": [
       "177.0"
      ]
     },
     "execution_count": 7,
     "metadata": {},
     "output_type": "execute_result"
    }
   ],
   "source": [
    "np.median(l)\n"
   ]
  },
  {
   "cell_type": "code",
   "execution_count": 14,
   "id": "8f2320ca-a3a9-43ff-bd4b-cbee2317ad39",
   "metadata": {},
   "outputs": [
    {
     "name": "stderr",
     "output_type": "stream",
     "text": [
      "/tmp/ipykernel_105/3375867586.py:1: FutureWarning: Unlike other reduction functions (e.g. `skew`, `kurtosis`), the default behavior of `mode` typically preserves the axis it acts along. In SciPy 1.11.0, this behavior will change: the default value of `keepdims` will become False, the `axis` over which the statistic is taken will be eliminated, and the value None will no longer be accepted. Set `keepdims` to True or False to avoid this warning.\n",
      "  result = mode(l)\n"
     ]
    },
    {
     "data": {
      "text/plain": [
       "177.0"
      ]
     },
     "execution_count": 14,
     "metadata": {},
     "output_type": "execute_result"
    }
   ],
   "source": [
    "result = mode(l)\n",
    "result.mode[0]"
   ]
  },
  {
   "cell_type": "code",
   "execution_count": null,
   "id": "d0a2ab08-90ed-47aa-89cc-8ceac7a9085a",
   "metadata": {},
   "outputs": [],
   "source": [
    "Q4. Find the standard deviation for the given data:\n",
    "\n",
    "[178,177,176,177,178.2,178,175,179,180,175,178.9,176.2,177,172.5,178,176.5]"
   ]
  },
  {
   "cell_type": "code",
   "execution_count": 16,
   "id": "9576c85b-2598-4911-bbf3-7d57ae21d056",
   "metadata": {},
   "outputs": [
    {
     "name": "stdout",
     "output_type": "stream",
     "text": [
      "1.7885814036548633\n"
     ]
    }
   ],
   "source": [
    "import numpy as np\n",
    "data = np.array([178,177,176,177,178.2,178,175,179,180,175,178.9,176.2,177,172.5,178,176.5])\n",
    "std = np.std(data)\n",
    "print(std)\n"
   ]
  },
  {
   "cell_type": "code",
   "execution_count": null,
   "id": "98dc33de-116c-4903-a9cd-c3eca07b0961",
   "metadata": {},
   "outputs": [],
   "source": [
    "Q5. How are measures of dispersion such as range, variance, and standard deviation used to describe\n",
    "the spread of a dataset? Provide an example."
   ]
  },
  {
   "cell_type": "code",
   "execution_count": null,
   "id": "ff891dcb-2ed0-4dfd-8d01-9eeddbed3d12",
   "metadata": {},
   "outputs": [],
   "source": [
    "Range:-The range of the data is given as the difference between the maximum and the minimum values of the observations in the data. For example, let’s say we have data on the number of customers walking in the store in a week.\n",
    "Eg-10, 14, 8, 10, 15, 4, 7\n",
    "\n",
    "Minimum value in data = 7 \n",
    "\n",
    "Maximum Value in the data = 15\n",
    "\n",
    "Range = Maximum Value in the data – Minimum value in the data  \n",
    "= 15 – 7 \n",
    "= 8 \n",
    "\n",
    "Variance:-The variance of the data is given by measuring the distance of the observed values from the mean of the distribution. Here we are not concerned with the sign of the distance of the point, we are more interested in the magnitude. So, we take squares of the distance from the mean. Let’s say we have x1, x2, x3 …. xn as n observations and \\bar{x} be the mean. \n",
    "Example: Y: [0, 2, 4, 6, 8] (Variance = 8)\n",
    "\n",
    "Standard Deviation\n",
    "In the calculation of variance, notice that the units of the variance and the unit of the observations are not the same. So, to remove this problem, we define standard deviation. It is denoted as \\sigma\n",
    "Example:Q: [5, 10, 15, 20, 25] (Standard Deviation ≈ 7.07)"
   ]
  },
  {
   "cell_type": "code",
   "execution_count": null,
   "id": "16211a2a-e2fc-4b34-81aa-1b6d49a82a1a",
   "metadata": {},
   "outputs": [],
   "source": [
    "Q6. What is a Venn diagram?"
   ]
  },
  {
   "cell_type": "code",
   "execution_count": null,
   "id": "5dddbb98-35d8-4cd4-b19b-fd15b7b23235",
   "metadata": {},
   "outputs": [],
   "source": [
    "A Venn diagram is an illustration that uses circles to show the relationships among things or finite groups of things."
   ]
  },
  {
   "cell_type": "code",
   "execution_count": null,
   "id": "159e7bff-737e-4941-a2d5-3d03e6e0b170",
   "metadata": {},
   "outputs": [],
   "source": [
    "Q7. For the two given sets A = (2,3,4,5,6,7) & B = (0,2,6,8,10). Find:\n",
    "\n",
    "(i) \tA B\n",
    "\n",
    "(ii)\tA ⋃ B"
   ]
  },
  {
   "cell_type": "code",
   "execution_count": 19,
   "id": "155bde98-beb1-44bb-9656-0ce62e7eb5ba",
   "metadata": {},
   "outputs": [
    {
     "name": "stdout",
     "output_type": "stream",
     "text": [
      "{2, 6}\n",
      "{0, 2, 3, 4, 5, 6, 7, 8, 10}\n"
     ]
    }
   ],
   "source": [
    "A = {2, 3, 4, 5, 6, 7}\n",
    "B = {0, 2, 6, 8, 10}\n",
    "\n",
    "A_B = A & B\n",
    "print(A_B)\n",
    "\n",
    "A_UB = A | B\n",
    "print(A_UB)\n"
   ]
  },
  {
   "cell_type": "code",
   "execution_count": null,
   "id": "f1302f56-0324-4dd6-8782-36bc89d698da",
   "metadata": {},
   "outputs": [],
   "source": [
    "Q8. What do you understand about skewness in data?"
   ]
  },
  {
   "cell_type": "code",
   "execution_count": null,
   "id": "0a4241f8-809b-47ec-b725-2d928c4f496e",
   "metadata": {},
   "outputs": [],
   "source": [
    "Skewness is a measure of the asymmetry of a distribution. A distribution is asymmetrical when its left and right side are \n",
    "not mirror images. A distribution can have right (or positive), left (or negative), or zero skewness."
   ]
  },
  {
   "cell_type": "code",
   "execution_count": null,
   "id": "fe6f119b-d027-4691-8051-c069141ca032",
   "metadata": {},
   "outputs": [],
   "source": [
    "Q9. If a data is right skewed then what will be the position of median with respect to mean?"
   ]
  },
  {
   "cell_type": "code",
   "execution_count": null,
   "id": "fe7c6ffb-a8e3-4504-aac9-45cb0c305244",
   "metadata": {},
   "outputs": [],
   "source": [
    "Mean: The mean is sensitive to extreme values. In a right-skewed distribution, the presence of higher values on the right \n",
    "side of the distribution will typically pull the mean in the direction of the skewness. As a result, the mean will be greater\n",
    "than the median.\n",
    "\n",
    "Median: The median is less affected by extreme values. It represents the middle value when the data is ordered, so it is less \n",
    "influenced by outliers on one side. In a right-skewed distribution, the median will be relatively closer to the left side of the\n",
    "distribution and less influenced by the long tail on the right. Therefore, the median is typically less than the mean in a \n",
    "right-skewed distribution."
   ]
  },
  {
   "cell_type": "code",
   "execution_count": null,
   "id": "574ebd9d-4e91-4b9f-b370-39b59752e419",
   "metadata": {},
   "outputs": [],
   "source": [
    "Q10. Explain the difference between covariance and correlation. How are these measures used in\n",
    "statistical analysis?"
   ]
  },
  {
   "cell_type": "code",
   "execution_count": null,
   "id": "1bf045dc-1909-4e00-ab50-cba4c036348a",
   "metadata": {},
   "outputs": [],
   "source": [
    "Covariance:\n",
    "    *Covariance is an indicator of the extent to which 2 random variables are dependent on each other. A higher number denotes higher dependency.\n",
    "    *The value of covariance lies in the range of -∞ and +∞.\n",
    "    *Used to understand the direction of the relationship between two variables.\n",
    "    *Not easily interpretable due to lack of standardization.\n",
    "    *Sensitive to changes in scale.\n",
    "Correlation:\n",
    "    *Correlation is a statistical measure that indicates how strongly two variables are related.\n",
    "    *Correlation is limited to values between the range -1 and +1\n",
    "    *Standardized, making it easier to interpret and compare across different datasets.\n",
    "    *Provides information about both the strength and direction of the relationship.\n",
    "    *Scales between -1 and 1, allowing for a more consistent comparison."
   ]
  },
  {
   "cell_type": "code",
   "execution_count": null,
   "id": "b1c53c7a-6a1e-4e5a-beca-bc2ec86aee0c",
   "metadata": {},
   "outputs": [],
   "source": [
    "Q11. What is the formula for calculating the sample mean? Provide an example calculation for a\n",
    "dataset."
   ]
  },
  {
   "cell_type": "code",
   "execution_count": null,
   "id": "52cb1e88-b5ca-488f-a513-09da173e93ee",
   "metadata": {},
   "outputs": [],
   "source": [
    "Sample Mean = (Sum of terms) ÷ (Number of Terms) =\n",
    "∑xi/n=(x1+x2+x3+⋯+xn)/n\n",
    "\n",
    "Where\n",
    "∑xi= sum of terms\n",
    "n = number of terms"
   ]
  },
  {
   "cell_type": "code",
   "execution_count": null,
   "id": "40895dfc-66ec-4ffe-b05b-fe448cf707b0",
   "metadata": {},
   "outputs": [],
   "source": [
    "Q12. For a normal distribution data what is the relationship between its measure of central tendency?"
   ]
  },
  {
   "cell_type": "code",
   "execution_count": null,
   "id": "201ccf5f-a19f-4b08-bc9e-45802b2becee",
   "metadata": {},
   "outputs": [],
   "source": [
    "Mean (μ): The mean is located at the center of the distribution. For a normal distribution, the mean is equal to the median.\n",
    "\n",
    "Median: The median is the middle value when the data is ordered. In a normal distribution, due to symmetry, the median is also located at the center and is equal to the mean.\n",
    "\n",
    "Mode: The mode is the value that occurs most frequently. In a perfectly symmetrical normal distribution, there is a unique peak, and the mode is also at the center. Therefore, the mode is equal to both the mean and the median.\n",
    "\n",
    "for a normal distribution:\n",
    "\n",
    "Mean=Median=Mode"
   ]
  },
  {
   "cell_type": "code",
   "execution_count": null,
   "id": "0029c51a-bb05-482c-ad08-883f9934438d",
   "metadata": {},
   "outputs": [],
   "source": [
    "Q13. How is covariance different from correlation?"
   ]
  },
  {
   "cell_type": "code",
   "execution_count": null,
   "id": "c3ee7f02-8990-4a3c-98c4-d0e92246ebba",
   "metadata": {},
   "outputs": [],
   "source": [
    "Covariance indicates the direction of the linear relationship between variables. Correlation measures both the strength and direction of the linear relationship between two variables."
   ]
  },
  {
   "cell_type": "code",
   "execution_count": null,
   "id": "330f2359-0527-4c0c-8451-0a85a1289b56",
   "metadata": {},
   "outputs": [],
   "source": [
    "Q14. How do outliers affect measures of central tendency and dispersion? Provide an example."
   ]
  },
  {
   "cell_type": "code",
   "execution_count": null,
   "id": "3dedb52f-7c3b-4371-929a-fa718363d7c1",
   "metadata": {},
   "outputs": [],
   "source": [
    "Measures of Central Tendency:\n",
    "Mean: Outliers, especially those at the extreme ends of the data, can significantly influence the mean. Since the mean is sensitive to extreme values, an outlier can pull the mean towards its value.\n",
    "Median: The median is less affected by outliers. It represents the middle value when the data is ordered, so extreme values have less impact on its calculation.\n",
    "Measures of Dispersion:\n",
    "\n",
    "Range: Outliers can greatly affect the range, especially if they are positioned far from the bulk of the data. The range is the difference between the maximum and minimum values, so extreme values can widen the range.\n",
    "Variance and Standard Deviation: Outliers increase the variability in the dataset, leading to larger variance and standard deviation. Squaring the differences from the mean (used in variance calculation) amplifies the impact of outliers.\n",
    "Example:\n",
    "    {78,80,82,85,90,92,94,96,98,120}\n"
   ]
  },
  {
   "cell_type": "code",
   "execution_count": 20,
   "id": "ffa1ffee-2d35-4b16-ba39-bda2c1ed5b05",
   "metadata": {},
   "outputs": [
    {
     "name": "stdout",
     "output_type": "stream",
     "text": [
      "Mean: 91.5\n",
      "Median: 91.0\n",
      "Mode: [78]\n"
     ]
    },
    {
     "name": "stderr",
     "output_type": "stream",
     "text": [
      "/tmp/ipykernel_105/3241872497.py:7: FutureWarning: Unlike other reduction functions (e.g. `skew`, `kurtosis`), the default behavior of `mode` typically preserves the axis it acts along. In SciPy 1.11.0, this behavior will change: the default value of `keepdims` will become False, the `axis` over which the statistic is taken will be eliminated, and the value None will no longer be accepted. Set `keepdims` to True or False to avoid this warning.\n",
      "  mode_values = mode(data).mode\n"
     ]
    }
   ],
   "source": [
    "import numpy as np\n",
    "from scipy.stats import mode\n",
    "\n",
    "data = np.array([78, 80, 82, 85, 90, 92, 94, 96, 98, 120])\n",
    "\n",
    "mean_value, median_value = np.mean(data), np.median(data)\n",
    "mode_values = mode(data).mode\n",
    "\n",
    "print(\"Mean:\", mean_value)\n",
    "print(\"Median:\", median_value)\n",
    "print(\"Mode:\", mode_values)\n"
   ]
  },
  {
   "cell_type": "code",
   "execution_count": null,
   "id": "31159d74-a526-4b87-8cc2-f23a802aa002",
   "metadata": {},
   "outputs": [],
   "source": []
  }
 ],
 "metadata": {
  "kernelspec": {
   "display_name": "Python 3 (ipykernel)",
   "language": "python",
   "name": "python3"
  },
  "language_info": {
   "codemirror_mode": {
    "name": "ipython",
    "version": 3
   },
   "file_extension": ".py",
   "mimetype": "text/x-python",
   "name": "python",
   "nbconvert_exporter": "python",
   "pygments_lexer": "ipython3",
   "version": "3.10.8"
  }
 },
 "nbformat": 4,
 "nbformat_minor": 5
}
