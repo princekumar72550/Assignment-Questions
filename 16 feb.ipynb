{
 "cells": [
  {
   "cell_type": "code",
   "execution_count": null,
   "id": "7e0498f8-62a2-4009-9cb3-6aa033bae2cb",
   "metadata": {},
   "outputs": [],
   "source": [
    "Q1. What is a database? Differentiate between SQL and NoSQL databases."
   ]
  },
  {
   "cell_type": "code",
   "execution_count": null,
   "id": "52991cca-b945-412b-a8e9-b4d848ee9b09",
   "metadata": {},
   "outputs": [],
   "source": [
    "A database is a collection of data that is organized, which is also called structured data. \n",
    "It can be accessed or stored in a computer system. It can be managed through a Database Management System (DBMS),\n",
    "a software used to manage data. Database refers to related data in a structured form.\n",
    "\n",
    "SQL:\n",
    "    *RELATIONAL DATABASE MANAGEMENT SYSTEM (RDBMS)\n",
    "    *These databases have fixed or static or predefined schema\n",
    "    *These databases are not suited for hierarchical data storage.\n",
    "    *These databases are best suited for complex queries\n",
    "    *Vertically Scalable\n",
    "    *Follows ACID property\n",
    "\n",
    "NoSQL:\n",
    "    *Non-relational or distributed database system.\n",
    "    *They have a dynamic schema\n",
    "    *These databases are best suited for hierarchical data storage.\n",
    "    *These databases are not so good for complex queries\n",
    "    *Horizontally scalable\n",
    "    *Follows CAP(consistency, availability, partition tolerance)"
   ]
  },
  {
   "cell_type": "code",
   "execution_count": null,
   "id": "4994de72-bea3-4eea-9818-8027b24693a9",
   "metadata": {},
   "outputs": [],
   "source": [
    "Q2. What is DDL? Explain why CREATE, DROP, ALTER, and TRUNCATE are used with an example."
   ]
  },
  {
   "cell_type": "code",
   "execution_count": null,
   "id": "50899a07-35bc-4f5e-9daf-692d594777d5",
   "metadata": {},
   "outputs": [],
   "source": [
    "DDL stands for Data Definition Language. \n",
    "These commands are used to change the structure of a database and database objects.For example, DDL commands can be used to add, remove, or modify tables with in a database."
   ]
  },
  {
   "cell_type": "code",
   "execution_count": null,
   "id": "74314ffa-c3d6-4e5d-b328-bb6301ca6e63",
   "metadata": {},
   "outputs": [],
   "source": [
    "CREATE:\n",
    "The CREATE statement is used to create new database objects, such as tables, indexes, views, and more.\n",
    "\n",
    "CREATE TABLE employees (\n",
    "    employee_id INT PRIMARY KEY,\n",
    "    first_name VARCHAR(50),\n",
    "    last_name VARCHAR(50),\n",
    "    salary DECIMAL(10, 2)\n",
    ");\n",
    "\n",
    "\n",
    "DROP:\n",
    "    The DROP statement is used to delete or remove existing database objects, such as tables, indexes, or views.\n",
    "\n",
    "DROP TABLE employees;\n",
    "\n",
    "ALTER:\n",
    "    The ALTER statement is used to modify the structure of existing database objects, such as adding or dropping columns, modifying data types, or changing constraints.\n",
    "\n",
    "ALTER TABLE employees\n",
    "ADD COLUMN department VARCHAR(50);\n",
    "\n",
    "TRUNCATE:\n",
    "The TRUNCATE statement is used to remove all rows from a table, effectively resetting the table to an empty state. Unlike DELETE, TRUNCATE is a faster operation and does not log individual row deletions.\n",
    "\n",
    "TRUNCATE TABLE employees;\n"
   ]
  },
  {
   "cell_type": "code",
   "execution_count": null,
   "id": "222801f4-0be7-446d-b072-30824d3116f4",
   "metadata": {},
   "outputs": [],
   "source": [
    "Q3. What is DML? Explain INSERT, UPDATE, and DELETE with an example"
   ]
  },
  {
   "cell_type": "code",
   "execution_count": null,
   "id": "d63a368a-8ca6-4568-b499-f5ae2f0249fb",
   "metadata": {},
   "outputs": [],
   "source": [
    "\n",
    "DML stands for Data Manipulation Language. It is a subset of SQL (Structured Query Language) used to manipulate and query data stored in relational databases. DML operations primarily deal\n",
    "with the manipulation of data within database tables. \n",
    "\n",
    "INSERT:\n",
    "    Used to add new rows (records) into a table.\n",
    "    \n",
    "    INSERT INTO employees (employee_id, first_name, last_name, salary)\n",
    "VALUES (1, 'John', 'Doe', 50000);\n",
    "\n",
    "UPDATE:\n",
    "    Used to modify existing data in a table.\n",
    "UPDATE employees SET salary = 55000 WHERE employee_id = 1;\n",
    "\n",
    "DELETE:\n",
    "Used to remove one or more rows from a table.\n",
    "DELETE FROM employees WHERE employee_id = 1;\n"
   ]
  },
  {
   "cell_type": "code",
   "execution_count": null,
   "id": "9e3427d8-7f03-4da8-b443-924e65973ab4",
   "metadata": {},
   "outputs": [],
   "source": [
    "Q4. What is DQL? Explain SELECT with an example."
   ]
  },
  {
   "cell_type": "code",
   "execution_count": null,
   "id": "63bc0210-b67c-4880-9a01-879434aa983e",
   "metadata": {},
   "outputs": [],
   "source": [
    "DQL stands for Data Query Language. It is a subset of SQL (Structured Query Language) that specifically deals with the retrieval of data from a relational database. \n",
    "DQL is primarily focused on querying and extracting information from database tables. \n",
    "\n",
    "SELECT:\n",
    "The SELECT statement is used to retrieve data from one or more tables in a database. It allows you to specify the columns you want to retrieve, apply filtering conditions, and define the order in which the results should be presented.\n",
    "\n",
    "SELECT first_name, last_name, salary\n",
    "FROM employees\n",
    "WHERE department = 'IT'\n",
    "ORDER BY last_name;\n"
   ]
  },
  {
   "cell_type": "code",
   "execution_count": null,
   "id": "526bc7a3-0bb9-43cb-bfbc-5a4119b89be4",
   "metadata": {},
   "outputs": [],
   "source": [
    "Q5. Explain Primary Key and Foreign Key."
   ]
  },
  {
   "cell_type": "code",
   "execution_count": null,
   "id": "b55f9e6f-572e-4195-8601-c8fa3f629d82",
   "metadata": {},
   "outputs": [],
   "source": [
    "primary:\n",
    "    A primary key is used to ensure that data in the specific column is unique. A column cannot have NULL values.\n",
    "It is either an existing table column or a column that is specifically generated by the database according to a defined sequence. \n",
    "\n",
    "Foreign:\n",
    "    A foreign key is a column or group of columns in a relational database table that provides a link between data in two tables. It is a column (or columns) that references a column (most often the primary key) of another table. "
   ]
  },
  {
   "cell_type": "code",
   "execution_count": null,
   "id": "c437ab95-f048-469c-96cb-046c50dbd63f",
   "metadata": {},
   "outputs": [],
   "source": [
    "Q6. Write a python code to connect MySQL to python. Explain the cursor() and execute() method."
   ]
  },
  {
   "cell_type": "code",
   "execution_count": 1,
   "id": "68944aae-15b8-4782-9cd8-5112ee253a07",
   "metadata": {},
   "outputs": [
    {
     "name": "stdout",
     "output_type": "stream",
     "text": [
      "Collecting mysql-connector-python\n",
      "  Downloading mysql_connector_python-8.2.0-cp310-cp310-manylinux_2_17_x86_64.whl (31.6 MB)\n",
      "\u001b[2K     \u001b[90m━━━━━━━━━━━━━━━━━━━━━━━━━━━━━━━━━━━━━━━━\u001b[0m \u001b[32m31.6/31.6 MB\u001b[0m \u001b[31m48.7 MB/s\u001b[0m eta \u001b[36m0:00:00\u001b[0m00:01\u001b[0m00:01\u001b[0m\n",
      "\u001b[?25hRequirement already satisfied: protobuf<=4.21.12,>=4.21.1 in /opt/conda/lib/python3.10/site-packages (from mysql-connector-python) (4.21.11)\n",
      "Installing collected packages: mysql-connector-python\n",
      "Successfully installed mysql-connector-python-8.2.0\n",
      "Note: you may need to restart the kernel to use updated packages.\n"
     ]
    }
   ],
   "source": [
    "pip install mysql-connector-python\n"
   ]
  },
  {
   "cell_type": "code",
   "execution_count": 4,
   "id": "49037373-9e03-451f-9495-da4703291b76",
   "metadata": {},
   "outputs": [],
   "source": [
    "import mysql.connector"
   ]
  },
  {
   "cell_type": "code",
   "execution_count": null,
   "id": "e17973ef-0a3c-4184-81d2-bbd733076d48",
   "metadata": {},
   "outputs": [],
   "source": [
    "import mysql.connector\n",
    "\n",
    "mydb = mysql.connector.connect(\n",
    "  host=\"localhost\",\n",
    "  user=\"yourusername\",\n",
    "  password=\"yourpassword\",\n",
    "  database=\"yourdatabase\"  # Add this line with your actual database name\n",
    ")\n",
    "\n",
    "print(mydb)\n"
   ]
  },
  {
   "cell_type": "code",
   "execution_count": null,
   "id": "5b623ff3-ca4f-4255-8a42-c1995812e789",
   "metadata": {},
   "outputs": [],
   "source": [
    "cursor() Method:\n",
    "\n",
    "    The cursor() method is used to create a cursor object, which is used to interact with the MySQL database.\n",
    "A cursor is essentially a pointer or an iterator that allows you to traverse and manipulate the rows retrieved from a database query.\n",
    "The cursor object acts as a handle for database operations, allowing you to execute SQL queries, fetch results, and perform various database-related tasks.\n",
    "\n",
    "import mysql.connector\n",
    "mydb = mysql.connector.connect(\n",
    "    host=\"localhost\",\n",
    "    user=\"yourusername\",\n",
    "    password=\"yourpassword\",\n",
    "    database=\"yourdatabase\"\n",
    ")\n",
    "mycursor = mydb.cursor()\n"
   ]
  },
  {
   "cell_type": "code",
   "execution_count": null,
   "id": "6fc20e63-1902-4b7a-8aad-3a517b104f9e",
   "metadata": {},
   "outputs": [],
   "source": [
    "execute() Method:\n",
    "\n",
    "The execute() method is used to execute SQL queries or commands through the cursor.\n",
    "It takes an SQL query as a parameter and executes it against the connected database.\n",
    "You can use placeholders in the SQL query and pass values as a tuple to prevent SQL injection.\n",
    "\n",
    "sql_query = \"SELECT * FROM your_table WHERE column_name = %s\"\n",
    "\n",
    "values = (\"some_value\",)\n",
    "mycursor.execute(sql_query, values)\n"
   ]
  },
  {
   "cell_type": "code",
   "execution_count": null,
   "id": "280a6134-acd2-4973-acd1-7f6885c90df4",
   "metadata": {},
   "outputs": [],
   "source": [
    "Q7. Give the order of execution of SQL clauses in an SQL query."
   ]
  },
  {
   "cell_type": "code",
   "execution_count": null,
   "id": "3dff7ccc-1ddc-4946-851b-54b30aca129d",
   "metadata": {},
   "outputs": [],
   "source": [
    "*SELECT: This clause specifies the columns that you want to retrieve from the database.\n",
    "\n",
    "*FROM: This clause specifies the table or tables from which to retrieve the data specified in the SELECT clause.\n",
    "\n",
    "*WHERE: This clause is used to filter the rows returned by the SELECT and JOIN clauses based on a specified condition.\n",
    "\n",
    "*GROUP BY: This clause is used to group rows that have the same values in specified columns into summary rows, like \"total sales per category.\"\n",
    "\n",
    "*HAVING: This clause is used to filter the results of the GROUP BY clause based on a specified condition.\n",
    "\n",
    "*ORDER BY: This clause is used to sort the result set based on one or more columns.\n",
    "\n",
    "*LIMIT/OFFSET: These clauses are used to restrict the number of rows returned by the query. LIMIT specifies the maximum number of rows to return, and OFFSET specifies the number of rows to skip before starting to return rows."
   ]
  }
 ],
 "metadata": {
  "kernelspec": {
   "display_name": "Python 3 (ipykernel)",
   "language": "python",
   "name": "python3"
  },
  "language_info": {
   "codemirror_mode": {
    "name": "ipython",
    "version": 3
   },
   "file_extension": ".py",
   "mimetype": "text/x-python",
   "name": "python",
   "nbconvert_exporter": "python",
   "pygments_lexer": "ipython3",
   "version": "3.10.8"
  }
 },
 "nbformat": 4,
 "nbformat_minor": 5
}
