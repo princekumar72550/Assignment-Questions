{
 "cells": [
  {
   "cell_type": "code",
   "execution_count": null,
   "id": "d2eac41d-513a-4a14-bedf-48e74bd94a41",
   "metadata": {},
   "outputs": [],
   "source": [
    "Q1. What is Abstraction in OOps? Explain with an example."
   ]
  },
  {
   "cell_type": "code",
   "execution_count": null,
   "id": "a594cebd-d65b-4fc6-aee3-017d57f86553",
   "metadata": {},
   "outputs": [],
   "source": [
    "Abstraction is the process of hiding the internal details of an application from the outer world. Abstraction is used to describe things in simple terms."
   ]
  },
  {
   "cell_type": "code",
   "execution_count": 3,
   "id": "b5bfdaa3-dda3-4350-adbc-566f9a98e5d3",
   "metadata": {},
   "outputs": [
    {
     "name": "stdout",
     "output_type": "stream",
     "text": [
      "Suzuki::accelerate\n"
     ]
    }
   ],
   "source": [
    "from abc import ABC, abstractmethod\n",
    "\n",
    "class Car(ABC):\n",
    "    @abstractmethod\n",
    "    def accelerate(self):\n",
    "        pass\n",
    "\n",
    "class Suzuki(Car):\n",
    "    def accelerate(self):\n",
    "        print(\"Suzuki::accelerate\")\n",
    "\n",
    "if __name__ == \"__main__\":\n",
    "    obj = Suzuki()  \n",
    "    obj.accelerate()  "
   ]
  },
  {
   "cell_type": "code",
   "execution_count": null,
   "id": "09e02e30-1e04-4b74-a897-ab587be999f2",
   "metadata": {},
   "outputs": [],
   "source": [
    "Q2. Differentiate between Abstraction and Encapsulation. Explain with an example."
   ]
  },
  {
   "cell_type": "code",
   "execution_count": null,
   "id": "057528c6-0c5b-4bec-bad8-dba8548df7a1",
   "metadata": {},
   "outputs": [],
   "source": [
    "Abstraction:\n",
    "    Abstraction is the process or method of gaining the information.\n",
    "    In abstraction, problems are solved at the design or interface level.\n",
    "    Abstraction is the method of hiding the unwanted information.\n",
    "    We can implement abstraction using abstract class and interfaces.\n",
    "    The objects that help to perform abstraction are encapsulated.\n",
    "    Abstraction provides access to specific part of data.\n",
    "\n",
    "Encapsulation:\n",
    "    While encapsulation is the process or method to contain the information.\n",
    "    While in encapsulation, problems are solved at the implementation level.\n",
    "    Whereas encapsulation is a method to hide the data in a single entity or unit along with a method to protect information from outside.\n",
    "    Whereas encapsulation can be implemented using by access modifier i.e. private, protected and public.\n",
    "    While in encapsulation, the data is hidden using methods of getters and setters\n",
    "    Whereas the objects that result in encapsulation need not be abstracted\n",
    "    Encapsulation hides data and the user can not access same directly (data hiding."
   ]
  },
  {
   "cell_type": "code",
   "execution_count": null,
   "id": "c793aaab-1823-40a7-87f3-3402edb5d7e8",
   "metadata": {},
   "outputs": [],
   "source": [
    "Abstraction:"
   ]
  },
  {
   "cell_type": "code",
   "execution_count": 4,
   "id": "a9574d97-d71e-4c3d-9d36-d81c20d5aec0",
   "metadata": {},
   "outputs": [],
   "source": [
    "from abc import ABC, abstractmethod\n",
    "\n",
    "class Car(ABC):\n",
    "    @abstractmethod\n",
    "    def start(self):\n",
    "        pass\n",
    "\n",
    "    @abstractmethod\n",
    "    def accelerate(self):\n",
    "        pass\n",
    "\n",
    "    @abstractmethod\n",
    "    def brake(self):\n",
    "        pass\n"
   ]
  },
  {
   "cell_type": "code",
   "execution_count": null,
   "id": "922cc851-5e92-4f58-ba33-6b77d9ac2eea",
   "metadata": {},
   "outputs": [],
   "source": [
    "Encapsulation:"
   ]
  },
  {
   "cell_type": "code",
   "execution_count": 6,
   "id": "a85241ef-1048-4589-a86a-c987effa809b",
   "metadata": {},
   "outputs": [
    {
     "name": "stdout",
     "output_type": "stream",
     "text": [
      "The Toyota Camry is starting.\n",
      "The Toyota Camry is accelerating to 10 km/h.\n",
      "The Toyota Camry is braking to 5 km/h.\n"
     ]
    }
   ],
   "source": [
    "class Car:\n",
    "    def __init__(self, make, model):\n",
    "        self.make = make\n",
    "        self.model = model\n",
    "        self.speed = 0\n",
    "\n",
    "    def start(self):\n",
    "        print(f\"The {self.make} {self.model} is starting.\")\n",
    "\n",
    "    def accelerate(self):\n",
    "        self.speed += 10\n",
    "        print(f\"The {self.make} {self.model} is accelerating to {self.speed} km/h.\")\n",
    "\n",
    "    def brake(self):\n",
    "        self.speed -= 5\n",
    "        print(f\"The {self.make} {self.model} is braking to {self.speed} km/h.\")\n",
    "my_car = Car(\"Toyota\", \"Camry\")\n",
    "my_car.start()\n",
    "my_car.accelerate()\n",
    "my_car.brake()\n"
   ]
  },
  {
   "cell_type": "code",
   "execution_count": null,
   "id": "9b9f7365-aaca-49d1-9995-d60649e455c1",
   "metadata": {},
   "outputs": [],
   "source": [
    "Q3. What is abc module in python? Why is it used?"
   ]
  },
  {
   "cell_type": "code",
   "execution_count": null,
   "id": "4e1a66bd-b1ed-425b-9a68-ff3ad7050912",
   "metadata": {},
   "outputs": [],
   "source": [
    "Python provides a module called abc that provides the infrastructure for defining the base of Abstract Base Classes(ABC).\n",
    "The abc module in Python, which stands for \"Abstract Base Classes,\" is used to work with abstract classes and enforce abstract methods in a consistent and standardized way."
   ]
  },
  {
   "cell_type": "code",
   "execution_count": null,
   "id": "d221d224-509b-439a-b585-09cc9b0292b5",
   "metadata": {},
   "outputs": [],
   "source": [
    "Q4. How can we achieve data abstraction?"
   ]
  },
  {
   "cell_type": "code",
   "execution_count": null,
   "id": "55e59898-10b0-4035-9606-f8e7044c2005",
   "metadata": {},
   "outputs": [],
   "source": [
    "Data Abstraction in Python can be achieved through creating abstract classes and inheriting them later."
   ]
  },
  {
   "cell_type": "code",
   "execution_count": null,
   "id": "de807c00-f6b7-49ae-980d-1ff294163053",
   "metadata": {},
   "outputs": [],
   "source": [
    "Q5. Can we create an instance of an abstract class? Explain your answer."
   ]
  },
  {
   "cell_type": "code",
   "execution_count": null,
   "id": "2ed86d31-b0c1-45f6-a58a-e2bca97c389d",
   "metadata": {},
   "outputs": [],
   "source": [
    "Abstract classes cannot be instantiated, but they can be subclassed. When an abstract class is subclassed, \n",
    "the subclass usually provides implementations for all of the abstract methods in its parent class."
   ]
  }
 ],
 "metadata": {
  "kernelspec": {
   "display_name": "Python 3 (ipykernel)",
   "language": "python",
   "name": "python3"
  },
  "language_info": {
   "codemirror_mode": {
    "name": "ipython",
    "version": 3
   },
   "file_extension": ".py",
   "mimetype": "text/x-python",
   "name": "python",
   "nbconvert_exporter": "python",
   "pygments_lexer": "ipython3",
   "version": "3.10.8"
  }
 },
 "nbformat": 4,
 "nbformat_minor": 5
}
