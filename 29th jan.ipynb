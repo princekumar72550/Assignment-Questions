{
 "cells": [
  {
   "cell_type": "code",
   "execution_count": null,
   "id": "767ff829-9dc6-4b39-904f-132845dea229",
   "metadata": {},
   "outputs": [],
   "source": [
    "1. Who developed Python Programming Language?"
   ]
  },
  {
   "cell_type": "code",
   "execution_count": null,
   "id": "95108bd9-5326-434f-afa6-e5266d67af08",
   "metadata": {},
   "outputs": [],
   "source": [
    "Python was created by Guido van Rossum, and first released on February 20, 1991. While you may know the python as a large snake, the name of the Python programming language comes from an\n",
    "old BBC television comedy sketch series called Monty Python's Flying Circus."
   ]
  },
  {
   "cell_type": "code",
   "execution_count": null,
   "id": "d53807d7-1f40-4ae3-b169-2b20a987a066",
   "metadata": {},
   "outputs": [],
   "source": [
    "2. Which type of Programming does Python support?"
   ]
  },
  {
   "cell_type": "code",
   "execution_count": null,
   "id": "65ba2e44-4253-4b9f-ac44-b89fcb91cb27",
   "metadata": {},
   "outputs": [],
   "source": [
    "Python supports four main programming paradigms: imperative, functional, procedural, and object-oriented. "
   ]
  },
  {
   "cell_type": "code",
   "execution_count": null,
   "id": "07249d4d-c1f9-47b1-bca2-849fc6dd0a3b",
   "metadata": {},
   "outputs": [],
   "source": [
    "3. Is Python case sensitive when dealing with identifiers?"
   ]
  },
  {
   "cell_type": "code",
   "execution_count": null,
   "id": "8e4c6343-2683-4658-a404-f42515c82d1d",
   "metadata": {},
   "outputs": [],
   "source": [
    "Yes, Python is a case-sensitive language, so identifiers are case-sensitive. That is, it considers uppercase and lowercase characters differently. The property is useful \n",
    "while naming identifiers to make the code more readable and maintainable"
   ]
  },
  {
   "cell_type": "code",
   "execution_count": null,
   "id": "84dcbe95-b54f-43e0-90b0-cca302257af5",
   "metadata": {},
   "outputs": [],
   "source": [
    "4. What is the correct extension of the Python file?"
   ]
  },
  {
   "cell_type": "code",
   "execution_count": null,
   "id": "017bf3e0-e9cd-4df1-9184-784142396922",
   "metadata": {},
   "outputs": [],
   "source": [
    "The correct extension for Python source code files is “. py”."
   ]
  },
  {
   "cell_type": "code",
   "execution_count": null,
   "id": "d0542614-9424-45a1-9734-da15a328d74b",
   "metadata": {},
   "outputs": [],
   "source": [
    "5. Is Python code compiled or interpreted?"
   ]
  },
  {
   "cell_type": "code",
   "execution_count": null,
   "id": "8f4fd952-ea76-488d-9408-71f05247a44b",
   "metadata": {},
   "outputs": [],
   "source": [
    "Python is an interpreted language"
   ]
  },
  {
   "cell_type": "code",
   "execution_count": null,
   "id": "2d5dba2b-5c36-41c2-963f-6fda915318bc",
   "metadata": {},
   "outputs": [],
   "source": [
    "6. Name a few blocks of code used to define in Python languago?"
   ]
  },
  {
   "cell_type": "code",
   "execution_count": null,
   "id": "3ad164b2-6d51-495b-aff3-dd5b1d0d0eee",
   "metadata": {},
   "outputs": [],
   "source": [
    "Structure of a program. A Python program is constructed from code blocks. A block is a piece of Python program text that is executed as a unit. The following are blocks: a module, a function body,\n",
    "and a class definition."
   ]
  },
  {
   "cell_type": "code",
   "execution_count": 1,
   "id": "c5f812a3-4b97-442b-9b47-968df2b5275f",
   "metadata": {},
   "outputs": [
    {
     "name": "stdout",
     "output_type": "stream",
     "text": [
      "Positive number\n"
     ]
    }
   ],
   "source": [
    "x = 10\n",
    "if x > 0:\n",
    "    print(\"Positive number\")\n",
    "elif x == 0:\n",
    "    print(\"Zero\")\n",
    "else:\n",
    "    print(\"Negative number\")"
   ]
  },
  {
   "cell_type": "code",
   "execution_count": null,
   "id": "8ffe72cc-6ab5-463f-b1f4-8f1bd7d7d3d5",
   "metadata": {},
   "outputs": [],
   "source": [
    "7. State a character used to give single-line comments in Python?"
   ]
  },
  {
   "cell_type": "code",
   "execution_count": null,
   "id": "9125e473-6a8f-45aa-acc3-485835a13b01",
   "metadata": {},
   "outputs": [],
   "source": [
    "hash symbol, #,"
   ]
  },
  {
   "cell_type": "code",
   "execution_count": null,
   "id": "edfb5f31-debd-4234-aaf9-6b2e332a4461",
   "metadata": {},
   "outputs": [],
   "source": [
    "8. Mention functions which can help us to find the version of python that we are currently working on?"
   ]
  },
  {
   "cell_type": "code",
   "execution_count": null,
   "id": "ee969bd7-c449-46bc-8e86-06483badd180",
   "metadata": {},
   "outputs": [],
   "source": [
    "python --version"
   ]
  },
  {
   "cell_type": "code",
   "execution_count": null,
   "id": "971d1e7b-2823-4c09-876a-8b24dec6a2fe",
   "metadata": {},
   "outputs": [],
   "source": [
    "9. Python supports the creation of anonymous functions at runtime, using a construct called"
   ]
  },
  {
   "cell_type": "code",
   "execution_count": null,
   "id": "1fd2a090-3017-468a-bdff-1e403261e12d",
   "metadata": {},
   "outputs": [],
   "source": [
    "Python supports the creation of anonymous functions at runtime using a construct called \"lambda\" functions."
   ]
  },
  {
   "cell_type": "code",
   "execution_count": null,
   "id": "e02393c2-93f8-4f02-9d73-6c5f4ae5969d",
   "metadata": {},
   "outputs": [],
   "source": [
    "10. What does pip stand for python?"
   ]
  },
  {
   "cell_type": "code",
   "execution_count": null,
   "id": "7151c31b-4295-434a-a282-b536c955dab3",
   "metadata": {},
   "outputs": [],
   "source": [
    "pip stand for “Preferred Installer Program” or PIP Installs Packages. "
   ]
  },
  {
   "cell_type": "code",
   "execution_count": null,
   "id": "3f706f16-175c-4c54-bd87-05d09e8a8aac",
   "metadata": {},
   "outputs": [],
   "source": [
    "11. Mention a few built-in functions in python?"
   ]
  },
  {
   "cell_type": "code",
   "execution_count": null,
   "id": "42d480f7-f1ca-47c5-a4dc-126b19953ed7",
   "metadata": {},
   "outputs": [],
   "source": [
    "print()\n",
    "len()\n",
    "type()\n",
    "input()\n",
    "range()\n",
    "sum()\n",
    "max()"
   ]
  },
  {
   "cell_type": "code",
   "execution_count": null,
   "id": "b970fe12-d62d-4e17-bbf3-f7f26614dce5",
   "metadata": {},
   "outputs": [],
   "source": [
    "12. What is the maximum possible length of an identifier in Python?"
   ]
  },
  {
   "cell_type": "code",
   "execution_count": null,
   "id": "daec1488-ba27-42a2-99f5-30fc3d652083",
   "metadata": {},
   "outputs": [],
   "source": [
    "An identifier can have a maximum length of 79 characters in Python."
   ]
  },
  {
   "cell_type": "code",
   "execution_count": null,
   "id": "b00c5caa-99f7-4113-bdff-980efb5122aa",
   "metadata": {},
   "outputs": [],
   "source": [
    "13. What are the benefits of using Python?"
   ]
  },
  {
   "cell_type": "code",
   "execution_count": null,
   "id": "d846c7b2-f9ef-41e1-ab24-1bc359e7932b",
   "metadata": {},
   "outputs": [],
   "source": [
    "Advantages of Python Programming Language: \n",
    "1.Presence of third-party modules\n",
    "2.Extensive support libraries\n",
    "3.Open source and large active community base\n",
    "4.easy to read, learn, and write\n",
    "5.High-level language\n",
    "6.User-friendly data structures\n",
    "8.Object-Oriented programming language\n",
    "9.Portable and interactive\n",
    "10.Highly efficient"
   ]
  },
  {
   "cell_type": "code",
   "execution_count": null,
   "id": "5bd61e74-3443-408b-ac94-88fb2ed84830",
   "metadata": {},
   "outputs": [],
   "source": [
    "14. How is memory managed in Python?"
   ]
  },
  {
   "cell_type": "code",
   "execution_count": null,
   "id": "1614aac6-365f-4b97-8ed1-f59381223d7e",
   "metadata": {},
   "outputs": [],
   "source": [
    "Python uses a memory manager to manage memory allocation and deallocation. The memory manager is responsible for allocating memory to Python objects and tracking which objects are currently in use.\n",
    "Python has two types of memory that it uses: stack memory and heap memory."
   ]
  },
  {
   "cell_type": "code",
   "execution_count": null,
   "id": "ae84f2c9-e97a-4cfa-8116-5dc4565987b3",
   "metadata": {},
   "outputs": [],
   "source": [
    "15. How to install Python on Windows and set path variables?"
   ]
  },
  {
   "cell_type": "code",
   "execution_count": null,
   "id": "4e5ab2f9-e4c5-4e4d-8ebc-872c2b05bcbb",
   "metadata": {},
   "outputs": [],
   "source": [
    "*Install Python on Windows:\n",
    "1.Download Python:\n",
    "    .Visit the official Python website at https://www.python.org/, and go to the \"Downloads\" section. Download the latest version of Python for Windows.\n",
    "2.Run the Installer:\n",
    "   .Double-click on the downloaded installer file (e.g., python-3.x.x.exe).\n",
    "   . Check the box that says \"Add Python x.x to PATH\" during installation. This option automatically adds Python to your system environment variables, making it accessible from the command prompt.\n",
    "3.Configure Optional Settings:\n",
    "    .You can customize the installation by clicking on the \"Customize installation\" button. However, the default settings are generally suitable for most users.\n",
    "    .Click on \"Next\" to proceed with the installation.\n",
    "4.Complete the Installation:\n",
    "    Click \"Install\" to start the installation process.\n",
    "    \n",
    "*Verify Python Installation:\n",
    ".Open Command Prompt:\n",
    "    Type cmd and press Enter to open the Command Prompt.\n",
    ".In the Command Prompt, type the following command and press Enter:\n",
    "    python --version\n",
    "*Set PATH Variables (Optional):\n",
    "1.Find Python Installation Path:\n",
    "        Locate the directory where Python is installed. The default path is usually C:\\Users\\YourUsername\\AppData\\Local\\Programs\\Python\\Python3x (replace YourUsername with your actual username).\n",
    "2.Set PATH Variables:\n",
    "    .Right-click on \"This PC\" or \"Computer\" on your desktop or in File Explorer.\n",
    "    .Select \"Properties\" > \"Advanced system settings\" > \"Environment Variables...\"\n",
    "    .In the \"System variables\" section, scroll down and select the \"Path\" variable, then click \"Edit...\"\n",
    "    .Click \"New\" and add the path to the \"Scripts\" directory within your Python installation. It is usually something like C:\\Users\\YourUsername\\AppData\\Local\\Programs\\Python\\Python3x\\Scripts.\n",
    "    .Click \"OK\" to close each dialog.\n",
    "3.Verify PATH Variables:\n",
    "    .Open a new Command Prompt window and type:\n",
    "        python --version\n",
    "If Python is recognized, the path variables are correctly set."
   ]
  },
  {
   "cell_type": "code",
   "execution_count": null,
   "id": "2c2f35b9-f659-461c-877c-d0525961a9e0",
   "metadata": {},
   "outputs": [],
   "source": [
    "16. Is indentation required in python?"
   ]
  },
  {
   "cell_type": "code",
   "execution_count": null,
   "id": "2380ce4f-19b4-4ea1-a4fb-993e28a8b547",
   "metadata": {},
   "outputs": [],
   "source": [
    "Indentation is mandatory in python to define the blocks of statements."
   ]
  }
 ],
 "metadata": {
  "kernelspec": {
   "display_name": "Python 3 (ipykernel)",
   "language": "python",
   "name": "python3"
  },
  "language_info": {
   "codemirror_mode": {
    "name": "ipython",
    "version": 3
   },
   "file_extension": ".py",
   "mimetype": "text/x-python",
   "name": "python",
   "nbconvert_exporter": "python",
   "pygments_lexer": "ipython3",
   "version": "3.10.8"
  }
 },
 "nbformat": 4,
 "nbformat_minor": 5
}
