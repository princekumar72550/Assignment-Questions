{
 "cells": [
  {
   "cell_type": "code",
   "execution_count": null,
   "id": "d2ed0dca-8375-4a33-bd8b-3c5e3ad3ea0a",
   "metadata": {},
   "outputs": [],
   "source": [
    "Q1: What are the Probability Mass Function (PMF) and Probability Density Function (PDF)? Explain with\n",
    "an example."
   ]
  },
  {
   "cell_type": "code",
   "execution_count": null,
   "id": "0edd6792-cec1-47c8-8089-b421cfe3a84c",
   "metadata": {},
   "outputs": [],
   "source": [
    "A probability mass function (pmf) is a function over the sample space of a discrete random variable X which gives the probability that X is equal to a certain value.\n",
    "Example:\n",
    "The random variable X represents the outcome when the die is rolled. The PMF for X would be:\n",
    "\n",
    "P(X = 1) = 1/6\n",
    "P(X = 2) = 1/6\n",
    "P(X = 3) = 1/6\n",
    "P(X = 4) = 1/6\n",
    "P(X = 5) = 1/6\n",
    "P(X = 6) = 1/6\n",
    "and The Probability Density Function(PDF) defines the probability function representing the density of a continuous random variable lying between a specific range of values.    "
   ]
  },
  {
   "cell_type": "code",
   "execution_count": null,
   "id": "dabb120d-073a-4900-a05e-f9a174423436",
   "metadata": {},
   "outputs": [],
   "source": [
    "Q2: What is Cumulative Density Function (CDF)? Explain with an example. Why CDF is used?"
   ]
  },
  {
   "cell_type": "code",
   "execution_count": null,
   "id": "01b7ab7e-720b-48fc-954a-e2ab5bdfe567",
   "metadata": {},
   "outputs": [],
   "source": [
    "The cumulative distribution function is used to describe the probability distribution of random variables. It can be used to describe the probability for a discrete, continuous or mixed variable.\n",
    "It is obtained by summing up the probability density function and getting the cumulative probability for a random variable.\n",
    "\n",
    "becous CDF to determine the likelihood that a random observation taken from the population will be less than or equal to a particular value."
   ]
  },
  {
   "cell_type": "code",
   "execution_count": null,
   "id": "e3bab9cc-2bf1-4bdf-b30d-911e981b7e37",
   "metadata": {},
   "outputs": [],
   "source": [
    "Q3: What are some examples of situations where the normal distribution might be used as a model?\n",
    "Explain how the parameters of the normal distribution relate to the shape of the distribution."
   ]
  },
  {
   "cell_type": "code",
   "execution_count": null,
   "id": "d5a3eebc-94c0-4a66-bcde-89791d958959",
   "metadata": {},
   "outputs": [],
   "source": [
    "Height of Individuals:\n",
    "    Human height tends to follow a normal distribution in a population. The majority of people cluster around the average height, with fewer individuals being very tall or very short.\n",
    "\n",
    "IQ Scores:\n",
    "    IQ scores are often assumed to be normally distributed. The mean IQ score is set at 100, and the distribution has a standard deviation of 15. This assumption allows for easy interpretation and comparison of intelligence scores.\n",
    "\n",
    "Measurement Errors:\n",
    "    Measurement errors in experiments or observations often follow a normal distribution. This is the basis for techniques like least squares regression, which assumes that errors are normally distributed.\n",
    "\n",
    "Financial Markets:\n",
    "    In finance, stock prices and returns are often modeled using the normal distribution, especially under the assumption of efficient markets. This assumption facilitates the use of various statistical tools for risk analysis and portfolio management.\n",
    "\n",
    "Biological Traits:\n",
    "    Many biological traits, such as the weight of animals, lengths of certain body parts, or biochemical concentrations, are often normally distributed in a population.\n",
    "Natural Phenomena:\n",
    "    Many natural phenomena, like the distribution of wind speeds, rainfall amounts, and various physical measurements, can be approximated by a normal distribution.\n",
    "    \n",
    "Parameters of the Normal Distribution:\n",
    "    The normal distribution is characterized by two parameters: the mean (μ) and the standard deviation (σ). These parameters play a crucial role in shaping the distribution:\n",
    "\n",
    "Mean (μ):\n",
    "    The mean determines the central location of the distribution. It is the value around which the data is centered. Shifting the mean to the right or left will result in a corresponding shift of the entire distribution.\n",
    "Standard Deviation (σ):\n",
    "    The standard deviation measures the spread or dispersion of the data. A larger standard deviation results in a wider and flatter distribution, while a smaller standard deviation results in a narrower and taller distribution.\n"
   ]
  },
  {
   "cell_type": "code",
   "execution_count": null,
   "id": "4ca7b308-f1d3-4300-8828-f974a90b6dc8",
   "metadata": {},
   "outputs": [],
   "source": [
    "Q4: Explain the importance of Normal Distribution. Give a few real-life examples of Normal\n",
    "Distribution. "
   ]
  },
  {
   "cell_type": "code",
   "execution_count": null,
   "id": "6cc60af2-da13-4025-b6e3-474ef660e01f",
   "metadata": {},
   "outputs": [],
   "source": [
    "The normal distribution is important in various fields due to its mathematical properties and its prevalence in describing the distribution of many natural phenomena.\n",
    "\n",
    "1. Statistical Inference:\n",
    "   - Many statistical methods and tests are based on the assumption that the underlying data follows a normal distribution. This is particularly true for parametric tests like t-tests and ANOVA. The Central Limit Theorem also highlights the normal distribution's significance in estimating population parameters from sample data.\n",
    "\n",
    "2. Modeling Natural Phenomena:\n",
    "   - The normal distribution often emerges as a suitable model for the distribution of various natural phenomena. This makes it a useful tool in fields such as physics, biology, and environmental science.\n",
    "\n",
    "3. Risk Management and Finance:\n",
    "   - In finance, the normal distribution is often used to model stock prices and returns. This is foundational for risk assessment, portfolio management, and option pricing models like the Black-Scholes model.\n",
    "    \n",
    "4.Quality Control:\n",
    "   - In manufacturing and quality control processes, deviations from the norm are often examined using statistical methods that assume normality. Control charts and process capability indices are examples where normal distribution assumptions are common.\n",
    "\n",
    "5. Biological Traits:\n",
    "   - Many biological traits, such as height, weight, and certain physiological measurements, tend to follow a normal distribution in a population. This is valuable in genetics, medicine, and other biological sciences.\n",
    "\n",
    "6. Psychometrics:\n",
    "   - IQ scores and other psychometric measurements are often assumed to be normally distributed. This assumption aids in the interpretation and comparison of scores.\n",
    "\n",
    "7. Population Studies:\n",
    "   - In demographic studies, variables like income, education, and age often exhibit a distribution that approximates a normal distribution. This helps researchers make predictions and draw conclusions about population characteristics.\n",
    "\n",
    "8. Machine Learning and Data Science:\n",
    "   - In machine learning and data science, assumptions of normality are made in various algorithms and models. Normality assumptions can simplify analysis and interpretation.\n",
    "\n",
    "Real-Life Examples of Normal Distribution:\n",
    "\n",
    "1. Exam Scores:\n",
    "   - The distribution of scores on a standardized test, such as the SAT or GRE, often approximates a normal distribution.\n",
    "\n",
    "2. Body Temperature:\n",
    "   - The distribution of body temperatures in a healthy population is approximately normal, with the mean around 98.6°F (37°C).\n",
    "\n",
    "3. Astronomy:\n",
    "   - The distribution of errors in measurements or observations made in astronomy often follows a normal distribution.\n",
    "\n",
    "4. Weather Phenomena:\n",
    "   - Various meteorological variables, like temperature and wind speed, often exhibit a normal distribution in a given location over time.\n",
    "\n",
    "5. Economic Indicators:\n",
    "   - Economic indicators such as GDP growth rates and inflation rates often show a distribution that can be approximated by a normal distribution."
   ]
  },
  {
   "cell_type": "code",
   "execution_count": null,
   "id": "a5e57d9f-9319-417b-9d77-c9ec0fbba0ae",
   "metadata": {},
   "outputs": [],
   "source": [
    "Q5: What is Bernaulli Distribution? Give an Example. What is the difference between Bernoulli\n",
    "Distribution and Binomial Distribution?"
   ]
  },
  {
   "cell_type": "code",
   "execution_count": null,
   "id": "e5445bd9-f848-44a8-83d2-301b9e3d81ca",
   "metadata": {},
   "outputs": [],
   "source": [
    "Bernoulli distribution is a discrete distribution in which the random variable has only two possible outcomes and a single trial known as a Bernoulli trial.\n",
    "\n",
    "\n",
    "1.Bernoulli deals with the outcome of the single trial of the event, whereas Binomial deals with the outcome of the multiple trials of the single event.\n",
    "2.Bernoulli is used when the outcome of an event is required for only one time, whereas the Binomial is used when the outcome of an event is required multiple times."
   ]
  },
  {
   "cell_type": "code",
   "execution_count": null,
   "id": "2ebfa047-8895-432d-88e7-e8a113db38a5",
   "metadata": {},
   "outputs": [],
   "source": [
    "Q6. Consider a dataset with a mean of 50 and a standard deviation of 10. If we assume that the dataset\n",
    "is normally distributed, what is the probability that a randomly selected observation will be greater\n",
    "than 60? Use the appropriate formula and show your calculations."
   ]
  },
  {
   "cell_type": "code",
   "execution_count": 1,
   "id": "61cb93cf-c2fc-4d87-8ed4-a5830da809f0",
   "metadata": {},
   "outputs": [
    {
     "name": "stdout",
     "output_type": "stream",
     "text": [
      "The probability that a randomly selected observation is greater than 60 is: 0.1587\n"
     ]
    }
   ],
   "source": [
    "from scipy.stats import norm\n",
    "\n",
    "mean = 50\n",
    "std_dev = 10\n",
    "observation_value = 60\n",
    "\n",
    "z_score = (observation_value - mean) / std_dev\n",
    "\n",
    "probability = 1 - norm.cdf(z_score)\n",
    "\n",
    "print(f\"The probability that a randomly selected observation is greater than 60 is: {probability:.4f}\")\n"
   ]
  },
  {
   "cell_type": "code",
   "execution_count": null,
   "id": "afb1d8e2-56b8-4034-8569-3494287d6057",
   "metadata": {},
   "outputs": [],
   "source": [
    "Q7: Explain uniform Distribution with an example."
   ]
  },
  {
   "cell_type": "code",
   "execution_count": null,
   "id": "24726a72-2441-43fa-a271-2ce3ad69219a",
   "metadata": {},
   "outputs": [],
   "source": [
    "A \"uniform distribution\" means all possible outcomes in the range have equal probability of occurring. These two pieces build to create a continuous uniform distribution. \n",
    "The mean of a continuous uniform distribution between bounds a and b has a simple formula: μ = a + b 2\n",
    "\n",
    "Example:\n",
    "    uniform distribution would be the possible outcomes of rolling a 6-sided die. The possible values would be 1, 2, 3, 4, 5, or 6. In this case, each of the six numbers has an equal chance of appearing.\n",
    "    Therefore, each time the 6-sided die is thrown, each side has a chance of 1/6."
   ]
  },
  {
   "cell_type": "code",
   "execution_count": null,
   "id": "94245be5-3508-4dca-8fe7-ec263c50ce71",
   "metadata": {},
   "outputs": [],
   "source": [
    "Q8: What is the z score? State the importance of the z score."
   ]
  },
  {
   "cell_type": "code",
   "execution_count": null,
   "id": "1ed9a5df-8427-481d-8b32-9740bc9b47a3",
   "metadata": {},
   "outputs": [],
   "source": [
    "A z-score tells us the number of standard deviations a value is from the mean of a given distribution. negative z-scores indicate the value lies below the mean. positive z-scores indicate the value lies above the mean.\n",
    "\n",
    "\n",
    "Importance of Z-score:\n",
    "\n",
    "1. Standardization:\n",
    "   - Z-scores standardize data, allowing for comparisons between different datasets with different units or scales. This makes it easier to analyze and interpret data, especially when dealing with multiple variables.\n",
    "\n",
    "2. Identification of Outliers:\n",
    "   - Z-scores help identify outliers in a dataset. Data points with Z-scores significantly larger or smaller than 0 (typically beyond ±2 or ±3) are considered unusual and may be flagged as outliers.\n",
    "\n",
    "3. Probability and Normal Distribution:\n",
    "   - Z-scores are used in the context of a standard normal distribution (a normal distribution with a mean of 0 and a standard deviation of 1). The Z-score can be used to find the probability of observing a value less than or greater than a particular value in a standard normal distribution.\n",
    "\n",
    "4. Data Analysis and Interpretation:\n",
    "   - Z-scores assist in comparing and interpreting individual data points in the context of the overall distribution. They help answer questions like \"How unusual is this data point?\" or \"Is this value above or below average?\"\n",
    "\n",
    "5. Quality Control:\n",
    "   - In manufacturing and quality control, Z-scores are often used to assess how far a measurement is from the mean and whether it falls within an acceptable range.\n",
    "\n",
    "6. Statistical Hypothesis Testing:\n",
    "   - Z-scores are used in hypothesis testing, helping researchers determine the significance of results. A Z-score is often compared to critical values to assess whether an observed effect is statistically significant.\n",
    "\n",
    "In summary, the Z-score is a valuable statistical tool that standardizes data, facilitates comparisons, identifies outliers, and plays a key role in probability calculations and hypothesis testing. It provides a standardized measure of how extreme or unusual a particular data point is within a distribution."
   ]
  },
  {
   "cell_type": "code",
   "execution_count": null,
   "id": "160645c7-3932-47e4-88c3-5bf08f3990ae",
   "metadata": {},
   "outputs": [],
   "source": [
    "Q9: What is Central Limit Theorem? State the significance of the Central Limit Theorem."
   ]
  },
  {
   "cell_type": "code",
   "execution_count": null,
   "id": "e377abf2-fb98-46be-89e6-81d91e09de1c",
   "metadata": {},
   "outputs": [],
   "source": [
    "Central Limit Theorem explains that the sample distribution of the sample mean resembles the normal distribution irrespective of the fact that whether the variables themselves are distributed normally or not. Central Limit Theorem is often called CLT in abbreviated form.\n",
    "\n",
    "\n",
    "1. Normal Distribution Approximation:\n",
    "   - The CLT states that the distribution of the sum (or average) of a large number of independent, identically distributed random variables approaches a normal distribution, regardless of the shape of the original distribution. This allows statisticians to make approximations and use normal distribution properties even when the underlying distribution may not be normal.\n",
    "\n",
    "2. Sampling Distribution of the Mean:\n",
    "   - The CLT is particularly relevant when considering the sampling distribution of the mean. It asserts that, for a sufficiently large sample size, the distribution of sample means will be approximately normal, regardless of the shape of the population distribution. This is crucial for making statistical inferences about population parameters based on sample data.\n",
    "\n",
    "3. Statistical Inference:\n",
    "   - The CLT is the foundation for many statistical inference procedures, such as hypothesis testing and confidence intervals. It allows researchers to make assumptions about the distribution of sample means and provides a basis for using the normal distribution in statistical tests.\n",
    "\n",
    "4. Large Sample Sizes:\n",
    "   - The CLT implies that as the sample size increases, the distribution of the sample mean becomes increasingly normal. This is practical because it allows analysts to use normal distribution properties even for relatively small departures from normality in the original distribution.\n",
    "\n",
    "5. Robustness to Non-Normality:\n",
    "   - The CLT makes many statistical methods robust, meaning that they still perform well even when the assumption of a normal population distribution is not perfectly met. This is particularly valuable in practice, where real-world data may deviate from perfect normality.\n",
    "\n",
    "6. Population Inference:\n",
    "   - The CLT is used in making inferences about population parameters based on sample statistics. For example, it facilitates the estimation of population means and the testing of hypotheses about population parameters.\n",
    "\n",
    "7. Quality Control:\n",
    "   - In quality control and manufacturing, the CLT is applied to assess the distribution of sample means. This allows for the construction of control charts and the determination of whether a process is in control.\n",
    "\n",
    "8. Educational Significance:\n",
    "   - The CLT is a foundational concept in statistics education, helping students understand the behavior of sample statistics and the reasoning behind various statistical methods.\n"
   ]
  },
  {
   "cell_type": "code",
   "execution_count": null,
   "id": "27c87cf5-b6e4-4382-867d-67bdf3617970",
   "metadata": {},
   "outputs": [],
   "source": [
    "Q10: State the assumptions of the Central Limit Theorem"
   ]
  },
  {
   "cell_type": "code",
   "execution_count": null,
   "id": "9a04c6d3-8053-496d-89aa-cd5e21c96d42",
   "metadata": {},
   "outputs": [],
   "source": [
    "1.Random Sampling:\n",
    "   - The observations in the sample should be selected randomly and independently. Each member of the population has an equal chance of being included in the sample, and the selection of one observation does not influence the selection of another.\n",
    "\n",
    "2. Independence:\n",
    "   - The individual observations in the sample should be independent of each other. The value of one observation should not be related to or dependent on the value of another observation.\n",
    "\n",
    "3. Sample Size:\n",
    "   - The sample size should be sufficiently large. While there is no strict rule for what constitutes \"sufficiently large,\" a commonly used guideline is that the sample size should be greater than or equal to 30. In some cases, a smaller sample size may be acceptable if the underlying population distribution is approximately normal.\n",
    "\n",
    "4. Population Distribution:\n",
    "   - The Central Limit Theorem does not specify the shape of the population distribution. However, for the theorem to work well with smaller sample sizes, the population distribution should not be heavily skewed or have extreme outliers. With larger sample sizes, the CLT is more robust to deviations from a normal distribution.\n"
   ]
  },
  {
   "cell_type": "code",
   "execution_count": null,
   "id": "60e69723-55b5-4eab-81a0-bb8b33d1de0f",
   "metadata": {},
   "outputs": [],
   "source": []
  }
 ],
 "metadata": {
  "kernelspec": {
   "display_name": "Python 3 (ipykernel)",
   "language": "python",
   "name": "python3"
  },
  "language_info": {
   "codemirror_mode": {
    "name": "ipython",
    "version": 3
   },
   "file_extension": ".py",
   "mimetype": "text/x-python",
   "name": "python",
   "nbconvert_exporter": "python",
   "pygments_lexer": "ipython3",
   "version": "3.10.8"
  }
 },
 "nbformat": 4,
 "nbformat_minor": 5
}
