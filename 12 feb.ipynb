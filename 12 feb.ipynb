{
 "cells": [
  {
   "cell_type": "code",
   "execution_count": null,
   "id": "e503e781-1380-4a67-b340-fc295a9a67db",
   "metadata": {},
   "outputs": [],
   "source": [
    "Q1. What is an Exception in python? Write the difference between Exceptions and Syntax errors."
   ]
  },
  {
   "cell_type": "code",
   "execution_count": null,
   "id": "c1fcee9e-b224-4143-a05e-7286acb2d14a",
   "metadata": {},
   "outputs": [],
   "source": [
    "An Exception is an error that happens during the execution of a program.\n",
    "\n",
    "\n",
    "logical errors(Exception)\n",
    "When in the runtime an error that occurs after passing the syntax test is called exception or logical type.\n",
    "\n",
    "Syntax errors\n",
    "When the proper syntax of the language is not followed then a syntax error is thrown."
   ]
  },
  {
   "cell_type": "code",
   "execution_count": null,
   "id": "22bfa19d-f2d8-4482-aac4-c41a4ac195bd",
   "metadata": {},
   "outputs": [],
   "source": [
    "Q2. What happens when an exception is not handled? Explain with an example."
   ]
  },
  {
   "cell_type": "code",
   "execution_count": null,
   "id": "8d49c7f2-8aa9-4fa5-934b-def597ecca07",
   "metadata": {},
   "outputs": [],
   "source": [
    "If an exception is not caught (with a catch block), the runtime system will abort the program (i.e. crash)\n",
    "and an exception message will print to the console"
   ]
  },
  {
   "cell_type": "code",
   "execution_count": 3,
   "id": "fe7e0ab0-9478-4244-b5b9-9b1a62e38ecd",
   "metadata": {},
   "outputs": [
    {
     "name": "stdout",
     "output_type": "stream",
     "text": [
      "Error: division by zero\n"
     ]
    }
   ],
   "source": [
    "def divide_numbers(a, b):\n",
    "    result = a / b\n",
    "    return result\n",
    "try:\n",
    "    result = divide_numbers(10, 0) \n",
    "    print(\"Result:\", result)\n",
    "except ZeroDivisionError as e:\n",
    "    print(\"Error:\", e)\n"
   ]
  },
  {
   "cell_type": "code",
   "execution_count": null,
   "id": "a18a8598-f225-4e3b-b2b6-bb56e3767e5a",
   "metadata": {},
   "outputs": [],
   "source": [
    "Q3. Which Python statements are used to catch and handle exceptions? Explain with an example."
   ]
  },
  {
   "cell_type": "code",
   "execution_count": null,
   "id": "ad2cd1f4-951e-46f2-885c-63ef40b80024",
   "metadata": {},
   "outputs": [],
   "source": [
    "The try and except block in Python is used to catch and handle exceptions."
   ]
  },
  {
   "cell_type": "code",
   "execution_count": 5,
   "id": "27841247-7972-4926-ba17-32fbd0deef71",
   "metadata": {},
   "outputs": [
    {
     "name": "stdout",
     "output_type": "stream",
     "text": [
      "Can't divide by zero\n",
      "This is always executed\n"
     ]
    }
   ],
   "source": [
    "try:\n",
    "\tk = 5//0\n",
    "\tprint(k)\n",
    "\n",
    "except ZeroDivisionError:\n",
    "\tprint(\"Can't divide by zero\")\n",
    "\n",
    "finally:\n",
    "\tprint('This is always executed')\n"
   ]
  },
  {
   "cell_type": "code",
   "execution_count": null,
   "id": "2e2c22ff-bfeb-47f1-8467-56cfd5d5d3d1",
   "metadata": {},
   "outputs": [],
   "source": [
    "Q4. Explain with an example:#\n",
    "\f",
    "\u001d",
    " try and else#\n",
    "\u0007\u001d",
    " finall\n",
    "\u001d",
    " raise "
   ]
  },
  {
   "cell_type": "code",
   "execution_count": null,
   "id": "11f43a36-7697-4c8b-a41f-461de65a4342",
   "metadata": {},
   "outputs": [],
   "source": [
    "try and else:\n",
    "    The try block lets you test a block of code for errors. The except block lets you handle the error. \n",
    "    The else block lets you execute code when there is no error"
   ]
  },
  {
   "cell_type": "code",
   "execution_count": 9,
   "id": "28af421f-6bc2-447c-840e-be4a4fc6bbb9",
   "metadata": {},
   "outputs": [
    {
     "name": "stdout",
     "output_type": "stream",
     "text": [
      "Hello\n",
      "Nothing went wrong\n"
     ]
    }
   ],
   "source": [
    "try:\n",
    "  print(\"Hello\")\n",
    "except:\n",
    "  print(\"Something went wrong\")\n",
    "else:\n",
    "  print(\"Nothing went wrong\")\n"
   ]
  },
  {
   "cell_type": "code",
   "execution_count": null,
   "id": "dbd536b2-7813-4ff2-9435-b8795be2ae1d",
   "metadata": {},
   "outputs": [],
   "source": [
    "finall:\n",
    "    The finally keyword is used in try...except blocks. It defines a block of code to run when the try...except...else block is final.\n",
    "\n",
    "   The finally block will be executed no matter if the try block raises an error or not.\n",
    "\n",
    "    This can be useful to close objects and clean up resources."
   ]
  },
  {
   "cell_type": "code",
   "execution_count": 8,
   "id": "72a1346a-9993-443d-92f4-68cc726e6adf",
   "metadata": {},
   "outputs": [
    {
     "name": "stdout",
     "output_type": "stream",
     "text": [
      "Something went wrong\n",
      "The try...except block is finished\n"
     ]
    }
   ],
   "source": [
    "try:\n",
    "  x > 3\n",
    "except:\n",
    "  print(\"Something went wrong\")\n",
    "else:\n",
    "  print(\"Nothing went wrong\")\n",
    "finally:\n",
    "  print(\"The try...except block is finished\")\n"
   ]
  },
  {
   "cell_type": "code",
   "execution_count": null,
   "id": "e63ef7e3-e423-4730-bdf2-54eeb6c2a9da",
   "metadata": {},
   "outputs": [],
   "source": [
    "raise:\n",
    "    Python raise Keyword is used to raise exceptions or errors. The raise keyword raises an\n",
    "    error and stops the control flow of the program. It is used to bring up the current exception \n",
    "    in an exception handler so that it can be handled further up the call stack."
   ]
  },
  {
   "cell_type": "code",
   "execution_count": 7,
   "id": "df386418-ff91-4212-a499-6984d16d0308",
   "metadata": {},
   "outputs": [
    {
     "name": "stdout",
     "output_type": "stream",
     "text": [
      "Error: The number shouldn't be an odd integer\n"
     ]
    }
   ],
   "source": [
    "a = 5\n",
    "\n",
    "try:\n",
    "    if a % 2 != 0:\n",
    "        raise Exception(\"The number shouldn't be an odd integer\")\n",
    "except Exception as e:\n",
    "    print(\"Error:\", e)"
   ]
  },
  {
   "cell_type": "code",
   "execution_count": null,
   "id": "46b6c813-d70b-4380-9d2c-30cef7d0c998",
   "metadata": {},
   "outputs": [],
   "source": [
    "Q5. What are Custom Exceptions in python? Why do we need Custom Exceptions? Explain with an example"
   ]
  },
  {
   "cell_type": "code",
   "execution_count": null,
   "id": "6adc2c08-0300-4948-bb77-41527d0ea0e7",
   "metadata": {},
   "outputs": [],
   "source": [
    "To create a custom exception class, you define a class that inherits from the built-in Exception \n",
    "class or one of its subclasses such as ValueError class:"
   ]
  },
  {
   "cell_type": "code",
   "execution_count": 10,
   "id": "829eab11-9ea4-424d-b2d5-e774420f167a",
   "metadata": {},
   "outputs": [
    {
     "name": "stdout",
     "output_type": "stream",
     "text": [
      "This is my custom exception\n"
     ]
    }
   ],
   "source": [
    "class CustomException(Exception):\n",
    "    \"\"\" my custom exception class \"\"\"\n",
    "\n",
    "\n",
    "try:\n",
    "    raise CustomException('This is my custom exception')\n",
    "except CustomException as ex:\n",
    "    print(ex)"
   ]
  },
  {
   "cell_type": "code",
   "execution_count": null,
   "id": "b71cd1ba-81ef-45ee-b97e-667c7a9d0880",
   "metadata": {},
   "outputs": [],
   "source": [
    "Q6. Create a custom exception class. Use this class to handle an exception."
   ]
  },
  {
   "cell_type": "code",
   "execution_count": 12,
   "id": "c1234f62-efb2-4e0a-8c56-1857032f4963",
   "metadata": {},
   "outputs": [
    {
     "name": "stdout",
     "output_type": "stream",
     "text": [
      "Custom Exception Caught: The number 5 shouldn't be an odd integer\n"
     ]
    }
   ],
   "source": [
    "class OddIntegerError(Exception):\n",
    "    def __init__(self, value):\n",
    "        self.value = value\n",
    "        super().__init__()\n",
    "\n",
    "    def __str__(self):\n",
    "        return f\"The number {self.value} shouldn't be an odd integer\"\n",
    "\n",
    "def check_even_number(num):\n",
    "    if num % 2 != 0:\n",
    "        raise OddIntegerError(num)\n",
    "    else:\n",
    "        print(f\"{num} is an even number.\")\n",
    "\n",
    "try:\n",
    "    check_even_number(5)\n",
    "except OddIntegerError as e:\n",
    "    print(\"Custom Exception Caught:\", e)\n"
   ]
  },
  {
   "cell_type": "code",
   "execution_count": null,
   "id": "e7067941-eb36-403f-8252-e79a1cc42c81",
   "metadata": {},
   "outputs": [],
   "source": []
  }
 ],
 "metadata": {
  "kernelspec": {
   "display_name": "Python 3 (ipykernel)",
   "language": "python",
   "name": "python3"
  },
  "language_info": {
   "codemirror_mode": {
    "name": "ipython",
    "version": 3
   },
   "file_extension": ".py",
   "mimetype": "text/x-python",
   "name": "python",
   "nbconvert_exporter": "python",
   "pygments_lexer": "ipython3",
   "version": "3.10.8"
  }
 },
 "nbformat": 4,
 "nbformat_minor": 5
}
