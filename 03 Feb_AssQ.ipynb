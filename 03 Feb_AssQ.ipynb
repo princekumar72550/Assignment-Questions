{
 "cells": [
  {
   "cell_type": "code",
   "execution_count": null,
   "id": "af4bbe5e-7bd7-4c07-b438-6804568af601",
   "metadata": {},
   "outputs": [],
   "source": [
    "Q1. Which keyword is used to create a function? Create a function to return a list of odd numbers in the \n",
    "range of 1 to 25."
   ]
  },
  {
   "cell_type": "code",
   "execution_count": null,
   "id": "f0dea6f1-154a-4c15-a564-48740b224d69",
   "metadata": {},
   "outputs": [],
   "source": [
    "The def keyword is used to create a function in Python."
   ]
  },
  {
   "cell_type": "code",
   "execution_count": 10,
   "id": "98cf92b2-a3b4-472f-be05-ca447d719edf",
   "metadata": {},
   "outputs": [
    {
     "name": "stdin",
     "output_type": "stream",
     "text": [
      "Enter the start number 1\n",
      "Enter the end number 25\n"
     ]
    },
    {
     "name": "stdout",
     "output_type": "stream",
     "text": [
      "1\n",
      "3\n",
      "5\n",
      "7\n",
      "9\n",
      "11\n",
      "13\n",
      "15\n",
      "17\n",
      "19\n",
      "21\n",
      "23\n",
      "25\n"
     ]
    }
   ],
   "source": [
    "start=int(input(\"Enter the start number\"))\n",
    "end=int(input(\"Enter the end number\"))\n",
    "for num in range(start,end+1):\n",
    "        if(num%2 !=0):\n",
    "           print(num)"
   ]
  },
  {
   "cell_type": "code",
   "execution_count": null,
   "id": "c187fd92-a332-46a2-a38b-b7ac835a23a2",
   "metadata": {},
   "outputs": [],
   "source": [
    "Q2. Why *args and **kwargs is used in some functions? Create a function each for *args and **kwargs \n",
    "to demonstrate their use."
   ]
  },
  {
   "cell_type": "code",
   "execution_count": null,
   "id": "b1ccdc85-58ca-4bc9-9378-ef6a65e535b1",
   "metadata": {},
   "outputs": [],
   "source": [
    "*args is used to pass a variable number of positional arguments to a function. It allows you to pass any number of arguments to a function,\n",
    "which are then packed into a tuple.\n",
    "**kwargs is used to pass a variable number of keyword arguments to a function. It allows you to pass any number of named arguments to a function, \n",
    "which are then packed into a dictionary."
   ]
  },
  {
   "cell_type": "code",
   "execution_count": 11,
   "id": "ae5e750e-14fd-430a-83b5-0e3497d2024f",
   "metadata": {},
   "outputs": [
    {
     "name": "stdout",
     "output_type": "stream",
     "text": [
      "('prince', 'kumar', 'Om')\n"
     ]
    }
   ],
   "source": [
    "def function_name(*args):\n",
    "    print(args)\n",
    "function_name(\"prince\",\"kumar\",\"Om\")"
   ]
  },
  {
   "cell_type": "code",
   "execution_count": 1,
   "id": "17cf8010-2019-451b-aac3-57a6721d4db2",
   "metadata": {},
   "outputs": [
    {
     "name": "stdout",
     "output_type": "stream",
     "text": [
      "f1 prince\n",
      "f2 kumar\n",
      "f3 Om\n"
     ]
    }
   ],
   "source": [
    "def function_name(**kwargs):\n",
    "    for key,value in kwargs.items():\n",
    "        print(key,value)\n",
    "function_name(f1=\"prince\",f2=\"kumar\",f3=\"Om\")"
   ]
  },
  {
   "cell_type": "code",
   "execution_count": null,
   "id": "75907dc1-f85e-464a-bd38-5f36efa345d6",
   "metadata": {},
   "outputs": [],
   "source": [
    "Q3.  What is an iterator in python? Name the method used to initialise the iterator object and the method \n",
    "used for iteration. Use these methods to print the first five elements of the given list [2, 4, 6, 8, 10, 12, 14, \n",
    "16, 18, 20]."
   ]
  },
  {
   "cell_type": "code",
   "execution_count": null,
   "id": "79db111f-6771-493f-afc8-3f7b29658d95",
   "metadata": {},
   "outputs": [],
   "source": [
    "An iterator is an object that can be iterated upon, meaning that you can traverse through all the values.\n",
    "Technically, in Python, an iterator is an object which implements the iterator protocol, which consist of\n",
    "the methods __iter__() and __next__() ."
   ]
  },
  {
   "cell_type": "code",
   "execution_count": 9,
   "id": "2214b6e2-1b24-4982-ae5d-5d1a833a1317",
   "metadata": {},
   "outputs": [
    {
     "name": "stdout",
     "output_type": "stream",
     "text": [
      "2\n",
      "4\n",
      "6\n",
      "8\n",
      "10\n"
     ]
    }
   ],
   "source": [
    "my_list = [2, 4, 6, 8, 10, 12, 14, 16, 18, 20]\n",
    "it=iter(my_list)\n",
    "print(it.__next__())\n",
    "print(it.__next__())\n",
    "print(it.__next__())\n",
    "print(it.__next__())\n",
    "print(it.__next__())"
   ]
  },
  {
   "cell_type": "code",
   "execution_count": null,
   "id": "51bbbb5a-af1a-4b8f-bbc6-eccdbc89d6f2",
   "metadata": {},
   "outputs": [],
   "source": [
    "Q4.  What is a generator function in python? Why yield keyword is used? Give an example of a generator \n",
    "function."
   ]
  },
  {
   "cell_type": "code",
   "execution_count": null,
   "id": "2e028062-2777-475b-951e-7a748c60342d",
   "metadata": {},
   "outputs": [],
   "source": [
    "Generator-Function: A generator-function is defined like a normal function, but whenever it needs to generate a value,\n",
    "it does so with the yield keyword rather than return. If the body of a def contains yield, the function automatically \n",
    "becomes a generator function. "
   ]
  },
  {
   "cell_type": "code",
   "execution_count": 1,
   "id": "be4854c8-215d-4b51-8475-7c1bd1fe7742",
   "metadata": {},
   "outputs": [
    {
     "name": "stdout",
     "output_type": "stream",
     "text": [
      "I\n",
      "Want\n",
      "To\n",
      "Become\n",
      "A\n",
      "Data\n",
      "Scientist\n"
     ]
    }
   ],
   "source": [
    "s = \"I want to become a data scientist\"\n",
    "\n",
    "for i in s.split():\n",
    "\n",
    "    i.capitalize()\n",
    "\n",
    "    print(i.title())"
   ]
  },
  {
   "cell_type": "code",
   "execution_count": null,
   "id": "8eef6b33-b562-4254-bf03-fac087978c69",
   "metadata": {},
   "outputs": [],
   "source": [
    "Q5. Create a generator function for prime numbers less than 1000. Use the next() method to print the \n",
    "first 20 prime numbers."
   ]
  },
  {
   "cell_type": "code",
   "execution_count": 8,
   "id": "2254ee59-f52c-4999-acd0-35e9eeb64b5a",
   "metadata": {},
   "outputs": [
    {
     "name": "stdout",
     "output_type": "stream",
     "text": [
      "3 5 7 9 11 13 15 17 19 21 23 25 27 29 31 33 35 37 39 41 "
     ]
    }
   ],
   "source": [
    "def isprime(num):\n",
    "    for i in range(2,num):\n",
    "        if num%i==0:\n",
    "            return False\n",
    "        return True\n",
    "def primenumber(n):\n",
    "    num = 2\n",
    "    while n :\n",
    "        if isprime(num):\n",
    "            yield num\n",
    "            n-=1\n",
    "        num+=1\n",
    "    return\n",
    "it  = primenumber(20)\n",
    "for e in it :\n",
    "    print(e,end=' ')"
   ]
  },
  {
   "cell_type": "code",
   "execution_count": null,
   "id": "3db2a69b-23dc-4f3c-9e96-06becd94e345",
   "metadata": {},
   "outputs": [],
   "source": [
    "Q6. Write a python program to print the first 10 Fibonacci numbers using a while loop"
   ]
  },
  {
   "cell_type": "code",
   "execution_count": 11,
   "id": "046eb542-b156-4dca-965a-8265f2e141a4",
   "metadata": {},
   "outputs": [
    {
     "name": "stdout",
     "output_type": "stream",
     "text": [
      "1\n",
      "1\n",
      "2\n",
      "3\n",
      "5\n",
      "8\n",
      "13\n",
      "21\n",
      "34\n",
      "55\n",
      "\n"
     ]
    }
   ],
   "source": [
    "a,b = 0,1\n",
    "while b <=55:\n",
    "    print(b)\n",
    "    a,b=b,a+b\n",
    "print()"
   ]
  },
  {
   "cell_type": "code",
   "execution_count": null,
   "id": "2075ad16-9d3c-499a-a5f0-c8ea6d72805d",
   "metadata": {},
   "outputs": [],
   "source": [
    "Q7. Write a List Comprehension to iterate through the given string: ‘pwskills’.\n",
    "\n",
    "Expected output: ['p', 'w', 's', 'k', 'i', 'l', 'l', 's']"
   ]
  },
  {
   "cell_type": "code",
   "execution_count": 29,
   "id": "58a42e00-0a03-4af1-84ef-ea38bedd1dc8",
   "metadata": {},
   "outputs": [
    {
     "name": "stdout",
     "output_type": "stream",
     "text": [
      "['p', 'w', 's', 'k', 'i', 'l', 'l', 's']\n"
     ]
    }
   ],
   "source": [
    "string = 'pwskills'\n",
    "result = [char for char in string]\n",
    "print(result)"
   ]
  },
  {
   "cell_type": "code",
   "execution_count": null,
   "id": "2566f6d1-ee80-4466-83b8-21a4bd4dd5ae",
   "metadata": {},
   "outputs": [],
   "source": [
    "Q8. Write a python program to check whether a given number is Palindrome\n",
    "or not using a while loop"
   ]
  },
  {
   "cell_type": "code",
   "execution_count": 32,
   "id": "66f94275-58f0-46a6-b1ee-a12f73cc69d4",
   "metadata": {},
   "outputs": [
    {
     "name": "stdin",
     "output_type": "stream",
     "text": [
      "Enter a number:  20\n"
     ]
    },
    {
     "name": "stdout",
     "output_type": "stream",
     "text": [
      "The number is not a Palindrome.\n"
     ]
    }
   ],
   "source": [
    "num = int(input(\"Enter a number: \"))\n",
    "original_num = num\n",
    "reverse_num = 0\n",
    "while num > 0:\n",
    "    remainder = num % 10\n",
    "    reverse_num = (reverse_num * 10) + remainder\n",
    "    num = num // 10\n",
    "if original_num == reverse_num:\n",
    "    print(\"The number is a Palindrome!\")\n",
    "else:\n",
    "    print(\"The number is not a Palindrome.\")\n"
   ]
  },
  {
   "cell_type": "code",
   "execution_count": 37,
   "id": "7b073cef-18d1-4539-9169-e3806bc36eea",
   "metadata": {},
   "outputs": [
    {
     "name": "stdin",
     "output_type": "stream",
     "text": [
      "Enter the number: 252\n"
     ]
    },
    {
     "name": "stdout",
     "output_type": "stream",
     "text": [
      "The number is a Palindrome!\n"
     ]
    }
   ],
   "source": [
    "num = int(input(\"Enter the number:\"))\n",
    "rev = 0\n",
    "x = num\n",
    "while(num > 0):\n",
    "    rev=(rev*10)+num%10\n",
    "    num=num//10\n",
    "if(x==rev):\n",
    "    print(\"The number is a Palindrome!\")\n",
    "else:\n",
    "    print(\"The number is not a Palindrome.\")"
   ]
  },
  {
   "cell_type": "code",
   "execution_count": null,
   "id": "cbaffcea-434f-47f9-8d2c-c78d74bd23b5",
   "metadata": {},
   "outputs": [],
   "source": [
    "Q9. Write a code to print odd numbers from 1 to 100 using list comprehension."
   ]
  },
  {
   "cell_type": "code",
   "execution_count": 39,
   "id": "d5ea1738-7d0f-465b-a421-63f572daf6f5",
   "metadata": {},
   "outputs": [
    {
     "name": "stdout",
     "output_type": "stream",
     "text": [
      "1\n",
      "3\n",
      "5\n",
      "7\n",
      "9\n",
      "11\n",
      "13\n",
      "15\n",
      "17\n",
      "19\n",
      "21\n",
      "23\n",
      "25\n",
      "27\n",
      "29\n",
      "31\n",
      "33\n",
      "35\n",
      "37\n",
      "39\n",
      "41\n",
      "43\n",
      "45\n",
      "47\n",
      "49\n",
      "51\n",
      "53\n",
      "55\n",
      "57\n",
      "59\n",
      "61\n",
      "63\n",
      "65\n",
      "67\n",
      "69\n",
      "71\n",
      "73\n",
      "75\n",
      "77\n",
      "79\n",
      "81\n",
      "83\n",
      "85\n",
      "87\n",
      "89\n",
      "91\n",
      "93\n",
      "95\n",
      "97\n",
      "99\n"
     ]
    }
   ],
   "source": [
    "for i in range (1,100+1):\n",
    "    if i%2==1:\n",
    "        print(i)"
   ]
  },
  {
   "cell_type": "code",
   "execution_count": null,
   "id": "2d659780-a3f0-4e66-b260-12456c2c710f",
   "metadata": {},
   "outputs": [],
   "source": []
  }
 ],
 "metadata": {
  "kernelspec": {
   "display_name": "Python 3 (ipykernel)",
   "language": "python",
   "name": "python3"
  },
  "language_info": {
   "codemirror_mode": {
    "name": "ipython",
    "version": 3
   },
   "file_extension": ".py",
   "mimetype": "text/x-python",
   "name": "python",
   "nbconvert_exporter": "python",
   "pygments_lexer": "ipython3",
   "version": "3.10.8"
  }
 },
 "nbformat": 4,
 "nbformat_minor": 5
}
