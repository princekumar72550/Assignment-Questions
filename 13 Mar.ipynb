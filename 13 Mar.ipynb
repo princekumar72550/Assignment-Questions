{
 "cells": [
  {
   "cell_type": "code",
   "execution_count": null,
   "id": "cf1b9d60-484a-48b5-8fa1-4b849fc55b52",
   "metadata": {},
   "outputs": [],
   "source": [
    "Q1. Explain the assumptions required to use ANOVA and provide examples of violations that could impact\n",
    "the validity of the results."
   ]
  },
  {
   "cell_type": "code",
   "execution_count": null,
   "id": "2e0ac47c-d886-4e42-8e6f-ffcc006bb192",
   "metadata": {},
   "outputs": [],
   "source": [
    "Assumptions for ANOVA validity:\n",
    "\n",
    "1. Independence: Observations in each group are independent.\n",
    "2. Normality: Data within groups are normally distributed.\n",
    "3. Homogeneity of Variance: Variances across groups are roughly equal.\n",
    "\n",
    "Violations:\n",
    "\n",
    "1. Independence: Data from related individuals or repeated measures.\n",
    "2. Normality: Heavily skewed or outlier-laden data.\n",
    "3. Homogeneity of Variance: Unequal variability between groups.\n"
   ]
  },
  {
   "cell_type": "code",
   "execution_count": null,
   "id": "f9083c2b-4a98-4f12-8fd3-5806fb13563c",
   "metadata": {},
   "outputs": [],
   "source": [
    "Q2. What are the three types of ANOVA, and in what situations would each be used?\n",
    "\n"
   ]
  },
  {
   "cell_type": "code",
   "execution_count": null,
   "id": "e2e97a1a-c074-4ff5-9011-ccb34cd15e96",
   "metadata": {},
   "outputs": [],
   "source": [
    "The three types of ANOVA are:\n",
    "\n",
    "1. One-Way ANOVA: This is used when comparing means across two or more independent groups on a single factor or independent variable. It's suitable for situations where there is only one factor being investigated. For example, comparing the effectiveness of three different treatments on a medical condition.\n",
    "\n",
    "2. Two-Way ANOVA: This is used when comparing means across two independent variables simultaneously. It assesses the main effects of each independent variable as well as any interaction between them. It's suitable for situations where there are two factors being investigated, and you want to examine their individual effects and potential interaction. For example, studying the effects of both diet and exercise regimen on weight loss.\n",
    "\n",
    "3. Repeated Measures ANOVA (or within-subjects ANOVA): This is used when measurements are taken on the same subjects under different conditions or time points. It's suitable for situations where each participant serves as their own control, such as in longitudinal studies or experiments involving before-and-after measurements. For example, tracking changes in cognitive function over time with different interventions.\n"
   ]
  },
  {
   "cell_type": "code",
   "execution_count": null,
   "id": "565fb2fc-fa08-427f-90dc-a4770f9c5aa7",
   "metadata": {},
   "outputs": [],
   "source": [
    "Q3. What is the partitioning of variance in ANOVA, and why is it important to understand this concept?"
   ]
  },
  {
   "cell_type": "code",
   "execution_count": null,
   "id": "16923942-dbb0-4bc9-9058-96651ae67a01",
   "metadata": {},
   "outputs": [],
   "source": [
    "1. Between-group variance: This component represents the variability between the group means. It reflects the extent to which the groups differ from each other on the dependent variable. In ANOVA, this variance is compared to the variability within groups to determine if there are statistically significant differences between the group means.\n",
    "\n",
    "2. Within-group variance: Also known as error variance, this component represents the variability within each group. It reflects the natural variability or random fluctuations in the data that are not accounted for by the independent variable(s). In ANOVA, this variance serves as the baseline against which the between-group variance is compared.\n",
    "\n",
    "Understanding the partitioning of variance is crucial for several reasons:\n",
    "\n",
    "1. Interpretation of Results: By decomposing the total variance into its constituent components, researchers can gain insight into the relative contributions of different factors to the overall variability observed in the data. This allows for a more nuanced interpretation of the results and helps identify which factors are driving significant differences between groups.\n",
    "\n",
    "2. Assessment of Model Fit: Partitioning variance helps evaluate how well the statistical model fits the data. If a substantial portion of the total variance can be explained by the between-group differences while minimizing within-group variability, it suggests that the model is effectively capturing the systematic effects of the independent variable(s) on the dependent variable.\n",
    "\n",
    "3. Effect Size Estimation: Partitioning variance facilitates the calculation of effect sizes, which quantify the magnitude of the differences between groups. Effect sizes provide valuable information about the practical significance of the observed differences beyond mere statistical significance.\n",
    "\n",
    "4. Guidance for Further Analysis: Understanding the partitioning of variance can inform subsequent analyses and guide the selection of appropriate post-hoc tests or follow-up investigations. For example, if most of the variance is explained by between-group differences, it may warrant further exploration of specific group comparisons or factors driving these differences.\n"
   ]
  },
  {
   "cell_type": "code",
   "execution_count": null,
   "id": "186c6679-bd73-4f05-8de7-6a79c2157e06",
   "metadata": {},
   "outputs": [],
   "source": [
    "Q4. How would you calculate the total sum of squares (SST), explained sum of squares (SSE), and residual\n",
    "sum of squares (SSR) in a one-way ANOVA using Python?"
   ]
  },
  {
   "cell_type": "code",
   "execution_count": 1,
   "id": "ef51d6ea-3981-4a17-ae4e-323616ef2e1a",
   "metadata": {},
   "outputs": [
    {
     "name": "stdout",
     "output_type": "stream",
     "text": [
      "Total Sum of Squares (SST): 130.0\n",
      "Explained Sum of Squares (SSE): 120.0\n",
      "Residual Sum of Squares (SSR): 10.0\n"
     ]
    }
   ],
   "source": [
    "import numpy as np\n",
    "\n",
    "data = np.array([[5, 7, 9, 11, 13],\n",
    "                 [6, 8, 10, 12, 14],\n",
    "                 [4, 6, 8, 10, 12]])\n",
    "\n",
    "grand_mean = np.mean(data)\n",
    "group_means = np.mean(data, axis=1)\n",
    "\n",
    "SST = np.sum((data - grand_mean) ** 2)\n",
    "SSE = np.sum((data - group_means.reshape(-1, 1)) ** 2)\n",
    "SSR = SST - SSE\n",
    "\n",
    "print(\"Total Sum of Squares (SST):\", SST)\n",
    "print(\"Explained Sum of Squares (SSE):\", SSE)\n",
    "print(\"Residual Sum of Squares (SSR):\", SSR)\n"
   ]
  },
  {
   "cell_type": "code",
   "execution_count": null,
   "id": "7ca0ddfb-edc8-4218-b7b1-263f7b457033",
   "metadata": {},
   "outputs": [],
   "source": [
    "Q5. In a two-way ANOVA, how would you calculate the main effects and interaction effects using Python?"
   ]
  },
  {
   "cell_type": "code",
   "execution_count": null,
   "id": "6872f993-516c-4563-ac12-5540f41ac8c4",
   "metadata": {},
   "outputs": [],
   "source": [
    "data = pd.DataFrame({'A': [1, 1, 2, 2],\n",
    "                     'B': [1, 2, 1, 2],\n",
    "                     'Y': [5, 7, 9, 11]})\n",
    "\n",
    "if data.isnull().values.any() or not np.isfinite(data.values).all():\n",
    "    print(\"Data contains NaN or infinite values. Please preprocess the data.\")\n",
    "else:\n",
    "    model = ols('Y ~ C(A) + C(B) + C(A):C(B)', data=data).fit()\n",
    "\n",
    "    print(sm.stats.anova_lm(model, typ=2))\n",
    "\n",
    "    main_effects = model.params[['C(A)[T.2]', 'C(B)[T.2]']]\n",
    "    interaction_effect = model.params['C(A)[T.2]:C(B)[T.2]']\n",
    "\n",
    "    print(\"Main Effects:\")\n",
    "    print(main_effects)\n",
    "    print(\"Interaction Effect:\")\n",
    "    print(interaction_effect)\n"
   ]
  },
  {
   "cell_type": "code",
   "execution_count": null,
   "id": "5b3c8bf8-7deb-429e-87ba-12f75909f9ac",
   "metadata": {},
   "outputs": [],
   "source": [
    "Q6. Suppose you conducted a one-way ANOVA and obtained an F-statistic of 5.23 and a p-value of 0.02.\n",
    "What can you conclude about the differences between the groups, and how would you interpret these\n",
    "results?"
   ]
  },
  {
   "cell_type": "code",
   "execution_count": 4,
   "id": "c49beab4-a6dc-40f3-b5d5-a6c6fcbcac2d",
   "metadata": {},
   "outputs": [
    {
     "name": "stdout",
     "output_type": "stream",
     "text": [
      "The p-value is less than the significance level.\n",
      "Reject the null hypothesis.\n"
     ]
    }
   ],
   "source": [
    "F_statistic = 5.23\n",
    "p_value = 0.02\n",
    "\n",
    "alpha = 0.05\n",
    "\n",
    "if p_value < alpha:\n",
    "    print(\"The p-value is less than the significance level.\")\n",
    "    print(\"Reject the null hypothesis.\")\n",
    "\n",
    "\n",
    "else:\n",
    "    print(\"The p-value is not less than the significance level.\")\n",
    "    print(\"Fail to reject the null hypothesis.\")\n",
    "\n"
   ]
  },
  {
   "cell_type": "code",
   "execution_count": null,
   "id": "746de744-7dc9-42d0-9f52-34130f621d8d",
   "metadata": {},
   "outputs": [],
   "source": [
    "Q7. In a repeated measures ANOVA, how would you handle missing data, and what are the potential\n",
    "consequences of using different methods to handle missing data"
   ]
  },
  {
   "cell_type": "code",
   "execution_count": null,
   "id": "079adf61-a246-469c-8260-1d9d5492450a",
   "metadata": {},
   "outputs": [],
   "source": [
    "1. Complete Case Analysis (CCA):\n",
    "   - Method: Excludes cases with any missing data, analyzing only the complete cases.\n",
    "   - Consequences: CCA may lead to biased estimates if the missing data are not missing completely at random (MCAR). It may also reduce the sample size and statistical power, particularly if missingness is related to the outcome variable or covariates.\n",
    "\n",
    "2. Mean Imputation:\n",
    "   - Method: Replaces missing values with the mean of observed values for that variable.\n",
    "   - Consequences: Mean imputation can distort the distribution and reduce variance, leading to biased estimates and underestimation of standard errors. It does not account for uncertainty introduced by imputation, potentially inflating Type I error rates.\n",
    "\n",
    "3. Last Observation Carried Forward (LOCF):\n",
    "   - Method: Imputes missing values with the last observed value for that variable.\n",
    "   - Consequences: LOCF assumes that missing values remain constant over time, which may not be valid. It can introduce bias, particularly if missingness is related to the outcome variable or if data are not missing completely at random.\n",
    "\n",
    "4. Multiple Imputation (MI):\n",
    "   - Method: Generates multiple plausible values for missing data based on observed data and imputes missing values with these estimates.\n",
    "   - Consequences: MI preserves variability and accounts for uncertainty introduced by imputation, yielding unbiased estimates and accurate standard errors. However, it requires assumptions about the missing data mechanism and may be computationally intensive.\n",
    "\n",
    "5. Model-Based Imputation:\n",
    "   - Method: Imputes missing values using a statistical model that predicts missing values based on observed data.\n",
    "   - Consequences: Model-based imputation can provide accurate estimates if the model adequately captures the relationships in the data. However, misspecification of the imputation model can lead to biased results.\n",
    "\n"
   ]
  },
  {
   "cell_type": "code",
   "execution_count": null,
   "id": "e76d6c14-1f40-4f14-a8b5-20c0cf957fc4",
   "metadata": {},
   "outputs": [],
   "source": [
    "Q8. What are some common post-hoc tests used after ANOVA, and when would you use each one? Provide\n",
    "an example of a situation where a post-hoc test might be necessary."
   ]
  },
  {
   "cell_type": "code",
   "execution_count": null,
   "id": "93c62b06-a1c1-406c-80a9-4b56638b2004",
   "metadata": {},
   "outputs": [],
   "source": [
    "Common post-hoc tests used after ANOVA include:\n",
    "\n",
    "1. Tukey's Honestly Significant Difference (HSD):\n",
    "   - Use: Tukey's HSD is used when you have three or more groups and want to compare all possible pairwise differences between group means.\n",
    "   - Situation: Suppose you conducted a one-way ANOVA with three or more treatment groups and found a significant overall difference. Tukey's HSD can help identify which specific groups differ significantly from each other.\n",
    "\n",
    "2. Bonferroni Correction:\n",
    "   - Use: Bonferroni correction adjusts the significance level for multiple comparisons to control the familywise error rate.\n",
    "   - Situation: When performing multiple pairwise comparisons, Bonferroni correction is useful to reduce the likelihood of false positive findings. For example, if you conduct several pairwise comparisons between treatment groups, Bonferroni correction can help maintain an overall alpha level of 0.05 while adjusting for the increased risk of Type I errors due to multiple testing.\n",
    "\n",
    "3. Sidak Correction:\n",
    "   - Use: Similar to Bonferroni correction, Sidak correction adjusts the significance level for multiple comparisons to control the familywise error rate.\n",
    "   - Situation: Sidak correction is also used to address multiple comparisons, but it can be less conservative than Bonferroni correction, making it a preferable option when conducting a large number of comparisons.\n",
    "\n",
    "4. Dunnett's Test:\n",
    "   - Use: Dunnett's test compares each treatment group to a control group while controlling the overall Type I error rate.\n",
    "   - Situation: When you have a control group and several treatment groups, Dunnett's test can help identify which treatment groups differ significantly from the control group, while still maintaining the overall Type I error rate at the desired level.\n",
    "\n",
    "5. Scheffé's Test:\n",
    "   - Use: Scheffé's test is a conservative post-hoc test that controls the familywise error rate for all possible comparisons.\n",
    "   - Situation: Scheffé's test is used when you want to compare all possible combinations of groups while controlling the overall Type I error rate at a specified level. It is particularly useful when sample sizes are unequal or group variances are not homogeneous."
   ]
  },
  {
   "cell_type": "code",
   "execution_count": null,
   "id": "56a55e66-2a63-4145-8696-7b4fd5582a68",
   "metadata": {},
   "outputs": [],
   "source": [
    "Q9. A researcher wants to compare the mean weight loss of three diets: A, B, and C. They collect data from\n",
    "50 participants who were randomly assigned to one of the diets. Conduct a one-way ANOVA using Python\n",
    "to determine if there are any significant differences between the mean weight loss of the three diets.\n",
    "Report the F-statistic and p-value, and interpret the results."
   ]
  },
  {
   "cell_type": "code",
   "execution_count": 6,
   "id": "7427ca94-c01e-436d-acc4-ca2412b4c2d0",
   "metadata": {},
   "outputs": [
    {
     "name": "stdout",
     "output_type": "stream",
     "text": [
      "F-statistic: 2.0\n",
      "p-value: 0.177978515625\n",
      "The p-value is greater than or equal to 0.05. Fail to reject the null hypothesis.\n",
      "There are no significant differences between the mean weight loss of the three diets.\n"
     ]
    }
   ],
   "source": [
    "import numpy as np\n",
    "from scipy.stats import f_oneway\n",
    "\n",
    "diet_A = np.array([2, 3, 4, 5, 6])\n",
    "diet_B = np.array([1, 2, 3, 4, 5])\n",
    "diet_C = np.array([3, 4, 5, 6, 7])\n",
    "\n",
    "F_statistic, p_value = f_oneway(diet_A, diet_B, diet_C)\n",
    "\n",
    "print(\"F-statistic:\", F_statistic)\n",
    "print(\"p-value:\", p_value)\n",
    "\n",
    "if p_value < 0.05:\n",
    "    print(\"The p-value is less than 0.05. Reject the null hypothesis.\")\n",
    "    print(\"There are significant differences between the mean weight loss of the three diets.\")\n",
    "else:\n",
    "    print(\"The p-value is greater than or equal to 0.05. Fail to reject the null hypothesis.\")\n",
    "    print(\"There are no significant differences between the mean weight loss of the three diets.\")\n"
   ]
  },
  {
   "cell_type": "code",
   "execution_count": null,
   "id": "c2b4b453-6723-4562-8ae8-a11479176ce9",
   "metadata": {},
   "outputs": [],
   "source": [
    "Q10. A company wants to know if there are any significant differences in the average time it takes to\n",
    "complete a task using three different software programs: Program A, Program B, and Program C. They\n",
    "randomly assign 30 employees to one of the programs and record the time it takes each employee to\n",
    "complete the task. Conduct a two-way ANOVA using Python to determine if there are any main effects or\n",
    "interaction effects between the software programs and employee experience level (novice vs.\n",
    "experienced). Report the F-statistics and p-values, and interpret the results."
   ]
  },
  {
   "cell_type": "code",
   "execution_count": null,
   "id": "c93ce8ce-f2ad-4f49-ba3f-9c867ca8c3ea",
   "metadata": {},
   "outputs": [
    {
     "name": "stdout",
     "output_type": "stream",
     "text": [
      "                                                sum_sq    df         F  \\\n",
      "C(Employee_Experience)                       12.126559   1.0  2.905717   \n",
      "C(Software_Program)                           5.434252   2.0  0.651067   \n",
      "C(Employee_Experience):C(Software_Program)    7.579898   2.0  0.908132   \n",
      "Residual                                    100.160287  24.0       NaN   \n",
      "\n",
      "                                              PR(>F)  \n",
      "C(Employee_Experience)                      0.101180  \n",
      "C(Software_Program)                         0.530456  \n",
      "C(Employee_Experience):C(Software_Program)  0.416691  \n",
      "Residual                                         NaN  \n",
      "\n",
      "Interpretation:\n",
      "The F-statistics and p-values indicate the significance of main effects and interaction effects.\n"
     ]
    }
   ],
   "source": [
    "import numpy as np\n",
    "import pandas as pd\n",
    "import statsmodels.api as sm\n",
    "from statsmodels.formula.api import ols\n",
    "\n",
    "np.random.seed(0)\n",
    "n_employees = 30\n",
    "employee_experience = np.random.choice(['Novice', 'Experienced'], size=n_employees)\n",
    "software_program = np.random.choice(['A', 'B', 'C'], size=n_employees)\n",
    "task_completion_time = np.random.normal(loc=10, scale=2, size=n_employees)\n",
    "\n",
    "data = pd.DataFrame({'Employee_Experience': employee_experience,\n",
    "                     'Software_Program': software_program,\n",
    "                     'Task_Completion_Time': task_completion_time})\n",
    "\n",
    "model = ols('Task_Completion_Time ~ C(Employee_Experience) * C(Software_Program)', data=data).fit()\n",
    "\n",
    "print(sm.stats.anova_lm(model, typ=2))\n",
    "\n",
    "print(\"\\nInterpretation:\")\n",
    "print(\"The F-statistics and p-values indicate the significance of main effects and interaction effects.\")\n"
   ]
  },
  {
   "cell_type": "code",
   "execution_count": null,
   "id": "5f779985-6b78-4c0c-ac9e-b1aba508c0db",
   "metadata": {},
   "outputs": [],
   "source": [
    "Q11. An educational researcher is interested in whether a new teaching method improves student test\n",
    "scores. They randomly assign 100 students to either the control group (traditional teaching method) or the\n",
    "experimental group (new teaching method) and administer a test at the end of the semester. Conduct a\n",
    "two-sample t-test using Python to determine if there are any significant differences in test scores\n",
    "between the two groups. If the results are significant, follow up with a post-hoc test to determine which\n",
    "group(s) differ significantly from each other."
   ]
  },
  {
   "cell_type": "code",
   "execution_count": 18,
   "id": "2535900a-7450-4d8c-ad1f-c7b51fde22d9",
   "metadata": {},
   "outputs": [
    {
     "name": "stdout",
     "output_type": "stream",
     "text": [
      "ANOVA F-statistic: 22.607133515185637\n",
      "ANOVA p-value: 3.819135262679368e-06\n",
      "\n",
      "Tukey's HSD post-hoc test results:\n",
      "              control  experimental\n",
      "control         1.000         0.001\n",
      "experimental    0.001         1.000\n"
     ]
    }
   ],
   "source": [
    "import numpy as np\n",
    "import pandas as pd\n",
    "import scipy.stats as stats\n",
    "import scikit_posthocs as sp\n",
    "\n",
    "np.random.seed(42)\n",
    "\n",
    "control = np.random.normal(75, 10, 100)\n",
    "experimental = np.random.normal(80, 10, 100)\n",
    "\n",
    "df = pd.DataFrame({'score': np.concatenate([control, experimental]),\n",
    "                   'group': np.repeat(['control', 'experimental'], 100)})\n",
    "\n",
    "anova_result = stats.f_oneway(control, experimental)\n",
    "print(\"ANOVA F-statistic:\", anova_result.statistic)\n",
    "print(\"ANOVA p-value:\", anova_result.pvalue)\n",
    "\n",
    "tukey_result = sp.posthoc_tukey(df, val_col='score', group_col='group')\n",
    "print(\"\\nTukey's HSD post-hoc test results:\")\n",
    "print(tukey_result)\n"
   ]
  },
  {
   "cell_type": "code",
   "execution_count": null,
   "id": "6f04424f-6f32-4e32-a11f-1c44cedd4a23",
   "metadata": {},
   "outputs": [],
   "source": [
    "Q12. A researcher wants to know if there are any significant differences in the average daily sales of three\n",
    "retail stores: Store A, Store B, and Store C. They randomly select 30 days and record the sales for each store\n",
    "on those days. Conduct a repeated measures ANOVA using Python to determine if there are any\n",
    "significant differences in sales between the three stores. If the results are significant, follow up with a posthoc test to determine which store(s) differ significantly from each other."
   ]
  },
  {
   "cell_type": "code",
   "execution_count": 19,
   "id": "47f8a082-7268-413c-a613-1bf9b04150b4",
   "metadata": {},
   "outputs": [
    {
     "name": "stdout",
     "output_type": "stream",
     "text": [
      "ANOVA F-statistic: 50.361055546233764\n",
      "ANOVA p-value: 2.9591453821082584e-15\n",
      "\n",
      "Post-hoc test results (Tukey's HSD):\n",
      " Multiple Comparison of Means - Tukey HSD, FWER=0.05  \n",
      "======================================================\n",
      " group1  group2 meandiff p-adj  lower   upper   reject\n",
      "------------------------------------------------------\n",
      "Store_A Store_B  54.5608   0.0 28.4285  80.6931   True\n",
      "Store_A Store_C 109.9872   0.0 83.8549 136.1195   True\n",
      "Store_B Store_C  55.4263   0.0  29.294  81.5586   True\n",
      "------------------------------------------------------\n"
     ]
    }
   ],
   "source": [
    "import numpy as np\n",
    "import pandas as pd\n",
    "from scipy.stats import f_oneway\n",
    "import statsmodels.stats.multicomp as mc\n",
    "\n",
    "np.random.seed(42)\n",
    "days = 30\n",
    "sales_store_A = np.random.normal(loc=500, scale=50, size=days)\n",
    "sales_store_B = np.random.normal(loc=550, scale=40, size=days)\n",
    "sales_store_C = np.random.normal(loc=600, scale=45, size=days)\n",
    "\n",
    "data = pd.DataFrame({'Store_A': sales_store_A,\n",
    "                     'Store_B': sales_store_B,\n",
    "                     'Store_C': sales_store_C})\n",
    "\n",
    "anova_result = f_oneway(data['Store_A'], data['Store_B'], data['Store_C'])\n",
    "print(\"ANOVA F-statistic:\", anova_result.statistic)\n",
    "print(\"ANOVA p-value:\", anova_result.pvalue)\n",
    "\n",
    "if anova_result.pvalue < 0.05:\n",
    "    all_sales = np.concatenate([sales_store_A, sales_store_B, sales_store_C])\n",
    "    all_groups = ['Store_A'] * days + ['Store_B'] * days + ['Store_C'] * days\n",
    "    posthoc_result = mc.MultiComparison(all_sales, all_groups).tukeyhsd()\n",
    "    print(\"\\nPost-hoc test results (Tukey's HSD):\")\n",
    "    print(posthoc_result)\n",
    "else:\n",
    "    print(\"No significant differences found. Post-hoc test not performed.\")\n"
   ]
  },
  {
   "cell_type": "code",
   "execution_count": null,
   "id": "3252363e-6a2b-45f4-8c38-8b61ccee7cea",
   "metadata": {},
   "outputs": [],
   "source": []
  },
  {
   "cell_type": "code",
   "execution_count": null,
   "id": "02f684ed-27d5-476d-b3e4-83cd6ed193f0",
   "metadata": {},
   "outputs": [],
   "source": []
  },
  {
   "cell_type": "code",
   "execution_count": null,
   "id": "01d2b2c7-550b-4172-9364-32ad5d05c395",
   "metadata": {},
   "outputs": [],
   "source": []
  },
  {
   "cell_type": "code",
   "execution_count": null,
   "id": "0f4281e9-4185-4b41-b56f-1297dabf79be",
   "metadata": {},
   "outputs": [],
   "source": []
  },
  {
   "cell_type": "code",
   "execution_count": null,
   "id": "c6d4264c-f489-419d-8b3a-27497d9bbb34",
   "metadata": {},
   "outputs": [],
   "source": []
  },
  {
   "cell_type": "code",
   "execution_count": null,
   "id": "9e25f6ff-e91f-4d71-a80c-c2865598345f",
   "metadata": {},
   "outputs": [],
   "source": []
  },
  {
   "cell_type": "code",
   "execution_count": null,
   "id": "02d53896-48ff-449e-8b71-49204c3d83c2",
   "metadata": {},
   "outputs": [],
   "source": []
  },
  {
   "cell_type": "code",
   "execution_count": null,
   "id": "df0e5c2f-2d31-4032-8486-be0136a24a19",
   "metadata": {},
   "outputs": [],
   "source": []
  },
  {
   "cell_type": "code",
   "execution_count": null,
   "id": "2055a14a-241f-42b4-85df-bf53036f74f5",
   "metadata": {},
   "outputs": [],
   "source": []
  }
 ],
 "metadata": {
  "kernelspec": {
   "display_name": "Python 3 (ipykernel)",
   "language": "python",
   "name": "python3"
  },
  "language_info": {
   "codemirror_mode": {
    "name": "ipython",
    "version": 3
   },
   "file_extension": ".py",
   "mimetype": "text/x-python",
   "name": "python",
   "nbconvert_exporter": "python",
   "pygments_lexer": "ipython3",
   "version": "3.10.8"
  }
 },
 "nbformat": 4,
 "nbformat_minor": 5
}
