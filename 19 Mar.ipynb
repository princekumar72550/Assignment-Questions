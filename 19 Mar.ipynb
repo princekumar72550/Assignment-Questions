{
 "cells": [
  {
   "cell_type": "code",
   "execution_count": null,
   "id": "5ccff4a4-59d0-4810-b794-7061a1b28ed3",
   "metadata": {},
   "outputs": [],
   "source": [
    "Q1. What is Min-Max scaling, and how is it used in data preprocessing? Provide an example to illustrate its\n",
    "application."
   ]
  },
  {
   "cell_type": "code",
   "execution_count": null,
   "id": "899ecd66-da85-427d-848f-5747aa09f3c7",
   "metadata": {},
   "outputs": [],
   "source": [
    "Min-Max scaling, also known as normalization, is a data preprocessing technique that scales the values of a feature to a specific \n",
    "range, typically between 0 and 1. It transforms the data by linearly mapping the original feature values to the desired range \n",
    "without changing the shape of the original distribution.\n",
    "\n"
   ]
  },
  {
   "cell_type": "code",
   "execution_count": 3,
   "id": "2ac2929a-9c6c-496c-8b55-c6721811ddfb",
   "metadata": {},
   "outputs": [
    {
     "name": "stdout",
     "output_type": "stream",
     "text": [
      "Scaled waiting times for Restaurant A:\n",
      "[[0.5  ]\n",
      " [0.625]\n",
      " [1.   ]\n",
      " [0.375]\n",
      " [0.25 ]\n",
      " [0.   ]\n",
      " [0.875]]\n",
      "\n",
      "Scaled waiting times for Restaurant B:\n",
      "[[1.375]\n",
      " [1.625]\n",
      " [1.875]\n",
      " [1.25 ]\n",
      " [1.5  ]\n",
      " [2.   ]]\n"
     ]
    }
   ],
   "source": [
    "from sklearn.preprocessing import MinMaxScaler\n",
    "import numpy as np\n",
    "\n",
    "restaurant_A = [24, 25, 28, 23, 22, 20, 27]\n",
    "restaurant_B = [31, 33, 35, 30, 32, 36]\n",
    "\n",
    "# MinMaxScaler\n",
    "scaler = MinMaxScaler()\n",
    "\n",
    "scaled_A = scaler.fit_transform(np.array(restaurant_A).reshape(-1, 1))\n",
    "scaled_B = scaler.transform(np.array(restaurant_B).reshape(-1, 1))  \n",
    "\n",
    "print(\"Scaled waiting times for Restaurant A:\")\n",
    "print(scaled_A)\n",
    "\n",
    "print(\"\\nScaled waiting times for Restaurant B:\")\n",
    "print(scaled_B)\n"
   ]
  },
  {
   "cell_type": "code",
   "execution_count": null,
   "id": "d89b9dcd-1203-4986-af13-e3f4dbffe9d7",
   "metadata": {},
   "outputs": [],
   "source": [
    "Q2. What is the Unit Vector technique in feature scaling, and how does it differ from Min-Max scaling?\n",
    "Provide an example to illustrate its application."
   ]
  },
  {
   "cell_type": "code",
   "execution_count": null,
   "id": "ed13b5c5-2355-44c9-af28-e11d84bc2979",
   "metadata": {},
   "outputs": [],
   "source": [
    "The unit vector technique, also known as vector normalization or L2 normalization, is a method used in feature scaling to scale feature vectors such that their Euclidean norm (L2 norm) equals 1. This technique ensures that each feature vector has a consistent magnitude or length while preserving its direction.\n",
    "\n",
    "The formula for unit vector scaling of a feature vector \\( x \\) is:\n",
    "\n",
    "\\[ x_{\\text{unit}} = \\frac{x}{\\lVert x \\rVert_2} \\]\n",
    "\n",
    "Original data:\n",
    "- Height (in centimeters): 150, 160, 170\n",
    "- Weight (in kilograms): 50, 60, 70\n",
    "\n",
    "Unit Vector Scaling:\n",
    "\n",
    "1. Calculate the Euclidean norm of each feature vector:\n",
    "   - For height: \\( \\sqrt{150^2 + 160^2 + 170^2} \\)\n",
    "   - For weight: \\( \\sqrt{50^2 + 60^2 + 70^2} \\)\n",
    "\n",
    "2. Divide each feature vector by its respective Euclidean norm to obtain unit-scaled vectors.\n",
    "\n",
    "Min-Max Scaling:\n",
    "\n",
    "1. For each feature, find the minimum and maximum values:\n",
    "   - Minimum height: 150, Maximum height: 170\n",
    "   - Minimum weight: 50, Maximum weight: 70\n",
    "\n",
    "2. Scale each feature using Min-Max scaling formula:\n",
    "\n",
    "\\[ X_{\\text{scaled}} = \\frac{X - X_{\\text{min}}}{X_{\\text{max}} - X_{\\text{min}}} \\]\n",
    "\n",
    "implement this in Python:"
   ]
  },
  {
   "cell_type": "code",
   "execution_count": 5,
   "id": "d7d0c159-b259-4cdc-9975-057d9a25afad",
   "metadata": {},
   "outputs": [
    {
     "name": "stdout",
     "output_type": "stream",
     "text": [
      "Min-Max scaled height:\n",
      "[[0. ]\n",
      " [0.5]\n",
      " [1. ]]\n",
      "\n",
      "Min-Max scaled weight:\n",
      "[[0. ]\n",
      " [0.5]\n",
      " [1. ]]\n",
      "\n",
      "Unit-scaled height:\n",
      "[[1.]\n",
      " [1.]\n",
      " [1.]]\n",
      "\n",
      "Unit-scaled weight:\n",
      "[[1.]\n",
      " [1.]\n",
      " [1.]]\n"
     ]
    }
   ],
   "source": [
    "from sklearn.preprocessing import MinMaxScaler\n",
    "from sklearn.preprocessing import Normalizer\n",
    "import numpy as np\n",
    "\n",
    "height = np.array([150, 160, 170]).reshape(-1, 1)\n",
    "weight = np.array([50, 60, 70]).reshape(-1, 1)\n",
    "\n",
    "min_max_scaler = MinMaxScaler()\n",
    "height_min_max_scaled = min_max_scaler.fit_transform(height)\n",
    "weight_min_max_scaled = min_max_scaler.fit_transform(weight)\n",
    "\n",
    "normalizer = Normalizer(norm='l2')\n",
    "height_unit_scaled = normalizer.fit_transform(height)\n",
    "weight_unit_scaled = normalizer.fit_transform(weight)\n",
    "\n",
    "print(\"Min-Max scaled height:\")\n",
    "print(height_min_max_scaled)\n",
    "print(\"\\nMin-Max scaled weight:\")\n",
    "print(weight_min_max_scaled)\n",
    "\n",
    "print(\"\\nUnit-scaled height:\")\n",
    "print(height_unit_scaled)\n",
    "print(\"\\nUnit-scaled weight:\")\n",
    "print(weight_unit_scaled)\n"
   ]
  },
  {
   "cell_type": "code",
   "execution_count": null,
   "id": "508378d7-3ddd-4a6a-93c7-e78cc05b64f9",
   "metadata": {},
   "outputs": [],
   "source": [
    "Q3. What is PCA (Principle Component Analysis), and how is it used in dimensionality reduction? Provide an\n",
    "example to illustrate its application."
   ]
  },
  {
   "cell_type": "code",
   "execution_count": null,
   "id": "09faa666-ced3-486b-a47a-e78a11702359",
   "metadata": {},
   "outputs": [],
   "source": [
    "Principal component analysis, or PCA, is a dimensionality reduction method that is often used to reduce the dimensionality of large\n",
    "data sets, by transforming a large set of variables into a smaller one that still contains most of the information in the large set.\n",
    "\n",
    "PCA works:\n",
    "\n",
    "1. Standardize the data: PCA works best when the data is standardized (i.e., each feature has a mean of 0 and a standard deviation of 1). This step ensures that all features contribute equally to the analysis.\n",
    "\n",
    "2. Compute the covariance matrix: Next, PCA computes the covariance matrix of the standardized data. The covariance matrix describes the relationships between pairs of variables in the dataset.\n",
    "\n",
    "3. Calculate the eigenvectors and eigenvalues: PCA then calculates the eigenvectors and eigenvalues of the covariance matrix. Eigenvectors represent the directions of maximum variance (principal components), while eigenvalues represent the magnitude of variance along each eigenvector.\n",
    "\n",
    "4. Select principal components: PCA selects the top \\( k \\) eigenvectors (principal components) corresponding to the \\( k \\) largest eigenvalues. These principal components capture most of the variance in the data.\n",
    "\n",
    "5. Transform the data: Finally, PCA projects the original data onto the selected principal components to obtain the reduced-dimensional representation of the data.\n"
   ]
  },
  {
   "cell_type": "code",
   "execution_count": 6,
   "id": "57fbe5d4-c756-4642-accd-8102c60edfc5",
   "metadata": {},
   "outputs": [
    {
     "data": {
      "image/png": "[encoded data removed]",
      "text/plain": [
       "<Figure size 800x600 with 1 Axes>"
      ]
     },
     "metadata": {},
     "output_type": "display_data"
    }
   ],
   "source": [
    "from sklearn.datasets import load_iris\n",
    "from sklearn.preprocessing import StandardScaler\n",
    "from sklearn.decomposition import PCA\n",
    "import matplotlib.pyplot as plt\n",
    "\n",
    "iris = load_iris()\n",
    "X = iris.data\n",
    "y = iris.target\n",
    "\n",
    "scaler = StandardScaler()\n",
    "X_scaled = scaler.fit_transform(X)\n",
    "\n",
    "pca = PCA(n_components=2)\n",
    "X_pca = pca.fit_transform(X_scaled)\n",
    "\n",
    "plt.figure(figsize=(8, 6))\n",
    "for target in set(y):\n",
    "    plt.scatter(X_pca[y == target, 0], X_pca[y == target, 1], label=f'Class {target}')\n",
    "\n",
    "plt.xlabel('Principal Component 1')\n",
    "plt.ylabel('Principal Component 2')\n",
    "plt.title('PCA of Iris Dataset')\n",
    "plt.legend()\n",
    "plt.grid(True)\n",
    "plt.show()\n"
   ]
  },
  {
   "cell_type": "code",
   "execution_count": null,
   "id": "5df651b4-ffce-4b7a-bc7a-be54381cf829",
   "metadata": {},
   "outputs": [],
   "source": [
    "Q4. What is the relationship between PCA and Feature Extraction, and how can PCA be used for Feature\n",
    "Extraction? Provide an example to illustrate this concept."
   ]
  },
  {
   "cell_type": "code",
   "execution_count": null,
   "id": "33e61d84-6ec8-4e3b-803b-5c96f99a6a28",
   "metadata": {},
   "outputs": [],
   "source": [
    "1. Feature Extraction:\n",
    "   - Definition: Feature extraction is a process where we transform high-dimensional data into a lower-dimensional form.\n",
    "   - Importance: It plays a significant role in data preprocessing and machine learning.\n",
    "   - Goal: The main objective is to retain relevant information while reducing computational cost and removing redundant data patterns.\n",
    "   -Examples: Creating new features by combining existing ones (e.g., calculating Body Mass Index from height and weight).\n",
    "\n",
    "2. PCA:\n",
    "   - Purpose: PCA is a powerful tool for feature extraction.\n",
    "   - Concept: Imagine features as directions in space. PCA aligns these directions with where the data spreads the most.\n",
    "   - Scaling: Before applying PCA, features should be scaled (e.g., using StandardScaler).\n",
    "   - Process: PCA finds eigenvectors of a covariance matrix with the highest eigenvalues and projects data into a new subspace of equal or fewer dimensions.\n",
    "   - Advantages: Useful for multicollinear or high-dimensional datasets, noise reduction, and data preprocessing.\n",
    "\n",
    "3. Difference:\n",
    "   - PCA vs. Feature Selection:\n",
    "     -PCA: Focuses on finding features that explain variance in the data. It reduces dimensionality but may hide small but significant differentiators.\n",
    "     - Feature Selection: Ranks input variables based on usefulness for predicting the target value. It considers the target and can be supervised or unsupervised."
   ]
  },
  {
   "cell_type": "code",
   "execution_count": null,
   "id": "e340acf3-8177-442e-9481-2c0a7d26b70d",
   "metadata": {},
   "outputs": [],
   "source": [
    "Q5. You are working on a project to build a recommendation system for a food delivery service. The dataset\n",
    "contains features such as price, rating, and delivery time. Explain how you would use Min-Max scaling to\n",
    "preprocess the data."
   ]
  },
  {
   "cell_type": "code",
   "execution_count": null,
   "id": "a3875861-67b5-4a1b-beae-760f1c1514e3",
   "metadata": {},
   "outputs": [],
   "source": [
    "\n",
    "1. Understanding Min-Max Scaling:\n",
    "   - Min-Max scaling (also known as normalization) transforms the features so that they fall within a specific range, typically [0, 1].\n",
    "   - It preserves the relative relationships between data points while ensuring that all features have a consistent scale.\n",
    "\n",
    "2. Steps for Min-Max Scaling:\n",
    "   - Given features like price, rating, and delivery time, follow these steps:\n",
    "\n",
    "     a. Identify the Range:\n",
    "        - Determine the minimum and maximum values for each feature in your dataset.\n",
    "        - For example:\n",
    "          - Price: Min = $5, Max = $50\n",
    "          - Rating: Min = 1.0, Max = 5.0\n",
    "          - Delivery Time (in minutes): Min = 20, Max = 60\n",
    "\n",
    "     b. Apply Min-Max Scaling:\n",
    "        - For each feature, use the following formula:\n",
    "          \\[ X_{\\text{scaled}} = \\frac{X - X_{\\text{min}}}{X_{\\text{max}} - X_{\\text{min}}} \\]\n",
    "          where:\n",
    "          - \\(X\\) is the original value of the feature.\n",
    "          - \\(X_{\\text{min}}\\) is the minimum value of the feature.\n",
    "          - \\(X_{\\text{max}}\\) is the maximum value of the feature.\n",
    "        - This scales the feature to the [0, 1] range.\n",
    "\n",
    "     c. Updated Feature Values:\n",
    "        - After applying Min-Max scaling, your features will have values between 0 and 1.\n",
    "        - For example:\n",
    "          - Scaled Price: \\(0.2\\) (for $15)\n",
    "          - Scaled Rating: \\(0.75\\) (for a rating of 4.5)\n",
    "          - Scaled Delivery Time: \\(0.5\\) (for 40 minutes)\n",
    "\n",
    "3. Benefits of Min-Max Scaling:\n",
    "   - Ensures that all features contribute equally to the recommendation system.\n",
    "   - Helps algorithms that rely on distance or similarity calculations (e.g., k-nearest neighbors, clustering) work effectively.\n",
    "   - Improves convergence speed for gradient-based optimization algorithms (e.g., neural networks).\n",
    "\n",
    "4. Implementation:\n",
    "   - You can implement Min-Max scaling using libraries like `scikit-learn` in Python.\n",
    "   - Remember to fit the scaler on the training data and transform both the training and test data consistently."
   ]
  },
  {
   "cell_type": "code",
   "execution_count": null,
   "id": "2e9389c5-fe9f-4881-aab7-81d680aa71df",
   "metadata": {},
   "outputs": [],
   "source": [
    "Q6. You are working on a project to build a model to predict stock prices. The dataset contains many\n",
    "features, such as company financial data and market trends. Explain how you would use PCA to reduce the\n",
    "dimensionality of the dataset."
   ]
  },
  {
   "cell_type": "code",
   "execution_count": null,
   "id": "2536168f-5175-42c6-9fea-f84e12b627c3",
   "metadata": {},
   "outputs": [],
   "source": [
    "Using Principal Component Analysis (PCA) to reduce the dimensionality of a dataset for predicting stock prices involves the following steps:\n",
    "\n",
    "1. Understanding the Dataset:\n",
    "   - Start by thoroughly understanding the dataset, including the features available, such as company financial data (e.g., revenue, earnings, expenses) and market trends (e.g., stock market indices, interest rates, economic indicators).\n",
    "   - Determine the importance of each feature in predicting stock prices and identify any redundant or highly correlated features.\n",
    "\n",
    "2. Data Preprocessing:\n",
    "   - Ensure that the dataset is cleaned and preprocessed. Handle missing values, outliers, and any other data quality issues appropriately.\n",
    "   - Standardize the features if they are on different scales. PCA works best when the features have similar magnitudes.\n",
    "\n",
    "3. Applying PCA:\n",
    "   - Apply PCA to the standardized dataset to reduce its dimensionality while preserving most of the important information.\n",
    "   - PCA works by transforming the original features into a new set of orthogonal variables called principal components. These principal components capture the maximum variance in the data.\n",
    "\n",
    "4. Choosing the Number of Principal Components:\n",
    "   - Decide on the number of principal components to retain. This can be based on the explained variance ratio, which indicates the proportion of variance explained by each principal component.\n",
    "   - Choose a number of principal components that retain a significant amount of variance in the data while reducing the dimensionality to a manageable level.\n",
    "\n",
    "5. Model Building:\n",
    "   - Use the reduced-dimensional dataset obtained from PCA as input for building the predictive model to forecast stock prices.\n",
    "   - Apply appropriate machine learning algorithms such as linear regression, decision trees, random forests, or neural networks depending on the nature of the prediction task.\n",
    "\n",
    "6. Model Evaluation and Refinement:\n",
    "   - Evaluate the performance of the predictive model using appropriate metrics such as mean squared error (MSE), mean absolute error (MAE), or R-squared.\n",
    "   - Refine the model as needed by fine-tuning hyperparameters, trying different algorithms, or incorporating additional features.\n",
    "\n",
    "7. Backtesting and Validation:\n",
    "   - Validate the predictive model using historical data or through backtesting to assess its performance in real-world scenarios.\n",
    "   - Ensure that the model generalizes well to unseen data and does not overfit the training dataset."
   ]
  },
  {
   "cell_type": "code",
   "execution_count": null,
   "id": "31d2b364-66a0-45f5-9ef0-68db8614a397",
   "metadata": {},
   "outputs": [],
   "source": [
    "Q7. For a dataset containing the following values: [1, 5, 10, 15, 20], perform Min-Max scaling to transform the\n",
    "values to a range of -1 to 1."
   ]
  },
  {
   "cell_type": "code",
   "execution_count": 7,
   "id": "4691e0a8-72f8-452e-85e0-f014d5031863",
   "metadata": {},
   "outputs": [
    {
     "name": "stdout",
     "output_type": "stream",
     "text": [
      "Original data: [ 1  5 10 15 20]\n",
      "Min-Max scaled data: [-1.         -0.57894737 -0.05263158  0.47368421  1.        ]\n"
     ]
    }
   ],
   "source": [
    "import numpy as np\n",
    "\n",
    "data = np.array([1, 5, 10, 15, 20])\n",
    "\n",
    "#  minimum and maximum values\n",
    "min_value = np.min(data)\n",
    "max_value = np.max(data)\n",
    "\n",
    "min_range = -1\n",
    "max_range = 1\n",
    "\n",
    "scaled_data = min_range + (max_range - min_range) * ((data - min_value) / (max_value - min_value))\n",
    "\n",
    "print(\"Original data:\", data)\n",
    "print(\"Min-Max scaled data:\", scaled_data)\n"
   ]
  },
  {
   "cell_type": "code",
   "execution_count": null,
   "id": "9b9e2c6b-73b5-4f0c-8227-c52b0b82986c",
   "metadata": {},
   "outputs": [],
   "source": [
    "Q8. For a dataset containing the following features: [height, weight, age, gender, blood pressure], perform\n",
    "Feature Extraction using PCA. How many principal components would you choose to retain, and why?"
   ]
  },
  {
   "cell_type": "code",
   "execution_count": null,
   "id": "1a599525-1fe4-41db-bfa7-cd01deb1e266",
   "metadata": {},
   "outputs": [],
   "source": [
    "1. Scree Plot:\n",
    "   - Plot the eigenvalues of the principal components against their corresponding component numbers.\n",
    "   - Look for an \"elbow\" point in the plot, where the eigenvalues start to level off. This point indicates the number of principal components to retain.\n",
    "   - Retain the principal components corresponding to the components before the elbow point.\n",
    "\n",
    "2. Cumulative Explained Variance Ratio:\n",
    "   - Calculate the cumulative explained variance ratio for each principal component.\n",
    "   - Plot the cumulative explained variance ratio against the number of principal components.\n",
    "   - Look for a point where the cumulative explained variance ratio reaches a satisfactory threshold (e.g., 90% or 95%).\n",
    "   - Retain the number of principal components necessary to achieve the desired cumulative explained variance ratio.\n",
    "\n",
    "3. Domain Knowledge:\n",
    "   - Consider the specific requirements and constraints of your problem domain.\n",
    "   - Retain the number of principal components that capture the most important features while keeping the dimensionality low.\n",
    "   - Prioritize interpretability, computational efficiency, and model performance."
   ]
  },
  {
   "cell_type": "code",
   "execution_count": null,
   "id": "2e485edd-a7bd-4405-aa7f-d33ee9f772bf",
   "metadata": {},
   "outputs": [],
   "source": []
  },
  {
   "cell_type": "code",
   "execution_count": null,
   "id": "f934129e-b39c-4afe-b942-13d890e869a6",
   "metadata": {},
   "outputs": [],
   "source": []
  },
  {
   "cell_type": "code",
   "execution_count": null,
   "id": "f3d6ab6e-8b6d-4bdc-8113-8834b0e496b9",
   "metadata": {},
   "outputs": [],
   "source": []
  },
  {
   "cell_type": "code",
   "execution_count": null,
   "id": "fe9de33d-d0b1-4b5d-bf07-9d669be1367d",
   "metadata": {},
   "outputs": [],
   "source": []
  },
  {
   "cell_type": "code",
   "execution_count": null,
   "id": "aade99b5-af59-480e-bd25-29a3a22ab849",
   "metadata": {},
   "outputs": [],
   "source": []
  },
  {
   "cell_type": "code",
   "execution_count": null,
   "id": "c5119266-3e1b-46d8-9d97-6b03ac678e0a",
   "metadata": {},
   "outputs": [],
   "source": []
  },
  {
   "cell_type": "code",
   "execution_count": null,
   "id": "fef0c47c-1d78-48ae-bcc5-30471e7bc7f3",
   "metadata": {},
   "outputs": [],
   "source": []
  },
  {
   "cell_type": "code",
   "execution_count": null,
   "id": "fa857e44-5e4c-44cb-89fb-6abf0cca65e7",
   "metadata": {},
   "outputs": [],
   "source": []
  },
  {
   "cell_type": "code",
   "execution_count": null,
   "id": "edf7bf06-f4a6-4765-b798-0a36a4b6c03d",
   "metadata": {},
   "outputs": [],
   "source": []
  },
  {
   "cell_type": "code",
   "execution_count": null,
   "id": "ee8c05eb-ec2b-431e-b635-8d3f192e410a",
   "metadata": {},
   "outputs": [],
   "source": []
  },
  {
   "cell_type": "code",
   "execution_count": null,
   "id": "c6ebcf22-5d2e-4b6e-9d43-75edffead355",
   "metadata": {},
   "outputs": [],
   "source": []
  },
  {
   "cell_type": "code",
   "execution_count": null,
   "id": "a0e0aed9-b578-4845-bb7c-2775fb0a44e9",
   "metadata": {},
   "outputs": [],
   "source": []
  },
  {
   "cell_type": "code",
   "execution_count": null,
   "id": "c6779a86-0056-4397-b272-d90246037c23",
   "metadata": {},
   "outputs": [],
   "source": []
  },
  {
   "cell_type": "code",
   "execution_count": null,
   "id": "8e8afd0b-8efe-43a0-88db-a13e824fba79",
   "metadata": {},
   "outputs": [],
   "source": []
  }
 ],
 "metadata": {
  "kernelspec": {
   "display_name": "Python 3 (ipykernel)",
   "language": "python",
   "name": "python3"
  },
  "language_info": {
   "codemirror_mode": {
    "name": "ipython",
    "version": 3
   },
   "file_extension": ".py",
   "mimetype": "text/x-python",
   "name": "python",
   "nbconvert_exporter": "python",
   "pygments_lexer": "ipython3",
   "version": "3.10.8"
  }
 },
 "nbformat": 4,
 "nbformat_minor": 5
}
