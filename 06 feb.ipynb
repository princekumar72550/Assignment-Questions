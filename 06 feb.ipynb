{
 "cells": [
  {
   "cell_type": "code",
   "execution_count": null,
   "id": "e4948818-e940-4f4e-9fcb-ce91da30928e",
   "metadata": {},
   "outputs": [],
   "source": [
    "Q1. Create a function which will take a list as an argument and return the product of all the numbers \n",
    "after creating a flat list.\n",
    "\n",
    "Use the below-given list as an argument for your function.\n",
    "\n",
    "\n",
    "list1 = [1,2,3,4, [44,55,66, True], False, (34,56,78,89,34), {1,2,3,3,2,1}, {1:34, \"key2\": [55, 67, 78, 89], 4: (45, \n",
    "22, 61, 34)}, [56, 'data science'], 'Machine Learning']\n",
    "\n",
    "\n",
    "Note: you must extract numeric keys and values of the dictionary also."
   ]
  },
  {
   "cell_type": "code",
   "execution_count": 5,
   "id": "43d34635-fce4-4078-8654-007f707981dd",
   "metadata": {},
   "outputs": [
    {
     "name": "stdout",
     "output_type": "stream",
     "text": [
      "746826259789209600\n"
     ]
    }
   ],
   "source": [
    "def flatten_list(lst):\n",
    "    flat_list = []\n",
    "    for item in lst:\n",
    "        if type(item) == list:\n",
    "            flat_list += flatten_list(item)\n",
    "        elif type(item) == dict:\n",
    "            flat_list += flatten_list(list(item.keys()))\n",
    "            flat_list += flatten_list(list(item.values()))\n",
    "        else:\n",
    "            if type(item) == int or type(item) == float:\n",
    "                flat_list.append(item)\n",
    "    return flat_list\n",
    "\n",
    "def product_of_numbers(lst):\n",
    "    flat_list = flatten_list(lst)\n",
    "    product = 1\n",
    "    for num in flat_list:\n",
    "        product *= num\n",
    "    return product\n",
    "\n",
    "list1 = [1,2,3,4, [44,55,66, True], False, (34,56,78,89,34), {1,2,3,3,2,1}, {1:34, \"key2\": [55, 67, 78, 89], 4: (45, 22, 61, 34)}, [56, 'data science'], 'Machine Learning']\n",
    "print(product_of_numbers(list1))\n"
   ]
  },
  {
   "cell_type": "code",
   "execution_count": null,
   "id": "82646163-0432-4b4d-bee7-14c30c9af482",
   "metadata": {},
   "outputs": [],
   "source": [
    "Q2. Write a python program for encrypting a message sent to you by your friend. The logic of encryption \n",
    "should be such that, for a the output should be z. For b, the output should be y. For c, the output should \n",
    "be x respectively. Also, the whitespace should be replaced with a dollar sign. Keep the punctuation \n",
    "marks unchanged.\n",
    "\n",
    "\n",
    "Input Sentence: I want to become a Data Scientist.\n",
    "\n",
    "\n",
    "Encrypt the above input sentence using the program you just created.\n",
    "\n",
    "\n",
    "Note: Convert the given input sentence into lowercase before encrypting. The final output should be \n",
    "lowercase."
   ]
  },
  {
   "cell_type": "code",
   "execution_count": 6,
   "id": "bcff7545-4b2d-4b20-8acb-1a154bf03d66",
   "metadata": {},
   "outputs": [
    {
     "name": "stdout",
     "output_type": "stream",
     "text": [
      "r$dzmg$gl$yvxlnv$z$wzgz$hxrvmgrhg.\n"
     ]
    }
   ],
   "source": [
    "def encrypt_message(message: str) -> str:\n",
    "    encrypted_message = \"\"\n",
    "    for char in message.lower():\n",
    "        if char.isalpha():\n",
    "            encrypted_message += chr(219 - ord(char))\n",
    "        elif char == \" \":\n",
    "            encrypted_message += \"$\"\n",
    "        else:\n",
    "            encrypted_message += char\n",
    "    return encrypted_message.lower()\n",
    "\n",
    "input_sentence = \"I want to become a Data Scientist.\"\n",
    "encrypted_sentence = encrypt_message(input_sentence)\n",
    "print(encrypted_sentence)"
   ]
  }
 ],
 "metadata": {
  "kernelspec": {
   "display_name": "Python 3 (ipykernel)",
   "language": "python",
   "name": "python3"
  },
  "language_info": {
   "codemirror_mode": {
    "name": "ipython",
    "version": 3
   },
   "file_extension": ".py",
   "mimetype": "text/x-python",
   "name": "python",
   "nbconvert_exporter": "python",
   "pygments_lexer": "ipython3",
   "version": "3.10.8"
  }
 },
 "nbformat": 4,
 "nbformat_minor": 5
}
