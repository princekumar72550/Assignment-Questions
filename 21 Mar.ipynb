{
 "cells": [
  {
   "cell_type": "code",
   "execution_count": null,
   "id": "20dc2e55-45bc-47eb-87bc-6655fe95628b",
   "metadata": {},
   "outputs": [],
   "source": [
    "Q1. What is the difference between Ordinal Encoding and Label Encoding? Provide an example of when you\n",
    "might choose one over the other."
   ]
  },
  {
   "cell_type": "code",
   "execution_count": null,
   "id": "c75e9e07-f326-4c5b-9e34-2c5c58371bfa",
   "metadata": {},
   "outputs": [],
   "source": [
    "\n",
    "1. Nature of Categorical Data:\n",
    "   - Ordinal Encoding: Ordinal encoding is used when the categorical data has a natural order or hierarchy among its categories. This means that the categories can be ranked or ordered based on some inherent property.\n",
    "   - Label Encoding: Label encoding, on the other hand, is used when the categorical data does not have a natural order or hierarchy among its categories. Each category is assigned a unique numerical label without any implied order.\n",
    "\n",
    "2. Representation:\n",
    "   - Ordinal Encoding: In ordinal encoding, categories are mapped to numerical values based on their order or ranking. Each category is assigned a numerical label, and the labels are usually assigned in ascending or descending order based on the predefined ranking.\n",
    "   - Label Encoding: In label encoding, each category is assigned a unique numerical label without any specific order. The labels are typically assigned sequentially starting from 0 or 1.\n",
    "\n",
    "3. Application:\n",
    "   - Ordinal Encoding: Ordinal encoding is commonly used when dealing with categorical variables that have a clear order or hierarchy, such as education level (e.g., high school, college, graduate school), income level (e.g., low, medium, high), or customer satisfaction rating (e.g., poor, fair, good, excellent).\n",
    "   - Label Encoding: Label encoding is suitable for categorical variables where there is no inherent order among the categories, such as gender (e.g., male, female), country names, or product categories.\n",
    "\n",
    "4. Handling Missing Values:\n",
    "   - Ordinal Encoding: Ordinal encoding can handle missing values in categorical data if the predefined order or hierarchy allows for the insertion of a new category to represent missing values.\n",
    "   - Label Encoding: Label encoding may encounter challenges with missing values, as it relies on assigning numerical labels sequentially to each category. Missing values may need to be handled separately before applying label encoding."
   ]
  },
  {
   "cell_type": "code",
   "execution_count": null,
   "id": "ef506363-620f-41da-bc6d-76125c58c348",
   "metadata": {},
   "outputs": [],
   "source": [
    "Q2. Explain how Target Guided Ordinal Encoding works and provide an example of when you might use it in\n",
    "a machine learning project."
   ]
  },
  {
   "cell_type": "code",
   "execution_count": null,
   "id": "83d1dcef-d8ae-4fd0-8091-a7c2c3927404",
   "metadata": {},
   "outputs": [],
   "source": [
    "\n",
    "1. Purpose:\n",
    "   - Target Guided Ordinal Encoding is particularly useful when dealing with categorical features in machine learning tasks such as regression, classification, and ranking problems.\n",
    "   - It leverages information from the target variable to create an ordinal encoding for the categories.\n",
    "\n",
    "2. How It Works:\n",
    "   - The process involves sorting the categories based on the **mean of the target variable** for each category.\n",
    "   - We then assign numerical values to each category based on its rank in this sorted order.\n",
    "\n",
    "3. Example:\n",
    "   - Suppose we have a dataset of employees with the following columns: `Employee Id`, `City`, `Highest Qualification`, and `Salary`.\n",
    "   - Our goal is to predict an employee's salary based on other details.\n",
    "   - Let's focus on encoding the `City` column using Target Guided Ordinal Encoding.\n",
    "   - Here's the initial data:\n",
    "\n",
    "     | Employee Id | City     | Highest Qualification | Salary |\n",
    "     |-------------|----------|-----------------------|--------|\n",
    "     | A100        | Delhi    | Phd                   | 50000  |\n",
    "     | A101        | Delhi    | Bsc                   | 30000  |\n",
    "     | A102        | Mumbai   | Msc                   | 45000  |\n",
    "     | B101        | Pune     | Bsc                   | 25000  |\n",
    "     | B102        | Kolkata  | Phd                   | 48000  |\n",
    "     | C100        | Pune     | Msc                   | 30000  |\n",
    "     | D103        | Kolkata  | Msc                   | 44000  |\n",
    "\n",
    "   - Step 1: Calculate the mean salary for each city:\n",
    "     - Delhi: (50000 + 30000) / 2 = 40000\n",
    "     - Mumbai: 45000\n",
    "     - Pune: (25000 + 30000) / 2 = 27500\n",
    "     - Kolkata: (48000 + 44000) / 2 = 46000\n",
    "\n",
    "   - Step 2: Sort the cities based on mean salary:\n",
    "     - Kolkata > Mumbai > Delhi > Pune\n",
    "\n",
    "   - Step 3: Assign ranks to the cities:\n",
    "     - Kolkata: Rank 4\n",
    "     - Mumbai: Rank 3\n",
    "     - Delhi: Rank 2\n",
    "     - Pune: Rank 1\n",
    "\n",
    "   - Step 4: Encode the `City` column:\n",
    "     - Update the dataset with the city ranks:\n",
    "\n",
    "       | Employee Id | City | Highest Qualification | Salary |\n",
    "       |-------------|------|-----------------------|--------|\n",
    "       | A100        | 2    | Phd                   | 50000  |\n",
    "       | A101        | 2    | Bsc                   | 30000  |\n",
    "       | A102        | 3    | Msc                   | 45000  |\n",
    "       | B101        | 1    | Bsc                   | 25000  |\n",
    "       | B102        | 4    | Phd                   | 48000  |\n",
    "       | C100        | 1    | Msc                   | 30000  |\n",
    "       | D103        | 4    | Msc                   | 44000  |"
   ]
  },
  {
   "cell_type": "code",
   "execution_count": null,
   "id": "6482dac8-b360-48e4-93a4-1312e995f8b2",
   "metadata": {},
   "outputs": [],
   "source": [
    "Q3. Define covariance and explain why it is important in statistical analysis. How is covariance calculated?"
   ]
  },
  {
   "cell_type": "code",
   "execution_count": null,
   "id": "95794fc1-5a0f-4d9c-a6f6-bf5fe228f2e3",
   "metadata": {},
   "outputs": [],
   "source": [
    "statistical analysis:\n",
    "\n",
    "1. Measuring Relationship: Covariance provides a measure of the degree and direction of the linear relationship between two variables. It helps analysts understand how changes in one variable are associated with changes in another variable.\n",
    "\n",
    "2. Predictive Power: Covariance is used in various statistical models and techniques, such as linear regression, where understanding the relationship between predictor variables and the response variable is crucial for making predictions.\n",
    "\n",
    "3. Portfolio Analysis: In finance, covariance is used to measure the relationship between the returns of different assets in a portfolio. Positive covariance indicates that the assets tend to move together, while negative covariance suggests that they move in opposite directions. This information is essential for diversifying risk in investment portfolios.\n",
    "\n",
    "4. Dimensionality Reduction: Covariance plays a role in techniques like principal component analysis (PCA), where it helps identify the directions of maximum variance in a dataset. By understanding the covariance structure of the data, PCA can reduce the dimensionality of the dataset while retaining most of the variability.\n",
    "\n",
    "Covariance between two variables \\( X \\) and \\( Y \\) is calculated using the following formula:\n",
    "\n",
    "\\[ \\text{Cov}(X, Y) = \\frac{\\sum_{i=1}^{n} (x_i - \\bar{x})(y_i - \\bar{y})}{n} \\]\n",
    "\n",
    "Where:\n",
    "- \\( x_i \\) and \\( y_i \\) are individual data points of variables \\( X \\) and \\( Y \\) respectively.\n",
    "- \\( \\bar{x} \\) and \\( \\bar{y} \\) are the means (average) of variables \\( X \\) and \\( Y \\) respectively.\n",
    "- \\( n \\) is the number of data points."
   ]
  },
  {
   "cell_type": "code",
   "execution_count": null,
   "id": "49efbd68-bc72-4825-b594-c774543fc69b",
   "metadata": {},
   "outputs": [],
   "source": [
    "Q4. For a dataset with the following categorical variables: Color (red, green, blue), Size (small, medium,\n",
    "large), and Material (wood, metal, plastic), perform label encoding using Python's scikit-learn library.\n",
    "Show your code and explain the output."
   ]
  },
  {
   "cell_type": "code",
   "execution_count": 1,
   "id": "b4a1f519-60a7-485a-a084-8ab7e29225cd",
   "metadata": {},
   "outputs": [
    {
     "name": "stdout",
     "output_type": "stream",
     "text": [
      "   Color    Size Material  Color_encoded  Size_encoded  Material_encoded\n",
      "0    red   small     wood              2             2                 2\n",
      "1  green  medium    metal              1             1                 0\n",
      "2   blue   large  plastic              0             0                 1\n",
      "3    red  medium     wood              2             1                 2\n",
      "4   blue   small    metal              0             2                 0\n"
     ]
    }
   ],
   "source": [
    "from sklearn.preprocessing import LabelEncoder\n",
    "import pandas as pd\n",
    "\n",
    "data = pd.DataFrame({\n",
    "    'Color': ['red', 'green', 'blue', 'red', 'blue'],\n",
    "    'Size': ['small', 'medium', 'large', 'medium', 'small'],\n",
    "    'Material': ['wood', 'metal', 'plastic', 'wood', 'metal']\n",
    "})\n",
    "\n",
    "label_encoder = LabelEncoder()\n",
    "\n",
    "for col in data.columns:\n",
    "    data[col + '_encoded'] = label_encoder.fit_transform(data[col])\n",
    "\n",
    "print(data)\n"
   ]
  },
  {
   "cell_type": "code",
   "execution_count": null,
   "id": "9185cad8-5b44-4902-b1d5-dc59b9315048",
   "metadata": {},
   "outputs": [],
   "source": [
    "Q5. Calculate the covariance matrix for the following variables in a dataset: Age, Income, and Education\n",
    "level. Interpret the results."
   ]
  },
  {
   "cell_type": "code",
   "execution_count": 2,
   "id": "7d61f66e-73e8-4a81-aff5-148779ba0d63",
   "metadata": {},
   "outputs": [
    {
     "name": "stdout",
     "output_type": "stream",
     "text": [
      "Covariance Matrix:\n",
      "[[6.25e+01 6.25e+04 2.25e+01]\n",
      " [6.25e+04 6.25e+07 2.25e+04]\n",
      " [2.25e+01 2.25e+04 1.00e+01]]\n"
     ]
    }
   ],
   "source": [
    "import numpy as np\n",
    "\n",
    "age = [30, 40, 50, 35, 45]\n",
    "income = [50000, 60000, 70000, 55000, 65000]\n",
    "education_level = [12, 16, 18, 14, 20]\n",
    "\n",
    "covariance_matrix = np.cov([age, income, education_level])\n",
    "\n",
    "print(\"Covariance Matrix:\")\n",
    "print(covariance_matrix)\n"
   ]
  },
  {
   "cell_type": "code",
   "execution_count": null,
   "id": "97748af0-1286-4059-b85b-5f4e9ecc76fd",
   "metadata": {},
   "outputs": [],
   "source": [
    "Q6. You are working on a machine learning project with a dataset containing several categorical\n",
    "variables, including \"Gender\" (Male/Female), \"Education Level\" (High School/Bachelor's/Master's/PhD),\n",
    "and \"Employment Status\" (Unemployed/Part-Time/Full-Time). Which encoding method would you use for\n",
    "each variable, and why?"
   ]
  },
  {
   "cell_type": "code",
   "execution_count": null,
   "id": "229747fd-672b-4fda-b8f8-243cec0a5308",
   "metadata": {},
   "outputs": [],
   "source": [
    "1. Gender (Male/Female):\n",
    "    - Since gender has no inherent order or ranking, we should use **one-hot encoding**. This technique creates separate binary columns for each category (Male and Female). For instance:\n",
    "        - Male: 1, Female: 0\n",
    "        - Male: 0, Female: 1\n",
    "    - One-hot encoding ensures that both labels are treated equally and avoids any unintended ordinality.\n",
    "\n",
    "2. Education Level (High School/Bachelor's/Master's/PhD):\n",
    "    - Education level exhibits a natural rank ordering (High School < Bachelor's < Master's < PhD).\n",
    "    - Therefore, we can use ordinal encoding for this variable. Ordinal encoding assigns numeric values based on the order of the categories.\n",
    "        - High School: 1, Bachelor's: 2, Master's: 3, PhD: 4\n",
    "    - This approach captures the inherent hierarchy in education levels.\n",
    "\n",
    "3. Employment Status(Unemployed/Part-Time/Full-Time):\n",
    "    - Similar to gender, employment status has no inherent order.\n",
    "    - Hence, we should again use one-hot encoding to represent the three categories:\n",
    "        - Unemployed: 1, 0, 0\n",
    "        - Part-Time: 0, 1, 0\n",
    "        - Full-Time: 0, 0, 1\n",
    "    - One-hot encoding ensures equal treatment of all employment statuses."
   ]
  },
  {
   "cell_type": "code",
   "execution_count": null,
   "id": "fbfe6282-3742-4e07-98bd-2402dcc1987d",
   "metadata": {},
   "outputs": [],
   "source": [
    "Q7. You are analyzing a dataset with two continuous variables, \"Temperature\" and \"Humidity\", and two\n",
    "categorical variables, \"Weather Condition\" (Sunny/Cloudy/Rainy) and \"Wind Direction\" (North/South/\n",
    "East/West). Calculate the covariance between each pair of variables and interpret the results"
   ]
  },
  {
   "cell_type": "code",
   "execution_count": 3,
   "id": "22cdda94-db23-4200-af52-b33ef7ffbb7c",
   "metadata": {},
   "outputs": [
    {
     "name": "stdout",
     "output_type": "stream",
     "text": [
      "Covariance Matrix for Temperature and Humidity:\n",
      "[[  9.3  -11.25]\n",
      " [-11.25  62.5 ]]\n"
     ]
    }
   ],
   "source": [
    "import numpy as np\n",
    "\n",
    "temperature = [25, 30, 22, 28, 27] \n",
    "humidity = [60, 55, 70, 65, 75]      \n",
    "weather_condition = ['Sunny', 'Cloudy', 'Rainy', 'Cloudy', 'Sunny']\n",
    "wind_direction = ['North', 'South', 'East', 'West', 'North']\n",
    "\n",
    "covariance_matrix = np.cov([temperature, humidity])\n",
    "\n",
    "print(\"Covariance Matrix for Temperature and Humidity:\")\n",
    "print(covariance_matrix)\n"
   ]
  },
  {
   "cell_type": "code",
   "execution_count": null,
   "id": "49cddf3d-3d99-44de-977c-13588b568fdb",
   "metadata": {},
   "outputs": [],
   "source": []
  },
  {
   "cell_type": "code",
   "execution_count": null,
   "id": "8150824b-d1d1-49a2-baf0-f4a024eb73e2",
   "metadata": {},
   "outputs": [],
   "source": []
  },
  {
   "cell_type": "code",
   "execution_count": null,
   "id": "e4f61719-7f44-4341-a8c3-25dcad48832a",
   "metadata": {},
   "outputs": [],
   "source": []
  },
  {
   "cell_type": "code",
   "execution_count": null,
   "id": "cec027d8-5043-429a-bd92-e4d920b63c03",
   "metadata": {},
   "outputs": [],
   "source": []
  },
  {
   "cell_type": "code",
   "execution_count": null,
   "id": "6a59b759-25c2-470f-877d-b3ea464c06da",
   "metadata": {},
   "outputs": [],
   "source": []
  },
  {
   "cell_type": "code",
   "execution_count": null,
   "id": "db214697-22a7-4501-b6f1-b8ee977e3935",
   "metadata": {},
   "outputs": [],
   "source": []
  },
  {
   "cell_type": "code",
   "execution_count": null,
   "id": "32beb856-6554-453a-9cf3-a4cb9eee22aa",
   "metadata": {},
   "outputs": [],
   "source": []
  },
  {
   "cell_type": "code",
   "execution_count": null,
   "id": "d68762f0-04c2-467a-b03f-869233bc3ff6",
   "metadata": {},
   "outputs": [],
   "source": []
  }
 ],
 "metadata": {
  "kernelspec": {
   "display_name": "Python 3 (ipykernel)",
   "language": "python",
   "name": "python3"
  },
  "language_info": {
   "codemirror_mode": {
    "name": "ipython",
    "version": 3
   },
   "file_extension": ".py",
   "mimetype": "text/x-python",
   "name": "python",
   "nbconvert_exporter": "python",
   "pygments_lexer": "ipython3",
   "version": "3.10.8"
  }
 },
 "nbformat": 4,
 "nbformat_minor": 5
}
