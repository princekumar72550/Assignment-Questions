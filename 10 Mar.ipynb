{
 "cells": [
  {
   "cell_type": "code",
   "execution_count": null,
   "id": "2b145323-360f-4ca6-b295-3f3909342bf9",
   "metadata": {},
   "outputs": [],
   "source": [
    "Q1: What is Estimation Statistics? Explain point estimate and interval estimate."
   ]
  },
  {
   "cell_type": "code",
   "execution_count": null,
   "id": "fb451367-7b54-4441-8176-d0a9c160c479",
   "metadata": {},
   "outputs": [],
   "source": [
    "Estimation statistics is a branch of statistics that focuses on estimating unknown parameters of a population based on sample data. In other words, it involves using sample information to make\n",
    "inferences or predictions about the characteristics of an entire population.\n",
    "\n",
    "\n",
    "1. Point Estimation: This involves using a single value (point) to estimate the unknown parameter. For example, the sample mean is often used as a point estimate for the population mean.\n",
    "\n",
    "2. Interval Estimation: This involves providing a range of values (interval) within which the true value of the parameter is likely to lie. Confidence intervals are commonly used in interval estimation,\n",
    "providing a level of confidence that the interval contains the true parameter.\n"
   ]
  },
  {
   "cell_type": "code",
   "execution_count": null,
   "id": "a2b183c7-66b4-4a6d-be1b-e9d287beed39",
   "metadata": {},
   "outputs": [],
   "source": [
    "Q2. Write a Python function to estimate the population mean using a sample mean and standard\n",
    "deviation."
   ]
  },
  {
   "cell_type": "code",
   "execution_count": 1,
   "id": "6438b8e7-dbe8-4cce-ab1f-134a6e82d55e",
   "metadata": {},
   "outputs": [
    {
     "name": "stdout",
     "output_type": "stream",
     "text": [
      "Estimated Population Mean: 25.5\n"
     ]
    }
   ],
   "source": [
    "def estimate_population_mean(sample_mean, sample_std_dev, sample_size):\n",
    "   \n",
    "    population_mean_estimate = sample_mean\n",
    "    \n",
    "    return population_mean_estimate\n",
    "\n",
    "sample_mean = 25.5\n",
    "sample_std_dev = 4.2\n",
    "sample_size = 30\n",
    "\n",
    "estimated_population_mean = estimate_population_mean(sample_mean, sample_std_dev, sample_size)\n",
    "print(f\"Estimated Population Mean: {estimated_population_mean}\")\n"
   ]
  },
  {
   "cell_type": "code",
   "execution_count": null,
   "id": "1aea1a53-f739-47cf-ba0b-8fbf1e9823fb",
   "metadata": {},
   "outputs": [],
   "source": [
    "Q3: What is Hypothesis testing? Why is it used? State the importance of Hypothesis testing."
   ]
  },
  {
   "cell_type": "code",
   "execution_count": null,
   "id": "332f0c85-2b41-4a2d-9f14-98fd74746b00",
   "metadata": {},
   "outputs": [],
   "source": [
    "Hypothesis testing is a statistical method used to make inferences about a population based on a sample of data. The process involves formulating two \n",
    "competing hypotheses, the null hypothesis (\\(H_0\\)) and the alternative hypothesis (\\(H_1\\) or \\(H_a\\)), and then using sample data to assess the \n",
    "evidence against the null hypothesis. The goal is to determine whether there is enough evidence to reject the null hypothesis in favor of the alternative\n",
    "hypothesis.\n",
    "\n",
    "\n",
    "1. Inference about Populations:\n",
    "   - Hypothesis testing allows researchers to draw conclusions about population parameters based on a sample of data. It provides a way to make generalizations about entire populations without studying every individual within them.\n",
    "\n",
    "2. **Scientific Research:**\n",
    "   - In scientific research, hypothesis testing is essential for validating or refuting hypotheses and theories. It helps researchers assess the significance of experimental results and contributes to the advancement of knowledge.\n",
    "\n",
    "3. **Decision-Making in Business and Industry:**\n",
    "   - Businesses and industries use hypothesis testing to make informed decisions. For example, it can be employed to assess the effectiveness of new strategies, marketing campaigns, or product launches.\n",
    "\n",
    "4. **Quality Control:**\n",
    "   - Industries use hypothesis testing to ensure the quality of products or processes. By comparing sample data to quality standards, companies can identify and address issues that may impact the quality of their products.\n",
    "\n",
    "5. **Medical and Health Sciences:**\n",
    "   - Hypothesis testing is crucial in medical research and clinical trials. Researchers use statistical methods to determine the effectiveness of new treatments, assess the significance of observed effects, and make decisions about the adoption of medical interventions.\n",
    "\n",
    "6. **Education and Social Sciences:**\n",
    "   - Researchers and educators in the social sciences use hypothesis testing to analyze data and draw conclusions about the effects of interventions, educational programs, and social phenomena.\n",
    "\n",
    "7. **Comparison of Groups and Relationships:**\n",
    "   - Hypothesis testing is employed to compare groups, investigate relationships between variables, and determine whether observed differences or associations are statistically significant. This is particularly relevant in fields such as psychology, sociology, and economics.\n",
    "\n",
    "8. **Risk Management:**\n",
    "   - Hypothesis testing helps in assessing and managing risks. By testing hypotheses related to potential risks, organizations can make informed decisions to mitigate or avoid adverse outcomes.\n",
    "\n",
    "9. **Objective Decision-Making:**\n",
    "   - Hypothesis testing provides a structured and objective framework for decision-making. It allows decision-makers to rely on statistical evidence rather than intuition or subjective judgment.\n",
    "\n",
    "10. **Continuous Improvement:**\n",
    "    - In quality improvement initiatives, hypothesis testing is used to assess the impact of changes and interventions. This promotes a culture of continuous improvement by allowing organizations to evaluate the effectiveness of changes over time.\n",
    "\n"
   ]
  },
  {
   "cell_type": "code",
   "execution_count": null,
   "id": "6301288d-d5f4-4815-832d-33e95791a5ea",
   "metadata": {},
   "outputs": [],
   "source": [
    "Q4. Create a hypothesis that states whether the average weight of male college students is greater than\n",
    "the average weight of female college students."
   ]
  },
  {
   "cell_type": "code",
   "execution_count": null,
   "id": "437c8cc0-957b-484b-aff1-33cb02ca9d7c",
   "metadata": {},
   "outputs": [],
   "source": [
    "Hypothesis:\n",
    "The average weight of male college students is greater than the average weight of female college students.\n",
    "\n",
    "Null Hypothesis (H0):\n",
    "The average weight of male college students is equal to or less than the average weight of female college students.\n",
    "\\[ H_0: \\mu_{\\text{male}} \\leq \\mu_{\\text{female}} \\]\n",
    "\n",
    "Alternative Hypothesis (H1):\n",
    "The average weight of male college students is greater than the average weight of female college students.\n",
    "\\[ H_1: \\mu_{\\text{male}} > \\mu_{\\text{female}} \\]\n"
   ]
  },
  {
   "cell_type": "code",
   "execution_count": null,
   "id": "a73d29db-ae24-48fe-a317-c181eca738b7",
   "metadata": {},
   "outputs": [],
   "source": [
    "Q5. Write a Python script to conduct a hypothesis test on the difference between two population means,\n",
    "given a sample from each population."
   ]
  },
  {
   "cell_type": "code",
   "execution_count": 6,
   "id": "51b974fd-3fbd-4d78-9ea2-cd1c054fc173",
   "metadata": {},
   "outputs": [
    {
     "name": "stdout",
     "output_type": "stream",
     "text": [
      "Results of the two-sample t-test:\n",
      "t-statistic: 2.7414346458607746\n",
      "P-value: 0.013415180727194186\n",
      "Null Hypothesis Rejected: True\n"
     ]
    }
   ],
   "source": [
    "from scipy.stats import ttest_ind\n",
    "\n",
    "def two_sample_t_test(sample1, sample2, alpha=0.05):\n",
    "   \n",
    "    t_statistic, p_value = ttest_ind(sample1, sample2)\n",
    "    reject_null = p_value < alpha\n",
    "\n",
    "    return (t_statistic, p_value, reject_null)\n",
    "\n",
    "sample1 = [25, 28, 30, 32, 27, 29, 31, 30, 28, 26]\n",
    "sample2 = [22, 24, 26, 28, 25, 27, 29, 28, 26, 24]\n",
    "\n",
    "alpha_value = 0.05\n",
    "t_stat, p_val, reject_null_hypothesis = two_sample_t_test(sample1, sample2, alpha_value)\n",
    "\n",
    "print(f\"Results of the two-sample t-test:\")\n",
    "print(f\"t-statistic: {t_stat}\")\n",
    "print(f\"P-value: {p_val}\")\n",
    "print(f\"Null Hypothesis Rejected: {reject_null_hypothesis}\")\n"
   ]
  },
  {
   "cell_type": "code",
   "execution_count": null,
   "id": "53fc809e-30fc-44b8-84e4-515fb555c2c6",
   "metadata": {},
   "outputs": [],
   "source": [
    "Q6: What is a null and alternative hypothesis? Give some examples."
   ]
  },
  {
   "cell_type": "code",
   "execution_count": null,
   "id": "c4b8a914-4041-4963-b72e-631a3c29f790",
   "metadata": {},
   "outputs": [],
   "source": [
    "Examples: Null Hypothesis: H0: There is no difference in the salary of factory workers based on gender. Alternative Hypothesis: Ha: Male factory workers have a higher salary than female factory workers.\n",
    "Null Hypothesis: H0: There is no relationship between height and shoe size."
   ]
  },
  {
   "cell_type": "code",
   "execution_count": null,
   "id": "7a485f58-9ce6-4933-8c3c-ab1385fd8c39",
   "metadata": {},
   "outputs": [],
   "source": [
    "Q7: Write down the steps involved in hypothesis testing."
   ]
  },
  {
   "cell_type": "code",
   "execution_count": null,
   "id": "9a1fdb6a-280f-4ab6-92f8-3fc3cc890569",
   "metadata": {},
   "outputs": [],
   "source": [
    "\n",
    "1. Formulation of Hypotheses:\n",
    "   - Null Hypothesis (\\(H_0\\)): This represents the default assumption or the status quo. It often posits no effect, no difference, or no relationship.\n",
    "   - Alternative Hypothesis (\\(H_1\\) or \\(H_a\\)):This represents the researcher's hypothesis, suggesting an effect, difference, or relationship.\n",
    "\n",
    "2. Selection of Significance Level (\\(\\alpha\\)):\n",
    "   - The significance level (\\(\\alpha\\)) is the probability of making a Type I error (rejecting a true null hypothesis). Common choices are 0.05, 0.01, or 0.10.\n",
    "\n",
    "3. Collection of Data:\n",
    "   - Data is collected through experiments, surveys, or other means.\n",
    "\n",
    "4. Statistical Analysis:\n",
    "   - Appropriate statistical tests are chosen based on the nature of the data and the hypothesis being tested. Common tests include t-tests, chi-square tests, ANOVA, etc.\n",
    "\n",
    "5. Calculation of Test Statistic:\n",
    "   - A test statistic is computed from the sample data, representing the observed effect, difference, or relationship.\n",
    "\n",
    "6. Decision Rule:\n",
    "   - A decision rule is established based on the significance level (\\(\\alpha\\)) and the chosen statistical test. It determines when to reject the null hypothesis.\n",
    "\n",
    "7. Comparison and Calculation of P-value:\n",
    "   - The test statistic is compared to a critical value or used to calculate a p-value. The p-value represents the probability of observing the test statistic (or more extreme) under the assumption that the null hypothesis is true.\n",
    "\n",
    "8. Decision:\n",
    "   - If the p-value is less than or equal to the significance level (\\(\\alpha\\)), the null hypothesis is rejected. Otherwise, it is not rejected.\n",
    "   - Alternatively, if the test statistic is beyond a critical value corresponding to the significance level, the null hypothesis may be rejected.\n",
    "\n",
    "9. Interpretation:\n",
    "   - The results are interpreted in the context of the specific hypothesis being tested. Conclusions are drawn about the population based on the sample data.\n",
    "\n",
    "10. Conclusion and Reporting:\n",
    "    - The final step involves summarizing the findings, reporting the results, and drawing conclusions about the research question or hypothesis.\n",
    "\n"
   ]
  },
  {
   "cell_type": "code",
   "execution_count": null,
   "id": "8de99e06-3e59-4d8d-b24d-fd14a830e482",
   "metadata": {},
   "outputs": [],
   "source": [
    "Q8. Define p-value and explain its significance in hypothesis testing"
   ]
  },
  {
   "cell_type": "code",
   "execution_count": null,
   "id": "5b563fef-50b1-4475-b42a-81ba1ac9933c",
   "metadata": {},
   "outputs": [],
   "source": [
    "The p-value, or probability value, is a crucial concept in hypothesis testing. It represents the probability of obtaining the observed results, or more extreme results, under the assumption \n",
    "that the null hypothesis is true. In other words, it quantifies the evidence against the null hypothesis.\n",
    "\n",
    "\n",
    "1. Calculation of the p-value:\n",
    "   - After collecting and analyzing sample data, a test statistic is calculated.\n",
    "   - The p-value is then determined by assessing the probability of obtaining a test statistic as extreme or more extreme than the one observed, assuming the null hypothesis is true.\n",
    "   - The p-value is typically compared to the significance level (\\(\\alpha\\)) chosen at the beginning of the hypothesis test.\n",
    "\n",
    "2. Interpretation of the p-value:\n",
    "   - A small p-value (usually less than or equal to the chosen significance level) suggests that the observed results are unlikely to have occurred by random chance alone if the null hypothesis is true.\n",
    "   - A large p-value indicates that the observed results are more likely to be consistent with the null hypothesis.\n",
    "\n",
    "3. Significance Level (\\(\\alpha\\)):\n",
    "   - The significance level is the threshold used to determine statistical significance. Common choices for \\(\\alpha\\) are 0.05, 0.01, or 0.10.\n",
    "   - If the p-value is less than or equal to \\(\\alpha\\), the null hypothesis is often rejected in favor of the alternative hypothesis.\n",
    "\n",
    "4. Decision Rule:\n",
    "   - If the p-value is less than or equal to the significance level (\\(\\alpha\\)), it is considered evidence to reject the null hypothesis.\n",
    "   - If the p-value is greater than \\(\\alpha\\), there is insufficient evidence to reject the null hypothesis.\n",
    "\n",
    "5. Conclusion:\n",
    "   - The interpretation of the p-value guides the conclusion of the hypothesis test.\n",
    "   - If the null hypothesis is rejected, it suggests that the observed results are statistically significant, and the alternative hypothesis is favored.\n"
   ]
  },
  {
   "cell_type": "code",
   "execution_count": null,
   "id": "401b51b2-1dc5-4421-8447-82bfeec816f2",
   "metadata": {},
   "outputs": [],
   "source": [
    "Q9. Generate a Student's t-distribution plot using Python's matplotlib library, with the degrees of freedom\n",
    "parameter set to 10."
   ]
  },
  {
   "cell_type": "code",
   "execution_count": 7,
   "id": "80d53feb-0106-4aee-8f9f-904e378944a1",
   "metadata": {},
   "outputs": [
    {
     "data": {
      "image/png": "[encoded data removed]",
      "text/plain": [
       "<Figure size 800x600 with 1 Axes>"
      ]
     },
     "metadata": {},
     "output_type": "display_data"
    }
   ],
   "source": [
    "import matplotlib.pyplot as plt\n",
    "import numpy as np\n",
    "from scipy.stats import t\n",
    "\n",
    "degrees_of_freedom = 10\n",
    "\n",
    "x_values = np.linspace(-4, 4, 1000)\n",
    "\n",
    "pdf_values = t.pdf(x_values, df=degrees_of_freedom)\n",
    "\n",
    "plt.figure(figsize=(8, 6))\n",
    "plt.plot(x_values, pdf_values, label=f't-distribution (df={degrees_of_freedom})', color='blue')\n",
    "plt.title('Student\\'s t-Distribution')\n",
    "plt.xlabel('x')\n",
    "plt.ylabel('Probability Density Function (PDF)')\n",
    "plt.legend()\n",
    "plt.grid(True)\n",
    "plt.show()\n"
   ]
  },
  {
   "cell_type": "code",
   "execution_count": null,
   "id": "bb71b565-51db-4ea6-818a-195f0645396a",
   "metadata": {},
   "outputs": [],
   "source": [
    "Q10. Write a Python program to calculate the two-sample t-test for independent samples, given two\n",
    "random samples of equal size and a null hypothesis that the population means are equal."
   ]
  },
  {
   "cell_type": "code",
   "execution_count": 8,
   "id": "5b418bb6-9efc-4216-8ffc-398b9ae1160e",
   "metadata": {},
   "outputs": [
    {
     "name": "stdout",
     "output_type": "stream",
     "text": [
      "Two-Sample T-Test Results:\n",
      "t-statistic: 2.0813014424809495\n",
      "P-value: 0.04001341891687368\n",
      "Reject the null hypothesis. There is significant evidence that the population means are different.\n"
     ]
    }
   ],
   "source": [
    "import numpy as np\n",
    "from scipy.stats import ttest_ind\n",
    "\n",
    "def two_sample_t_test(sample1, sample2):\n",
    "   \n",
    "    t_statistic, p_value = ttest_ind(sample1, sample2)\n",
    "    return t_statistic, p_value\n",
    "\n",
    "sample1 = np.random.normal(loc=30, scale=5, size=50)\n",
    "sample2 = np.random.normal(loc=28, scale=5, size=50)\n",
    "\n",
    "t_stat, p_val = two_sample_t_test(sample1, sample2)\n",
    "\n",
    "print(f\"Two-Sample T-Test Results:\")\n",
    "print(f\"t-statistic: {t_stat}\")\n",
    "print(f\"P-value: {p_val}\")\n",
    "\n",
    "alpha = 0.05\n",
    "if p_val < alpha:\n",
    "    print(\"Reject the null hypothesis. There is significant evidence that the population means are different.\")\n",
    "else:\n",
    "    print(\"Fail to reject the null hypothesis. There is insufficient evidence to suggest a difference in population means.\")\n"
   ]
  },
  {
   "cell_type": "code",
   "execution_count": null,
   "id": "fbde9e4d-c774-4f08-b1c7-b6e4a325016e",
   "metadata": {},
   "outputs": [],
   "source": [
    "Q11: What is Student’s t distribution? When to use the t-Distribution."
   ]
  },
  {
   "cell_type": "code",
   "execution_count": null,
   "id": "332bebeb-ea99-459f-8063-777e0826cc39",
   "metadata": {},
   "outputs": [],
   "source": [
    "The t-distribution is a type of normal distribution that is used for smaller sample sizes. Normally-distributed data form a bell \n",
    "shape when plotted on a graph, with more observations near the mean and fewer observations in the tails.\n",
    "\n",
    "\n",
    "1. Small Sample Sizes:\n",
    "   - When dealing with small sample sizes (typically less than 30), the t-distribution is more appropriate than the normal distribution for making inferences about the population mean. This is especially relevant when the underlying population distribution is unknown.\n",
    "\n",
    "2. Unknown Population Standard Deviation:\n",
    "   - If the population standard deviation is unknown and needs to be estimated from the sample data, the t-distribution is used. In contrast, when the population standard deviation is known, the normal distribution may be used for larger sample sizes.\n",
    "\n",
    "3. Estimation of Confidence Intervals:\n",
    "   - When constructing confidence intervals for the population mean based on sample data, the t-distribution is employed, particularly when the sample size is small or the population standard deviation is unknown. This is crucial for providing a more realistic estimate of the margin of error.\n",
    "\n",
    "4. Hypothesis Testing for Means:\n",
    "   - In hypothesis testing scenarios involving the population mean, the t-distribution is used when the sample size is small, and the population standard deviation is unknown. This is common in fields like medicine, psychology, and social sciences.\n",
    "\n",
    "5. Comparing Two Sample Means:\n",
    "   - When comparing the means of two independent samples (two-sample t-test) and the sample sizes are small or the population standard deviations are unknown, the t-distribution is used.\n",
    "\n",
    "6. Regression Analysis:\n",
    "   - In linear regression analysis, when estimating confidence intervals or conducting hypothesis tests for regression coefficients, the t-distribution is often used, especially for small sample sizes.\n",
    "\n",
    "7. Quality Control and Engineering:\n",
    "   - In quality control and engineering, where sample sizes may be limited and the population standard deviation is not always known, the t-distribution is a valuable tool for making statistical inferences.\n",
    "\n"
   ]
  },
  {
   "cell_type": "code",
   "execution_count": null,
   "id": "683bed68-c239-4dca-8fbc-bf1b5067cb6a",
   "metadata": {},
   "outputs": [],
   "source": [
    "Q12: What is t-statistic? State the formula for t-statistic."
   ]
  },
  {
   "cell_type": "code",
   "execution_count": null,
   "id": "477a8881-b8b0-4d0f-880b-a36a481f5b18",
   "metadata": {},
   "outputs": [],
   "source": [
    "The t-statistic is a measure of the difference between the two sets expressed in units of standard error.\n",
    "\n",
    "1. One-Sample t-Test:\n",
    "   \n",
    "   For comparing the sample mean (\\(\\bar{X}\\)) to the population mean (\\(\\mu\\)) when the population standard deviation (\\(\\sigma\\)) is unknown and estimated from the sample:\n",
    "\n",
    "   \\[ t = \\frac{\\bar{X} - \\mu}{\\frac{s}{\\sqrt{n}}} \\]\n",
    "\n",
    "   Where:\n",
    "   - \\( \\bar{X} \\) is the sample mean,\n",
    "   - \\( \\mu \\) is the population mean (hypothesized value under the null hypothesis),\n",
    "   - \\( s \\) is the sample standard deviation,\n",
    "   - \\( n \\) is the sample size.\n",
    "\n",
    "2. Two-Sample t-Test:\n",
    "   \n",
    "   For comparing the means of two independent samples:\n",
    "\n",
    "   \\[ t = \\frac{\\bar{X}_1 - \\bar{X}_2}{\\sqrt{\\frac{s_1^2}{n_1} + \\frac{s_2^2}{n_2}}} \\]\n",
    "\n",
    "   Where:\n",
    "   - \\( \\bar{X}_1 \\) and \\( \\bar{X}_2 \\) are the sample means of the two groups,\n",
    "   - \\( s_1 \\) and \\( s_2 \\) are the sample standard deviations of the two groups,\n",
    "   - \\( n_1 \\) and \\( n_2 \\) are the sample sizes of the two groups."
   ]
  },
  {
   "cell_type": "code",
   "execution_count": null,
   "id": "17f5dca1-a2ab-43dd-98d7-edcdae711712",
   "metadata": {},
   "outputs": [],
   "source": [
    "Q13. A coffee shop owner wants to estimate the average daily revenue for their shop. They take a random\n",
    "sample of 50 days and find the sample mean revenue to be $500 with a standard deviation of $50.\n",
    "Estimate the population mean revenue with a 95% confidence interval.\n"
   ]
  },
  {
   "cell_type": "code",
   "execution_count": 9,
   "id": "a0cf76f3-3479-4df0-89fc-25324db64932",
   "metadata": {},
   "outputs": [
    {
     "name": "stdout",
     "output_type": "stream",
     "text": [
      "95% Confidence Interval for Population Mean Revenue: $485.79 to $514.21\n"
     ]
    }
   ],
   "source": [
    "import scipy.stats as stats\n",
    "import math\n",
    "\n",
    "sample_mean = 500 \n",
    "sample_std = 50   \n",
    "sample_size = 50   \n",
    "confidence_level = 0.95  \n",
    "\n",
    "degrees_of_freedom = sample_size - 1\n",
    "t_value = stats.t.ppf((1 + confidence_level) / 2, degrees_of_freedom)\n",
    "\n",
    "margin_of_error = t_value * (sample_std / math.sqrt(sample_size))\n",
    "\n",
    "lower_bound = sample_mean - margin_of_error\n",
    "upper_bound = sample_mean + margin_of_error\n",
    "\n",
    "print(f\"95% Confidence Interval for Population Mean Revenue: ${lower_bound:.2f} to ${upper_bound:.2f}\")\n"
   ]
  },
  {
   "cell_type": "code",
   "execution_count": null,
   "id": "17f4a069-dc63-4375-b38f-a4b3cc911fd6",
   "metadata": {},
   "outputs": [],
   "source": [
    "Q14. A researcher hypothesizes that a new drug will decrease blood pressure by 10 mmHg. They conduct a\n",
    "clinical trial with 100 patients and find that the sample mean decrease in blood pressure is 8 mmHg with a\n",
    "standard deviation of 3 mmHg. Test the hypothesis with a significance level of 0.05."
   ]
  },
  {
   "cell_type": "code",
   "execution_count": 10,
   "id": "521cff76-70e9-4e5c-ad72-dd71483f725d",
   "metadata": {},
   "outputs": [
    {
     "name": "stdout",
     "output_type": "stream",
     "text": [
      "t-statistic: -6.666666666666667\n",
      "Critical t-value: 1.9842169515086827\n",
      "P-value: 1.5012289189542116e-09\n",
      "Reject the null hypothesis. There is significant evidence that the drug decreases blood pressure.\n"
     ]
    }
   ],
   "source": [
    "import scipy.stats as stats\n",
    "import math\n",
    "\n",
    "sample_mean = 8      \n",
    "hypothesized_mean = 10 \n",
    "sample_std = 3        \n",
    "sample_size = 100      \n",
    "significance_level = 0.05\n",
    "\n",
    "t_statistic = (sample_mean - hypothesized_mean) / (sample_std / math.sqrt(sample_size))\n",
    "\n",
    "degrees_of_freedom = sample_size - 1\n",
    "\n",
    "critical_t_value = stats.t.ppf(1 - significance_level / 2, degrees_of_freedom)\n",
    "\n",
    "p_value = 2 * (1 - stats.t.cdf(abs(t_statistic), degrees_of_freedom))\n",
    "\n",
    "print(f\"t-statistic: {t_statistic}\")\n",
    "print(f\"Critical t-value: {critical_t_value}\")\n",
    "print(f\"P-value: {p_value}\")\n",
    "\n",
    "if abs(t_statistic) > critical_t_value or p_value < significance_level:\n",
    "    print(\"Reject the null hypothesis. There is significant evidence that the drug decreases blood pressure.\")\n",
    "else:\n",
    "    print(\"Fail to reject the null hypothesis. There is insufficient evidence to suggest a decrease in blood pressure.\")\n"
   ]
  },
  {
   "cell_type": "code",
   "execution_count": null,
   "id": "44c6fe05-cd91-44e3-a981-e0f29285687e",
   "metadata": {},
   "outputs": [],
   "source": [
    "Q15. An electronics company produces a certain type of product with a mean weight of 5 pounds and a\n",
    "standard deviation of 0.5 pounds. A random sample of 25 products is taken, and the sample mean weight\n",
    "is found to be 4.8 pounds. Test the hypothesis that the true mean weight of the products is less than 5\n",
    "pounds with a significance level of 0.01."
   ]
  },
  {
   "cell_type": "code",
   "execution_count": 11,
   "id": "ec384b08-5e6a-481a-9eed-59e92c9e7b68",
   "metadata": {},
   "outputs": [
    {
     "name": "stdout",
     "output_type": "stream",
     "text": [
      "t-statistic: -2.0000000000000018\n",
      "Critical t-value: -2.4921594731575762\n",
      "P-value: 0.02846992496829572\n",
      "Reject the null hypothesis. There is significant evidence that the true mean weight is less than 5 pounds.\n"
     ]
    }
   ],
   "source": [
    "import scipy.stats as stats\n",
    "import math\n",
    "\n",
    "sample_mean = 4.8      \n",
    "hypothesized_mean = 5   \n",
    "sample_std = 0.5         \n",
    "sample_size = 25       \n",
    "significance_level = 0.01\n",
    "\n",
    "t_statistic = (sample_mean - hypothesized_mean) / (sample_std / math.sqrt(sample_size))\n",
    "\n",
    "degrees_of_freedom = sample_size - 1\n",
    "\n",
    "critical_t_value = stats.t.ppf(significance_level, degrees_of_freedom)\n",
    "\n",
    "p_value = stats.t.cdf(t_statistic, degrees_of_freedom)\n",
    "\n",
    "print(f\"t-statistic: {t_statistic}\")\n",
    "print(f\"Critical t-value: {critical_t_value}\")\n",
    "print(f\"P-value: {p_value}\")\n",
    "\n",
    "if t_statistic < -critical_t_value or p_value < significance_level:\n",
    "    print(\"Reject the null hypothesis. There is significant evidence that the true mean weight is less than 5 pounds.\")\n",
    "else:\n",
    "    print(\"Fail to reject the null hypothesis. There is insufficient evidence to suggest a decrease in mean weight.\")\n"
   ]
  },
  {
   "cell_type": "code",
   "execution_count": null,
   "id": "8e8c9ee8-57e4-4de5-a775-ad7af2fddc48",
   "metadata": {},
   "outputs": [],
   "source": [
    "Q16. Two groups of students are given different study materials to prepare for a test. The first group (n1 =\n",
    "30) has a mean score of 80 with a standard deviation of 10, and the second group (n2 = 40) has a mean\n",
    "score of 75 with a standard deviation of 8. Test the hypothesis that the population means for the two\n",
    "groups are equal with a significance level of 0.01."
   ]
  },
  {
   "cell_type": "code",
   "execution_count": 12,
   "id": "a3d43b7f-3cdb-417d-b0fd-b6dfc896eb34",
   "metadata": {},
   "outputs": [
    {
     "name": "stdout",
     "output_type": "stream",
     "text": [
      "t-statistic: 2.3239677296992913\n",
      "Critical t-value: 2.6500812928169553\n",
      "P-value: 0.023123013413725912\n",
      "Fail to reject the null hypothesis. There is insufficient evidence to suggest a difference in population means.\n"
     ]
    }
   ],
   "source": [
    "import scipy.stats as stats\n",
    "import math\n",
    "\n",
    "mean1 = 80\n",
    "std1 = 10\n",
    "size1 = 30\n",
    "\n",
    "mean2 = 75\n",
    "std2 = 8\n",
    "size2 = 40\n",
    "\n",
    "significance_level = 0.01\n",
    "\n",
    "degrees_of_freedom = size1 + size2 - 2\n",
    "\n",
    "pooled_std = math.sqrt(((size1 - 1) * std1**2 + (size2 - 1) * std2**2) / degrees_of_freedom)\n",
    "\n",
    "t_statistic = (mean1 - mean2) / (pooled_std * math.sqrt(1 / size1 + 1 / size2))\n",
    "\n",
    "critical_t_value = stats.t.ppf(1 - significance_level / 2, degrees_of_freedom)\n",
    "\n",
    "p_value = 2 * (1 - stats.t.cdf(abs(t_statistic), degrees_of_freedom))\n",
    "\n",
    "print(f\"t-statistic: {t_statistic}\")\n",
    "print(f\"Critical t-value: {critical_t_value}\")\n",
    "print(f\"P-value: {p_value}\")\n",
    "\n",
    "if abs(t_statistic) > critical_t_value or p_value < significance_level:\n",
    "    print(\"Reject the null hypothesis. There is significant evidence that the population means are not equal.\")\n",
    "else:\n",
    "    print(\"Fail to reject the null hypothesis. There is insufficient evidence to suggest a difference in population means.\")\n"
   ]
  },
  {
   "cell_type": "code",
   "execution_count": null,
   "id": "3976967b-8601-4d70-b65e-7c21d0b7782b",
   "metadata": {},
   "outputs": [],
   "source": [
    "Q17. A marketing company wants to estimate the average number of ads watched by viewers during a TV\n",
    "program. They take a random sample of 50 viewers and find that the sample mean is 4 with a standard\n",
    "deviation of 1.5. Estimate the population mean with a 99% confidence interval."
   ]
  },
  {
   "cell_type": "code",
   "execution_count": 13,
   "id": "73abe5c0-0aed-4986-abb4-3fac1aa5ea76",
   "metadata": {},
   "outputs": [
    {
     "name": "stdout",
     "output_type": "stream",
     "text": [
      "99% Confidence Interval for Population Mean Number of Ads Watched: 3.43 to 4.57\n"
     ]
    }
   ],
   "source": [
    "import scipy.stats as stats\n",
    "import math\n",
    "\n",
    "sample_mean = 4       \n",
    "sample_std = 1.5      \n",
    "sample_size = 50      \n",
    "confidence_level = 0.99  \n",
    "\n",
    "degrees_of_freedom = sample_size - 1\n",
    "\n",
    "t_value = stats.t.ppf((1 + confidence_level) / 2, degrees_of_freedom)\n",
    "\n",
    "margin_of_error = t_value * (sample_std / math.sqrt(sample_size))\n",
    "\n",
    "lower_bound = sample_mean - margin_of_error\n",
    "upper_bound = sample_mean + margin_of_error\n",
    "\n",
    "print(f\"99% Confidence Interval for Population Mean Number of Ads Watched: {lower_bound:.2f} to {upper_bound:.2f}\")\n"
   ]
  },
  {
   "cell_type": "code",
   "execution_count": null,
   "id": "e02a2c0b-3c41-41f7-9911-ae6c5f6fe1f1",
   "metadata": {},
   "outputs": [],
   "source": []
  }
 ],
 "metadata": {
  "kernelspec": {
   "display_name": "Python 3 (ipykernel)",
   "language": "python",
   "name": "python3"
  },
  "language_info": {
   "codemirror_mode": {
    "name": "ipython",
    "version": 3
   },
   "file_extension": ".py",
   "mimetype": "text/x-python",
   "name": "python",
   "nbconvert_exporter": "python",
   "pygments_lexer": "ipython3",
   "version": "3.10.8"
  }
 },
 "nbformat": 4,
 "nbformat_minor": 5
}
