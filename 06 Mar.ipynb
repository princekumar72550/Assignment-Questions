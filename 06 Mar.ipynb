{
 "cells": [
  {
   "cell_type": "code",
   "execution_count": null,
   "id": "ad85c8b6-4930-4483-8f51-ad995d3659a2",
   "metadata": {},
   "outputs": [],
   "source": [
    "Q1. What is Statistics?"
   ]
  },
  {
   "cell_type": "code",
   "execution_count": null,
   "id": "cf1f9c09-1d2d-431f-affc-386860065618",
   "metadata": {},
   "outputs": [],
   "source": [
    "Statistics in Mathematics is the study and manipulation of data. It involves the analysis of numerical data,\n",
    "enabling the extraction of meaningful conclusions from the collected and analyzed data sets."
   ]
  },
  {
   "cell_type": "code",
   "execution_count": null,
   "id": "18d65153-79d8-43df-b155-b72d89f6f4d6",
   "metadata": {},
   "outputs": [],
   "source": [
    "Q2. Define the different types of statistics and give an example of when each type might be used."
   ]
  },
  {
   "cell_type": "code",
   "execution_count": null,
   "id": "d9478036-7b2d-427d-ada8-aec5d40c9521",
   "metadata": {},
   "outputs": [],
   "source": [
    "1. Descriptive Statistics:\n",
    "Definition: Descriptive statistics involve the methods used to summarize and describe the main features of a dataset.\n",
    "Example: Calculating the mean, median, and standard deviation of exam scores for a class provides a summary of the students' performance.\n",
    "2. Inferential Statistics:\n",
    "Definition: Inferential statistics involve making inferences or predictions about a population based on a sample of data.\n",
    "Example: Conducting a hypothesis test to determine if a new drug has a significant effect on patient outcomes based on a sample of patients.\n",
    "3. Exploratory Data Analysis (EDA):\n",
    "Definition: EDA involves using statistical and visual techniques to explore and understand the patterns and characteristics of the data.\n",
    "Example: Creating histograms, scatter plots, and box plots to identify trends and outliers in a dataset.\n",
    "4. Bayesian Statistics:\n",
    "Definition: Bayesian statistics is a branch of statistics that uses probability theory to update beliefs about a hypothesis as new evidence is obtained.\n",
    "Example: Updating the probability of a hypothesis about the success of a marketing campaign as new customer data becomes available.\n",
    "5. Biostatistics:\n",
    "Definition: Biostatistics is the application of statistics to biological and health-related data, including the design and analysis of experiments.\n",
    "Example: Analyzing clinical trial data to assess the effectiveness of a new treatment for a medical condition.\n",
    "6. Regression Analysis:\n",
    "Definition: Regression analysis is a statistical method used to model the relationship between a dependent variable and one or more independent variables.\n",
    "Example: Using regression to predict the sales of a product based on factors such as advertising spending and seasonality."
   ]
  },
  {
   "cell_type": "code",
   "execution_count": null,
   "id": "2315149a-5e4b-4d96-8ce5-9ebbd4d4543e",
   "metadata": {},
   "outputs": [],
   "source": [
    "Q3.  What are the different types of data and how do they differ from each other? Provide an example of\n",
    "each type of data."
   ]
  },
  {
   "cell_type": "code",
   "execution_count": null,
   "id": "ddf5a68e-fede-4c14-97e7-ac91f3ca8f19",
   "metadata": {},
   "outputs": [],
   "source": [
    "1. Nominal Data:\n",
    "Definition: Nominal data represents categories or labels without any specific order or ranking.\n",
    "Example: Colors (e.g., red, blue, green) or animal types (e.g., cat, dog, bird).\n",
    "\n",
    "2. Ordinal Data:\n",
    "Definition: Ordinal data has categories with a meaningful order or ranking, but the intervals between the categories are not uniform.\n",
    "Example: Educational levels (e.g., high school, bachelor's, master's) or survey response ratings (e.g., strongly disagree, disagree, neutral, agree, strongly agree).\n",
    "3. Interval Data:\n",
    "Definition: Interval data has ordered categories with uniform intervals between them. However, there is no true zero point.\n",
    "Example: Celsius temperature scale (e.g., 20°C, 30°C) or IQ scores.\n",
    "4. Ratio Data:\n",
    "Definition: Ratio data has ordered categories with uniform intervals between them, and it has a true zero point, meaning a value of zero indicates the absence of the measured quantity.\n",
    "Example: Height, weight, age, income, and distance.\n",
    "5. Discrete Data:\n",
    "Definition: Discrete data consists of separate, distinct values that are countable and have gaps between them.\n",
    "Example: The number of cars in a parking lot or the number of students in a classroom.\n",
    "6. Continuous Data:\n",
    "Definition: Continuous data can take any value within a given range and has an infinite number of possible values.\n",
    "Example: Temperature measurements, height, weight, or time.\n",
    "7. Categorical Data:\n",
    "Definition: Categorical data represents categories or groups and cannot be measured on a numerical scale.\n",
    "Example: Gender (male, female), marital status (single, married, divorced), or types of fruits.\n",
    "8. Numerical Data:\n",
    "Definition: Numerical data is measured on a numerical scale and can be either discrete or continuous.\n",
    "Example: Test scores, temperature readings, or income."
   ]
  },
  {
   "cell_type": "code",
   "execution_count": null,
   "id": "e184f9af-ff6c-45a6-ba20-aa4043aeef0c",
   "metadata": {},
   "outputs": [],
   "source": [
    "Q4. Categorise the following datasets with respect to quantitative and qualitative data types:\n",
    "\n",
    "(i)\tGrading in exam: A+, A, B+, B, C+, C, D, E\n",
    "\n",
    "(ii)\tColour of mangoes: yellow, green, orange, red\n",
    "\n",
    "(iii)\tHeight data of a class: [178.9, 179, 179.5, 176, 177.2, 178.3, 175.8,...]\n",
    "\n",
    "(iv)\tNumber of mangoes exported by a farm: [500, 600, 478, 672, …]"
   ]
  },
  {
   "cell_type": "code",
   "execution_count": null,
   "id": "3c8f983d-15e5-4f5d-b166-15a5870cbe61",
   "metadata": {},
   "outputs": [],
   "source": [
    "(i) Grading in exam: A+, A, B+, B, C+, C, D, E\n",
    "Quantitative Data: None\n",
    "Qualitative Data: Ordinal (grades have a meaningful order but the intervals between grades are not uniform)\n",
    "\n",
    "(ii) Colour of mangoes: yellow, green, orange, red\n",
    "Quantitative Data: None\n",
    "Qualitative Data: Nominal (categories have no inherent order)\n",
    "\n",
    "(iii) Height data of a class: [178.9, 179, 179.5, 176, 177.2, 178.3, 175.8,...]\n",
    "Quantitative Data: Continuous (height values are measurable and have an infinite number of possible values)\n",
    "\n",
    "(iv) Number of mangoes exported by a farm: [500, 600, 478, 672, …]\n",
    "Quantitative Data: Discrete (countable and separate values)"
   ]
  },
  {
   "cell_type": "code",
   "execution_count": null,
   "id": "0483bd61-45c7-4d40-a77e-851833901212",
   "metadata": {},
   "outputs": [],
   "source": [
    "Q5. Explain the concept of levels of measurement and give an example of a variable for each level."
   ]
  },
  {
   "cell_type": "code",
   "execution_count": null,
   "id": "d811450c-684a-4d46-b906-a272ae4209ef",
   "metadata": {},
   "outputs": [],
   "source": [
    "Levels of measurement refer to the different ways in which data can be categorized, and they determine the types of statistical analysis that can be applied to the data. There are four main levels of measurement: nominal, ordinal, interval, and ratio.\n",
    "\n",
    "Nominal Level:\n",
    "Definition: Nominal data consists of categories or labels without any inherent order or ranking. Nominal variables are purely qualitative.\n",
    "Example: Colors (e.g., red, blue, green) or gender (e.g., male, female).\n",
    "\n",
    "Ordinal Level:\n",
    "Definition: Ordinal data has categories with a meaningful order or ranking, but the intervals between the categories are not uniform. Ordinal variables have a relative order.\n",
    "Example: Educational levels (e.g., high school, bachelor's, master's) or socioeconomic status (e.g., low, medium, high).\n",
    "\n",
    "Interval Level:\n",
    "Definition: Interval data has ordered categories with uniform intervals between them. However, there is no true zero point, and the ratios between values are not meaningful.\n",
    "Example: Temperature in Celsius or Fahrenheit, where the difference between 20°C and 30°C is the same as the difference between 30°C and 40°C.\n",
    "\n",
    "Ratio Level:\n",
    "Definition: Ratio data has ordered categories with uniform intervals between them, and it has a true zero point, indicating the absence of the measured quantity. Ratios between values are meaningful.\n",
    "Example: Height, weight, age, income, number of mangoes, where a value of zero implies the absence of the measured attribute."
   ]
  },
  {
   "cell_type": "code",
   "execution_count": null,
   "id": "ed701637-56ee-45a7-9014-b61a14925aaa",
   "metadata": {},
   "outputs": [],
   "source": [
    "Q6. Why is it important to understand the level of measurement when analyzing data? Provide an\n",
    "example to illustrate your answer."
   ]
  },
  {
   "cell_type": "code",
   "execution_count": null,
   "id": "794c3ff8-d137-4b26-a981-95c518470a40",
   "metadata": {},
   "outputs": [],
   "source": [
    "Understanding the level of measurement when analyzing data is crucial because it determines the type of statistical analyses that are appropriate for a given dataset. Different levels of measurement have implications for the mathematical operations, statistical techniques, and inferences that can be applied to the data. Using the wrong statistical method for a particular level of measurement may lead to incorrect conclusions and interpretations.\n",
    "\n",
    "Example:\n",
    "*Interval Data: If temperature is measured in Celsius or Fahrenheit, the data is at the interval level. The difference between 20°C and 30°C is the same as the difference between 30°C and 40°C. However, there is no true zero point in Celsius or Fahrenheit, and ratios between temperatures are not meaningful.\n",
    "\n",
    "*Ratio Data: If temperature is measured in Kelvin, it becomes ratio data. Kelvin has a true zero point, and ratios between temperatures are meaningful. For example, 300K is twice as hot as 150K."
   ]
  },
  {
   "cell_type": "code",
   "execution_count": null,
   "id": "9967c3c8-f85c-4741-83d4-4a0237955630",
   "metadata": {},
   "outputs": [],
   "source": [
    "Q7. How nominal data type is different from ordinal data type."
   ]
  },
  {
   "cell_type": "code",
   "execution_count": null,
   "id": "d7de57d0-2408-425c-b5fe-6e8baefe8c7d",
   "metadata": {},
   "outputs": [],
   "source": [
    "Nominal Data:\n",
    "Definition: Nominal data consists of categories or labels without any inherent order or ranking. Nominal variables are purely qualitative.\n",
    "Characteristics:\n",
    "Categories have no meaningful order.\n",
    "No numerical value is associated with the categories.\n",
    "Only differences in identity or class are considered.\n",
    "Example: Colors (e.g., red, blue, green), gender (e.g., male, female), or types of fruits.\n",
    "\n",
    "Ordinal Data:\n",
    "Definition: Ordinal data has categories with a meaningful order or ranking, but the intervals between the categories are not uniform. Ordinal variables have a relative order.\n",
    "Characteristics:\n",
    "Categories have a meaningful order.\n",
    "Intervals between categories are not consistent or measurable.\n",
    "Differences in rank or order are considered.\n",
    "Example: Educational levels (e.g., high school, bachelor's, master's), socioeconomic status (e.g., low, medium, high), or survey response ratings (e.g., strongly disagree, disagree, neutral, agree, strongly agree)."
   ]
  },
  {
   "cell_type": "code",
   "execution_count": null,
   "id": "38aba5e8-613e-4da7-b5cc-d8ceadfb94fd",
   "metadata": {},
   "outputs": [],
   "source": [
    "Q8. Which type of plot can be used to display data in terms of range?"
   ]
  },
  {
   "cell_type": "code",
   "execution_count": null,
   "id": "98641571-45da-4504-8c2e-9751154886bd",
   "metadata": {},
   "outputs": [],
   "source": [
    "A box plot (box-and-whisker plot) is commonly used to display data in terms of range. Box plots provide a visual representation of the distribution of a dataset, particularly highlighting the central tendency, spread, and the presence of outliers."
   ]
  },
  {
   "cell_type": "code",
   "execution_count": null,
   "id": "0ec0445f-e751-44bb-bea9-716e9ce97dcf",
   "metadata": {},
   "outputs": [],
   "source": [
    "Q9. Describe the difference between descriptive and inferential statistics. Give an example of each\n",
    "type of statistics and explain how they are used."
   ]
  },
  {
   "cell_type": "code",
   "execution_count": null,
   "id": "8e540422-9554-4ed9-93f7-ea6fb4df9b0c",
   "metadata": {},
   "outputs": [],
   "source": [
    "Descriptive Statistics\n",
    "1.\tIt gives information about raw data which describes the data in some manner.\n",
    "2.\tIt helps in organizing, analyzing, and to present data in a meaningful manner.\n",
    "3.\tIt is used to describe a situation.\t\n",
    "4.\tIt explains already known data and is limited to a sample or population having a small size.\n",
    "5.\tIt can be achieved with the help of charts, graphs, tables, etc.\n",
    "\n",
    "Example: Calculating the mean and standard deviation of exam scores for a class provides a summary of the students\n",
    "' performance. Descriptive statistics may also include measures like median, mode, range, and percentiles."
   ]
  },
  {
   "cell_type": "code",
   "execution_count": null,
   "id": "784c5f80-df12-4cfb-8ef7-1756cf47ccee",
   "metadata": {},
   "outputs": [],
   "source": [
    "Inferential Statistics\n",
    "1.It makes inferences about the population using data drawn from the population.\n",
    "2.It allows us to compare data, and make hypotheses and predictions.\n",
    "3.It is used to explain the chance of occurrence of an event.\n",
    "4.It attempts to reach the conclusion about the population.\n",
    "5.It can be achieved by probability.\n",
    "\n",
    "Example: Conducting a hypothesis test to determine if a new teaching method has a significant impact on students\n",
    "' performance. Inferential statistics may also include techniques like confidence intervals and regression analysis."
   ]
  },
  {
   "cell_type": "code",
   "execution_count": null,
   "id": "3a27d708-4c6a-4686-b824-c6fbf3c88ca2",
   "metadata": {},
   "outputs": [],
   "source": [
    "Q10. What are some common measures of central tendency and variability used in statistics? Explain\n",
    "how each measure can be used to describe a dataset."
   ]
  },
  {
   "cell_type": "code",
   "execution_count": null,
   "id": "7a0bbb70-34e4-4627-b777-e6534c66b8fa",
   "metadata": {},
   "outputs": [],
   "source": [
    "Mean:\n",
    "Definition: The mean, or average, is calculated by summing up all the values in a dataset and dividing by the number of observations.\n",
    "Usage: It provides a measure of the central value, balancing out extreme values. It is sensitive to outliers.\n",
    "\n",
    "Median:\n",
    "Definition: The median is the middle value in a dataset when it is ordered. If there is an even number of observations, the median is the average of the two middle values.\n",
    "Usage: It represents the middle point and is less affected by extreme values than the mean. It is suitable for skewed distributions.\n",
    "\n",
    "Mode:\n",
    "Definition: The mode is the value that appears most frequently in a dataset.\n",
    "Usage: It provides insight into the most common value or category. A dataset may have one mode (unimodal), more than one mode (multimodal), or no mode.\n",
    "Measures of Variability:\n",
    "\n",
    "Range:\n",
    "Definition: The range is the difference between the maximum and minimum values in a dataset.\n",
    "Usage: It provides a simple measure of the spread of data. However, it is sensitive to outliers and may not be a robust measure.\n",
    "\n",
    "Variance:\n",
    "Definition: Variance is the average of the squared differences from the mean.\n",
    "Usage: It quantifies the dispersion of data points. However, the squared differences can be challenging to interpret in the original units.\n",
    "\n",
    "Standard Deviation:\n",
    "Definition: The standard deviation is the square root of the variance.\n",
    "Usage: It provides a more interpretable measure of dispersion in the original units. It is commonly used due to its sensitivity to variations in the data.\n",
    "\n",
    "Interquartile Range (IQR):\n",
    "Definition: IQR is the range between the first quartile (Q1) and the third quartile (Q3) in a dataset.\n",
    "Usage: It describes the spread of the middle 50% of the data, making it less sensitive to extreme values."
   ]
  },
  {
   "cell_type": "code",
   "execution_count": null,
   "id": "489d6260-da76-44cf-abdc-f40230512489",
   "metadata": {},
   "outputs": [],
   "source": []
  },
  {
   "cell_type": "code",
   "execution_count": null,
   "id": "eda78763-bedf-4ea5-9a36-67981db394c3",
   "metadata": {},
   "outputs": [],
   "source": []
  },
  {
   "cell_type": "code",
   "execution_count": null,
   "id": "fcfed678-6ef7-40e3-8e7f-b76e088763ba",
   "metadata": {},
   "outputs": [],
   "source": []
  }
 ],
 "metadata": {
  "kernelspec": {
   "display_name": "Python 3 (ipykernel)",
   "language": "python",
   "name": "python3"
  },
  "language_info": {
   "codemirror_mode": {
    "name": "ipython",
    "version": 3
   },
   "file_extension": ".py",
   "mimetype": "text/x-python",
   "name": "python",
   "nbconvert_exporter": "python",
   "pygments_lexer": "ipython3",
   "version": "3.10.8"
  }
 },
 "nbformat": 4,
 "nbformat_minor": 5
}
